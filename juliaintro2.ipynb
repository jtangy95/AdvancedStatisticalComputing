{
 "cells": [
  {
   "cell_type": "markdown",
   "source": [
    "# Introduction to Julia, part 2\n",
    "\n",
    "<img src=\"./images/julia_logo.png\" align=\"center\" width=\"400\"/>\n",
    "\n",
    "https://julialang.org"
   ],
   "metadata": {}
  },
  {
   "cell_type": "markdown",
   "source": [
    "## Matrices and vectors"
   ],
   "metadata": {}
  },
  {
   "cell_type": "markdown",
   "source": [
    "### Dimensions"
   ],
   "metadata": {}
  },
  {
   "cell_type": "code",
   "execution_count": 2,
   "source": [
    "x = randn(5, 3)"
   ],
   "outputs": [
    {
     "output_type": "execute_result",
     "data": {
      "text/plain": [
       "5×3 Matrix{Float64}:\n",
       "  0.915491  -0.230816  -1.74359\n",
       " -0.470961  -0.371227   0.22421\n",
       "  0.948704  -0.36817   -2.42639\n",
       "  0.450668  -0.674163   0.717575\n",
       " -0.576843   0.984813  -0.00227637"
      ]
     },
     "metadata": {},
     "execution_count": 2
    }
   ],
   "metadata": {}
  },
  {
   "cell_type": "code",
   "execution_count": 3,
   "source": [
    "size(x)"
   ],
   "outputs": [
    {
     "output_type": "execute_result",
     "data": {
      "text/plain": [
       "(5, 3)"
      ]
     },
     "metadata": {},
     "execution_count": 3
    }
   ],
   "metadata": {}
  },
  {
   "cell_type": "code",
   "execution_count": 4,
   "source": [
    "size(x, 1) # nrow() in R"
   ],
   "outputs": [
    {
     "output_type": "execute_result",
     "data": {
      "text/plain": [
       "5"
      ]
     },
     "metadata": {},
     "execution_count": 4
    }
   ],
   "metadata": {}
  },
  {
   "cell_type": "code",
   "execution_count": 5,
   "source": [
    "size(x, 2) # ncol() in R"
   ],
   "outputs": [
    {
     "output_type": "execute_result",
     "data": {
      "text/plain": [
       "3"
      ]
     },
     "metadata": {},
     "execution_count": 5
    }
   ],
   "metadata": {}
  },
  {
   "cell_type": "code",
   "execution_count": 6,
   "source": [
    "# total number of elements\n",
    "length(x)"
   ],
   "outputs": [
    {
     "output_type": "execute_result",
     "data": {
      "text/plain": [
       "15"
      ]
     },
     "metadata": {},
     "execution_count": 6
    }
   ],
   "metadata": {}
  },
  {
   "cell_type": "code",
   "execution_count": 7,
   "source": [
    "# \"dims\" argument for function applied to arrays\n",
    "sum(x, dims=1)"
   ],
   "outputs": [
    {
     "output_type": "execute_result",
     "data": {
      "text/plain": [
       "1×3 Matrix{Float64}:\n",
       " 1.26706  -0.659563  -3.23047"
      ]
     },
     "metadata": {},
     "execution_count": 7
    }
   ],
   "metadata": {}
  },
  {
   "cell_type": "code",
   "execution_count": 8,
   "source": [
    "sum(x, dims=2)"
   ],
   "outputs": [
    {
     "output_type": "execute_result",
     "data": {
      "text/plain": [
       "5×1 Matrix{Float64}:\n",
       " -1.0589138372716314\n",
       " -0.6179776258434972\n",
       " -1.8458532038985327\n",
       "  0.49408004733523364\n",
       "  0.4056940579520651"
      ]
     },
     "metadata": {},
     "execution_count": 8
    }
   ],
   "metadata": {}
  },
  {
   "cell_type": "code",
   "execution_count": 9,
   "source": [
    "sum(x, dims=[1,2])"
   ],
   "outputs": [
    {
     "output_type": "execute_result",
     "data": {
      "text/plain": [
       "1×1 Matrix{Float64}:\n",
       " -2.622970561726363"
      ]
     },
     "metadata": {},
     "execution_count": 9
    }
   ],
   "metadata": {}
  },
  {
   "cell_type": "code",
   "execution_count": 10,
   "source": [
    "sort(x, dims=1)"
   ],
   "outputs": [
    {
     "output_type": "execute_result",
     "data": {
      "text/plain": [
       "5×3 Matrix{Float64}:\n",
       " -0.576843  -0.674163  -2.42639\n",
       " -0.470961  -0.371227  -1.74359\n",
       "  0.450668  -0.36817   -0.00227637\n",
       "  0.915491  -0.230816   0.22421\n",
       "  0.948704   0.984813   0.717575"
      ]
     },
     "metadata": {},
     "execution_count": 10
    }
   ],
   "metadata": {}
  },
  {
   "cell_type": "code",
   "execution_count": 11,
   "source": [
    "sort(x, dims=2)"
   ],
   "outputs": [
    {
     "output_type": "execute_result",
     "data": {
      "text/plain": [
       "5×3 Matrix{Float64}:\n",
       " -1.74359   -0.230816    0.915491\n",
       " -0.470961  -0.371227    0.22421\n",
       " -2.42639   -0.36817     0.948704\n",
       " -0.674163   0.450668    0.717575\n",
       " -0.576843  -0.00227637  0.984813"
      ]
     },
     "metadata": {},
     "execution_count": 11
    }
   ],
   "metadata": {}
  },
  {
   "cell_type": "markdown",
   "source": [
    "### Indexing"
   ],
   "metadata": {}
  },
  {
   "cell_type": "code",
   "execution_count": 12,
   "source": [
    "# 5 × 5 matrix of random Normal(0, 1)\n",
    "x = randn(5, 5)"
   ],
   "outputs": [
    {
     "output_type": "execute_result",
     "data": {
      "text/plain": [
       "5×5 Matrix{Float64}:\n",
       " -0.117188  -0.993886  -0.273581  -0.0654043   2.68592\n",
       " -1.05477    1.07551   -1.0214     1.5579     -1.80041\n",
       "  0.240365  -0.190682   1.60163   -1.13262     0.557946\n",
       "  0.566238   0.464624   0.385242  -0.463516    0.32635\n",
       " -0.578983   0.901238   0.95375   -0.315408   -0.65493"
      ]
     },
     "metadata": {},
     "execution_count": 12
    }
   ],
   "metadata": {}
  },
  {
   "cell_type": "code",
   "execution_count": 13,
   "source": [
    "# first column\n",
    "x[:, 1]"
   ],
   "outputs": [
    {
     "output_type": "execute_result",
     "data": {
      "text/plain": [
       "5-element Vector{Float64}:\n",
       " -0.11718815714536887\n",
       " -1.0547658783228009\n",
       "  0.24036498735432768\n",
       "  0.5662383435587747\n",
       " -0.5789825705135948"
      ]
     },
     "metadata": {},
     "execution_count": 13
    }
   ],
   "metadata": {}
  },
  {
   "cell_type": "code",
   "execution_count": 14,
   "source": [
    "# first row ( but still shown as column vector)\n",
    "x[1, :]"
   ],
   "outputs": [
    {
     "output_type": "execute_result",
     "data": {
      "text/plain": [
       "5-element Vector{Float64}:\n",
       " -0.11718815714536887\n",
       " -0.9938859024958031\n",
       " -0.27358067781758444\n",
       " -0.0654042774000804\n",
       "  2.685922880322422"
      ]
     },
     "metadata": {},
     "execution_count": 14
    }
   ],
   "metadata": {}
  },
  {
   "cell_type": "code",
   "execution_count": 15,
   "source": [
    "# sub-array\n",
    "# Note : creates a copy, which brings about a new memory allocation\n",
    "zz = x[1:2, 2:3]"
   ],
   "outputs": [
    {
     "output_type": "execute_result",
     "data": {
      "text/plain": [
       "2×2 Matrix{Float64}:\n",
       " -0.993886  -0.273581\n",
       "  1.07551   -1.0214"
      ]
     },
     "metadata": {},
     "execution_count": 15
    }
   ],
   "metadata": {}
  },
  {
   "cell_type": "code",
   "execution_count": 16,
   "source": [
    "typeof(zz)"
   ],
   "outputs": [
    {
     "output_type": "execute_result",
     "data": {
      "text/plain": [
       "Matrix{Float64} (alias for Array{Float64, 2})"
      ]
     },
     "metadata": {},
     "execution_count": 16
    }
   ],
   "metadata": {}
  },
  {
   "cell_type": "code",
   "execution_count": 17,
   "source": [
    "zz[2, 1] = 0.0\n",
    "x\n",
    "# change in zz does not change x"
   ],
   "outputs": [
    {
     "output_type": "execute_result",
     "data": {
      "text/plain": [
       "5×5 Matrix{Float64}:\n",
       " -0.117188  -0.993886  -0.273581  -0.0654043   2.68592\n",
       " -1.05477    1.07551   -1.0214     1.5579     -1.80041\n",
       "  0.240365  -0.190682   1.60163   -1.13262     0.557946\n",
       "  0.566238   0.464624   0.385242  -0.463516    0.32635\n",
       " -0.578983   0.901238   0.95375   -0.315408   -0.65493"
      ]
     },
     "metadata": {},
     "execution_count": 17
    }
   ],
   "metadata": {}
  },
  {
   "cell_type": "code",
   "execution_count": 18,
   "source": [
    "# getting a subset of a matrix creates a copy, but you can also create \"views\"\n",
    "# Note : This does not require a new memory allocation \n",
    "z = view(x, 1:2, 2:3)"
   ],
   "outputs": [
    {
     "output_type": "execute_result",
     "data": {
      "text/plain": [
       "2×2 view(::Matrix{Float64}, 1:2, 2:3) with eltype Float64:\n",
       " -0.993886  -0.273581\n",
       "  1.07551   -1.0214"
      ]
     },
     "metadata": {},
     "execution_count": 18
    }
   ],
   "metadata": {}
  },
  {
   "cell_type": "code",
   "execution_count": 19,
   "source": [
    "typeof(z)"
   ],
   "outputs": [
    {
     "output_type": "execute_result",
     "data": {
      "text/plain": [
       "SubArray{Float64, 2, Matrix{Float64}, Tuple{UnitRange{Int64}, UnitRange{Int64}}, false}"
      ]
     },
     "metadata": {},
     "execution_count": 19
    }
   ],
   "metadata": {}
  },
  {
   "cell_type": "code",
   "execution_count": 20,
   "source": [
    "# same as\n",
    "@views z = x[1:2, 2:3]"
   ],
   "outputs": [
    {
     "output_type": "execute_result",
     "data": {
      "text/plain": [
       "2×2 view(::Matrix{Float64}, 1:2, 2:3) with eltype Float64:\n",
       " -0.993886  -0.273581\n",
       "  1.07551   -1.0214"
      ]
     },
     "metadata": {},
     "execution_count": 20
    }
   ],
   "metadata": {}
  },
  {
   "cell_type": "code",
   "execution_count": 21,
   "source": [
    "# change in z changes x as well\n",
    "z[2, 2] = 0.0\n",
    "x"
   ],
   "outputs": [
    {
     "output_type": "execute_result",
     "data": {
      "text/plain": [
       "5×5 Matrix{Float64}:\n",
       " -0.117188  -0.993886  -0.273581  -0.0654043   2.68592\n",
       " -1.05477    1.07551    0.0        1.5579     -1.80041\n",
       "  0.240365  -0.190682   1.60163   -1.13262     0.557946\n",
       "  0.566238   0.464624   0.385242  -0.463516    0.32635\n",
       " -0.578983   0.901238   0.95375   -0.315408   -0.65493"
      ]
     },
     "metadata": {},
     "execution_count": 21
    }
   ],
   "metadata": {}
  },
  {
   "cell_type": "code",
   "execution_count": 22,
   "source": [
    "# y points to same data as x\n",
    "y = x\n",
    "# Note : Does a memory allocation occur? Nope. This is for the less use of memory resources. \n",
    "# R에서와는 조금 다르게 동작."
   ],
   "outputs": [
    {
     "output_type": "execute_result",
     "data": {
      "text/plain": [
       "5×5 Matrix{Float64}:\n",
       " -0.117188  -0.993886  -0.273581  -0.0654043   2.68592\n",
       " -1.05477    1.07551    0.0        1.5579     -1.80041\n",
       "  0.240365  -0.190682   1.60163   -1.13262     0.557946\n",
       "  0.566238   0.464624   0.385242  -0.463516    0.32635\n",
       " -0.578983   0.901238   0.95375   -0.315408   -0.65493"
      ]
     },
     "metadata": {},
     "execution_count": 22
    }
   ],
   "metadata": {}
  },
  {
   "cell_type": "code",
   "execution_count": 23,
   "source": [
    "# x and y point to same data\n",
    "# Note : 'pointer' is a computer memeory address\n",
    "pointer(x), pointer(y)"
   ],
   "outputs": [
    {
     "output_type": "execute_result",
     "data": {
      "text/plain": [
       "(Ptr{Float64} @0x0000000113d272f0, Ptr{Float64} @0x0000000113d272f0)"
      ]
     },
     "metadata": {},
     "execution_count": 23
    }
   ],
   "metadata": {}
  },
  {
   "cell_type": "code",
   "execution_count": 24,
   "source": [
    "# changing y also changes x\n",
    "y[:, 1] .= 0  # Dot broadcasting: \"vectorization\" in Julia. More below\n",
    "# `y[:,1]=0` causes an error.\n",
    "x"
   ],
   "outputs": [
    {
     "output_type": "execute_result",
     "data": {
      "text/plain": [
       "5×5 Matrix{Float64}:\n",
       " 0.0  -0.993886  -0.273581  -0.0654043   2.68592\n",
       " 0.0   1.07551    0.0        1.5579     -1.80041\n",
       " 0.0  -0.190682   1.60163   -1.13262     0.557946\n",
       " 0.0   0.464624   0.385242  -0.463516    0.32635\n",
       " 0.0   0.901238   0.95375   -0.315408   -0.65493"
      ]
     },
     "metadata": {},
     "execution_count": 24
    }
   ],
   "metadata": {}
  },
  {
   "cell_type": "code",
   "execution_count": 25,
   "source": [
    "# create a new copy of data\n",
    "z = copy(x)"
   ],
   "outputs": [
    {
     "output_type": "execute_result",
     "data": {
      "text/plain": [
       "5×5 Matrix{Float64}:\n",
       " 0.0  -0.993886  -0.273581  -0.0654043   2.68592\n",
       " 0.0   1.07551    0.0        1.5579     -1.80041\n",
       " 0.0  -0.190682   1.60163   -1.13262     0.557946\n",
       " 0.0   0.464624   0.385242  -0.463516    0.32635\n",
       " 0.0   0.901238   0.95375   -0.315408   -0.65493"
      ]
     },
     "metadata": {},
     "execution_count": 25
    }
   ],
   "metadata": {}
  },
  {
   "cell_type": "code",
   "execution_count": 26,
   "source": [
    "pointer(x), pointer(z)  # they should be different now"
   ],
   "outputs": [
    {
     "output_type": "execute_result",
     "data": {
      "text/plain": [
       "(Ptr{Float64} @0x0000000113d272f0, Ptr{Float64} @0x0000000113d27e30)"
      ]
     },
     "metadata": {},
     "execution_count": 26
    }
   ],
   "metadata": {}
  },
  {
   "cell_type": "code",
   "execution_count": 27,
   "source": [
    "a = 1.0  # Float64\n",
    "b = a\n",
    "# copy가 아님. memory allocation 발생 없음\n",
    "b"
   ],
   "outputs": [
    {
     "output_type": "execute_result",
     "data": {
      "text/plain": [
       "1.0"
      ]
     },
     "metadata": {},
     "execution_count": 27
    }
   ],
   "metadata": {}
  },
  {
   "cell_type": "code",
   "execution_count": 28,
   "source": [
    "a = 2.0\n",
    "# a = 2.0 이 a의 내용을 바꾸는 것이 아니라 a를 새롭게 정의하게 된 것임. (Float 1.0은 immuatable value이기 때문)\n",
    "b"
   ],
   "outputs": [
    {
     "output_type": "execute_result",
     "data": {
      "text/plain": [
       "1.0"
      ]
     },
     "metadata": {},
     "execution_count": 28
    }
   ],
   "metadata": {}
  },
  {
   "cell_type": "markdown",
   "source": [
    "#### Note about `y = x` expression \n",
    "- `x = ...` does not brings out any memory allocation. It is just a 'naming'.\n",
    "\n",
    "```julia\n",
    "x = randn(5,3)\n",
    "y = x\n",
    "x = randn(5,3)\n",
    "y = x\n",
    "```\n",
    "\n",
    "- Let's observe what is going on in the codes above.\n",
    "    - `x = randn(5,3)` : allocate memory to a new matrix and then name it \"x\".\n",
    "    - `y = x` : now \"y\" also refers to the matrix which \"x\" is currently referring to. (not brings out any memory allocation)\n",
    "    - `x = randn(5,3)` : allocate memory to a new matrix and then name it \"x\". In this process, the binding between the variable name \"x\" and the matrix generated in the first line is broken. But still, \"y\" refers to the original matrix so that \"x\" and \"y\" are different now. \n",
    "    - `y = x` : as in the second line, now \"y\" also refers to the matrix which \"x\" is currently referring to. (not brings out any memory allocation) In this process, the binding between the variable name \"y\" and the matrix generated in the first line is broken. \n",
    "    - After all this codes are implemented, the matrix generated in the first line is not referred by any variable name. It becomes a \"garbage\" object. Julia operates a cleaner to remove such objects.\n",
    "- What about in R language?\n",
    "    - In R, `y = x` or equivalently, `y <- x` creates a copy only when it is necessary.\n",
    "    - Observe the code `x = matrix(rnorm(10), ncol=2)  ;  y <- x  ;  y[1,1] <- 0`\n",
    "    - For `y <-x` , it works same as Julia. No copy occurs, \"x\" and \"y\" both refer to same object(matrix).\n",
    "    - But for `y[1,1]<-0`, copy occurs. \"x\" and \"y\" refers to different objects now.\n",
    "    - In other words, copy is created only if the object has change."
   ],
   "metadata": {}
  },
  {
   "cell_type": "markdown",
   "source": [
    "#### What's the difference between `y = x` and `b = a`?\n",
    "\n",
    "- In Julia, everything is an object (see **Types** below). But there are *mutable* and *immutable* objects.\n",
    "- In *assignment* of the form `x = ...`, the LHS is a variable name. Assignment changes which object the variable `x` refers to (called a *variable binding*). \n",
    "- After the statement `b = a` any change to `a` also affects `b`. However, the value bound to `a` is `1.0`, an immutable value. \n",
    "- You can't mutate an immutable object. The next statement `a = 2.0` does *not* mutate the value bound to `a` (`1.0`), but create a new immutable object `2.0` and re-binds it to variable `a`.\n",
    "- Binding of `b` to the previous object (`1.0`) is not affected. Hence there's no way to tell if it was copied or referenced."
   ],
   "metadata": {}
  },
  {
   "cell_type": "code",
   "execution_count": 29,
   "source": [
    "# guess what will happen\n",
    "x = randn(5, 5)\n",
    "y"
   ],
   "outputs": [
    {
     "output_type": "execute_result",
     "data": {
      "text/plain": [
       "5×5 Matrix{Float64}:\n",
       " 0.0  -0.993886  -0.273581  -0.0654043   2.68592\n",
       " 0.0   1.07551    0.0        1.5579     -1.80041\n",
       " 0.0  -0.190682   1.60163   -1.13262     0.557946\n",
       " 0.0   0.464624   0.385242  -0.463516    0.32635\n",
       " 0.0   0.901238   0.95375   -0.315408   -0.65493"
      ]
     },
     "metadata": {},
     "execution_count": 29
    }
   ],
   "metadata": {}
  },
  {
   "cell_type": "markdown",
   "source": [
    "- On the other hand, `Array` is a mutable object.\n",
    "- `y[:, 1] .= 0` is *not* an assignment, but a *mutation*.\n",
    "- `x = x .+ 0.1` is an assignment, whereas `x .+= 0.1` is a mutation."
   ],
   "metadata": {}
  },
  {
   "cell_type": "code",
   "execution_count": 30,
   "source": [
    "y = x"
   ],
   "outputs": [
    {
     "output_type": "execute_result",
     "data": {
      "text/plain": [
       "5×5 Matrix{Float64}:\n",
       "  0.782523   1.75105   -1.96364    0.463421    1.59847\n",
       " -1.06999   -0.590444  -0.437101  -0.830196    1.32644\n",
       " -0.75357   -0.763365  -0.544193   0.0732324  -0.358088\n",
       " -0.606587   0.309038  -1.1324    -0.676585    1.40927\n",
       "  0.086041  -0.147394  -1.17742    1.46139     1.99438"
      ]
     },
     "metadata": {},
     "execution_count": 30
    }
   ],
   "metadata": {}
  },
  {
   "cell_type": "code",
   "execution_count": 31,
   "source": [
    "x .+= 2\n",
    "y\n",
    "# `x .+= 1` (semantically) in-place modification, which saves memory resources.\n",
    "# This is what R cannot do. On the other hand, C language has this function. "
   ],
   "outputs": [
    {
     "output_type": "execute_result",
     "data": {
      "text/plain": [
       "5×5 Matrix{Float64}:\n",
       " 2.78252   3.75105  0.0363585  2.46342  3.59847\n",
       " 0.930008  1.40956  1.5629     1.1698   3.32644\n",
       " 1.24643   1.23664  1.45581    2.07323  1.64191\n",
       " 1.39341   2.30904  0.867601   1.32341  3.40927\n",
       " 2.08604   1.85261  0.822583   3.46139  3.99438"
      ]
     },
     "metadata": {},
     "execution_count": 31
    }
   ],
   "metadata": {}
  },
  {
   "cell_type": "code",
   "execution_count": 32,
   "source": [
    "(pointer(x), pointer(y))"
   ],
   "outputs": [
    {
     "output_type": "execute_result",
     "data": {
      "text/plain": [
       "(Ptr{Float64} @0x0000000116965010, Ptr{Float64} @0x0000000116965010)"
      ]
     },
     "metadata": {},
     "execution_count": 32
    }
   ],
   "metadata": {}
  },
  {
   "cell_type": "code",
   "execution_count": 33,
   "source": [
    "x = x .+ 0.1\n",
    "# `x = x .+ 1` creates a new object and rename it as x\n",
    "# This is what R does.\n",
    "y"
   ],
   "outputs": [
    {
     "output_type": "execute_result",
     "data": {
      "text/plain": [
       "5×5 Matrix{Float64}:\n",
       " 2.78252   3.75105  0.0363585  2.46342  3.59847\n",
       " 0.930008  1.40956  1.5629     1.1698   3.32644\n",
       " 1.24643   1.23664  1.45581    2.07323  1.64191\n",
       " 1.39341   2.30904  0.867601   1.32341  3.40927\n",
       " 2.08604   1.85261  0.822583   3.46139  3.99438"
      ]
     },
     "metadata": {},
     "execution_count": 33
    }
   ],
   "metadata": {}
  },
  {
   "cell_type": "code",
   "execution_count": 34,
   "source": [
    "(pointer(x), pointer(y))"
   ],
   "outputs": [
    {
     "output_type": "execute_result",
     "data": {
      "text/plain": [
       "(Ptr{Float64} @0x000000011612b1d0, Ptr{Float64} @0x0000000116965010)"
      ]
     },
     "metadata": {},
     "execution_count": 34
    }
   ],
   "metadata": {}
  },
  {
   "cell_type": "markdown",
   "source": [
    "### Concatenate matrices"
   ],
   "metadata": {}
  },
  {
   "cell_type": "code",
   "execution_count": 35,
   "source": [
    "# 1-by-3 array\n",
    "[1 2 3]"
   ],
   "outputs": [
    {
     "output_type": "execute_result",
     "data": {
      "text/plain": [
       "1×3 Matrix{Int64}:\n",
       " 1  2  3"
      ]
     },
     "metadata": {},
     "execution_count": 35
    }
   ],
   "metadata": {}
  },
  {
   "cell_type": "code",
   "execution_count": 36,
   "source": [
    "# 3-by-1 vector\n",
    "[1, 2, 3]\n",
    "# row vector and column vector have different types. row vector is a matrix and column vector is a vector.\n",
    "# Default for vector is a column vector."
   ],
   "outputs": [
    {
     "output_type": "execute_result",
     "data": {
      "text/plain": [
       "3-element Vector{Int64}:\n",
       " 1\n",
       " 2\n",
       " 3"
      ]
     },
     "metadata": {},
     "execution_count": 36
    }
   ],
   "metadata": {}
  },
  {
   "cell_type": "code",
   "execution_count": 37,
   "source": [
    "# Creating a matrix with specified element\n",
    "A = [1 2 ; 3 4]"
   ],
   "outputs": [
    {
     "output_type": "execute_result",
     "data": {
      "text/plain": [
       "2×2 Matrix{Int64}:\n",
       " 1  2\n",
       " 3  4"
      ]
     },
     "metadata": {},
     "execution_count": 37
    }
   ],
   "metadata": {}
  },
  {
   "cell_type": "code",
   "execution_count": 38,
   "source": [
    "# Same as above\n",
    "B = [1 2\n",
    "    3 4]"
   ],
   "outputs": [
    {
     "output_type": "execute_result",
     "data": {
      "text/plain": [
       "2×2 Matrix{Int64}:\n",
       " 1  2\n",
       " 3  4"
      ]
     },
     "metadata": {},
     "execution_count": 38
    }
   ],
   "metadata": {}
  },
  {
   "cell_type": "code",
   "execution_count": 39,
   "source": [
    "C=[ones(Int, 2, 2,) [3;4]\n",
    "    [5 6] 9]"
   ],
   "outputs": [
    {
     "output_type": "execute_result",
     "data": {
      "text/plain": [
       "3×3 Matrix{Int64}:\n",
       " 1  1  3\n",
       " 1  1  4\n",
       " 5  6  9"
      ]
     },
     "metadata": {},
     "execution_count": 39
    }
   ],
   "metadata": {}
  },
  {
   "cell_type": "code",
   "execution_count": 40,
   "source": [
    "# multiple assignment by tuple\n",
    "x, y, z = randn(5, 3), randn(5, 2), randn(3, 5)"
   ],
   "outputs": [
    {
     "output_type": "execute_result",
     "data": {
      "text/plain": [
       "([-2.183690985342702 1.1372764457310753 1.7737428432915645; -0.5182647241363008 -0.31196731054127097 1.623965471442824; … ; -1.2475515908073616 -2.1272450846197435 -0.4715367612263856; 0.5892615040610858 -1.9656465811594739 -2.052177950575362], [0.4073451011337501 -0.4886534984570185; 1.665043127702835 0.5598362944902865; … ; 1.3758684156452246 1.4018247537693291; 1.3631496359058977 1.364752282953085], [0.07288442706660046 0.9895543317931201 … -0.4238145829722702 0.5032230989846906; -0.6029362855917739 -0.3298551883709621 … -0.34540504209514344 0.12817286060648775; -0.92732354528771 0.5669070429836237 … 0.395557339474939 0.19796874367999015])"
      ]
     },
     "metadata": {},
     "execution_count": 40
    }
   ],
   "metadata": {}
  },
  {
   "cell_type": "code",
   "execution_count": 41,
   "source": [
    "[x y] # 5-by-5 matrix \n",
    "# concatenate block matrices"
   ],
   "outputs": [
    {
     "output_type": "execute_result",
     "data": {
      "text/plain": [
       "5×5 Matrix{Float64}:\n",
       " -2.18369    1.13728    1.77374    0.407345  -0.488653\n",
       " -0.518265  -0.311967   1.62397    1.66504    0.559836\n",
       "  0.801005   0.560637  -0.923666  -1.87624   -0.363445\n",
       " -1.24755   -2.12725   -0.471537   1.37587    1.40182\n",
       "  0.589262  -1.96565   -2.05218    1.36315    1.36475"
      ]
     },
     "metadata": {},
     "execution_count": 41
    }
   ],
   "metadata": {}
  },
  {
   "cell_type": "code",
   "execution_count": 42,
   "source": [
    "[x y; z] # 8-by-5 matrix\n",
    "# This syntax is same as MATLAB"
   ],
   "outputs": [
    {
     "output_type": "execute_result",
     "data": {
      "text/plain": [
       "8×5 Matrix{Float64}:\n",
       " -2.18369     1.13728    1.77374    0.407345  -0.488653\n",
       " -0.518265   -0.311967   1.62397    1.66504    0.559836\n",
       "  0.801005    0.560637  -0.923666  -1.87624   -0.363445\n",
       " -1.24755    -2.12725   -0.471537   1.37587    1.40182\n",
       "  0.589262   -1.96565   -2.05218    1.36315    1.36475\n",
       "  0.0728844   0.989554  -1.37758   -0.423815   0.503223\n",
       " -0.602936   -0.329855   0.238663  -0.345405   0.128173\n",
       " -0.927324    0.566907  -1.42664    0.395557   0.197969"
      ]
     },
     "metadata": {},
     "execution_count": 42
    }
   ],
   "metadata": {}
  },
  {
   "cell_type": "code",
   "execution_count": 43,
   "source": [
    "# Other way to concatenate matrices equivalent to `rbind` & `cbind` in R\n",
    "# reproduce the result in above two cells\n",
    "hcat(x,y)"
   ],
   "outputs": [
    {
     "output_type": "execute_result",
     "data": {
      "text/plain": [
       "5×5 Matrix{Float64}:\n",
       " -2.18369    1.13728    1.77374    0.407345  -0.488653\n",
       " -0.518265  -0.311967   1.62397    1.66504    0.559836\n",
       "  0.801005   0.560637  -0.923666  -1.87624   -0.363445\n",
       " -1.24755   -2.12725   -0.471537   1.37587    1.40182\n",
       "  0.589262  -1.96565   -2.05218    1.36315    1.36475"
      ]
     },
     "metadata": {},
     "execution_count": 43
    }
   ],
   "metadata": {}
  },
  {
   "cell_type": "code",
   "execution_count": 44,
   "source": [
    "XY=[x y];\n",
    "vcat(XY, z)"
   ],
   "outputs": [
    {
     "output_type": "execute_result",
     "data": {
      "text/plain": [
       "8×5 Matrix{Float64}:\n",
       " -2.18369     1.13728    1.77374    0.407345  -0.488653\n",
       " -0.518265   -0.311967   1.62397    1.66504    0.559836\n",
       "  0.801005    0.560637  -0.923666  -1.87624   -0.363445\n",
       " -1.24755    -2.12725   -0.471537   1.37587    1.40182\n",
       "  0.589262   -1.96565   -2.05218    1.36315    1.36475\n",
       "  0.0728844   0.989554  -1.37758   -0.423815   0.503223\n",
       " -0.602936   -0.329855   0.238663  -0.345405   0.128173\n",
       " -0.927324    0.566907  -1.42664    0.395557   0.197969"
      ]
     },
     "metadata": {},
     "execution_count": 44
    }
   ],
   "metadata": {}
  },
  {
   "cell_type": "markdown",
   "source": [
    "### Dot operation\n",
    "\n",
    "In Julia, any function `f(x)` can be applied elementwise to an array `X` with the “dot call” syntax `f.(X)`. "
   ],
   "metadata": {}
  },
  {
   "cell_type": "code",
   "execution_count": 45,
   "source": [
    "x = randn(5, 3)"
   ],
   "outputs": [
    {
     "output_type": "execute_result",
     "data": {
      "text/plain": [
       "5×3 Matrix{Float64}:\n",
       " -2.55129    1.63172   -0.168012\n",
       "  0.124173  -0.375592   0.0495724\n",
       "  0.498708   0.303592  -0.444669\n",
       "  0.568302   0.629037  -0.0532919\n",
       "  2.87703   -1.50145    0.686962"
      ]
     },
     "metadata": {},
     "execution_count": 45
    }
   ],
   "metadata": {}
  },
  {
   "cell_type": "code",
   "execution_count": 46,
   "source": [
    "y = 2*ones(5, 3)"
   ],
   "outputs": [
    {
     "output_type": "execute_result",
     "data": {
      "text/plain": [
       "5×3 Matrix{Float64}:\n",
       " 2.0  2.0  2.0\n",
       " 2.0  2.0  2.0\n",
       " 2.0  2.0  2.0\n",
       " 2.0  2.0  2.0\n",
       " 2.0  2.0  2.0"
      ]
     },
     "metadata": {},
     "execution_count": 46
    }
   ],
   "metadata": {}
  },
  {
   "cell_type": "code",
   "execution_count": 47,
   "source": [
    "x .* y # same as x * y in R"
   ],
   "outputs": [
    {
     "output_type": "execute_result",
     "data": {
      "text/plain": [
       "5×3 Matrix{Float64}:\n",
       " -5.10257    3.26344   -0.336025\n",
       "  0.248346  -0.751184   0.0991448\n",
       "  0.997416   0.607185  -0.889338\n",
       "  1.1366     1.25807   -0.106584\n",
       "  5.75406   -3.0029     1.37392"
      ]
     },
     "metadata": {},
     "execution_count": 47
    }
   ],
   "metadata": {}
  },
  {
   "cell_type": "code",
   "execution_count": 48,
   "source": [
    "x .^ (2) # same as x^(2) in R"
   ],
   "outputs": [
    {
     "output_type": "execute_result",
     "data": {
      "text/plain": [
       "5×3 Matrix{Float64}:\n",
       " 6.50906    2.66251    0.0282282\n",
       " 0.0154189  0.141069   0.00245742\n",
       " 0.24871    0.0921683  0.197731\n",
       " 0.322967   0.395687   0.00284003\n",
       " 8.2773     2.25434    0.471917"
      ]
     },
     "metadata": {},
     "execution_count": 48
    }
   ],
   "metadata": {}
  },
  {
   "cell_type": "code",
   "execution_count": 49,
   "source": [
    "sin.(x)  # same as sin(x) in R\n",
    "# In Julia, `sin(x)` brings out DimensionMismatch error."
   ],
   "outputs": [
    {
     "output_type": "execute_result",
     "data": {
      "text/plain": [
       "5×3 Matrix{Float64}:\n",
       " -0.556616   0.998145  -0.167223\n",
       "  0.123854  -0.366823   0.0495521\n",
       "  0.478291   0.29895   -0.430159\n",
       "  0.538202   0.588366  -0.0532667\n",
       "  0.261488  -0.997596   0.634192"
      ]
     },
     "metadata": {},
     "execution_count": 49
    }
   ],
   "metadata": {}
  },
  {
   "cell_type": "markdown",
   "source": [
    "### Basic linear algebra"
   ],
   "metadata": {}
  },
  {
   "cell_type": "code",
   "execution_count": 50,
   "source": [
    "x = randn(5)"
   ],
   "outputs": [
    {
     "output_type": "execute_result",
     "data": {
      "text/plain": [
       "5-element Vector{Float64}:\n",
       "  0.6719747304615523\n",
       " -0.803468218681417\n",
       "  1.5111954417300708\n",
       " -0.48417571706690976\n",
       " -0.44575325448653785"
      ]
     },
     "metadata": {},
     "execution_count": 50
    }
   ],
   "metadata": {}
  },
  {
   "cell_type": "code",
   "execution_count": 51,
   "source": [
    "using LinearAlgebra\n",
    "# vector L2 norm\n",
    "norm(x)"
   ],
   "outputs": [
    {
     "output_type": "execute_result",
     "data": {
      "text/plain": [
       "1.952932402516356"
      ]
     },
     "metadata": {},
     "execution_count": 51
    }
   ],
   "metadata": {}
  },
  {
   "cell_type": "code",
   "execution_count": 52,
   "source": [
    "# same as\n",
    "sqrt(sum(abs2, x))\n",
    "# `abs2` calculates sqaured absolute value. `sum(f, x)` sums the results of calling function f on each element of x."
   ],
   "outputs": [
    {
     "output_type": "execute_result",
     "data": {
      "text/plain": [
       "1.952932402516356"
      ]
     },
     "metadata": {},
     "execution_count": 52
    }
   ],
   "metadata": {}
  },
  {
   "cell_type": "code",
   "execution_count": 53,
   "source": [
    "y = randn(5) # another vector\n",
    "# dot product\n",
    "dot(x, y) # x' * y"
   ],
   "outputs": [
    {
     "output_type": "execute_result",
     "data": {
      "text/plain": [
       "-0.46955745702360296"
      ]
     },
     "metadata": {},
     "execution_count": 53
    }
   ],
   "metadata": {}
  },
  {
   "cell_type": "code",
   "execution_count": 54,
   "source": [
    "# same as\n",
    "x'y  \n",
    "# \"*\" can be ommited in `x'*y` (In Julia, * can be ommited in many cases so that it resembles the mathematical expressions)\n",
    "# Note that \"*\" cannot be ommited in `x*y`(Since \"xy\" can be another variable name)\n",
    "# \"2x\" can be done since variable name cannnot begin with a number. \"x2\" cannot be done."
   ],
   "outputs": [
    {
     "output_type": "execute_result",
     "data": {
      "text/plain": [
       "-0.46955745702360296"
      ]
     },
     "metadata": {},
     "execution_count": 54
    }
   ],
   "metadata": {}
  },
  {
   "cell_type": "code",
   "execution_count": 55,
   "source": [
    "x, y = randn(5, 3), randn(3, 2)\n",
    "# matrix multiplication, same as %*% in R\n",
    "x * y"
   ],
   "outputs": [
    {
     "output_type": "execute_result",
     "data": {
      "text/plain": [
       "5×2 Matrix{Float64}:\n",
       "  0.426587  -0.368979\n",
       "  0.397535   0.120602\n",
       " -1.82322   -0.150107\n",
       "  2.28277    0.984875\n",
       "  0.799095  -0.293572"
      ]
     },
     "metadata": {},
     "execution_count": 55
    }
   ],
   "metadata": {}
  },
  {
   "cell_type": "code",
   "execution_count": 56,
   "source": [
    "x = randn(3, 3)"
   ],
   "outputs": [
    {
     "output_type": "execute_result",
     "data": {
      "text/plain": [
       "3×3 Matrix{Float64}:\n",
       "  0.727865   0.199643   0.921103\n",
       " -1.52974   -0.146371  -0.272354\n",
       " -0.332394  -0.781258  -0.591608"
      ]
     },
     "metadata": {},
     "execution_count": 56
    }
   ],
   "metadata": {}
  },
  {
   "cell_type": "code",
   "execution_count": 57,
   "source": [
    "# conjugate transpose (adjoint). For real matrix, it is just a transpose.\n",
    "x'\n",
    "# Type is \"adjoint\". This is because x' does not brings out a new memory allocation. It is just a tagging, as @views.\n",
    "# Such function is all for saving resources."
   ],
   "outputs": [
    {
     "output_type": "execute_result",
     "data": {
      "text/plain": [
       "3×3 adjoint(::Matrix{Float64}) with eltype Float64:\n",
       " 0.727865  -1.52974   -0.332394\n",
       " 0.199643  -0.146371  -0.781258\n",
       " 0.921103  -0.272354  -0.591608"
      ]
     },
     "metadata": {},
     "execution_count": 57
    }
   ],
   "metadata": {}
  },
  {
   "cell_type": "code",
   "execution_count": 58,
   "source": [
    "b = rand(3)\n",
    "x'b # same as x' * b"
   ],
   "outputs": [
    {
     "output_type": "execute_result",
     "data": {
      "text/plain": [
       "3-element Vector{Float64}:\n",
       " -0.22397464410959755\n",
       " -0.42710710227477416\n",
       "  0.1536824561934808"
      ]
     },
     "metadata": {},
     "execution_count": 58
    }
   ],
   "metadata": {}
  },
  {
   "cell_type": "code",
   "execution_count": 59,
   "source": [
    "# trace\n",
    "tr(x)"
   ],
   "outputs": [
    {
     "output_type": "execute_result",
     "data": {
      "text/plain": [
       "-0.010114828012854682"
      ]
     },
     "metadata": {},
     "execution_count": 59
    }
   ],
   "metadata": {}
  },
  {
   "cell_type": "code",
   "execution_count": 60,
   "source": [
    "det(x)"
   ],
   "outputs": [
    {
     "output_type": "execute_result",
     "data": {
      "text/plain": [
       "0.8015660411377089"
      ]
     },
     "metadata": {},
     "execution_count": 60
    }
   ],
   "metadata": {}
  },
  {
   "cell_type": "code",
   "execution_count": 61,
   "source": [
    "rank(x)"
   ],
   "outputs": [
    {
     "output_type": "execute_result",
     "data": {
      "text/plain": [
       "3"
      ]
     },
     "metadata": {},
     "execution_count": 61
    }
   ],
   "metadata": {}
  },
  {
   "cell_type": "code",
   "execution_count": 62,
   "source": [
    "# Solving linear system Ax=b\n",
    "A=rand(5,3) ; b=rand(5)\n",
    "x=A\\b\n",
    "println(norm(A*x-b))\n",
    "# Ax is not equal to b\n",
    "# This is because b is not lying on the column space of A\n",
    "# Then what is the solution x ?"
   ],
   "outputs": [
    {
     "output_type": "stream",
     "name": "stdout",
     "text": [
      "0.5812586049517229\n"
     ]
    }
   ],
   "metadata": {}
  },
  {
   "cell_type": "code",
   "execution_count": 63,
   "source": [
    "println(norm(A'A*x-A'b))\n",
    "# x is derived from solving A'Ax=A'b rather than Ax=b"
   ],
   "outputs": [
    {
     "output_type": "stream",
     "name": "stdout",
     "text": [
      "7.447602459741819e-16\n"
     ]
    }
   ],
   "metadata": {}
  },
  {
   "cell_type": "code",
   "execution_count": 64,
   "source": [
    "# Solving such linear system involves matrix decomposition\n",
    "X=A'A\n",
    "CholX=cholesky(X)"
   ],
   "outputs": [
    {
     "output_type": "execute_result",
     "data": {
      "text/plain": [
       "Cholesky{Float64, Matrix{Float64}}\n",
       "U factor:\n",
       "3×3 UpperTriangular{Float64, Matrix{Float64}}:\n",
       " 1.0247  1.58025    0.941344\n",
       "  ⋅      0.461776  -0.399247\n",
       "  ⋅       ⋅         0.443922"
      ]
     },
     "metadata": {},
     "execution_count": 64
    }
   ],
   "metadata": {}
  },
  {
   "cell_type": "markdown",
   "source": [
    "### Sparse matrices"
   ],
   "metadata": {}
  },
  {
   "cell_type": "code",
   "execution_count": 65,
   "source": [
    "using SparseArrays\n",
    "\n",
    "\n",
    "# 10-by-10 sparse matrix with sparsity level 0.1( maximum nonzero element number is 0.1 * total)\n",
    "X = sprandn(10, 10, .1)"
   ],
   "outputs": [
    {
     "output_type": "execute_result",
     "data": {
      "text/plain": [
       "10×10 SparseMatrixCSC{Float64, Int64} with 11 stored entries:\n",
       "  ⋅         ⋅    ⋅     ⋅        ⋅       …   ⋅    ⋅     ⋅          ⋅ \n",
       "  ⋅         ⋅    ⋅     ⋅        ⋅           ⋅    ⋅    0.600465    ⋅ \n",
       "  ⋅         ⋅    ⋅     ⋅        ⋅           ⋅    ⋅     ⋅          ⋅ \n",
       "  ⋅         ⋅    ⋅     ⋅        ⋅           ⋅    ⋅   -0.694171    ⋅ \n",
       "  ⋅         ⋅    ⋅    0.13952   ⋅           ⋅    ⋅     ⋅          ⋅ \n",
       "  ⋅         ⋅    ⋅     ⋅        ⋅       …   ⋅    ⋅     ⋅         0.656815\n",
       " 1.09027    ⋅    ⋅     ⋅        ⋅           ⋅    ⋅     ⋅        -1.44275\n",
       "  ⋅         ⋅    ⋅     ⋅        ⋅           ⋅    ⋅     ⋅          ⋅ \n",
       "  ⋅         ⋅    ⋅   -1.31797  1.58432      ⋅    ⋅     ⋅          ⋅ \n",
       " 0.899571   ⋅    ⋅     ⋅        ⋅           ⋅    ⋅     ⋅        -0.647212"
      ]
     },
     "metadata": {},
     "execution_count": 65
    }
   ],
   "metadata": {}
  },
  {
   "cell_type": "markdown",
   "source": [
    "Question: why do we use `SparseArrays`?\n",
    "- sparse matrix는 memory를 적게 차지함.\n",
    "- nonzero elements의 value와 location index를 저장.\n",
    "- 10개의 float과 20개의 정수만으로 10*10 matrix를 가리킬 수 있음. 저장공간 비교하면 30개 vs 100개."
   ],
   "metadata": {}
  },
  {
   "cell_type": "code",
   "execution_count": 66,
   "source": [
    "# convert to dense matrix; be cautious when dealing with big data\n",
    "Xfull = convert(Matrix{Float64}, X)"
   ],
   "outputs": [
    {
     "output_type": "execute_result",
     "data": {
      "text/plain": [
       "10×10 Matrix{Float64}:\n",
       " 0.0       0.0  0.0   0.0      0.0      …  0.0  0.0   0.0        0.0\n",
       " 0.0       0.0  0.0   0.0      0.0         0.0  0.0   0.600465   0.0\n",
       " 0.0       0.0  0.0   0.0      0.0         0.0  0.0   0.0        0.0\n",
       " 0.0       0.0  0.0   0.0      0.0         0.0  0.0  -0.694171   0.0\n",
       " 0.0       0.0  0.0   0.13952  0.0         0.0  0.0   0.0        0.0\n",
       " 0.0       0.0  0.0   0.0      0.0      …  0.0  0.0   0.0        0.656815\n",
       " 1.09027   0.0  0.0   0.0      0.0         0.0  0.0   0.0       -1.44275\n",
       " 0.0       0.0  0.0   0.0      0.0         0.0  0.0   0.0        0.0\n",
       " 0.0       0.0  0.0  -1.31797  1.58432     0.0  0.0   0.0        0.0\n",
       " 0.899571  0.0  0.0   0.0      0.0         0.0  0.0   0.0       -0.647212"
      ]
     },
     "metadata": {},
     "execution_count": 66
    }
   ],
   "metadata": {}
  },
  {
   "cell_type": "code",
   "execution_count": 67,
   "source": [
    "# convert a dense matrix to sparse matrix\n",
    "sparse(Xfull)"
   ],
   "outputs": [
    {
     "output_type": "execute_result",
     "data": {
      "text/plain": [
       "10×10 SparseMatrixCSC{Float64, Int64} with 11 stored entries:\n",
       "  ⋅         ⋅    ⋅     ⋅        ⋅       …   ⋅    ⋅     ⋅          ⋅ \n",
       "  ⋅         ⋅    ⋅     ⋅        ⋅           ⋅    ⋅    0.600465    ⋅ \n",
       "  ⋅         ⋅    ⋅     ⋅        ⋅           ⋅    ⋅     ⋅          ⋅ \n",
       "  ⋅         ⋅    ⋅     ⋅        ⋅           ⋅    ⋅   -0.694171    ⋅ \n",
       "  ⋅         ⋅    ⋅    0.13952   ⋅           ⋅    ⋅     ⋅          ⋅ \n",
       "  ⋅         ⋅    ⋅     ⋅        ⋅       …   ⋅    ⋅     ⋅         0.656815\n",
       " 1.09027    ⋅    ⋅     ⋅        ⋅           ⋅    ⋅     ⋅        -1.44275\n",
       "  ⋅         ⋅    ⋅     ⋅        ⋅           ⋅    ⋅     ⋅          ⋅ \n",
       "  ⋅         ⋅    ⋅   -1.31797  1.58432      ⋅    ⋅     ⋅          ⋅ \n",
       " 0.899571   ⋅    ⋅     ⋅        ⋅           ⋅    ⋅     ⋅        -0.647212"
      ]
     },
     "metadata": {},
     "execution_count": 67
    }
   ],
   "metadata": {}
  },
  {
   "cell_type": "code",
   "execution_count": 68,
   "source": [
    "# syntax for sparse linear algebra is the same as dense linear algebra\n",
    "β = ones(10)\n",
    "X * β"
   ],
   "outputs": [
    {
     "output_type": "execute_result",
     "data": {
      "text/plain": [
       "10-element Vector{Float64}:\n",
       "  0.0\n",
       "  0.6004651699162051\n",
       "  0.0\n",
       " -0.6941713775369985\n",
       "  0.13952013955757903\n",
       "  0.6568146434250657\n",
       " -0.8489857271144514\n",
       "  0.0\n",
       "  0.26634788858336944\n",
       "  0.25235898904879484"
      ]
     },
     "metadata": {},
     "execution_count": 68
    }
   ],
   "metadata": {}
  },
  {
   "cell_type": "code",
   "execution_count": 69,
   "source": [
    "# many functions apply to sparse matrices as well\n",
    "sum(X)"
   ],
   "outputs": [
    {
     "output_type": "execute_result",
     "data": {
      "text/plain": [
       "0.37234972587956405"
      ]
     },
     "metadata": {},
     "execution_count": 69
    }
   ],
   "metadata": {}
  },
  {
   "cell_type": "markdown",
   "source": [
    "## Control flow and loops\n",
    "\n",
    "* if-elseif-else-end\n",
    "\n",
    "```julia\n",
    "if condition1\n",
    "    # do something\n",
    "elseif condition2\n",
    "    # R에서는 else if\n",
    "    # do something\n",
    "else\n",
    "    # do something\n",
    "endb\n",
    "```\n",
    "\n",
    "* `for` loop\n",
    "\n",
    "```julia\n",
    "for i in 1:10\n",
    "    println(i)\n",
    "end\n",
    "```\n",
    "\n",
    "* Nested `for` loop:\n",
    "\n",
    "```julia\n",
    "for i in 1:10\n",
    "    for j in 1:5\n",
    "        println(i * j)\n",
    "    end\n",
    "end\n",
    "```\n",
    "Same as\n",
    "\n",
    "```julia\n",
    "for i in 1:10, j in 1:5\n",
    "    println(i * j)\n",
    "end\n",
    "```\n",
    "\n",
    "* Exit loop:\n",
    "\n",
    "```julia\n",
    "for i in 1:10\n",
    "    # do something\n",
    "    if condition1\n",
    "        break # skip remaining loop\n",
    "    end\n",
    "end\n",
    "```\n",
    "\n",
    "* Exit iteration:  \n",
    "\n",
    "```julia\n",
    "for i in 1:10\n",
    "    # do something\n",
    "    if condition1\n",
    "        continue # skip to next iteration\n",
    "    end\n",
    "    # do something\n",
    "end\n",
    "```"
   ],
   "metadata": {}
  },
  {
   "cell_type": "code",
   "execution_count": 70,
   "source": [
    "# Simple syntax for control flow equivalent to `ifelse` in R\n",
    "# condition ? expression_if : expression_else\n",
    "\n",
    "a=rand(5)\n",
    "sum(a)<2 ? a=a+ones(Int, 5) : a=a-ones(Int, 5) ;\n",
    "a"
   ],
   "outputs": [
    {
     "output_type": "execute_result",
     "data": {
      "text/plain": [
       "5-element Vector{Float64}:\n",
       " -0.03724229822297387\n",
       " -0.01445891373488739\n",
       " -0.2442234777868324\n",
       " -0.2458623931763093\n",
       " -0.18150611340336176"
      ]
     },
     "metadata": {},
     "execution_count": 70
    }
   ],
   "metadata": {}
  },
  {
   "cell_type": "markdown",
   "source": [
    "## Functions \n",
    "\n",
    "* Function definition\n",
    "```julia\n",
    "function func(req1, req2; key1=dflt1, key2=dflt2)\n",
    "    # do stuff\n",
    "    return out1, out2, out3\n",
    "end\n",
    "```\n",
    "    - **Required arguments** are separated with a comma and use the positional notation.  \n",
    "    - **Optional arguments** need a default value in the signature.  \n",
    "    - **Semicolon** is not required in function call. It tells us that arguments after `;` are optional.\n",
    "    - **return** statement is optional (value of the last expression is the return value, like R).  \n",
    "    - Multiple outputs can be returned as a **tuple**, e.g., `return out1, out2, out3`.\n",
    "\n"
   ],
   "metadata": {}
  },
  {
   "cell_type": "markdown",
   "source": [
    "* In Julia, all arguments to functions are [**passed by reference**](https://en.wikipedia.org/wiki/Evaluation_strategy#Call_by_reference), in contrast to R and Matlab (which use pass by value).\n",
    "    - Implication: function arguments can be **modified** inside the function.\n",
    "    - If input refers to a mutable object then the object can be changed.\n",
    "    \n",
    "```julia\n",
    "function f(x, y)\n",
    "    return x+y\n",
    "end\n",
    "a = 10 ; b = 8\n",
    "f(a,b)\n",
    "```\n",
    "\n",
    "* Observe what is going on when `f(a,b)` is implemented in the code above.\n",
    "    - First, `x = a` and `y = b` are done. Does not create any copy. (Call by reference)\n",
    "    - Then, calculates `x+y` and return it.\n",
    "* On the other hand, if the same function is implemented in R, then\n",
    "    - First, creates copies, `x<-a` and `y<-b` (Call by value), which is equivalent to `x=copy(a)` and `y=copy(b)` in Julia.\n",
    "    - Then, calculates `x+y` and return it.\n",
    "* Pros and Cons of \"call by value\" vs \"call by reference\"\n",
    "    - Call by value : similar to mathematical expression in the sense that input value never changes when a function is applied.\n",
    "    - Call by reference : Advantage in saving resources. In practical case, we sometimes wants to change the input value intentionally. However, if we don't want to modify the inputs, we should pay attention to it.\n",
    "\n"
   ],
   "metadata": {}
  },
  {
   "cell_type": "markdown",
   "source": [
    "* By convention function names ending with `!` indicates that function mutates at least one argument, typically the first.\n",
    "\n",
    "```julia\n",
    "sort!(x) vs sort(x)\n",
    "```\n",
    "\n",
    "* Observe what is going on when `z = sort(x)` is implemented\n",
    "    - First, `y = copy(x)` is done where \"y\" is a nominal varaible.\n",
    "    - Second, somehow sorts elements of `y` and return `y`.\n",
    "    - Fianlly, `z = copy(y)` is done. \n",
    "    - Creating a copy in the last step, instead of `z = y`, is due to the fact that inside of a function is a kind of \"blackbox\" so that we cannot refer to the object created inside of the function blackbox. \n",
    "    \n",
    "* Now observe what is going on when `sort!(x)` is implemented\n",
    "    - First, `y = x` is done where \"y\" is a nominal variable.\n",
    "    - Next, somehow sorts elements of y. By doing this, `x` is also changed accordingly i.e. sorted.\n",
    "* While `z = sort(x)` brings out two copies, `sort!(x)` does not create any copy.\n",
    "\n"
   ],
   "metadata": {}
  },
  {
   "cell_type": "code",
   "execution_count": 71,
   "source": [
    "# Compare `filter` vs `filter!`\n",
    "x=collect(1:10)\n",
    "y=filter(z->z>3, x)\n",
    "x"
   ],
   "outputs": [
    {
     "output_type": "execute_result",
     "data": {
      "text/plain": [
       "10-element Vector{Int64}:\n",
       "  1\n",
       "  2\n",
       "  3\n",
       "  4\n",
       "  5\n",
       "  6\n",
       "  7\n",
       "  8\n",
       "  9\n",
       " 10"
      ]
     },
     "metadata": {},
     "execution_count": 71
    }
   ],
   "metadata": {}
  },
  {
   "cell_type": "code",
   "execution_count": 72,
   "source": [
    "filter!(z->z>3, x)\n",
    "x"
   ],
   "outputs": [
    {
     "output_type": "execute_result",
     "data": {
      "text/plain": [
       "7-element Vector{Int64}:\n",
       "  4\n",
       "  5\n",
       "  6\n",
       "  7\n",
       "  8\n",
       "  9\n",
       " 10"
      ]
     },
     "metadata": {},
     "execution_count": 72
    }
   ],
   "metadata": {}
  },
  {
   "cell_type": "markdown",
   "source": [
    "* There is a subtle binding issue (see the Indexing section above) in functions; see the \"I passed an argument `x` to a function, modified it inside that function, but on the outside, the variable `x` is still unchanged. Why?\" section of  https://docs.julialang.org/en/v1/manual/faq/\n",
    "\n",
    "```julia\n",
    "x = 10\n",
    "function change_value!(y)\n",
    "    y = 17\n",
    "end\n",
    "change_value!(x)   # result is 17\n",
    "x     # result is 10, x is unchanged!\n",
    "\n",
    "```\n",
    "\n",
    "* The problem in the above code is clear when we look into what happens step by step.\n",
    "    - At first, `x` points to an integer 10.\n",
    "    - As `change_value!(x)` is implemented, `y = x` is done so that `y` also refers to an integer 10.\n",
    "    - Then `y = 17` makes `y` refer to 17 and the binding between `y` and 10 be broken. This is because an integer 10 is immutable object. \n",
    "    - Obviously, `x` still refers to 10. \n",
    "\n",
    "\n",
    "```julia\n",
    "x = [1,2,3]\n",
    "function change_array!(A)\n",
    "    A[1] = 5\n",
    "    println(\"First element must be change into 5\")\n",
    "end\n",
    "change_array!(x)    # The sentence above is printed.\n",
    "x    # result is a vector (5,2,3) as expected.\n",
    "```\n",
    "\n",
    "* Here, the function has worked as we expected. Let's observe what happens.\n",
    "    - At first, `x` points to a vector (1,2,3).\n",
    "    - As `change_array!(x)` is implemented, `A = x` is done so that `A` also refers to a vector (1,2,3).\n",
    "    - Then `A[1] = 5` makes the first element of the object referred to as \"A\" change into 5. (This is because the object referred to as \"A\" is mutable)\n",
    "    - Now, both `A` and `x` refers to a modified vector (5,2,3). \n",
    "    - After function implementation is ended, `A` is left in the blackbox but still `x` refers to the vector (5,2,3)"
   ],
   "metadata": {}
  },
  {
   "cell_type": "markdown",
   "source": [
    "* Anonymous functions, e.g., `x -> x^2`, is commonly used in collection function or list comprehensions.\n",
    "```julia\n",
    "map(x -> x^2, y) # square each element in x\n",
    "# map(f, c, ...) transforms collection c by applying f to each element. For multiple collection arguments, apply f elementwise.\n",
    "# e.g.   map(+, [1, 2, 3], [10, 20, 30])\n",
    "```\n",
    "\n",
    "* Functions can be nested:\n",
    "\n",
    "```julia\n",
    "function outerfunction()\n",
    "    # do some outer stuff\n",
    "    function innerfunction()\n",
    "        # do inner stuff\n",
    "        # can access prior outer definitions\n",
    "    end\n",
    "    # do more outer stuff\n",
    "end\n",
    "```\n",
    "\n",
    "In this case, \"innerfunction\" is just left in the blackbox so that we cannot use it later. Only the \"outerfunction\" is allocated in the memory. \n",
    "\n",
    "* Functions can be vectorized using the \"dot call\" syntax:"
   ],
   "metadata": {}
  },
  {
   "cell_type": "code",
   "execution_count": 73,
   "source": [
    "function myfunc(x)\n",
    "    return sin(x^2)\n",
    "end\n",
    "\n",
    "x = randn(5, 3)\n",
    "myfunc.(x)"
   ],
   "outputs": [
    {
     "output_type": "execute_result",
     "data": {
      "text/plain": [
       "5×3 Matrix{Float64}:\n",
       " -0.966867   0.0174515    0.685276\n",
       "  0.0173183  0.157789     0.13345\n",
       "  0.201887   0.302368     0.846893\n",
       "  0.926636   0.0122978   -0.571227\n",
       "  0.150561   8.81735e-5   0.269939"
      ]
     },
     "metadata": {},
     "execution_count": 73
    }
   ],
   "metadata": {}
  },
  {
   "cell_type": "markdown",
   "source": [
    "* **Collection function** (think this as the series of `apply` functions in R).\n",
    "\n",
    "    Apply a function to each element of a collection:\n",
    "\n",
    "```julia\n",
    "map(f, coll) # or\n",
    "map(coll) do elem\n",
    "    # do stuff with elem\n",
    "    # must contain return\n",
    "end\n",
    "```"
   ],
   "metadata": {}
  },
  {
   "cell_type": "code",
   "execution_count": 74,
   "source": [
    "map(x -> sin(x^2), x)   # same as above"
   ],
   "outputs": [
    {
     "output_type": "execute_result",
     "data": {
      "text/plain": [
       "5×3 Matrix{Float64}:\n",
       " -0.966867   0.0174515    0.685276\n",
       "  0.0173183  0.157789     0.13345\n",
       "  0.201887   0.302368     0.846893\n",
       "  0.926636   0.0122978   -0.571227\n",
       "  0.150561   8.81735e-5   0.269939"
      ]
     },
     "metadata": {},
     "execution_count": 74
    }
   ],
   "metadata": {}
  },
  {
   "cell_type": "code",
   "execution_count": 75,
   "source": [
    "map(x) do elem   # long version of above\n",
    "    elem = elem^2\n",
    "    return sin(elem)\n",
    "end"
   ],
   "outputs": [
    {
     "output_type": "execute_result",
     "data": {
      "text/plain": [
       "5×3 Matrix{Float64}:\n",
       " -0.966867   0.0174515    0.685276\n",
       "  0.0173183  0.157789     0.13345\n",
       "  0.201887   0.302368     0.846893\n",
       "  0.926636   0.0122978   -0.571227\n",
       "  0.150561   8.81735e-5   0.269939"
      ]
     },
     "metadata": {},
     "execution_count": 75
    }
   ],
   "metadata": {}
  },
  {
   "cell_type": "code",
   "execution_count": 76,
   "source": [
    "map(+, x, randn(5,3))"
   ],
   "outputs": [
    {
     "output_type": "execute_result",
     "data": {
      "text/plain": [
       "5×3 Matrix{Float64}:\n",
       "  2.26931   -0.732447  -1.73343\n",
       "  2.41791    0.111514   0.271391\n",
       " -0.600834   0.159821   1.50559\n",
       " -1.39056   -0.754271  -2.23943\n",
       "  1.59671   -1.41553   -1.51074"
      ]
     },
     "metadata": {},
     "execution_count": 76
    }
   ],
   "metadata": {}
  },
  {
   "cell_type": "code",
   "execution_count": 77,
   "source": [
    "# Mapslices\n",
    "mapslices(sum, x, dims=1)"
   ],
   "outputs": [
    {
     "output_type": "execute_result",
     "data": {
      "text/plain": [
       "1×3 Matrix{Float64}:\n",
       " 1.68309  0.0962185  -4.64325"
      ]
     },
     "metadata": {},
     "execution_count": 77
    }
   ],
   "metadata": {}
  },
  {
   "cell_type": "code",
   "execution_count": 78,
   "source": [
    "mapslices(sum, x, dims=2)"
   ],
   "outputs": [
    {
     "output_type": "execute_result",
     "data": {
      "text/plain": [
       "5×1 Matrix{Float64}:\n",
       "  0.6977508778702102\n",
       "  0.8955146685284747\n",
       " -1.1084092196271638\n",
       " -3.2241416492810506\n",
       " -0.12465749614030763"
      ]
     },
     "metadata": {},
     "execution_count": 78
    }
   ],
   "metadata": {}
  },
  {
   "cell_type": "code",
   "execution_count": 79,
   "source": [
    "# Mapreduce\n",
    "mapreduce(x -> sin(x^2), +, x)   # mapreduce(mapper, reducer, data)\n",
    "# Note :  any commutative operator can be used as reducer"
   ],
   "outputs": [
    {
     "output_type": "execute_result",
     "data": {
      "text/plain": [
       "2.1838603826843364"
      ]
     },
     "metadata": {},
     "execution_count": 79
    }
   ],
   "metadata": {}
  },
  {
   "cell_type": "code",
   "execution_count": 80,
   "source": [
    "# same as\n",
    "sum(x -> sin(x^2), x)"
   ],
   "outputs": [
    {
     "output_type": "execute_result",
     "data": {
      "text/plain": [
       "2.1838603826843364"
      ]
     },
     "metadata": {},
     "execution_count": 80
    }
   ],
   "metadata": {}
  },
  {
   "cell_type": "markdown",
   "source": [
    "* List **comprehension**"
   ],
   "metadata": {}
  },
  {
   "cell_type": "code",
   "execution_count": 81,
   "source": [
    "[sin(2i + j) for i in 1:5, j in 1:3] # similar to Python"
   ],
   "outputs": [
    {
     "output_type": "execute_result",
     "data": {
      "text/plain": [
       "5×3 Matrix{Float64}:\n",
       "  0.14112   -0.756802  -0.958924\n",
       " -0.958924  -0.279415   0.656987\n",
       "  0.656987   0.989358   0.412118\n",
       "  0.412118  -0.544021  -0.99999\n",
       " -0.99999   -0.536573   0.420167"
      ]
     },
     "metadata": {},
     "execution_count": 81
    }
   ],
   "metadata": {}
  },
  {
   "cell_type": "markdown",
   "source": [
    "* Examples of creating functions"
   ],
   "metadata": {}
  },
  {
   "cell_type": "code",
   "execution_count": 90,
   "source": [
    "using Distributions\n",
    "function jgibbs(N::Integer, thin::Integer)\n",
    "    mat = Array{Float64}(undef, N, 2)\n",
    "    x = y = 0.\n",
    "    for i in 1:N\n",
    "        for j in 1:thin\n",
    "            x = rand(Gamma(3. , 1. /(y*y+4.))) \n",
    "            y = rand(Normal(1. /(x+1.) , 1. /sqrt(2. *(x+1.))))\n",
    "        end\n",
    "        mat[i,1] = x; mat[i,2] = y\n",
    "    end\n",
    "    return mat\n",
    "end\n",
    "##\n",
    "jgibbs(10000,500)\n"
   ],
   "outputs": [
    {
     "output_type": "execute_result",
     "data": {
      "text/plain": [
       "10000×2 Matrix{Float64}:\n",
       " 1.27711   -0.0125907\n",
       " 0.557944   0.859622\n",
       " 0.473635   0.908102\n",
       " 1.63491   -0.162881\n",
       " 0.489278   0.256862\n",
       " 0.824462   0.466253\n",
       " 0.521959   0.691617\n",
       " 1.39269   -0.080664\n",
       " 0.500461   1.51723\n",
       " 0.630959  -0.441451\n",
       " 0.40078    0.528136\n",
       " 0.384678   0.950615\n",
       " 0.205146   0.292238\n",
       " ⋮         \n",
       " 0.900853   0.515373\n",
       " 0.132944  -0.517094\n",
       " 0.494853   0.814155\n",
       " 0.704703   0.570945\n",
       " 0.260682  -0.473381\n",
       " 0.506734   0.689692\n",
       " 0.53043    0.879789\n",
       " 1.09878    0.88934\n",
       " 1.34113    0.00400934\n",
       " 1.41033    0.837123\n",
       " 0.781796   0.205745\n",
       " 0.358014   0.169364"
      ]
     },
     "metadata": {},
     "execution_count": 90
    }
   ],
   "metadata": {}
  },
  {
   "cell_type": "code",
   "execution_count": 91,
   "source": [
    "@elapsed jgibbs(10000,500)"
   ],
   "outputs": [
    {
     "output_type": "execute_result",
     "data": {
      "text/plain": [
       "0.407948467"
      ]
     },
     "metadata": {},
     "execution_count": 91
    }
   ],
   "metadata": {}
  },
  {
   "cell_type": "code",
   "execution_count": 2,
   "source": [
    "function sumsq(V::AbstractArray{<:Number})\n",
    "    s = zero(typeof(V[1]))\n",
    "    for v in V ; s +=v*v ; end\n",
    "    return s\n",
    "end\n",
    "sumsq(collect(1:5))\n"
   ],
   "outputs": [
    {
     "output_type": "execute_result",
     "data": {
      "text/plain": [
       "55"
      ]
     },
     "metadata": {},
     "execution_count": 2
    }
   ],
   "metadata": {}
  },
  {
   "cell_type": "code",
   "execution_count": 3,
   "source": [
    "char=[\"a\", \"b\", \"c\"];\n",
    "sumsq(char)"
   ],
   "outputs": [
    {
     "output_type": "error",
     "ename": "LoadError",
     "evalue": "MethodError: no method matching sumsq(::Vector{String})\n\u001b[0mClosest candidates are:\n\u001b[0m  sumsq(\u001b[91m::AbstractArray{var\"#s28\", N} where {var\"#s28\"<:Number, N}\u001b[39m) at In[2]:1",
     "traceback": [
      "MethodError: no method matching sumsq(::Vector{String})\n\u001b[0mClosest candidates are:\n\u001b[0m  sumsq(\u001b[91m::AbstractArray{var\"#s28\", N} where {var\"#s28\"<:Number, N}\u001b[39m) at In[2]:1",
      "",
      "Stacktrace:",
      " [1] top-level scope",
      "   @ In[3]:2",
      " [2] eval",
      "   @ ./boot.jl:360 [inlined]",
      " [3] include_string(mapexpr::typeof(REPL.softscope), mod::Module, code::String, filename::String)",
      "   @ Base ./loading.jl:1116"
     ]
    }
   ],
   "metadata": {}
  },
  {
   "cell_type": "code",
   "execution_count": 2,
   "source": [
    "function matprod(A::AbstractArray{<:Number}, B::AbstractArray{<:Number})\n",
    "    m,n = size(A); p,q = size(B)\n",
    "    n == p || error(\"Input error : Incompatible dimensions\")\n",
    "    A*B\n",
    "end\n",
    "A=rand(5,3)\n",
    "B=rand(3,2)\n",
    "matprod(A,B)"
   ],
   "outputs": [
    {
     "output_type": "execute_result",
     "data": {
      "text/plain": [
       "5×2 Matrix{Float64}:\n",
       " 0.911552  1.39091\n",
       " 0.28008   0.503826\n",
       " 0.730772  0.977696\n",
       " 1.24585   1.66537\n",
       " 1.18484   1.49138"
      ]
     },
     "metadata": {},
     "execution_count": 2
    }
   ],
   "metadata": {}
  },
  {
   "cell_type": "code",
   "execution_count": 98,
   "source": [
    "C=rand(2,2)\n",
    "matprod(A,C)"
   ],
   "outputs": [
    {
     "output_type": "error",
     "ename": "LoadError",
     "evalue": "Input error : Incompatible dimensions",
     "traceback": [
      "Input error : Incompatible dimensions",
      "",
      "Stacktrace:",
      " [1] error(s::String)",
      "   @ Base ./error.jl:33",
      " [2] matprod(A::Matrix{Float64}, B::Matrix{Float64})",
      "   @ Main ./In[97]:3",
      " [3] top-level scope",
      "   @ In[98]:2",
      " [4] eval",
      "   @ ./boot.jl:360 [inlined]",
      " [5] include_string(mapexpr::typeof(REPL.softscope), mod::Module, code::String, filename::String)",
      "   @ Base ./loading.jl:1116"
     ]
    }
   ],
   "metadata": {}
  },
  {
   "cell_type": "code",
   "execution_count": 5,
   "source": [
    "logit(p::Real) = 0 < p < 1 ? log(p/(1-p)) : \n",
    "error(\"input of logit function should be p in (0,1)\")\n",
    "logit(3) "
   ],
   "outputs": [
    {
     "output_type": "error",
     "ename": "LoadError",
     "evalue": "input of logit function should be p in (0,1)",
     "traceback": [
      "input of logit function should be p in (0,1)",
      "",
      "Stacktrace:",
      " [1] error(s::String)",
      "   @ Base ./error.jl:33",
      " [2] logit(p::Int64)",
      "   @ Main ./In[5]:1",
      " [3] top-level scope",
      "   @ In[5]:3",
      " [4] eval",
      "   @ ./boot.jl:360 [inlined]",
      " [5] include_string(mapexpr::typeof(REPL.softscope), mod::Module, code::String, filename::String)",
      "   @ Base ./loading.jl:1116"
     ]
    }
   ],
   "metadata": {}
  },
  {
   "cell_type": "code",
   "execution_count": 6,
   "source": [
    "logit(0.5)"
   ],
   "outputs": [
    {
     "output_type": "execute_result",
     "data": {
      "text/plain": [
       "0.0"
      ]
     },
     "metadata": {},
     "execution_count": 6
    }
   ],
   "metadata": {}
  },
  {
   "cell_type": "code",
   "execution_count": 8,
   "source": [
    "logit(V::AbstractArray{<:Real})=[logit(v) for v in V]\n",
    "a=collect(LinRange(0.1, 0.9, 9));\n",
    "logit(a)"
   ],
   "outputs": [
    {
     "output_type": "execute_result",
     "data": {
      "text/plain": [
       "9-element Vector{Float64}:\n",
       " -2.197224577336219\n",
       " -1.3862943611198906\n",
       " -0.8472978603872034\n",
       " -0.4054651081081643\n",
       "  0.0\n",
       "  0.4054651081081642\n",
       "  0.8472978603872039\n",
       "  1.3862943611198901\n",
       "  2.1972245773362196"
      ]
     },
     "metadata": {},
     "execution_count": 8
    }
   ],
   "metadata": {}
  },
  {
   "cell_type": "code",
   "execution_count": 82,
   "source": [
    "function backfit(X::Matrix, y::Vector; h::Float64=0.5, nIter::Int64=20)\n",
    "    n,p=size(X)\n",
    "    length(y)==n || error(\"Dimension mismatch between input X and y\")\n",
    "    e0=randn(n)\n",
    "    lambda=p*(1-h)/h\n",
    "    SSx=sum(X.^2, dims=1)\n",
    "    beta=zeros(p)\n",
    "    e=copy(e0)\n",
    "    for i in 1:nIter\n",
    "        for j in 1:p\n",
    "            yStar=e+X[:,j]*beta[j]\n",
    "            beta[j]=X[:,j]'yStar/(SSx[j]+lambda)\n",
    "            e=yStar-X[:,j]*beta[j]\n",
    "        end\n",
    "    end\n",
    "    return beta\n",
    "end\n",
    "\n",
    "n=3; p=5;\n",
    "\n",
    "beta_true = collect(1:(p+1))\n",
    "X= [ones(n) randn(n,p)]\n",
    "y= randn(n)+X*beta_true\n",
    "b=backfit(X, y, nIter=10000)\n",
    "# Thanks to semicolon in the definition of `backfit` for the keywords, we can use keyword argument \"nIter=1000\""
   ],
   "outputs": [
    {
     "output_type": "execute_result",
     "data": {
      "text/plain": [
       "6-element Vector{Float64}:\n",
       " -0.004913072700790791\n",
       "  0.012151449630744384\n",
       " -0.013475443447653316\n",
       "  0.004402028709594102\n",
       "  0.0021824485724188957\n",
       " -0.009715607626059115"
      ]
     },
     "metadata": {},
     "execution_count": 82
    }
   ],
   "metadata": {}
  },
  {
   "cell_type": "markdown",
   "source": [
    "## Type system\n",
    "\n",
    "* Every variable in Julia has a type.\n",
    "\n",
    "* R이나 Python과 달리 variable의 type이 반드시 정해져야 하고, 안 정해지면 any라는 type으로 설정된다.\n",
    "\n",
    "* When thinking about types, think about sets.\n",
    "\n",
    "* Everything is a subtype of the abstract type `Any`.\n",
    "\n",
    "* An abstract type defines a set of types\n",
    "    - Consider types in Julia that are a `Number`:\n",
    "<img src=\"./images/Julia-number-type-hierarchy.svg\" width=\"800\" align=\"center\"/>\n",
    "    - source: https://en.wikibooks.org/wiki/Introducing_Julia/Types\n",
    "\n",
    "Int16 또는 Float64의 숫자는 precision에 대한 것임.\n",
    "\n",
    "* We can explore type hierarchy with `typeof()`, `supertype()`, and `subtypes()`."
   ],
   "metadata": {}
  },
  {
   "cell_type": "code",
   "execution_count": 83,
   "source": [
    "typeof(1.0), typeof(1)"
   ],
   "outputs": [
    {
     "output_type": "execute_result",
     "data": {
      "text/plain": [
       "(Float64, Int64)"
      ]
     },
     "metadata": {},
     "execution_count": 83
    }
   ],
   "metadata": {}
  },
  {
   "cell_type": "code",
   "execution_count": 84,
   "source": [
    "supertype(Float64)"
   ],
   "outputs": [
    {
     "output_type": "execute_result",
     "data": {
      "text/plain": [
       "AbstractFloat"
      ]
     },
     "metadata": {},
     "execution_count": 84
    }
   ],
   "metadata": {}
  },
  {
   "cell_type": "code",
   "execution_count": 85,
   "source": [
    "subtypes(AbstractFloat)"
   ],
   "outputs": [
    {
     "output_type": "execute_result",
     "data": {
      "text/plain": [
       "4-element Vector{Any}:\n",
       " BigFloat\n",
       " Float16\n",
       " Float32\n",
       " Float64"
      ]
     },
     "metadata": {},
     "execution_count": 85
    }
   ],
   "metadata": {}
  },
  {
   "cell_type": "code",
   "execution_count": 91,
   "source": [
    "# Is Float64 a subtype of AbstractFloat?\n",
    "Float64 <: AbstractFloat"
   ],
   "outputs": [
    {
     "output_type": "execute_result",
     "data": {
      "text/plain": [
       "true"
      ]
     },
     "metadata": {},
     "execution_count": 91
    }
   ],
   "metadata": {}
  },
  {
   "cell_type": "code",
   "execution_count": 92,
   "source": [
    "# On 64bit machine, Int == Int64\n",
    "Int == Int64"
   ],
   "outputs": [
    {
     "output_type": "execute_result",
     "data": {
      "text/plain": [
       "true"
      ]
     },
     "metadata": {},
     "execution_count": 92
    }
   ],
   "metadata": {}
  },
  {
   "cell_type": "code",
   "execution_count": 93,
   "source": [
    "# convert to Float64\n",
    "convert(Float64, 1)"
   ],
   "outputs": [
    {
     "output_type": "execute_result",
     "data": {
      "text/plain": [
       "1.0"
      ]
     },
     "metadata": {},
     "execution_count": 93
    }
   ],
   "metadata": {}
  },
  {
   "cell_type": "code",
   "execution_count": 94,
   "source": [
    "# same as\n",
    "Float64(1)"
   ],
   "outputs": [
    {
     "output_type": "execute_result",
     "data": {
      "text/plain": [
       "1.0"
      ]
     },
     "metadata": {},
     "execution_count": 94
    }
   ],
   "metadata": {}
  },
  {
   "cell_type": "code",
   "execution_count": 95,
   "source": [
    "# Float32 vector\n",
    "x = randn(Float32, 5)"
   ],
   "outputs": [
    {
     "output_type": "execute_result",
     "data": {
      "text/plain": [
       "5-element Vector{Float32}:\n",
       " -0.84469885\n",
       "  0.45394865\n",
       "  0.17271501\n",
       " -1.5224358\n",
       "  1.3761741"
      ]
     },
     "metadata": {},
     "execution_count": 95
    }
   ],
   "metadata": {}
  },
  {
   "cell_type": "code",
   "execution_count": 96,
   "source": [
    "# convert to Float64\n",
    "convert(Array{Float64}, x)"
   ],
   "outputs": [
    {
     "output_type": "execute_result",
     "data": {
      "text/plain": [
       "5-element Vector{Float64}:\n",
       " -0.8446988463401794\n",
       "  0.45394864678382874\n",
       "  0.17271500825881958\n",
       " -1.5224357843399048\n",
       "  1.3761740922927856"
      ]
     },
     "metadata": {},
     "execution_count": 96
    }
   ],
   "metadata": {}
  },
  {
   "cell_type": "code",
   "execution_count": 97,
   "source": [
    "# same as\n",
    "Float64.(x)"
   ],
   "outputs": [
    {
     "output_type": "execute_result",
     "data": {
      "text/plain": [
       "5-element Vector{Float64}:\n",
       " -0.8446988463401794\n",
       "  0.45394864678382874\n",
       "  0.17271500825881958\n",
       " -1.5224357843399048\n",
       "  1.3761740922927856"
      ]
     },
     "metadata": {},
     "execution_count": 97
    }
   ],
   "metadata": {}
  },
  {
   "cell_type": "code",
   "execution_count": 98,
   "source": [
    "# convert Float64 to Int64\n",
    "convert(Int, 1.0)"
   ],
   "outputs": [
    {
     "output_type": "execute_result",
     "data": {
      "text/plain": [
       "1"
      ]
     },
     "metadata": {},
     "execution_count": 98
    }
   ],
   "metadata": {}
  },
  {
   "cell_type": "code",
   "execution_count": 99,
   "source": [
    "convert(Int, 1.5) # should use round(1.5)"
   ],
   "outputs": [
    {
     "output_type": "error",
     "ename": "LoadError",
     "evalue": "InexactError: Int64(1.5)",
     "traceback": [
      "InexactError: Int64(1.5)",
      "",
      "Stacktrace:",
      " [1] Int64",
      "   @ ./float.jl:723 [inlined]",
      " [2] convert(#unused#::Type{Int64}, x::Float64)",
      "   @ Base ./number.jl:7",
      " [3] top-level scope",
      "   @ In[99]:1",
      " [4] eval",
      "   @ ./boot.jl:360 [inlined]",
      " [5] include_string(mapexpr::typeof(REPL.softscope), mod::Module, code::String, filename::String)",
      "   @ Base ./loading.jl:1116"
     ]
    }
   ],
   "metadata": {}
  },
  {
   "cell_type": "code",
   "execution_count": 100,
   "source": [
    "round(Int, 1.5)"
   ],
   "outputs": [
    {
     "output_type": "execute_result",
     "data": {
      "text/plain": [
       "2"
      ]
     },
     "metadata": {},
     "execution_count": 100
    }
   ],
   "metadata": {}
  },
  {
   "cell_type": "markdown",
   "source": [
    "## Multiple dispatch\n",
    "\n",
    "* [Multiple dispatch](https://en.wikipedia.org/wiki/Multiple_dispatch) is a feature of some programming languages in which a function or method can be dynamically dispatched based on the run time (dynamic) type or, in the more general case, some other attribute of more than one of its arguments.\n",
    "\n",
    "* Multiple dispatch lies in the core of Julia design. It allows built-in and user-defined functions to be overloaded for different combinations of argument types.\n",
    "\n",
    "* In Juila, methods belong to functions, called **generic functions**.\n",
    "\n",
    "* Let's consider a simple \"doubling\" function:"
   ],
   "metadata": {}
  },
  {
   "cell_type": "code",
   "execution_count": 128,
   "source": [
    "g(x) = x + x\n",
    "# R에서도 함수 작성 시 input argument의 type을 규정할 필요 없었음. 적절한 type의 input이 들어오지 않으면 이상한 결과가 나올 뿐임."
   ],
   "outputs": [
    {
     "output_type": "execute_result",
     "data": {
      "text/plain": [
       "g (generic function with 3 methods)"
      ]
     },
     "metadata": {},
     "execution_count": 128
    }
   ],
   "metadata": {}
  },
  {
   "cell_type": "code",
   "execution_count": 104,
   "source": [
    "g(1.5)"
   ],
   "outputs": [
    {
     "output_type": "execute_result",
     "data": {
      "text/plain": [
       "3.0"
      ]
     },
     "metadata": {},
     "execution_count": 104
    }
   ],
   "metadata": {}
  },
  {
   "cell_type": "markdown",
   "source": [
    "This definition is too broad, since some things, e.g., strings, can't be added "
   ],
   "metadata": {}
  },
  {
   "cell_type": "code",
   "execution_count": 129,
   "source": [
    "g(\"hello world\")"
   ],
   "outputs": [
    {
     "output_type": "error",
     "ename": "LoadError",
     "evalue": "MethodError: no method matching +(::String, ::String)\n\u001b[0mClosest candidates are:\n\u001b[0m  +(::Any, ::Any, \u001b[91m::Any\u001b[39m, \u001b[91m::Any...\u001b[39m) at operators.jl:560",
     "traceback": [
      "MethodError: no method matching +(::String, ::String)\n\u001b[0mClosest candidates are:\n\u001b[0m  +(::Any, ::Any, \u001b[91m::Any\u001b[39m, \u001b[91m::Any...\u001b[39m) at operators.jl:560",
      "",
      "Stacktrace:",
      " [1] g(x::String)",
      "   @ Main ./In[128]:1",
      " [2] top-level scope",
      "   @ In[129]:1",
      " [3] eval",
      "   @ ./boot.jl:360 [inlined]",
      " [4] include_string(mapexpr::typeof(REPL.softscope), mod::Module, code::String, filename::String)",
      "   @ Base ./loading.jl:1116"
     ]
    }
   ],
   "metadata": {}
  },
  {
   "cell_type": "markdown",
   "source": [
    "* This definition is correct but too restrictive, since any `Number` can be added."
   ],
   "metadata": {}
  },
  {
   "cell_type": "code",
   "execution_count": 130,
   "source": [
    "g(x::Float64) = x + x\n",
    "# Now function g has 2 methods. \"function and method are different notion\""
   ],
   "outputs": [
    {
     "output_type": "execute_result",
     "data": {
      "text/plain": [
       "g (generic function with 3 methods)"
      ]
     },
     "metadata": {},
     "execution_count": 130
    }
   ],
   "metadata": {}
  },
  {
   "cell_type": "markdown",
   "source": [
    "* This definition will automatically work on the entire type tree above!"
   ],
   "metadata": {}
  },
  {
   "cell_type": "code",
   "execution_count": 131,
   "source": [
    "g(x::Number) = x + x"
   ],
   "outputs": [
    {
     "output_type": "execute_result",
     "data": {
      "text/plain": [
       "g (generic function with 3 methods)"
      ]
     },
     "metadata": {},
     "execution_count": 131
    }
   ],
   "metadata": {}
  },
  {
   "cell_type": "markdown",
   "source": [
    "This is a lot nicer than \n",
    "```julia\n",
    "function g(x)\n",
    "    if isa(x, Number)  # `isa(x, type)` determines whether x is of the given type\n",
    "        return x + x\n",
    "    else\n",
    "        throw(ArgumentError(\"x should be a number\"))\n",
    "    end\n",
    "end\n",
    "```"
   ],
   "metadata": {}
  },
  {
   "cell_type": "markdown",
   "source": [
    "* `methods(func)` function display all methods defined for `func`."
   ],
   "metadata": {}
  },
  {
   "cell_type": "code",
   "execution_count": 110,
   "source": [
    "methods(g)"
   ],
   "outputs": [
    {
     "output_type": "execute_result",
     "data": {
      "text/html": [
       "# 3 methods for generic function <b>g</b>:<ul><li> g(x::<b>Float64</b>) in Main at In[106]:1</li> <li> g(x::<b>Number</b>) in Main at In[108]:1</li> <li> g(x) in Main at In[103]:1</li> </ul>"
      ],
      "text/plain": [
       "# 3 methods for generic function \"g\":\n",
       "[1] g(x::Float64) in Main at In[106]:1\n",
       "[2] g(x::Number) in Main at In[108]:1\n",
       "[3] g(x) in Main at In[103]:1"
      ]
     },
     "metadata": {},
     "execution_count": 110
    }
   ],
   "metadata": {}
  },
  {
   "cell_type": "markdown",
   "source": [
    "* When calling a function with multiple definitions, Julia will search from the *narrowest* signature to the broadest signature.\n",
    "\n",
    "* `@which func(x)` marco tells which method is being used for argument signature `x`."
   ],
   "metadata": {}
  },
  {
   "cell_type": "code",
   "execution_count": 113,
   "source": [
    "# an Int64 input\n",
    "@which g(1)"
   ],
   "outputs": [
    {
     "output_type": "execute_result",
     "data": {
      "text/html": [
       "g(x::<b>Number</b>) in Main at In[108]:1"
      ],
      "text/plain": [
       "g(x::Number) in Main at In[108]:1"
      ]
     },
     "metadata": {},
     "execution_count": 113
    }
   ],
   "metadata": {}
  },
  {
   "cell_type": "code",
   "execution_count": 114,
   "source": [
    "@which g(1.0)"
   ],
   "outputs": [
    {
     "output_type": "execute_result",
     "data": {
      "text/html": [
       "g(x::<b>Float64</b>) in Main at In[106]:1"
      ],
      "text/plain": [
       "g(x::Float64) in Main at In[106]:1"
      ]
     },
     "metadata": {},
     "execution_count": 114
    }
   ],
   "metadata": {}
  },
  {
   "cell_type": "code",
   "execution_count": 80,
   "source": [
    "# a Vector{Float64} input\n",
    "@which g(randn(5))"
   ],
   "outputs": [
    {
     "output_type": "execute_result",
     "data": {
      "text/html": [
       "g(x) in Main at In[72]:1"
      ],
      "text/plain": [
       "g(x) in Main at In[72]:1"
      ]
     },
     "metadata": {},
     "execution_count": 80
    }
   ],
   "metadata": {}
  },
  {
   "cell_type": "markdown",
   "source": [
    "* R also makes use of generic functions and multiple dispatch (see http://adv-r.had.co.nz/OO-essentials.html#s3), but it is not fully optimized."
   ],
   "metadata": {}
  },
  {
   "cell_type": "markdown",
   "source": [
    "## Just-in-time compilation (JIT)\n",
    "\n",
    "| <img src=\"./images/julia_toolchain.png\" alt=\"Julia toolchain\" style=\"width: 400px;\"/> | <img src=\"./images/julia_introspect.png\" alt=\"Julia toolchain\" style=\"width: 500px;\"/> |\n",
    "|----------------------------------|------------------------------------|\n",
    "|||\n",
    "\n",
    "Source: [Introduction to Writing High Performance Julia](https://youtu.be/szE4txAD8mk) by Arch D. Robinson\n",
    "\n",
    "* `Julia`'s efficiency results from its capability to infer the types of **all** variables within a function and then call LLVM (compiler) to generate optimized machine code at run-time. \n",
    "\n",
    "Consider the `g` (doubling) function defined earlier. This function will work on **any** type which has a method for `+`."
   ],
   "metadata": {}
  },
  {
   "cell_type": "code",
   "execution_count": 132,
   "source": [
    "g(2), g(2.0)\n",
    "# 두 개의 method 모두 이미 compile 된 상태"
   ],
   "outputs": [
    {
     "output_type": "execute_result",
     "data": {
      "text/plain": [
       "(4, 4.0)"
      ]
     },
     "metadata": {},
     "execution_count": 132
    }
   ],
   "metadata": {}
  },
  {
   "cell_type": "markdown",
   "source": [
    "**Step 1**: Parse Julia code into [abstract syntax tree (AST)](https://en.wikipedia.org/wiki/Abstract_syntax_tree)."
   ],
   "metadata": {}
  },
  {
   "cell_type": "code",
   "execution_count": 133,
   "source": [
    "@code_lowered g(2)\n",
    "# 문법 요소 별로 분해해서 syntax tree를 만든다.\n",
    "# 두 단계로 코드 분해    1. nominal variable에 x+x를 저장   2. 해당 variable을 return "
   ],
   "outputs": [
    {
     "output_type": "execute_result",
     "data": {
      "text/plain": [
       "CodeInfo(\n",
       "\u001b[90m1 ─\u001b[39m %1 = x + x\n",
       "\u001b[90m└──\u001b[39m      return %1\n",
       ")"
      ]
     },
     "metadata": {},
     "execution_count": 133
    }
   ],
   "metadata": {}
  },
  {
   "cell_type": "markdown",
   "source": [
    "**Step 2**: Type inference according to input type."
   ],
   "metadata": {}
  },
  {
   "cell_type": "code",
   "execution_count": 134,
   "source": [
    "@code_warntype g(2)\n",
    "# infer the type of nominal variable according to input data type"
   ],
   "outputs": [
    {
     "output_type": "stream",
     "name": "stdout",
     "text": [
      "Variables\n",
      "  #self#\u001b[36m::Core.Const(g)\u001b[39m\n",
      "  x\u001b[36m::Int64\u001b[39m\n",
      "\n",
      "Body\u001b[36m::Int64\u001b[39m\n",
      "\u001b[90m1 ─\u001b[39m %1 = (x + x)\u001b[36m::Int64\u001b[39m\n",
      "\u001b[90m└──\u001b[39m      return %1\n"
     ]
    }
   ],
   "metadata": {}
  },
  {
   "cell_type": "code",
   "execution_count": 135,
   "source": [
    "@code_warntype g(2.0)"
   ],
   "outputs": [
    {
     "output_type": "stream",
     "name": "stdout",
     "text": [
      "Variables\n",
      "  #self#\u001b[36m::Core.Const(g)\u001b[39m\n",
      "  x\u001b[36m::Float64\u001b[39m\n",
      "\n",
      "Body\u001b[36m::Float64\u001b[39m\n",
      "\u001b[90m1 ─\u001b[39m %1 = (x + x)\u001b[36m::Float64\u001b[39m\n",
      "\u001b[90m└──\u001b[39m      return %1\n"
     ]
    }
   ],
   "metadata": {}
  },
  {
   "cell_type": "markdown",
   "source": [
    "**Step 3**: Compile into **LLVM bytecode** (equivalent of R bytecode generated by the compiler package)."
   ],
   "metadata": {}
  },
  {
   "cell_type": "code",
   "execution_count": 124,
   "source": [
    "@code_llvm g(2)\n",
    "# `i64` refers to int64\n",
    "# `shl` refers to shiftleft\n",
    "# 이진법에서 1000->10000 되는 것이 십진법에서는 두 배와 동일."
   ],
   "outputs": [
    {
     "output_type": "stream",
     "name": "stdout",
     "text": [
      "\u001b[90m;  @ In[108]:1 within `g'\u001b[39m\n",
      "\u001b[95mdefine\u001b[39m \u001b[36mi64\u001b[39m \u001b[93m@julia_g_4804\u001b[39m\u001b[33m(\u001b[39m\u001b[36mi64\u001b[39m \u001b[95msignext\u001b[39m \u001b[0m%0\u001b[33m)\u001b[39m \u001b[33m{\u001b[39m\n",
      "\u001b[91mtop:\u001b[39m\n",
      "\u001b[90m; ┌ @ int.jl:87 within `+'\u001b[39m\n",
      "   \u001b[0m%1 \u001b[0m= \u001b[96m\u001b[1mshl\u001b[22m\u001b[39m \u001b[36mi64\u001b[39m \u001b[0m%0\u001b[0m, \u001b[33m1\u001b[39m\n",
      "\u001b[90m; └\u001b[39m\n",
      "  \u001b[96m\u001b[1mret\u001b[22m\u001b[39m \u001b[36mi64\u001b[39m \u001b[0m%1\n",
      "\u001b[33m}\u001b[39m\n"
     ]
    }
   ],
   "metadata": {}
  },
  {
   "cell_type": "code",
   "execution_count": 123,
   "source": [
    "@code_llvm g(2.0)\n",
    "# `fadd` refers to float adding"
   ],
   "outputs": [
    {
     "output_type": "stream",
     "name": "stdout",
     "text": [
      "\u001b[90m;  @ In[106]:1 within `g'\u001b[39m\n",
      "\u001b[95mdefine\u001b[39m \u001b[36mdouble\u001b[39m \u001b[93m@julia_g_4802\u001b[39m\u001b[33m(\u001b[39m\u001b[36mdouble\u001b[39m \u001b[0m%0\u001b[33m)\u001b[39m \u001b[33m{\u001b[39m\n",
      "\u001b[91mtop:\u001b[39m\n",
      "\u001b[90m; ┌ @ float.jl:326 within `+'\u001b[39m\n",
      "   \u001b[0m%1 \u001b[0m= \u001b[96m\u001b[1mfadd\u001b[22m\u001b[39m \u001b[36mdouble\u001b[39m \u001b[0m%0\u001b[0m, \u001b[0m%0\n",
      "\u001b[90m; └\u001b[39m\n",
      "  \u001b[96m\u001b[1mret\u001b[22m\u001b[39m \u001b[36mdouble\u001b[39m \u001b[0m%1\n",
      "\u001b[33m}\u001b[39m\n"
     ]
    }
   ],
   "metadata": {}
  },
  {
   "cell_type": "markdown",
   "source": [
    "We didn't provide a type annotation. But different LLVM code gets generated depending on the argument type!\n",
    "\n",
    "In R or Python, `g(2)` and `g(2.0)` would use the same code for both.\n",
    " \n",
    "In Julia, `g(2)` and `g(2.0)` dispatches to optimized code for `Int64` and `Float64`, respectively.\n",
    "\n",
    "For integer input `x`, LLVM compiler is smart enough to know `x + x` is simple shifting `x` by 1 bit, which is faster than addition.\n",
    " \n",
    "* **Step 4**: Lowest level is the **assembly code**, which is machine dependent.  \n",
    "\n",
    "Note that LLVM code is not dependent on machine\n"
   ],
   "metadata": {}
  },
  {
   "cell_type": "code",
   "execution_count": 126,
   "source": [
    "@code_native g(2)"
   ],
   "outputs": [
    {
     "output_type": "stream",
     "name": "stdout",
     "text": [
      "\t\u001b[0m.section\t\u001b[0m__TEXT\u001b[0m,\u001b[0m__text\u001b[0m,\u001b[0mregular\u001b[0m,\u001b[0mpure_instructions\n",
      "\u001b[90m; ┌ @ In[108]:1 within `g'\u001b[39m\n",
      "\u001b[90m; │┌ @ int.jl:87 within `+'\u001b[39m\n",
      "\t\u001b[96m\u001b[1mleaq\u001b[22m\u001b[39m\t\u001b[33m(\u001b[39m\u001b[0m%rdi\u001b[0m,\u001b[0m%rdi\u001b[33m)\u001b[39m\u001b[0m, \u001b[0m%rax\n",
      "\u001b[90m; │└\u001b[39m\n",
      "\t\u001b[96m\u001b[1mretq\u001b[22m\u001b[39m\n",
      "\t\u001b[96m\u001b[1mnopw\u001b[22m\u001b[39m\t\u001b[0m%cs\u001b[0m:\u001b[33m(\u001b[39m\u001b[0m%rax\u001b[0m,\u001b[0m%rax\u001b[33m)\u001b[39m\n",
      "\u001b[90m; └\u001b[39m\n"
     ]
    }
   ],
   "metadata": {}
  },
  {
   "cell_type": "markdown",
   "source": [
    "1st instruction adds the content of the general purpose 64-bit register (a small memory inside the CPU) RDI to itself, and load the result into another register RAX. The addition here is the integer arithmetic."
   ],
   "metadata": {}
  },
  {
   "cell_type": "code",
   "execution_count": 127,
   "source": [
    "@code_native g(2.0)"
   ],
   "outputs": [
    {
     "output_type": "stream",
     "name": "stdout",
     "text": [
      "\t\u001b[0m.section\t\u001b[0m__TEXT\u001b[0m,\u001b[0m__text\u001b[0m,\u001b[0mregular\u001b[0m,\u001b[0mpure_instructions\n",
      "\u001b[90m; ┌ @ In[106]:1 within `g'\u001b[39m\n",
      "\u001b[90m; │┌ @ float.jl:326 within `+'\u001b[39m\n",
      "\t\u001b[96m\u001b[1mvaddsd\u001b[22m\u001b[39m\t\u001b[0m%xmm0\u001b[0m, \u001b[0m%xmm0\u001b[0m, \u001b[0m%xmm0\n",
      "\u001b[90m; │└\u001b[39m\n",
      "\t\u001b[96m\u001b[1mretq\u001b[22m\u001b[39m\n",
      "\t\u001b[96m\u001b[1mnopw\u001b[22m\u001b[39m\t\u001b[0m%cs\u001b[0m:\u001b[33m(\u001b[39m\u001b[0m%rax\u001b[0m,\u001b[0m%rax\u001b[33m)\u001b[39m\n",
      "\u001b[90m; └\u001b[39m\n"
     ]
    }
   ],
   "metadata": {}
  },
  {
   "cell_type": "markdown",
   "source": [
    "1st instruction adds the content of the 128-bit register XMM0 to itself, and overwrites the result into XMM0. The addition here is the floating point arithmetic and a \"single instruction, multiple data\" (SIMD) instruction."
   ],
   "metadata": {}
  },
  {
   "cell_type": "markdown",
   "source": [
    "## Acknowledgment\n",
    "\n",
    "This lecture note has evolved from [Dr. Hua Zhou](http://hua-zhou.github.io)'s 2019 Winter Statistical Computing course notes available at <http://hua-zhou.github.io/teaching/biostatm280-2019spring/index.html>."
   ],
   "metadata": {}
  }
 ],
 "metadata": {
  "kernelspec": {
   "display_name": "Julia 1.6.2",
   "language": "julia",
   "name": "julia-1.6"
  },
  "language_info": {
   "file_extension": ".jl",
   "mimetype": "application/julia",
   "name": "julia",
   "version": "1.6.2"
  },
  "toc": {
   "colors": {
    "hover_highlight": "#DAA520",
    "running_highlight": "#FF0000",
    "selected_highlight": "#FFD700"
   },
   "moveMenuLeft": true,
   "nav_menu": {
    "height": "511.7391357421875px",
    "width": "251.7391357421875px"
   },
   "navigate_menu": true,
   "number_sections": true,
   "sideBar": true,
   "skip_h1_title": true,
   "threshold": 4,
   "toc_cell": true,
   "toc_position": {
    "height": "640.4212036132812px",
    "left": "0px",
    "right": "1210.6114501953125px",
    "top": "109.57880401611328px",
    "width": "211.99728393554688px"
   },
   "toc_section_display": "block",
   "toc_window_display": true,
   "widenNotebook": false
  }
 },
 "nbformat": 4,
 "nbformat_minor": 4
}