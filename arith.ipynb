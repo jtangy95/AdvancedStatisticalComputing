{
 "cells": [
  {
   "cell_type": "code",
   "execution_count": 1,
   "source": [
    "versioninfo()"
   ],
   "outputs": [
    {
     "output_type": "stream",
     "name": "stdout",
     "text": [
      "Julia Version 1.6.2\n",
      "Commit 1b93d53fc4 (2021-07-14 15:36 UTC)\n",
      "Platform Info:\n",
      "  OS: macOS (x86_64-apple-darwin18.7.0)\n",
      "  CPU: Intel(R) Core(TM) i5-6500 CPU @ 3.20GHz\n",
      "  WORD_SIZE: 64\n",
      "  LIBM: libopenlibm\n",
      "  LLVM: libLLVM-11.0.1 (ORCJIT, skylake)\n"
     ]
    }
   ],
   "metadata": {}
  },
  {
   "cell_type": "code",
   "execution_count": 3,
   "source": [
    "using Pkg\n",
    "Pkg.activate(\"../..\")\n",
    "Pkg.status()\n",
    "# 패키지 설치해야함."
   ],
   "outputs": [
    {
     "output_type": "stream",
     "name": "stdout",
     "text": [
      "\u001b[32m\u001b[1m      Status\u001b[22m\u001b[39m `~/Project.toml` (empty project)\n"
     ]
    },
    {
     "output_type": "stream",
     "name": "stderr",
     "text": [
      "\u001b[32m\u001b[1m  Activating\u001b[22m\u001b[39m new environment at `~/Project.toml`\n"
     ]
    }
   ],
   "metadata": {
    "tags": []
   }
  },
  {
   "cell_type": "markdown",
   "source": [
    "# Computer arithmetics"
   ],
   "metadata": {}
  },
  {
   "cell_type": "markdown",
   "source": [
    "## Units of computer storage\n",
    "\n",
    "Humans use decimal digits (why?) $\\rightarrow$ the number of fingers   \n",
    "Computers use binary digits (why?) $\\rightarrow$ using eletronic switches representing on and off\n",
    "\n",
    "\n",
    "* *Bit* = binary digit (coined by statistician [John Tukey](https://en.wikipedia.org/wiki/Bit#History)).  \n",
    "* *byte* = 8 bits.\n",
    "* KB = kilobyte = $10^3$ bytes; KiB = kibibyte = $2^{10}$ bytes.  \n",
    "'i' stands for integer or information. (과거에는 이렇게 정의했었으나 지금은 10의 power로 재정의함 for bigdata era)\n",
    "* MB = megabyte = $10^6$ bytes; MiB = mebibyte = $2^{20}$ bytes.\n",
    "* GB = gigabyte = $10^9$ bytes. Typical RAM size.  \n",
    "* TB = terabyte = $10^{12}$ bytes. Typical hard drive size. Size of NYSE each trading session.    \n",
    "* PB = petabyte = $10^{15}$ bytes.  \n",
    "* EB = exabyte = $10^{18}$ bytes. Size of all healthcare data in 2011 is ~150 EB.    \n",
    "* ZB = zetabyte = $10^{21}$ bytes. \n",
    "\n",
    "Julia function `Base.summarysize` shows the amount of memory (in bytes) used by an object."
   ],
   "metadata": {}
  },
  {
   "cell_type": "code",
   "execution_count": 1,
   "source": [
    "x = rand(100, 100)\n",
    "Base.summarysize(x)"
   ],
   "outputs": [
    {
     "output_type": "execute_result",
     "data": {
      "text/plain": [
       "80040"
      ]
     },
     "metadata": {},
     "execution_count": 1
    }
   ],
   "metadata": {}
  },
  {
   "cell_type": "markdown",
   "source": [
    "`varinfo()` function prints all variables in workspace and their sizes."
   ],
   "metadata": {}
  },
  {
   "cell_type": "code",
   "execution_count": 2,
   "source": [
    "varinfo() # similar to Matlab whos()"
   ],
   "outputs": [
    {
     "output_type": "execute_result",
     "data": {
      "text/latex": [
       "\\begin{tabular}\n",
       "{l | r | l}\n",
       "name & size & summary \\\\\n",
       "\\hline\n",
       "Base &  & Module \\\\\n",
       "Core &  & Module \\\\\n",
       "Main &  & Module \\\\\n",
       "x & 78.164 KiB & 100×100 Matrix\\{Float64\\} \\\\\n",
       "\\end{tabular}\n"
      ],
      "text/markdown": [
       "| name |       size | summary                 |\n",
       "|:---- | ----------:|:----------------------- |\n",
       "| Base |            | Module                  |\n",
       "| Core |            | Module                  |\n",
       "| Main |            | Module                  |\n",
       "| x    | 78.164 KiB | 100×100 Matrix{Float64} |\n"
      ],
      "text/plain": [
       "  name       size summary                \n",
       "  –––– –––––––––– –––––––––––––––––––––––\n",
       "  Base            Module                 \n",
       "  Core            Module                 \n",
       "  Main            Module                 \n",
       "  x    78.164 KiB 100×100 Matrix{Float64}"
      ]
     },
     "metadata": {},
     "execution_count": 2
    }
   ],
   "metadata": {}
  },
  {
   "cell_type": "markdown",
   "source": [
    "## Storage of Characters\n",
    "\n",
    "* Plain text files are stored in the form of characters: `.jl`, `.r`, `.c`, `.cpp`, `.ipynb`, `.html`, `.tex`, ...  \n",
    "메모장에서도 열리지만 편의상 code editor로 주로 열게 됨.\n",
    "* ASCII (American Code for Information Interchange): 7 bits, only $2^7=128$ characters.  \n",
    "code : 문자를 숫자로 나타내는 약속 또는 mapping. 예를 들면 $a\\mapsto 1, z\\mapsto 26$ "
   ],
   "metadata": {}
  },
  {
   "cell_type": "code",
   "execution_count": 5,
   "source": [
    "# integers 0, 1, ..., 127 and corresponding ascii character\n",
    "[0:127 Char.(0:127)]\n",
    "\n",
    "# backslash `\\` 붙어있는 문자는 제어코드. 예를 들면 '\\t'는 tab, '\\n'은 new line을 나타냄."
   ],
   "outputs": [
    {
     "output_type": "execute_result",
     "data": {
      "text/plain": [
       "128×2 Matrix{Any}:\n",
       "   0  '\\0'\n",
       "   1  '\\x01'\n",
       "   2  '\\x02'\n",
       "   3  '\\x03'\n",
       "   4  '\\x04'\n",
       "   5  '\\x05'\n",
       "   6  '\\x06'\n",
       "   7  '\\a'\n",
       "   8  '\\b'\n",
       "   9  '\\t'\n",
       "  10  '\\n'\n",
       "  11  '\\v'\n",
       "  12  '\\f'\n",
       "   ⋮  \n",
       " 116  't'\n",
       " 117  'u'\n",
       " 118  'v'\n",
       " 119  'w'\n",
       " 120  'x'\n",
       " 121  'y'\n",
       " 122  'z'\n",
       " 123  '{'\n",
       " 124  '|'\n",
       " 125  '}'\n",
       " 126  '~'\n",
       " 127  '\\x7f'"
      ]
     },
     "metadata": {},
     "execution_count": 5
    }
   ],
   "metadata": {}
  },
  {
   "cell_type": "markdown",
   "source": [
    "* Extended ASCII: 8 bits, $2^8=256$ characters.  "
   ],
   "metadata": {}
  },
  {
   "cell_type": "code",
   "execution_count": 6,
   "source": [
    "# integers 128, 129, ..., 255 and corresponding extended ascii character\n",
    "# 유럽어권에서 사용하기 위해 추가함.\n",
    "# show(STDOUT, \"text/plain\", [128:255 Char.(128:255)])\n",
    "[128:255 Char.(128:255)]"
   ],
   "outputs": [
    {
     "output_type": "execute_result",
     "data": {
      "text/plain": [
       "128×2 Matrix{Any}:\n",
       " 128  '\\u80'\n",
       " 129  '\\u81'\n",
       " 130  '\\u82'\n",
       " 131  '\\u83'\n",
       " 132  '\\u84'\n",
       " 133  '\\u85'\n",
       " 134  '\\u86'\n",
       " 135  '\\u87'\n",
       " 136  '\\u88'\n",
       " 137  '\\u89'\n",
       " 138  '\\u8a'\n",
       " 139  '\\u8b'\n",
       " 140  '\\u8c'\n",
       "   ⋮  \n",
       " 244  'ô'\n",
       " 245  'õ'\n",
       " 246  'ö'\n",
       " 247  '÷'\n",
       " 248  'ø'\n",
       " 249  'ù'\n",
       " 250  'ú'\n",
       " 251  'û'\n",
       " 252  'ü'\n",
       " 253  'ý'\n",
       " 254  'þ'\n",
       " 255  'ÿ'"
      ]
     },
     "metadata": {},
     "execution_count": 6
    }
   ],
   "metadata": {}
  },
  {
   "cell_type": "markdown",
   "source": [
    "* Unicode: UTF-8, UTF-16 and UTF-32 support many more characters including foreign characters; last 7 digits conform to ASCII. \n",
    "\n",
    "* [UTF-8](https://en.wikipedia.org/wiki/UTF-8) is the current dominant character encoding on internet.  \n",
    "\n",
    "<img src=\"./images/unicode.png\" width=\"800\" align=\"center\"/>\n",
    "\n",
    "Source: [Google Blog](https://googleblog.blogspot.com/2012/02/unicode-over-60-percent-of-web.html)\n",
    "\n",
    "* Julia supports the full range of UTF-8 characters. You can type many Unicode math symbols by typing the backslashed LaTeX symbol name followed by tab. \n",
    "\n",
    "한글의 경우 초성 중성 종성 조합해서 한 글자를 나타내므로 조합의 개수를 생각하면 매우 많은 조합수가 필요하다. \"ㅈㅜㄹㄹㅣㅇㅏ\" 로 치지 않고 \"줄리아\" 라고 입력하기 때문. 현대 한글은 11172자 필요(출처 : 위키피디아 <한글 음절>). 1바이트로는 턱없이 부족. 한자의 경우 훨씬 심함.\n",
    "이런 문제를 해결하기 위해 ASCII 체제를 대체할 UTF 체제가 등장. 한글 및 한자는 2바이트를 사용. ($2^{16}=65536$)"
   ],
   "metadata": {}
  },
  {
   "cell_type": "code",
   "execution_count": 9,
   "source": [
    "# \\beta-<tab>\n",
    "β = 0.0\n",
    "# \\beta-<tab>-\\hat-<tab>\n",
    "β̂ = 0.0"
   ],
   "outputs": [
    {
     "output_type": "execute_result",
     "data": {
      "text/plain": [
       "0.0"
      ]
     },
     "metadata": {},
     "execution_count": 9
    }
   ],
   "metadata": {}
  },
  {
   "cell_type": "markdown",
   "source": [
    "* For a table of unicode symbols that can be entered via tab completion of LaTeX-like abbreviations: <https://docs.julialang.org/en/v1.1/manual/unicode-input/#Unicode-Input-1>"
   ],
   "metadata": {}
  },
  {
   "cell_type": "markdown",
   "source": [
    "## Integers: fixed-point number system\n",
    "\n",
    "* Fixed-point number system is a computer model for integers $\\mathbb{Z}$. \n",
    "    - **Remember** that computer memory is finite whereas the cardinality of $\\mathbb{Z}$ is (countably) infinite.  \n",
    "    수학에서 정의한 정수 집합을 그대로 컴퓨터에서 나타내는 것은 불가능\n",
    "    - *Any* representation of numbers in computer *has to be* an approximation.\n",
    "\n",
    "* The number $M$ of bits and method of representing negative numbers vary from system to system. \n",
    "    - The `integer` type in R has $M=32$ (packages such as ‘bit64’support 64 bit integers). \n",
    "        + <https://www.r-bloggers.com/r-in-a-64-bit-world/>\n",
    "    - C has (`unsigned`) `char`, `int`, `short`, `long` (and `long long`), whose sizes depend on the machine.\n",
    "    - Matlab has `(u)int8`, `(u)int16`, `(u)int32`, `(u)int64`.  \n",
    "    - 64 bit 컴퓨터는 한 번에 처리할 수 있는 연산이 64비트 짜리 숫자까지 가능.\n",
    "    - \"한번에 처리하는 연산\" 이라는 것은 레지스터 하나가 저장할 수 있는 정보 단위. \n",
    "\n",
    "* Julia has even more integer types: "
   ],
   "metadata": {}
  },
  {
   "cell_type": "code",
   "execution_count": 1,
   "source": [
    "using GraphRecipes, Plots\n",
    "\n",
    "gr(size=(2000, 1600))\n",
    "theme(:default)\n",
    "\n",
    "plot(Integer, method=:tree, fontsize=5)"
   ],
   "outputs": [
    {
     "output_type": "execute_result",
     "data": {
      "image/svg+xml": "<?xml version=\"1.0\" encoding=\"utf-8\"?>\n<svg xmlns=\"http://www.w3.org/2000/svg\" xmlns:xlink=\"http://www.w3.org/1999/xlink\" width=\"600\" height=\"400\" viewBox=\"0 0 2400 1600\">\n<defs>\n  <clipPath id=\"clip700\">\n    <rect x=\"0\" y=\"0\" width=\"2400\" height=\"1600\"/>\n  </clipPath>\n</defs>\n<path clip-path=\"url(#clip700)\" d=\"\nM0 1600 L2400 1600 L2400 0 L0 0  Z\n  \" fill=\"#ffffff\" fill-rule=\"evenodd\" fill-opacity=\"1\"/>\n<defs>\n  <clipPath id=\"clip701\">\n    <rect x=\"480\" y=\"0\" width=\"1681\" height=\"1600\"/>\n  </clipPath>\n</defs>\n<path clip-path=\"url(#clip700)\" d=\"\nM447.244 1552.76 L1952.76 1552.76 L1952.76 47.2441 L447.244 47.2441  Z\n  \" fill=\"#ffffff\" fill-rule=\"evenodd\" fill-opacity=\"1\"/>\n<defs>\n  <clipPath id=\"clip702\">\n    <rect x=\"447\" y=\"47\" width=\"1507\" height=\"1507\"/>\n  </clipPath>\n</defs>\n<polyline clip-path=\"url(#clip702)\" style=\"stroke:#000000; stroke-linecap:butt; stroke-linejoin:round; stroke-width:4; stroke-opacity:1; fill:none\" points=\"\n  1212.04,262.317 1212.05,270.476 1212.06,278.807 1212.09,287.298 1212.12,295.937 1212.16,304.709 1212.21,313.603 1212.26,322.606 1212.32,331.705 1212.39,340.886 \n  1212.46,350.138 1212.53,359.448 1212.6,368.803 1212.68,378.189 1212.75,387.595 1212.83,397.007 1212.91,406.412 1212.98,415.799 1213.06,425.153 1213.13,434.463 \n  1213.2,443.715 1213.26,452.897 1213.32,461.995 1213.37,470.998 1213.42,479.892 1213.46,488.665 1213.49,497.303 1213.52,505.794 1213.53,514.125 1213.54,522.284 \n  \n  \"/>\n<polyline clip-path=\"url(#clip702)\" style=\"stroke:#000000; stroke-linecap:butt; stroke-linejoin:round; stroke-width:4; stroke-opacity:1; fill:none\" points=\"\n  1213.54,522.284 1213.6,528.837 1213.76,535.524 1214.02,542.336 1214.37,549.263 1214.8,556.295 1215.31,563.421 1215.89,570.633 1216.52,577.919 1217.21,585.27 \n  1217.93,592.675 1218.7,600.126 1219.49,607.611 1220.3,615.122 1221.13,622.647 1221.95,630.178 1222.78,637.703 1223.59,645.214 1224.38,652.699 1225.14,660.15 \n  1225.87,667.555 1226.56,674.906 1227.19,682.192 1227.77,689.404 1228.28,696.53 1228.71,703.562 1229.06,710.489 1229.32,717.301 1229.48,723.988 1229.54,730.541 \n  \n  \"/>\n<polyline clip-path=\"url(#clip702)\" style=\"stroke:#000000; stroke-linecap:butt; stroke-linejoin:round; stroke-width:4; stroke-opacity:1; fill:none\" points=\"\n  1229.54,730.541 1229.41,734.742 1229.02,738.996 1228.4,743.299 1227.57,747.648 1226.54,752.037 1225.33,756.463 1223.96,760.923 1222.45,765.412 1220.82,769.926 \n  1219.09,774.462 1217.28,779.016 1215.39,783.583 1213.47,788.161 1211.51,792.744 1209.54,797.329 1207.59,801.912 1205.66,806.489 1203.78,811.056 1201.96,815.61 \n  1200.23,820.146 1198.6,824.66 1197.09,829.149 1195.72,833.609 1194.51,838.035 1193.48,842.425 1192.65,846.773 1192.03,851.076 1191.65,855.33 1191.51,859.531 \n  \n  \"/>\n<polyline clip-path=\"url(#clip702)\" style=\"stroke:#000000; stroke-linecap:butt; stroke-linejoin:round; stroke-width:4; stroke-opacity:1; fill:none\" points=\"\n  1191.51,859.531 1191.54,866.612 1191.63,873.842 1191.77,881.21 1191.95,888.704 1192.18,896.314 1192.45,904.029 1192.75,911.838 1193.09,919.729 1193.45,927.693 \n  1193.84,935.716 1194.24,943.789 1194.66,951.901 1195.09,960.041 1195.53,968.197 1195.96,976.358 1196.4,984.514 1196.83,992.654 1197.25,1000.77 1197.65,1008.84 \n  1198.04,1016.86 1198.4,1024.83 1198.74,1032.72 1199.04,1040.53 1199.31,1048.24 1199.54,1055.85 1199.72,1063.35 1199.86,1070.71 1199.95,1077.94 1199.98,1085.02 \n  \n  \"/>\n<polyline clip-path=\"url(#clip702)\" style=\"stroke:#000000; stroke-linecap:butt; stroke-linejoin:round; stroke-width:4; stroke-opacity:1; fill:none\" points=\"\n  1191.51,859.531 1191.83,868.431 1192.74,877.423 1194.21,886.499 1196.2,895.655 1198.64,904.881 1201.52,914.173 1204.76,923.522 1208.35,932.922 1212.22,942.366 \n  1216.33,951.848 1220.65,961.361 1225.12,970.897 1229.7,980.451 1234.35,990.014 1239.02,999.581 1243.67,1009.14 1248.25,1018.7 1252.72,1028.23 1257.04,1037.75 \n  1261.15,1047.23 1265.03,1056.67 1268.61,1066.07 1271.86,1075.42 1274.73,1084.71 1277.18,1093.94 1279.16,1103.1 1280.63,1112.17 1281.54,1121.16 1281.86,1130.06 \n  \n  \"/>\n<polyline clip-path=\"url(#clip702)\" style=\"stroke:#000000; stroke-linecap:butt; stroke-linejoin:round; stroke-width:4; stroke-opacity:1; fill:none\" points=\"\n  1191.51,859.531 1191.13,865.755 1190,871.892 1188.19,877.949 1185.75,883.931 1182.74,889.845 1179.21,895.698 1175.21,901.496 1170.8,907.245 1166.04,912.953 \n  1160.98,918.625 1155.67,924.268 1150.17,929.888 1144.53,935.492 1138.81,941.087 1133.06,946.678 1127.34,952.273 1121.7,957.877 1116.2,963.497 1110.89,969.14 \n  1105.83,974.812 1101.06,980.52 1096.66,986.269 1092.66,992.067 1089.13,997.92 1086.11,1003.83 1083.68,1009.82 1081.87,1015.87 1080.74,1022.01 1080.35,1028.23 \n  \n  \"/>\n<polyline clip-path=\"url(#clip702)\" style=\"stroke:#000000; stroke-linecap:butt; stroke-linejoin:round; stroke-width:4; stroke-opacity:1; fill:none\" points=\"\n  1191.51,859.531 1190.53,869.462 1187.67,878.733 1183.07,887.393 1176.87,895.491 1169.22,903.075 1160.24,910.196 1150.08,916.901 1138.88,923.239 1126.78,929.259 \n  1113.91,935.011 1100.42,940.543 1086.44,945.903 1072.11,951.141 1057.58,956.307 1042.97,961.447 1028.43,966.612 1014.11,971.851 1000.13,977.211 986.633,982.743 \n  973.765,988.494 961.661,994.515 950.461,1000.85 940.303,1007.56 931.327,1014.68 923.671,1022.26 917.475,1030.36 912.876,1039.02 910.016,1048.29 909.031,1058.22 \n  \n  \"/>\n<polyline clip-path=\"url(#clip702)\" style=\"stroke:#000000; stroke-linecap:butt; stroke-linejoin:round; stroke-width:4; stroke-opacity:1; fill:none\" points=\"\n  909.031,1058.22 908.672,1065.75 907.628,1073.29 905.951,1080.83 903.69,1088.38 900.898,1095.94 897.623,1103.5 893.918,1111.07 889.832,1118.64 885.417,1126.22 \n  880.723,1133.8 875.8,1141.38 870.701,1148.97 865.474,1156.55 860.171,1164.14 854.844,1171.73 849.541,1179.32 844.314,1186.9 839.215,1194.49 834.292,1202.07 \n  829.598,1209.65 825.183,1217.23 821.097,1224.8 817.392,1232.37 814.117,1239.93 811.324,1247.49 809.064,1255.04 807.387,1262.58 806.343,1270.12 805.984,1277.65 \n  \n  \"/>\n<polyline clip-path=\"url(#clip702)\" style=\"stroke:#000000; stroke-linecap:butt; stroke-linejoin:round; stroke-width:4; stroke-opacity:1; fill:none\" points=\"\n  909.031,1058.22 909.475,1065.87 910.764,1073.45 912.837,1080.97 915.63,1088.43 919.081,1095.83 923.127,1103.18 927.705,1110.49 932.754,1117.76 938.209,1125 \n  944.009,1132.21 950.091,1139.4 956.393,1146.56 962.851,1153.72 969.403,1160.87 975.986,1168.01 982.538,1175.16 988.996,1182.31 995.297,1189.48 1001.38,1196.67 \n  1007.18,1203.88 1012.63,1211.12 1017.68,1218.39 1022.26,1225.7 1026.31,1233.05 1029.76,1240.45 1032.55,1247.91 1034.62,1255.43 1035.91,1263.01 1036.36,1270.66 \n  \n  \"/>\n<polyline clip-path=\"url(#clip702)\" style=\"stroke:#000000; stroke-linecap:butt; stroke-linejoin:round; stroke-width:4; stroke-opacity:1; fill:none\" points=\"\n  909.031,1058.22 908.929,1067.04 908.631,1076.03 908.153,1085.18 907.509,1094.48 906.712,1103.92 905.779,1113.49 904.723,1123.16 903.558,1132.94 902.299,1142.8 \n  900.961,1152.73 899.558,1162.72 898.104,1172.75 896.614,1182.82 895.102,1192.91 893.583,1203 892.072,1213.09 890.582,1223.15 889.128,1233.19 887.725,1243.18 \n  886.386,1253.11 885.128,1262.97 883.963,1272.74 882.906,1282.42 881.973,1291.98 881.177,1301.42 880.532,1310.73 880.054,1319.88 879.757,1328.87 879.654,1337.68 \n  \n  \"/>\n<polyline clip-path=\"url(#clip702)\" style=\"stroke:#000000; stroke-linecap:butt; stroke-linejoin:round; stroke-width:4; stroke-opacity:1; fill:none\" points=\"\n  909.031,1058.22 908.404,1067.04 906.582,1075.64 903.653,1084.02 899.705,1092.21 894.828,1100.22 889.111,1108.07 882.64,1115.77 875.506,1123.35 867.796,1130.83 \n  859.599,1138.2 851.003,1145.51 842.098,1152.75 832.972,1159.95 823.712,1167.12 814.409,1174.29 805.149,1181.47 796.023,1188.67 787.118,1195.91 778.522,1203.21 \n  770.325,1210.59 762.615,1218.06 755.481,1225.64 749.01,1233.35 743.292,1241.2 738.416,1249.21 734.468,1257.4 731.539,1265.78 729.717,1274.37 729.09,1283.19 \n  \n  \"/>\n<polyline clip-path=\"url(#clip702)\" style=\"stroke:#000000; stroke-linecap:butt; stroke-linejoin:round; stroke-width:4; stroke-opacity:1; fill:none\" points=\"\n  909.031,1058.22 908.171,1068.3 905.673,1077.87 901.657,1086.97 896.245,1095.65 889.558,1103.93 881.718,1111.86 872.847,1119.47 863.065,1126.8 852.494,1133.88 \n  841.255,1140.77 829.47,1147.48 817.261,1154.06 804.747,1160.55 792.052,1166.98 779.296,1173.4 766.601,1179.83 754.088,1186.32 741.878,1192.9 730.093,1199.61 \n  718.854,1206.5 708.283,1213.58 698.501,1220.91 689.63,1228.52 681.79,1236.45 675.104,1244.73 669.692,1253.41 665.676,1262.51 663.177,1272.08 662.317,1282.16 \n  \n  \"/>\n<polyline clip-path=\"url(#clip702)\" style=\"stroke:#000000; stroke-linecap:butt; stroke-linejoin:round; stroke-width:4; stroke-opacity:1; fill:none\" points=\"\n  909.031,1058.22 909.305,1067.16 910.101,1076.21 911.38,1085.37 913.104,1094.63 915.234,1103.98 917.732,1113.41 920.558,1122.92 923.674,1132.49 927.042,1142.12 \n  930.622,1151.79 934.376,1161.5 938.266,1171.25 942.252,1181.01 946.297,1190.79 950.36,1200.57 954.404,1210.35 958.391,1220.12 962.28,1229.86 966.035,1239.57 \n  969.615,1249.25 972.982,1258.88 976.099,1268.45 978.925,1277.95 981.422,1287.39 983.552,1296.74 985.276,1306 986.556,1315.16 987.352,1324.21 987.626,1333.14 \n  \n  \"/>\n<polyline clip-path=\"url(#clip702)\" style=\"stroke:#000000; stroke-linecap:butt; stroke-linejoin:round; stroke-width:4; stroke-opacity:1; fill:none\" points=\"\n  1191.51,859.531 1192.52,869.282 1195.46,878.385 1200.19,886.888 1206.55,894.839 1214.41,902.286 1223.63,909.277 1234.06,915.86 1245.57,922.083 1258,927.994 \n  1271.22,933.642 1285.07,939.073 1299.43,944.336 1314.15,949.48 1329.08,954.551 1344.08,959.598 1359.01,964.67 1373.72,969.813 1388.08,975.077 1401.94,980.508 \n  1415.15,986.155 1427.58,992.066 1439.09,998.29 1449.52,1004.87 1458.74,1011.86 1466.6,1019.31 1472.97,1027.26 1477.69,1035.76 1480.63,1044.87 1481.64,1054.62 \n  \n  \"/>\n<polyline clip-path=\"url(#clip702)\" style=\"stroke:#000000; stroke-linecap:butt; stroke-linejoin:round; stroke-width:4; stroke-opacity:1; fill:none\" points=\"\n  1481.64,1054.62 1482.53,1063.02 1485.12,1070.87 1489.29,1078.2 1494.91,1085.05 1501.85,1091.47 1509.98,1097.49 1519.19,1103.17 1529.34,1108.53 1540.31,1113.63 \n  1551.98,1118.49 1564.21,1123.17 1576.88,1127.71 1589.87,1132.14 1603.04,1136.52 1616.28,1140.87 1629.46,1145.24 1642.44,1149.67 1655.11,1154.21 1667.34,1158.89 \n  1679.01,1163.75 1689.98,1168.85 1700.13,1174.21 1709.34,1179.89 1717.47,1185.91 1724.41,1192.33 1730.03,1199.18 1734.2,1206.51 1736.79,1214.36 1737.68,1222.76 \n  \n  \"/>\n<polyline clip-path=\"url(#clip702)\" style=\"stroke:#000000; stroke-linecap:butt; stroke-linejoin:round; stroke-width:4; stroke-opacity:1; fill:none\" points=\"\n  1481.64,1054.62 1481.38,1062.53 1480.62,1070.54 1479.41,1078.64 1477.77,1086.82 1475.75,1095.07 1473.38,1103.39 1470.7,1111.76 1467.74,1120.19 1464.55,1128.66 \n  1461.15,1137.17 1457.59,1145.71 1453.9,1154.28 1450.12,1162.86 1446.28,1171.46 1442.42,1180.05 1438.59,1188.65 1434.8,1197.23 1431.11,1205.8 1427.55,1214.34 \n  1424.15,1222.85 1420.96,1231.32 1418,1239.75 1415.32,1248.13 1412.95,1256.44 1410.93,1264.69 1409.29,1272.87 1408.08,1280.97 1407.32,1288.98 1407.06,1296.89 \n  \n  \"/>\n<polyline clip-path=\"url(#clip702)\" style=\"stroke:#000000; stroke-linecap:butt; stroke-linejoin:round; stroke-width:4; stroke-opacity:1; fill:none\" points=\"\n  1481.64,1054.62 1482.27,1062.24 1484.1,1069.53 1487.05,1076.49 1491.02,1083.16 1495.93,1089.56 1501.68,1095.72 1508.19,1101.67 1515.37,1107.42 1523.12,1113.01 \n  1531.37,1118.46 1540.02,1123.79 1548.98,1129.04 1558.16,1134.22 1567.47,1139.36 1576.83,1144.49 1586.15,1149.63 1595.33,1154.81 1604.29,1160.06 1612.94,1165.39 \n  1621.18,1170.84 1628.94,1176.43 1636.12,1182.18 1642.63,1188.12 1648.38,1194.29 1653.29,1200.69 1657.26,1207.36 1660.21,1214.32 1662.04,1221.6 1662.67,1229.23 \n  \n  \"/>\n<polyline clip-path=\"url(#clip702)\" style=\"stroke:#000000; stroke-linecap:butt; stroke-linejoin:round; stroke-width:4; stroke-opacity:1; fill:none\" points=\"\n  1481.64,1054.62 1481.77,1060.79 1482.14,1067.08 1482.74,1073.46 1483.54,1079.94 1484.54,1086.5 1485.71,1093.14 1487.03,1099.84 1488.49,1106.6 1490.06,1113.42 \n  1491.74,1120.28 1493.49,1127.18 1495.31,1134.1 1497.18,1141.05 1499.07,1148 1500.97,1154.96 1502.86,1161.92 1504.73,1168.86 1506.54,1175.79 1508.3,1182.68 \n  1509.98,1189.54 1511.55,1196.36 1513.01,1203.13 1514.33,1209.83 1515.5,1216.47 1516.49,1223.03 1517.3,1229.5 1517.9,1235.89 1518.27,1242.17 1518.4,1248.35 \n  \n  \"/>\n<polyline clip-path=\"url(#clip702)\" style=\"stroke:#000000; stroke-linecap:butt; stroke-linejoin:round; stroke-width:4; stroke-opacity:1; fill:none\" points=\"\n  1481.64,1054.62 1482.01,1063.28 1483.09,1071.98 1484.82,1080.73 1487.16,1089.51 1490.05,1098.32 1493.44,1107.17 1497.27,1116.04 1501.49,1124.94 1506.06,1133.86 \n  1510.91,1142.8 1516,1151.75 1521.28,1160.72 1526.68,1169.69 1532.17,1178.66 1537.68,1187.64 1543.16,1196.62 1548.56,1205.59 1553.84,1214.56 1558.93,1223.51 \n  1563.78,1232.45 1568.35,1241.36 1572.57,1250.26 1576.41,1259.14 1579.79,1267.98 1582.68,1276.8 1585.02,1285.58 1586.75,1294.33 1587.83,1303.03 1588.2,1311.69 \n  \n  \"/>\n<path clip-path=\"url(#clip702)\" d=\"\nM1235.35 262.317 L1223.7 242.132 L1200.39 242.132 L1188.74 262.317 L1200.39 282.502 L1223.7 282.502 L1235.35 262.317 L1235.35 262.317  Z\n  \" fill=\"#009af9\" fill-rule=\"evenodd\" fill-opacity=\"1\"/>\n<polyline clip-path=\"url(#clip702)\" style=\"stroke:#000000; stroke-linecap:butt; stroke-linejoin:round; stroke-width:4; stroke-opacity:1; fill:none\" points=\"\n  1235.35,262.317 1223.7,242.132 1200.39,242.132 1188.74,262.317 1200.39,282.502 1223.7,282.502 1235.35,262.317 \n  \"/>\n<path clip-path=\"url(#clip702)\" d=\"\nM1254.12 522.284 L1233.83 487.14 L1193.25 487.14 L1172.96 522.284 L1193.25 557.428 L1233.83 557.428 L1254.12 522.284 L1254.12 522.284  Z\n  \" fill=\"#009af9\" fill-rule=\"evenodd\" fill-opacity=\"1\"/>\n<polyline clip-path=\"url(#clip702)\" style=\"stroke:#000000; stroke-linecap:butt; stroke-linejoin:round; stroke-width:4; stroke-opacity:1; fill:none\" points=\"\n  1254.12,522.284 1233.83,487.14 1193.25,487.14 1172.96,522.284 1193.25,557.428 1233.83,557.428 1254.12,522.284 \n  \"/>\n<path clip-path=\"url(#clip702)\" d=\"\nM1258.88 730.541 L1244.21 705.133 L1214.87 705.133 L1200.2 730.541 L1214.87 755.95 L1244.21 755.95 L1258.88 730.541 L1258.88 730.541  Z\n  \" fill=\"#009af9\" fill-rule=\"evenodd\" fill-opacity=\"1\"/>\n<polyline clip-path=\"url(#clip702)\" style=\"stroke:#000000; stroke-linecap:butt; stroke-linejoin:round; stroke-width:4; stroke-opacity:1; fill:none\" points=\"\n  1258.88,730.541 1244.21,705.133 1214.87,705.133 1200.2,730.541 1214.87,755.95 1244.21,755.95 1258.88,730.541 \n  \"/>\n<path clip-path=\"url(#clip702)\" d=\"\nM1237.42 859.531 L1214.47 819.774 L1168.56 819.774 L1145.61 859.531 L1168.56 899.287 L1214.47 899.287 L1237.42 859.531 L1237.42 859.531  Z\n  \" fill=\"#009af9\" fill-rule=\"evenodd\" fill-opacity=\"1\"/>\n<polyline clip-path=\"url(#clip702)\" style=\"stroke:#000000; stroke-linecap:butt; stroke-linejoin:round; stroke-width:4; stroke-opacity:1; fill:none\" points=\"\n  1237.42,859.531 1214.47,819.774 1168.56,819.774 1145.61,859.531 1168.56,899.287 1214.47,899.287 1237.42,859.531 \n  \"/>\n<path clip-path=\"url(#clip702)\" d=\"\nM1229.32 1085.02 L1214.65 1059.62 L1185.31 1059.62 L1170.64 1085.02 L1185.31 1110.43 L1214.65 1110.43 L1229.32 1085.02 L1229.32 1085.02  Z\n  \" fill=\"#009af9\" fill-rule=\"evenodd\" fill-opacity=\"1\"/>\n<polyline clip-path=\"url(#clip702)\" style=\"stroke:#000000; stroke-linecap:butt; stroke-linejoin:round; stroke-width:4; stroke-opacity:1; fill:none\" points=\"\n  1229.32,1085.02 1214.65,1059.62 1185.31,1059.62 1170.64,1085.02 1185.31,1110.43 1214.65,1110.43 1229.32,1085.02 \n  \"/>\n<path clip-path=\"url(#clip702)\" d=\"\nM1357.19 1130.06 L1319.52 1064.83 L1244.19 1064.83 L1206.53 1130.06 L1244.19 1195.3 L1319.52 1195.3 L1357.19 1130.06 L1357.19 1130.06  Z\n  \" fill=\"#009af9\" fill-rule=\"evenodd\" fill-opacity=\"1\"/>\n<polyline clip-path=\"url(#clip702)\" style=\"stroke:#000000; stroke-linecap:butt; stroke-linejoin:round; stroke-width:4; stroke-opacity:1; fill:none\" points=\"\n  1357.19,1130.06 1319.52,1064.83 1244.19,1064.83 1206.53,1130.06 1244.19,1195.3 1319.52,1195.3 1357.19,1130.06 \n  \"/>\n<path clip-path=\"url(#clip702)\" d=\"\nM1155.68 1028.23 L1118.02 962.999 L1042.69 962.999 L1005.03 1028.23 L1042.69 1093.47 L1118.02 1093.47 L1155.68 1028.23 L1155.68 1028.23  Z\n  \" fill=\"#009af9\" fill-rule=\"evenodd\" fill-opacity=\"1\"/>\n<polyline clip-path=\"url(#clip702)\" style=\"stroke:#000000; stroke-linecap:butt; stroke-linejoin:round; stroke-width:4; stroke-opacity:1; fill:none\" points=\"\n  1155.68,1028.23 1118.02,962.999 1042.69,962.999 1005.03,1028.23 1042.69,1093.47 1118.02,1093.47 1155.68,1028.23 \n  \"/>\n<path clip-path=\"url(#clip702)\" d=\"\nM949.612 1058.22 L929.321 1023.08 L888.741 1023.08 L868.45 1058.22 L888.741 1093.37 L929.321 1093.37 L949.612 1058.22 L949.612 1058.22  Z\n  \" fill=\"#009af9\" fill-rule=\"evenodd\" fill-opacity=\"1\"/>\n<polyline clip-path=\"url(#clip702)\" style=\"stroke:#000000; stroke-linecap:butt; stroke-linejoin:round; stroke-width:4; stroke-opacity:1; fill:none\" points=\"\n  949.612,1058.22 929.321,1023.08 888.741,1023.08 868.45,1058.22 888.741,1093.37 929.321,1093.37 949.612,1058.22 \n  \"/>\n<path clip-path=\"url(#clip702)\" d=\"\nM846.565 1277.65 L826.274 1242.5 L785.694 1242.5 L765.403 1277.65 L785.694 1312.79 L826.274 1312.79 L846.565 1277.65 L846.565 1277.65  Z\n  \" fill=\"#009af9\" fill-rule=\"evenodd\" fill-opacity=\"1\"/>\n<polyline clip-path=\"url(#clip702)\" style=\"stroke:#000000; stroke-linecap:butt; stroke-linejoin:round; stroke-width:4; stroke-opacity:1; fill:none\" points=\"\n  846.565,1277.65 826.274,1242.5 785.694,1242.5 765.403,1277.65 785.694,1312.79 826.274,1312.79 846.565,1277.65 \n  \"/>\n<path clip-path=\"url(#clip702)\" d=\"\nM1076.94 1270.66 L1056.65 1235.51 L1016.07 1235.51 L995.776 1270.66 L1016.07 1305.8 L1056.65 1305.8 L1076.94 1270.66 L1076.94 1270.66  Z\n  \" fill=\"#009af9\" fill-rule=\"evenodd\" fill-opacity=\"1\"/>\n<polyline clip-path=\"url(#clip702)\" style=\"stroke:#000000; stroke-linecap:butt; stroke-linejoin:round; stroke-width:4; stroke-opacity:1; fill:none\" points=\"\n  1076.94,1270.66 1056.65,1235.51 1016.07,1235.51 995.776,1270.66 1016.07,1305.8 1056.65,1305.8 1076.94,1270.66 \n  \"/>\n<path clip-path=\"url(#clip702)\" d=\"\nM914.727 1337.68 L897.191 1307.31 L862.118 1307.31 L844.581 1337.68 L862.118 1368.06 L897.191 1368.06 L914.727 1337.68 L914.727 1337.68  Z\n  \" fill=\"#009af9\" fill-rule=\"evenodd\" fill-opacity=\"1\"/>\n<polyline clip-path=\"url(#clip702)\" style=\"stroke:#000000; stroke-linecap:butt; stroke-linejoin:round; stroke-width:4; stroke-opacity:1; fill:none\" points=\"\n  914.727,1337.68 897.191,1307.31 862.118,1307.31 844.581,1337.68 862.118,1368.06 897.191,1368.06 914.727,1337.68 \n  \"/>\n<path clip-path=\"url(#clip702)\" d=\"\nM764.163 1283.19 L746.626 1252.82 L711.553 1252.82 L694.017 1283.19 L711.553 1313.57 L746.626 1313.57 L764.163 1283.19 L764.163 1283.19  Z\n  \" fill=\"#009af9\" fill-rule=\"evenodd\" fill-opacity=\"1\"/>\n<polyline clip-path=\"url(#clip702)\" style=\"stroke:#000000; stroke-linecap:butt; stroke-linejoin:round; stroke-width:4; stroke-opacity:1; fill:none\" points=\"\n  764.163,1283.19 746.626,1252.82 711.553,1252.82 694.017,1283.19 711.553,1313.57 746.626,1313.57 764.163,1283.19 \n  \"/>\n<path clip-path=\"url(#clip702)\" d=\"\nM697.39 1282.16 L679.854 1251.78 L644.781 1251.78 L627.244 1282.16 L644.781 1312.53 L679.854 1312.53 L697.39 1282.16 L697.39 1282.16  Z\n  \" fill=\"#009af9\" fill-rule=\"evenodd\" fill-opacity=\"1\"/>\n<polyline clip-path=\"url(#clip702)\" style=\"stroke:#000000; stroke-linecap:butt; stroke-linejoin:round; stroke-width:4; stroke-opacity:1; fill:none\" points=\"\n  697.39,1282.16 679.854,1251.78 644.781,1251.78 627.244,1282.16 644.781,1312.53 679.854,1312.53 697.39,1282.16 \n  \"/>\n<path clip-path=\"url(#clip702)\" d=\"\nM1016.96 1333.14 L1002.3 1307.73 L972.956 1307.73 L958.286 1333.14 L972.956 1358.55 L1002.3 1358.55 L1016.96 1333.14 L1016.96 1333.14  Z\n  \" fill=\"#009af9\" fill-rule=\"evenodd\" fill-opacity=\"1\"/>\n<polyline clip-path=\"url(#clip702)\" style=\"stroke:#000000; stroke-linecap:butt; stroke-linejoin:round; stroke-width:4; stroke-opacity:1; fill:none\" points=\"\n  1016.96,1333.14 1002.3,1307.73 972.956,1307.73 958.286,1333.14 972.956,1358.55 1002.3,1358.55 1016.96,1333.14 \n  \"/>\n<path clip-path=\"url(#clip702)\" d=\"\nM1532.72 1054.62 L1507.18 1010.38 L1456.1 1010.38 L1430.56 1054.62 L1456.1 1098.86 L1507.18 1098.86 L1532.72 1054.62 L1532.72 1054.62  Z\n  \" fill=\"#009af9\" fill-rule=\"evenodd\" fill-opacity=\"1\"/>\n<polyline clip-path=\"url(#clip702)\" style=\"stroke:#000000; stroke-linecap:butt; stroke-linejoin:round; stroke-width:4; stroke-opacity:1; fill:none\" points=\"\n  1532.72,1054.62 1507.18,1010.38 1456.1,1010.38 1430.56,1054.62 1456.1,1098.86 1507.18,1098.86 1532.72,1054.62 \n  \"/>\n<path clip-path=\"url(#clip702)\" d=\"\nM1783.59 1222.76 L1760.64 1183.01 L1714.73 1183.01 L1691.78 1222.76 L1714.73 1262.52 L1760.64 1262.52 L1783.59 1222.76 L1783.59 1222.76  Z\n  \" fill=\"#009af9\" fill-rule=\"evenodd\" fill-opacity=\"1\"/>\n<polyline clip-path=\"url(#clip702)\" style=\"stroke:#000000; stroke-linecap:butt; stroke-linejoin:round; stroke-width:4; stroke-opacity:1; fill:none\" points=\"\n  1783.59,1222.76 1760.64,1183.01 1714.73,1183.01 1691.78,1222.76 1714.73,1262.52 1760.64,1262.52 1783.59,1222.76 \n  \"/>\n<path clip-path=\"url(#clip702)\" d=\"\nM1447.65 1296.89 L1427.35 1261.75 L1386.77 1261.75 L1366.48 1296.89 L1386.77 1332.04 L1427.35 1332.04 L1447.65 1296.89 L1447.65 1296.89  Z\n  \" fill=\"#009af9\" fill-rule=\"evenodd\" fill-opacity=\"1\"/>\n<polyline clip-path=\"url(#clip702)\" style=\"stroke:#000000; stroke-linecap:butt; stroke-linejoin:round; stroke-width:4; stroke-opacity:1; fill:none\" points=\"\n  1447.65,1296.89 1427.35,1261.75 1386.77,1261.75 1366.48,1296.89 1386.77,1332.04 1427.35,1332.04 1447.65,1296.89 \n  \"/>\n<path clip-path=\"url(#clip702)\" d=\"\nM1703.25 1229.23 L1682.96 1194.09 L1642.38 1194.09 L1622.09 1229.23 L1642.38 1264.37 L1682.96 1264.37 L1703.25 1229.23 L1703.25 1229.23  Z\n  \" fill=\"#009af9\" fill-rule=\"evenodd\" fill-opacity=\"1\"/>\n<polyline clip-path=\"url(#clip702)\" style=\"stroke:#000000; stroke-linecap:butt; stroke-linejoin:round; stroke-width:4; stroke-opacity:1; fill:none\" points=\"\n  1703.25,1229.23 1682.96,1194.09 1642.38,1194.09 1622.09,1229.23 1642.38,1264.37 1682.96,1264.37 1703.25,1229.23 \n  \"/>\n<path clip-path=\"url(#clip702)\" d=\"\nM1558.98 1248.35 L1538.69 1213.2 L1498.11 1213.2 L1477.82 1248.35 L1498.11 1283.49 L1538.69 1283.49 L1558.98 1248.35 L1558.98 1248.35  Z\n  \" fill=\"#009af9\" fill-rule=\"evenodd\" fill-opacity=\"1\"/>\n<polyline clip-path=\"url(#clip702)\" style=\"stroke:#000000; stroke-linecap:butt; stroke-linejoin:round; stroke-width:4; stroke-opacity:1; fill:none\" points=\"\n  1558.98,1248.35 1538.69,1213.2 1498.11,1213.2 1477.82,1248.35 1498.11,1283.49 1538.69,1283.49 1558.98,1248.35 \n  \"/>\n<path clip-path=\"url(#clip702)\" d=\"\nM1623.28 1311.69 L1605.74 1281.31 L1570.67 1281.31 L1553.13 1311.69 L1570.67 1342.06 L1605.74 1342.06 L1623.28 1311.69 L1623.28 1311.69  Z\n  \" fill=\"#009af9\" fill-rule=\"evenodd\" fill-opacity=\"1\"/>\n<polyline clip-path=\"url(#clip702)\" style=\"stroke:#000000; stroke-linecap:butt; stroke-linejoin:round; stroke-width:4; stroke-opacity:1; fill:none\" points=\"\n  1623.28,1311.69 1605.74,1281.31 1570.67,1281.31 1553.13,1311.69 1570.67,1342.06 1605.74,1342.06 1623.28,1311.69 \n  \"/>\n<circle clip-path=\"url(#clip702)\" style=\"fill:#009af9; stroke:none; fill-opacity:1\" cx=\"1212.04\" cy=\"262.317\" r=\"2\"/>\n<circle clip-path=\"url(#clip702)\" style=\"fill:#009af9; stroke:none; fill-opacity:1\" cx=\"1213.54\" cy=\"522.284\" r=\"2\"/>\n<circle clip-path=\"url(#clip702)\" style=\"fill:#009af9; stroke:none; fill-opacity:1\" cx=\"1229.54\" cy=\"730.541\" r=\"2\"/>\n<circle clip-path=\"url(#clip702)\" style=\"fill:#009af9; stroke:none; fill-opacity:1\" cx=\"1191.51\" cy=\"859.531\" r=\"2\"/>\n<circle clip-path=\"url(#clip702)\" style=\"fill:#009af9; stroke:none; fill-opacity:1\" cx=\"1199.98\" cy=\"1085.02\" r=\"2\"/>\n<circle clip-path=\"url(#clip702)\" style=\"fill:#009af9; stroke:none; fill-opacity:1\" cx=\"1281.86\" cy=\"1130.06\" r=\"2\"/>\n<circle clip-path=\"url(#clip702)\" style=\"fill:#009af9; stroke:none; fill-opacity:1\" cx=\"1080.35\" cy=\"1028.23\" r=\"2\"/>\n<circle clip-path=\"url(#clip702)\" style=\"fill:#009af9; stroke:none; fill-opacity:1\" cx=\"909.031\" cy=\"1058.22\" r=\"2\"/>\n<circle clip-path=\"url(#clip702)\" style=\"fill:#009af9; stroke:none; fill-opacity:1\" cx=\"805.984\" cy=\"1277.65\" r=\"2\"/>\n<circle clip-path=\"url(#clip702)\" style=\"fill:#009af9; stroke:none; fill-opacity:1\" cx=\"1036.36\" cy=\"1270.66\" r=\"2\"/>\n<circle clip-path=\"url(#clip702)\" style=\"fill:#009af9; stroke:none; fill-opacity:1\" cx=\"879.654\" cy=\"1337.68\" r=\"2\"/>\n<circle clip-path=\"url(#clip702)\" style=\"fill:#009af9; stroke:none; fill-opacity:1\" cx=\"729.09\" cy=\"1283.19\" r=\"2\"/>\n<circle clip-path=\"url(#clip702)\" style=\"fill:#009af9; stroke:none; fill-opacity:1\" cx=\"662.317\" cy=\"1282.16\" r=\"2\"/>\n<circle clip-path=\"url(#clip702)\" style=\"fill:#009af9; stroke:none; fill-opacity:1\" cx=\"987.626\" cy=\"1333.14\" r=\"2\"/>\n<circle clip-path=\"url(#clip702)\" style=\"fill:#009af9; stroke:none; fill-opacity:1\" cx=\"1481.64\" cy=\"1054.62\" r=\"2\"/>\n<circle clip-path=\"url(#clip702)\" style=\"fill:#009af9; stroke:none; fill-opacity:1\" cx=\"1737.68\" cy=\"1222.76\" r=\"2\"/>\n<circle clip-path=\"url(#clip702)\" style=\"fill:#009af9; stroke:none; fill-opacity:1\" cx=\"1407.06\" cy=\"1296.89\" r=\"2\"/>\n<circle clip-path=\"url(#clip702)\" style=\"fill:#009af9; stroke:none; fill-opacity:1\" cx=\"1662.67\" cy=\"1229.23\" r=\"2\"/>\n<circle clip-path=\"url(#clip702)\" style=\"fill:#009af9; stroke:none; fill-opacity:1\" cx=\"1518.4\" cy=\"1248.35\" r=\"2\"/>\n<circle clip-path=\"url(#clip702)\" style=\"fill:#009af9; stroke:none; fill-opacity:1\" cx=\"1588.2\" cy=\"1311.69\" r=\"2\"/>\n<path clip-path=\"url(#clip700)\" d=\"M1194.21 254.396 L1190.24 265.146 L1198.18 265.146 L1194.21 254.396 M1192.56 251.517 L1195.87 251.517 L1204.1 273.117 L1201.06 273.117 L1199.1 267.576 L1189.36 267.576 L1187.39 273.117 L1184.31 273.117 L1192.56 251.517 Z\" fill=\"#000000\" fill-rule=\"evenodd\" fill-opacity=\"1\" /><path clip-path=\"url(#clip700)\" d=\"M1220.61 263.337 L1220.61 273.117 L1217.95 273.117 L1217.95 263.424 Q1217.95 261.124 1217.05 259.981 Q1216.15 258.838 1214.36 258.838 Q1212.2 258.838 1210.96 260.212 Q1209.72 261.587 1209.72 263.959 L1209.72 273.117 L1207.04 273.117 L1207.04 256.914 L1209.72 256.914 L1209.72 259.431 Q1210.67 257.97 1211.96 257.246 Q1213.26 256.523 1214.95 256.523 Q1217.74 256.523 1219.18 258.259 Q1220.61 259.981 1220.61 263.337 Z\" fill=\"#000000\" fill-rule=\"evenodd\" fill-opacity=\"1\" /><path clip-path=\"url(#clip700)\" d=\"M1232.66 274.622 Q1231.53 277.515 1230.46 278.398 Q1229.39 279.28 1227.6 279.28 L1225.47 279.28 L1225.47 277.052 L1227.03 277.052 Q1228.13 277.052 1228.74 276.532 Q1229.35 276.011 1230.09 274.072 L1230.56 272.857 L1224.01 256.914 L1226.83 256.914 L1231.89 269.587 L1236.96 256.914 L1239.78 256.914 L1232.66 274.622 Z\" fill=\"#000000\" fill-rule=\"evenodd\" fill-opacity=\"1\" /><path clip-path=\"url(#clip700)\" d=\"M1155.48 511.484 L1159.42 511.484 L1168.99 529.554 L1168.99 511.484 L1171.83 511.484 L1171.83 533.084 L1167.89 533.084 L1158.32 515.014 L1158.32 533.084 L1155.48 533.084 L1155.48 511.484 Z\" fill=\"#000000\" fill-rule=\"evenodd\" fill-opacity=\"1\" /><path clip-path=\"url(#clip700)\" d=\"M1177.25 526.689 L1177.25 516.88 L1179.92 516.88 L1179.92 526.588 Q1179.92 528.888 1180.81 530.046 Q1181.71 531.189 1183.5 531.189 Q1185.66 531.189 1186.9 529.814 Q1188.16 528.44 1188.16 526.067 L1188.16 516.88 L1190.83 516.88 L1190.83 533.084 L1188.16 533.084 L1188.16 530.595 Q1187.19 532.071 1185.91 532.795 Q1184.63 533.503 1182.94 533.503 Q1180.15 533.503 1178.7 531.767 Q1177.25 530.031 1177.25 526.689 M1183.95 516.49 L1183.95 516.49 Z\" fill=\"#000000\" fill-rule=\"evenodd\" fill-opacity=\"1\" /><path clip-path=\"url(#clip700)\" d=\"M1208.92 519.991 Q1209.92 518.197 1211.31 517.343 Q1212.7 516.49 1214.58 516.49 Q1217.11 516.49 1218.49 518.269 Q1219.86 520.034 1219.86 523.304 L1219.86 533.084 L1217.19 533.084 L1217.19 523.391 Q1217.19 521.061 1216.36 519.933 Q1215.54 518.804 1213.84 518.804 Q1211.77 518.804 1210.57 520.179 Q1209.37 521.553 1209.37 523.926 L1209.37 533.084 L1206.7 533.084 L1206.7 523.391 Q1206.7 521.047 1205.87 519.933 Q1205.05 518.804 1203.33 518.804 Q1201.29 518.804 1200.08 520.193 Q1198.88 521.568 1198.88 523.926 L1198.88 533.084 L1196.21 533.084 L1196.21 516.88 L1198.88 516.88 L1198.88 519.398 Q1199.8 517.907 1201.07 517.199 Q1202.34 516.49 1204.09 516.49 Q1205.86 516.49 1207.09 517.387 Q1208.33 518.284 1208.92 519.991 Z\" fill=\"#000000\" fill-rule=\"evenodd\" fill-opacity=\"1\" /><path clip-path=\"url(#clip700)\" d=\"M1236.8 524.997 Q1236.8 522.06 1235.59 520.396 Q1234.39 518.718 1232.27 518.718 Q1230.16 518.718 1228.95 520.396 Q1227.75 522.06 1227.75 524.997 Q1227.75 527.933 1228.95 529.612 Q1230.16 531.275 1232.27 531.275 Q1234.39 531.275 1235.59 529.612 Q1236.8 527.933 1236.8 524.997 M1227.75 519.34 Q1228.59 517.893 1229.86 517.199 Q1231.15 516.49 1232.93 516.49 Q1235.88 516.49 1237.71 518.833 Q1239.57 521.177 1239.57 524.997 Q1239.57 528.816 1237.71 531.16 Q1235.88 533.503 1232.93 533.503 Q1231.15 533.503 1229.86 532.809 Q1228.59 532.1 1227.75 530.653 L1227.75 533.084 L1225.07 533.084 L1225.07 510.572 L1227.75 510.572 L1227.75 519.34 Z\" fill=\"#000000\" fill-rule=\"evenodd\" fill-opacity=\"1\" /><path clip-path=\"url(#clip700)\" d=\"M1257.84 524.317 L1257.84 525.619 L1245.6 525.619 Q1245.77 528.367 1247.25 529.814 Q1248.74 531.247 1251.39 531.247 Q1252.92 531.247 1254.35 530.87 Q1255.8 530.494 1257.22 529.742 L1257.22 532.259 Q1255.78 532.867 1254.28 533.185 Q1252.78 533.503 1251.23 533.503 Q1247.35 533.503 1245.08 531.247 Q1242.82 528.99 1242.82 525.141 Q1242.82 521.163 1244.96 518.833 Q1247.12 516.49 1250.76 516.49 Q1254.03 516.49 1255.93 518.602 Q1257.84 520.7 1257.84 524.317 M1255.18 523.535 Q1255.15 521.351 1253.95 520.049 Q1252.76 518.747 1250.79 518.747 Q1248.57 518.747 1247.22 520.005 Q1245.89 521.264 1245.69 523.55 L1255.18 523.535 Z\" fill=\"#000000\" fill-rule=\"evenodd\" fill-opacity=\"1\" /><path clip-path=\"url(#clip700)\" d=\"M1271.6 519.369 Q1271.15 519.108 1270.61 518.993 Q1270.09 518.862 1269.46 518.862 Q1267.2 518.862 1265.98 520.338 Q1264.78 521.799 1264.78 524.548 L1264.78 533.084 L1262.11 533.084 L1262.11 516.88 L1264.78 516.88 L1264.78 519.398 Q1265.62 517.922 1266.97 517.213 Q1268.31 516.49 1270.24 516.49 Q1270.51 516.49 1270.85 516.533 Q1271.18 516.562 1271.58 516.634 L1271.6 519.369 Z\" fill=\"#000000\" fill-rule=\"evenodd\" fill-opacity=\"1\" /><path clip-path=\"url(#clip700)\" d=\"M1210.69 731.214 Q1211.63 731.532 1212.51 732.574 Q1213.41 733.616 1214.3 735.438 L1217.27 741.341 L1214.13 741.341 L1211.37 735.8 Q1210.3 733.63 1209.28 732.921 Q1208.29 732.212 1206.55 732.212 L1203.37 732.212 L1203.37 741.341 L1200.44 741.341 L1200.44 719.741 L1207.04 719.741 Q1210.74 719.741 1212.57 721.289 Q1214.39 722.837 1214.39 725.962 Q1214.39 728.002 1213.44 729.348 Q1212.5 730.693 1210.69 731.214 M1203.37 722.143 L1203.37 729.811 L1207.04 729.811 Q1209.15 729.811 1210.22 728.841 Q1211.31 727.857 1211.31 725.962 Q1211.31 724.067 1210.22 723.112 Q1209.15 722.143 1207.04 722.143 L1203.37 722.143 Z\" fill=\"#000000\" fill-rule=\"evenodd\" fill-opacity=\"1\" /><path clip-path=\"url(#clip700)\" d=\"M1233.44 732.574 L1233.44 733.876 L1221.2 733.876 Q1221.38 736.625 1222.85 738.072 Q1224.34 739.504 1226.99 739.504 Q1228.53 739.504 1229.96 739.128 Q1231.4 738.752 1232.82 737.999 L1232.82 740.517 Q1231.39 741.124 1229.89 741.442 Q1228.38 741.761 1226.83 741.761 Q1222.96 741.761 1220.68 739.504 Q1218.43 737.247 1218.43 733.399 Q1218.43 729.42 1220.57 727.091 Q1222.72 724.747 1226.37 724.747 Q1229.64 724.747 1231.53 726.859 Q1233.44 728.957 1233.44 732.574 M1230.78 731.793 Q1230.75 729.608 1229.55 728.306 Q1228.37 727.004 1226.4 727.004 Q1224.17 727.004 1222.83 728.263 Q1221.49 729.521 1221.29 731.807 L1230.78 731.793 Z\" fill=\"#000000\" fill-rule=\"evenodd\" fill-opacity=\"1\" /><path clip-path=\"url(#clip700)\" d=\"M1245.18 733.196 Q1241.95 733.196 1240.71 733.934 Q1239.46 734.672 1239.46 736.451 Q1239.46 737.869 1240.39 738.708 Q1241.33 739.533 1242.94 739.533 Q1245.15 739.533 1246.48 737.97 Q1247.83 736.393 1247.83 733.789 L1247.83 733.196 L1245.18 733.196 M1250.49 732.096 L1250.49 741.341 L1247.83 741.341 L1247.83 738.882 Q1246.91 740.357 1245.55 741.066 Q1244.19 741.761 1242.23 741.761 Q1239.74 741.761 1238.26 740.372 Q1236.8 738.969 1236.8 736.625 Q1236.8 733.89 1238.62 732.502 Q1240.46 731.113 1244.09 731.113 L1247.83 731.113 L1247.83 730.852 Q1247.83 729.015 1246.61 728.017 Q1245.41 727.004 1243.22 727.004 Q1241.84 727.004 1240.52 727.337 Q1239.2 727.669 1237.99 728.335 L1237.99 725.875 Q1239.45 725.311 1240.82 725.036 Q1242.2 724.747 1243.5 724.747 Q1247.01 724.747 1248.75 726.57 Q1250.49 728.393 1250.49 732.096 Z\" fill=\"#000000\" fill-rule=\"evenodd\" fill-opacity=\"1\" /><path clip-path=\"url(#clip700)\" d=\"M1255.97 718.83 L1258.63 718.83 L1258.63 741.341 L1255.97 741.341 L1255.97 718.83 Z\" fill=\"#000000\" fill-rule=\"evenodd\" fill-opacity=\"1\" /><path clip-path=\"url(#clip700)\" d=\"M1139.68 848.731 L1142.6 848.731 L1142.6 870.331 L1139.68 870.331 L1139.68 848.731 Z\" fill=\"#000000\" fill-rule=\"evenodd\" fill-opacity=\"1\" /><path clip-path=\"url(#clip700)\" d=\"M1161.77 860.551 L1161.77 870.331 L1159.11 870.331 L1159.11 860.638 Q1159.11 858.337 1158.21 857.194 Q1157.31 856.052 1155.52 856.052 Q1153.36 856.052 1152.12 857.426 Q1150.87 858.8 1150.87 861.173 L1150.87 870.331 L1148.2 870.331 L1148.2 854.127 L1150.87 854.127 L1150.87 856.645 Q1151.83 855.183 1153.12 854.46 Q1154.42 853.737 1156.11 853.737 Q1158.9 853.737 1160.34 855.473 Q1161.77 857.194 1161.77 860.551 Z\" fill=\"#000000\" fill-rule=\"evenodd\" fill-opacity=\"1\" /><path clip-path=\"url(#clip700)\" d=\"M1169.71 849.527 L1169.71 854.127 L1175.19 854.127 L1175.19 856.196 L1169.71 856.196 L1169.71 864.992 Q1169.71 866.974 1170.25 867.539 Q1170.8 868.103 1172.46 868.103 L1175.19 868.103 L1175.19 870.331 L1172.46 870.331 Q1169.38 870.331 1168.21 869.188 Q1167.03 868.031 1167.03 864.992 L1167.03 856.196 L1165.08 856.196 L1165.08 854.127 L1167.03 854.127 L1167.03 849.527 L1169.71 849.527 Z\" fill=\"#000000\" fill-rule=\"evenodd\" fill-opacity=\"1\" /><path clip-path=\"url(#clip700)\" d=\"M1192.56 861.564 L1192.56 862.866 L1180.32 862.866 Q1180.49 865.615 1181.97 867.061 Q1183.46 868.494 1186.1 868.494 Q1187.64 868.494 1189.07 868.117 Q1190.52 867.741 1191.93 866.989 L1191.93 869.506 Q1190.5 870.114 1189 870.432 Q1187.49 870.751 1185.94 870.751 Q1182.07 870.751 1179.8 868.494 Q1177.54 866.237 1177.54 862.388 Q1177.54 858.41 1179.68 856.08 Q1181.83 853.737 1185.48 853.737 Q1188.75 853.737 1190.65 855.849 Q1192.56 857.947 1192.56 861.564 M1189.89 860.782 Q1189.86 858.598 1188.66 857.296 Q1187.48 855.994 1185.51 855.994 Q1183.28 855.994 1181.94 857.252 Q1180.61 858.511 1180.4 860.797 L1189.89 860.782 Z\" fill=\"#000000\" fill-rule=\"evenodd\" fill-opacity=\"1\" /><path clip-path=\"url(#clip700)\" d=\"M1207.59 862.041 Q1207.59 859.148 1206.39 857.556 Q1205.2 855.965 1203.04 855.965 Q1200.9 855.965 1199.7 857.556 Q1198.52 859.148 1198.52 862.041 Q1198.52 864.92 1199.7 866.512 Q1200.9 868.103 1203.04 868.103 Q1205.2 868.103 1206.39 866.512 Q1207.59 864.92 1207.59 862.041 M1210.25 868.32 Q1210.25 872.458 1208.41 874.469 Q1206.57 876.494 1202.78 876.494 Q1201.38 876.494 1200.14 876.277 Q1198.89 876.075 1197.72 875.641 L1197.72 873.051 Q1198.89 873.687 1200.04 873.991 Q1201.18 874.295 1202.36 874.295 Q1204.98 874.295 1206.29 872.921 Q1207.59 871.561 1207.59 868.797 L1207.59 867.481 Q1206.76 868.913 1205.47 869.622 Q1204.19 870.331 1202.39 870.331 Q1199.41 870.331 1197.59 868.06 Q1195.77 865.788 1195.77 862.041 Q1195.77 858.28 1197.59 856.008 Q1199.41 853.737 1202.39 853.737 Q1204.19 853.737 1205.47 854.446 Q1206.76 855.155 1207.59 856.587 L1207.59 854.127 L1210.25 854.127 L1210.25 868.32 Z\" fill=\"#000000\" fill-rule=\"evenodd\" fill-opacity=\"1\" /><path clip-path=\"url(#clip700)\" d=\"M1229.59 861.564 L1229.59 862.866 L1217.35 862.866 Q1217.53 865.615 1219 867.061 Q1220.49 868.494 1223.14 868.494 Q1224.67 868.494 1226.11 868.117 Q1227.55 867.741 1228.97 866.989 L1228.97 869.506 Q1227.54 870.114 1226.03 870.432 Q1224.53 870.751 1222.98 870.751 Q1219.1 870.751 1216.83 868.494 Q1214.57 866.237 1214.57 862.388 Q1214.57 858.41 1216.72 856.08 Q1218.87 853.737 1222.52 853.737 Q1225.79 853.737 1227.68 855.849 Q1229.59 857.947 1229.59 861.564 M1226.93 860.782 Q1226.9 858.598 1225.7 857.296 Q1224.51 855.994 1222.55 855.994 Q1220.32 855.994 1218.97 857.252 Q1217.64 858.511 1217.44 860.797 L1226.93 860.782 Z\" fill=\"#000000\" fill-rule=\"evenodd\" fill-opacity=\"1\" /><path clip-path=\"url(#clip700)\" d=\"M1243.35 856.616 Q1242.9 856.355 1242.37 856.24 Q1241.85 856.109 1241.21 856.109 Q1238.95 856.109 1237.74 857.585 Q1236.54 859.046 1236.54 861.795 L1236.54 870.331 L1233.86 870.331 L1233.86 854.127 L1236.54 854.127 L1236.54 856.645 Q1237.38 855.169 1238.72 854.46 Q1240.07 853.737 1241.99 853.737 Q1242.27 853.737 1242.6 853.78 Q1242.93 853.809 1243.34 853.881 L1243.35 856.616 Z\" fill=\"#000000\" fill-rule=\"evenodd\" fill-opacity=\"1\" /><path clip-path=\"url(#clip700)\" d=\"M1173.34 1085.51 L1173.34 1093.42 L1178.02 1093.42 Q1180.38 1093.42 1181.51 1092.45 Q1182.65 1091.47 1182.65 1089.46 Q1182.65 1087.43 1181.51 1086.48 Q1180.38 1085.51 1178.02 1085.51 L1173.34 1085.51 M1173.34 1076.63 L1173.34 1083.14 L1177.66 1083.14 Q1179.8 1083.14 1180.84 1082.34 Q1181.9 1081.53 1181.9 1079.88 Q1181.9 1078.25 1180.84 1077.44 Q1179.8 1076.63 1177.66 1076.63 L1173.34 1076.63 M1170.41 1074.22 L1177.88 1074.22 Q1181.22 1074.22 1183.03 1075.61 Q1184.84 1077 1184.84 1079.56 Q1184.84 1081.54 1183.91 1082.72 Q1182.98 1083.89 1181.19 1084.18 Q1183.35 1084.64 1184.53 1086.12 Q1185.73 1087.58 1185.73 1089.78 Q1185.73 1092.67 1183.77 1094.25 Q1181.8 1095.82 1178.17 1095.82 L1170.41 1095.82 L1170.41 1074.22 Z\" fill=\"#000000\" fill-rule=\"evenodd\" fill-opacity=\"1\" /><path clip-path=\"url(#clip700)\" d=\"M1196.9 1081.49 Q1194.76 1081.49 1193.52 1083.16 Q1192.27 1084.83 1192.27 1087.74 Q1192.27 1090.64 1193.5 1092.32 Q1194.75 1093.99 1196.9 1093.99 Q1199.03 1093.99 1200.27 1092.31 Q1201.52 1090.63 1201.52 1087.74 Q1201.52 1084.86 1200.27 1083.18 Q1199.03 1081.49 1196.9 1081.49 M1196.9 1079.23 Q1200.37 1079.23 1202.36 1081.49 Q1204.34 1083.74 1204.34 1087.74 Q1204.34 1091.72 1202.36 1093.99 Q1200.37 1096.24 1196.9 1096.24 Q1193.42 1096.24 1191.43 1093.99 Q1189.47 1091.72 1189.47 1087.74 Q1189.47 1083.74 1191.43 1081.49 Q1193.42 1079.23 1196.9 1079.23 Z\" fill=\"#000000\" fill-rule=\"evenodd\" fill-opacity=\"1\" /><path clip-path=\"url(#clip700)\" d=\"M1215.03 1081.49 Q1212.89 1081.49 1211.65 1083.16 Q1210.4 1084.83 1210.4 1087.74 Q1210.4 1090.64 1211.63 1092.32 Q1212.87 1093.99 1215.03 1093.99 Q1217.16 1093.99 1218.4 1092.31 Q1219.65 1090.63 1219.65 1087.74 Q1219.65 1084.86 1218.4 1083.18 Q1217.16 1081.49 1215.03 1081.49 M1215.03 1079.23 Q1218.5 1079.23 1220.48 1081.49 Q1222.47 1083.74 1222.47 1087.74 Q1222.47 1091.72 1220.48 1093.99 Q1218.5 1096.24 1215.03 1096.24 Q1211.54 1096.24 1209.56 1093.99 Q1207.59 1091.72 1207.59 1087.74 Q1207.59 1083.74 1209.56 1081.49 Q1211.54 1079.23 1215.03 1079.23 Z\" fill=\"#000000\" fill-rule=\"evenodd\" fill-opacity=\"1\" /><path clip-path=\"url(#clip700)\" d=\"M1226.88 1073.31 L1229.54 1073.31 L1229.54 1095.82 L1226.88 1095.82 L1226.88 1073.31 Z\" fill=\"#000000\" fill-rule=\"evenodd\" fill-opacity=\"1\" /><path clip-path=\"url(#clip700)\" d=\"M1194.68 1121.25 Q1191.49 1121.25 1189.61 1123.62 Q1187.75 1125.99 1187.75 1130.09 Q1187.75 1134.17 1189.61 1136.54 Q1191.49 1138.91 1194.68 1138.91 Q1197.86 1138.91 1199.71 1136.54 Q1201.58 1134.17 1201.58 1130.09 Q1201.58 1125.99 1199.71 1123.62 Q1197.86 1121.25 1194.68 1121.25 M1194.68 1118.87 Q1199.22 1118.87 1201.94 1121.93 Q1204.66 1124.96 1204.66 1130.09 Q1204.66 1135.19 1201.94 1138.25 Q1199.22 1141.28 1194.68 1141.28 Q1190.12 1141.28 1187.39 1138.25 Q1184.67 1135.21 1184.67 1130.09 Q1184.67 1124.96 1187.39 1121.93 Q1190.12 1118.87 1194.68 1118.87 Z\" fill=\"#000000\" fill-rule=\"evenodd\" fill-opacity=\"1\" /><path clip-path=\"url(#clip700)\" d=\"M1217.32 1118.35 L1217.32 1120.57 L1214.77 1120.57 Q1213.34 1120.57 1212.78 1121.15 Q1212.23 1121.72 1212.23 1123.23 L1212.23 1124.66 L1216.61 1124.66 L1216.61 1126.73 L1212.23 1126.73 L1212.23 1140.86 L1209.55 1140.86 L1209.55 1126.73 L1207 1126.73 L1207 1124.66 L1209.55 1124.66 L1209.55 1123.53 Q1209.55 1120.83 1210.81 1119.6 Q1212.07 1118.35 1214.8 1118.35 L1217.32 1118.35 Z\" fill=\"#000000\" fill-rule=\"evenodd\" fill-opacity=\"1\" /><path clip-path=\"url(#clip700)\" d=\"M1227.75 1118.35 L1227.75 1120.57 L1225.2 1120.57 Q1223.77 1120.57 1223.21 1121.15 Q1222.66 1121.72 1222.66 1123.23 L1222.66 1124.66 L1227.04 1124.66 L1227.04 1126.73 L1222.66 1126.73 L1222.66 1140.86 L1219.98 1140.86 L1219.98 1126.73 L1217.43 1126.73 L1217.43 1124.66 L1219.98 1124.66 L1219.98 1123.53 Q1219.98 1120.83 1221.24 1119.6 Q1222.5 1118.35 1225.23 1118.35 L1227.75 1118.35 Z\" fill=\"#000000\" fill-rule=\"evenodd\" fill-opacity=\"1\" /><path clip-path=\"url(#clip700)\" d=\"M1240.31 1125.14 L1240.31 1127.66 Q1239.18 1127.08 1237.96 1126.79 Q1236.75 1126.5 1235.45 1126.5 Q1233.46 1126.5 1232.47 1127.11 Q1231.48 1127.71 1231.48 1128.93 Q1231.48 1129.85 1232.19 1130.39 Q1232.9 1130.91 1235.04 1131.39 L1235.95 1131.59 Q1238.79 1132.2 1239.97 1133.31 Q1241.18 1134.41 1241.18 1136.39 Q1241.18 1138.65 1239.38 1139.97 Q1237.6 1141.28 1234.48 1141.28 Q1233.17 1141.28 1231.76 1141.02 Q1230.35 1140.78 1228.79 1140.27 L1228.79 1137.52 Q1230.27 1138.29 1231.7 1138.68 Q1233.13 1139.06 1234.53 1139.06 Q1236.42 1139.06 1237.43 1138.42 Q1238.44 1137.77 1238.44 1136.6 Q1238.44 1135.51 1237.7 1134.93 Q1236.98 1134.35 1234.51 1133.82 L1233.58 1133.6 Q1231.11 1133.08 1230.01 1132.01 Q1228.91 1130.93 1228.91 1129.04 Q1228.91 1126.76 1230.53 1125.51 Q1232.15 1124.27 1235.13 1124.27 Q1236.6 1124.27 1237.91 1124.49 Q1239.21 1124.7 1240.31 1125.14 Z\" fill=\"#000000\" fill-rule=\"evenodd\" fill-opacity=\"1\" /><path clip-path=\"url(#clip700)\" d=\"M1259.27 1132.1 L1259.27 1133.4 L1247.03 1133.4 Q1247.21 1136.15 1248.68 1137.59 Q1250.17 1139.03 1252.82 1139.03 Q1254.36 1139.03 1255.79 1138.65 Q1257.23 1138.27 1258.65 1137.52 L1258.65 1140.04 Q1257.22 1140.65 1255.72 1140.97 Q1254.21 1141.28 1252.66 1141.28 Q1248.79 1141.28 1246.51 1139.03 Q1244.26 1136.77 1244.26 1132.92 Q1244.26 1128.94 1246.4 1126.61 Q1248.55 1124.27 1252.2 1124.27 Q1255.47 1124.27 1257.36 1126.38 Q1259.27 1128.48 1259.27 1132.1 M1256.61 1131.32 Q1256.58 1129.13 1255.38 1127.83 Q1254.2 1126.53 1252.23 1126.53 Q1250 1126.53 1248.66 1127.79 Q1247.32 1129.04 1247.12 1131.33 L1256.61 1131.32 Z\" fill=\"#000000\" fill-rule=\"evenodd\" fill-opacity=\"1\" /><path clip-path=\"url(#clip700)\" d=\"M1266.28 1120.06 L1266.28 1124.66 L1271.76 1124.66 L1271.76 1126.73 L1266.28 1126.73 L1266.28 1135.53 Q1266.28 1137.51 1266.81 1138.07 Q1267.36 1138.64 1269.03 1138.64 L1271.76 1138.64 L1271.76 1140.86 L1269.03 1140.86 Q1265.94 1140.86 1264.77 1139.72 Q1263.6 1138.56 1263.6 1135.53 L1263.6 1126.73 L1261.65 1126.73 L1261.65 1124.66 L1263.6 1124.66 L1263.6 1120.06 L1266.28 1120.06 Z\" fill=\"#000000\" fill-rule=\"evenodd\" fill-opacity=\"1\" /><path clip-path=\"url(#clip700)\" d=\"M1275.38 1119.26 L1278.3 1119.26 L1278.3 1140.86 L1275.38 1140.86 L1275.38 1119.26 Z\" fill=\"#000000\" fill-rule=\"evenodd\" fill-opacity=\"1\" /><path clip-path=\"url(#clip700)\" d=\"M1297.47 1131.08 L1297.47 1140.86 L1294.81 1140.86 L1294.81 1131.17 Q1294.81 1128.87 1293.91 1127.73 Q1293.01 1126.59 1291.22 1126.59 Q1289.06 1126.59 1287.82 1127.96 Q1286.57 1129.33 1286.57 1131.71 L1286.57 1140.86 L1283.9 1140.86 L1283.9 1124.66 L1286.57 1124.66 L1286.57 1127.18 Q1287.53 1125.72 1288.82 1124.99 Q1290.12 1124.27 1291.81 1124.27 Q1294.6 1124.27 1296.04 1126.01 Q1297.47 1127.73 1297.47 1131.08 Z\" fill=\"#000000\" fill-rule=\"evenodd\" fill-opacity=\"1\" /><path clip-path=\"url(#clip700)\" d=\"M1305.41 1120.06 L1305.41 1124.66 L1310.89 1124.66 L1310.89 1126.73 L1305.41 1126.73 L1305.41 1135.53 Q1305.41 1137.51 1305.95 1138.07 Q1306.5 1138.64 1308.16 1138.64 L1310.89 1138.64 L1310.89 1140.86 L1308.16 1140.86 Q1305.08 1140.86 1303.91 1139.72 Q1302.73 1138.56 1302.73 1135.53 L1302.73 1126.73 L1300.78 1126.73 L1300.78 1124.66 L1302.73 1124.66 L1302.73 1120.06 L1305.41 1120.06 Z\" fill=\"#000000\" fill-rule=\"evenodd\" fill-opacity=\"1\" /><path clip-path=\"url(#clip700)\" d=\"M1328.26 1132.1 L1328.26 1133.4 L1316.02 1133.4 Q1316.19 1136.15 1317.67 1137.59 Q1319.16 1139.03 1321.8 1139.03 Q1323.34 1139.03 1324.77 1138.65 Q1326.22 1138.27 1327.63 1137.52 L1327.63 1140.04 Q1326.2 1140.65 1324.7 1140.97 Q1323.19 1141.28 1321.64 1141.28 Q1317.77 1141.28 1315.5 1139.03 Q1313.24 1136.77 1313.24 1132.92 Q1313.24 1128.94 1315.38 1126.61 Q1317.53 1124.27 1321.18 1124.27 Q1324.45 1124.27 1326.35 1126.38 Q1328.26 1128.48 1328.26 1132.1 M1325.59 1131.32 Q1325.56 1129.13 1324.36 1127.83 Q1323.18 1126.53 1321.21 1126.53 Q1318.98 1126.53 1317.64 1127.79 Q1316.31 1129.04 1316.1 1131.33 L1325.59 1131.32 Z\" fill=\"#000000\" fill-rule=\"evenodd\" fill-opacity=\"1\" /><path clip-path=\"url(#clip700)\" d=\"M1343.29 1132.57 Q1343.29 1129.68 1342.09 1128.09 Q1340.9 1126.5 1338.74 1126.5 Q1336.6 1126.5 1335.4 1128.09 Q1334.22 1129.68 1334.22 1132.57 Q1334.22 1135.45 1335.4 1137.05 Q1336.6 1138.64 1338.74 1138.64 Q1340.9 1138.64 1342.09 1137.05 Q1343.29 1135.45 1343.29 1132.57 M1345.95 1138.85 Q1345.95 1142.99 1344.11 1145 Q1342.27 1147.03 1338.48 1147.03 Q1337.08 1147.03 1335.84 1146.81 Q1334.59 1146.61 1333.42 1146.17 L1333.42 1143.58 Q1334.59 1144.22 1335.74 1144.52 Q1336.88 1144.83 1338.06 1144.83 Q1340.68 1144.83 1341.99 1143.45 Q1343.29 1142.09 1343.29 1139.33 L1343.29 1138.01 Q1342.46 1139.45 1341.17 1140.16 Q1339.89 1140.86 1338.09 1140.86 Q1335.11 1140.86 1333.29 1138.59 Q1331.47 1136.32 1331.47 1132.57 Q1331.47 1128.81 1333.29 1126.54 Q1335.11 1124.27 1338.09 1124.27 Q1339.89 1124.27 1341.17 1124.98 Q1342.46 1125.69 1343.29 1127.12 L1343.29 1124.66 L1345.95 1124.66 L1345.95 1138.85 Z\" fill=\"#000000\" fill-rule=\"evenodd\" fill-opacity=\"1\" /><path clip-path=\"url(#clip700)\" d=\"M1365.29 1132.1 L1365.29 1133.4 L1353.05 1133.4 Q1353.23 1136.15 1354.7 1137.59 Q1356.19 1139.03 1358.84 1139.03 Q1360.37 1139.03 1361.81 1138.65 Q1363.25 1138.27 1364.67 1137.52 L1364.67 1140.04 Q1363.24 1140.65 1361.73 1140.97 Q1360.23 1141.28 1358.68 1141.28 Q1354.8 1141.28 1352.53 1139.03 Q1350.27 1136.77 1350.27 1132.92 Q1350.27 1128.94 1352.42 1126.61 Q1354.57 1124.27 1358.22 1124.27 Q1361.49 1124.27 1363.38 1126.38 Q1365.29 1128.48 1365.29 1132.1 M1362.63 1131.32 Q1362.6 1129.13 1361.4 1127.83 Q1360.21 1126.53 1358.25 1126.53 Q1356.02 1126.53 1354.67 1127.79 Q1353.34 1129.04 1353.14 1131.33 L1362.63 1131.32 Z\" fill=\"#000000\" fill-rule=\"evenodd\" fill-opacity=\"1\" /><path clip-path=\"url(#clip700)\" d=\"M1379.05 1127.15 Q1378.6 1126.89 1378.07 1126.77 Q1377.55 1126.64 1376.91 1126.64 Q1374.65 1126.64 1373.44 1128.12 Q1372.24 1129.58 1372.24 1132.33 L1372.24 1140.86 L1369.56 1140.86 L1369.56 1124.66 L1372.24 1124.66 L1372.24 1127.18 Q1373.08 1125.7 1374.42 1124.99 Q1375.77 1124.27 1377.69 1124.27 Q1377.97 1124.27 1378.3 1124.31 Q1378.63 1124.34 1379.04 1124.42 L1379.05 1127.15 Z\" fill=\"#000000\" fill-rule=\"evenodd\" fill-opacity=\"1\" /><path clip-path=\"url(#clip700)\" d=\"M993.172 1019.42 Q989.99 1019.42 988.109 1021.79 Q986.242 1024.16 986.242 1028.26 Q986.242 1032.34 988.109 1034.71 Q989.99 1037.08 993.172 1037.08 Q996.355 1037.08 998.207 1034.71 Q1000.07 1032.34 1000.07 1028.26 Q1000.07 1024.16 998.207 1021.79 Q996.355 1019.42 993.172 1019.42 M993.172 1017.04 Q997.715 1017.04 1000.44 1020.1 Q1003.16 1023.13 1003.16 1028.26 Q1003.16 1033.36 1000.44 1036.42 Q997.715 1039.45 993.172 1039.45 Q988.615 1039.45 985.881 1036.42 Q983.161 1033.38 983.161 1028.26 Q983.161 1023.13 985.881 1020.1 Q988.615 1017.04 993.172 1017.04 Z\" fill=\"#000000\" fill-rule=\"evenodd\" fill-opacity=\"1\" /><path clip-path=\"url(#clip700)\" d=\"M1015.81 1016.52 L1015.81 1018.74 L1013.27 1018.74 Q1011.84 1018.74 1011.27 1019.31 Q1010.72 1019.89 1010.72 1021.4 L1010.72 1022.83 L1015.11 1022.83 L1015.11 1024.9 L1010.72 1024.9 L1010.72 1039.03 L1008.05 1039.03 L1008.05 1024.9 L1005.5 1024.9 L1005.5 1022.83 L1008.05 1022.83 L1008.05 1021.7 Q1008.05 1019 1009.3 1017.77 Q1010.56 1016.52 1013.3 1016.52 L1015.81 1016.52 Z\" fill=\"#000000\" fill-rule=\"evenodd\" fill-opacity=\"1\" /><path clip-path=\"url(#clip700)\" d=\"M1026.25 1016.52 L1026.25 1018.74 L1023.7 1018.74 Q1022.27 1018.74 1021.7 1019.31 Q1021.15 1019.89 1021.15 1021.4 L1021.15 1022.83 L1025.54 1022.83 L1025.54 1024.9 L1021.15 1024.9 L1021.15 1039.03 L1018.48 1039.03 L1018.48 1024.9 L1015.93 1024.9 L1015.93 1022.83 L1018.48 1022.83 L1018.48 1021.7 Q1018.48 1019 1019.73 1017.77 Q1020.99 1016.52 1023.73 1016.52 L1026.25 1016.52 Z\" fill=\"#000000\" fill-rule=\"evenodd\" fill-opacity=\"1\" /><path clip-path=\"url(#clip700)\" d=\"M1038.8 1023.31 L1038.8 1025.83 Q1037.67 1025.25 1036.46 1024.96 Q1035.24 1024.67 1033.94 1024.67 Q1031.96 1024.67 1030.96 1025.28 Q1029.98 1025.88 1029.98 1027.1 Q1029.98 1028.02 1030.69 1028.56 Q1031.4 1029.08 1033.54 1029.56 L1034.45 1029.76 Q1037.28 1030.37 1038.47 1031.48 Q1039.67 1032.58 1039.67 1034.56 Q1039.67 1036.82 1037.88 1038.14 Q1036.1 1039.45 1032.97 1039.45 Q1031.67 1039.45 1030.25 1039.19 Q1028.85 1038.95 1027.29 1038.44 L1027.29 1035.69 Q1028.76 1036.46 1030.19 1036.85 Q1031.63 1037.23 1033.03 1037.23 Q1034.91 1037.23 1035.92 1036.59 Q1036.94 1035.94 1036.94 1034.77 Q1036.94 1033.68 1036.2 1033.1 Q1035.48 1032.52 1033 1031.99 L1032.08 1031.77 Q1029.6 1031.25 1028.5 1030.18 Q1027.4 1029.09 1027.4 1027.21 Q1027.4 1024.93 1029.02 1023.68 Q1030.64 1022.44 1033.62 1022.44 Q1035.1 1022.44 1036.4 1022.66 Q1037.7 1022.87 1038.8 1023.31 Z\" fill=\"#000000\" fill-rule=\"evenodd\" fill-opacity=\"1\" /><path clip-path=\"url(#clip700)\" d=\"M1057.77 1030.27 L1057.77 1031.57 L1045.53 1031.57 Q1045.7 1034.32 1047.18 1035.76 Q1048.67 1037.2 1051.32 1037.2 Q1052.85 1037.2 1054.28 1036.82 Q1055.73 1036.44 1057.15 1035.69 L1057.15 1038.21 Q1055.72 1038.82 1054.21 1039.14 Q1052.71 1039.45 1051.16 1039.45 Q1047.28 1039.45 1045.01 1037.2 Q1042.75 1034.94 1042.75 1031.09 Q1042.75 1027.11 1044.89 1024.78 Q1047.05 1022.44 1050.7 1022.44 Q1053.96 1022.44 1055.86 1024.55 Q1057.77 1026.65 1057.77 1030.27 M1055.11 1029.49 Q1055.08 1027.3 1053.88 1026 Q1052.69 1024.7 1050.72 1024.7 Q1048.5 1024.7 1047.15 1025.96 Q1045.82 1027.21 1045.62 1029.5 L1055.11 1029.49 Z\" fill=\"#000000\" fill-rule=\"evenodd\" fill-opacity=\"1\" /><path clip-path=\"url(#clip700)\" d=\"M1064.77 1018.23 L1064.77 1022.83 L1070.26 1022.83 L1070.26 1024.9 L1064.77 1024.9 L1064.77 1033.7 Q1064.77 1035.68 1065.31 1036.24 Q1065.86 1036.81 1067.52 1036.81 L1070.26 1036.81 L1070.26 1039.03 L1067.52 1039.03 Q1064.44 1039.03 1063.27 1037.89 Q1062.1 1036.73 1062.1 1033.7 L1062.1 1024.9 L1060.14 1024.9 L1060.14 1022.83 L1062.1 1022.83 L1062.1 1018.23 L1064.77 1018.23 Z\" fill=\"#000000\" fill-rule=\"evenodd\" fill-opacity=\"1\" /><path clip-path=\"url(#clip700)\" d=\"M1073.87 1017.43 L1076.79 1017.43 L1076.79 1039.03 L1073.87 1039.03 L1073.87 1017.43 Z\" fill=\"#000000\" fill-rule=\"evenodd\" fill-opacity=\"1\" /><path clip-path=\"url(#clip700)\" d=\"M1095.96 1029.25 L1095.96 1039.03 L1093.3 1039.03 L1093.3 1029.34 Q1093.3 1027.04 1092.41 1025.9 Q1091.51 1024.75 1089.71 1024.75 Q1087.56 1024.75 1086.31 1026.13 Q1085.07 1027.5 1085.07 1029.88 L1085.07 1039.03 L1082.39 1039.03 L1082.39 1022.83 L1085.07 1022.83 L1085.07 1025.35 Q1086.02 1023.89 1087.31 1023.16 Q1088.61 1022.44 1090.31 1022.44 Q1093.1 1022.44 1094.53 1024.18 Q1095.96 1025.9 1095.96 1029.25 Z\" fill=\"#000000\" fill-rule=\"evenodd\" fill-opacity=\"1\" /><path clip-path=\"url(#clip700)\" d=\"M1103.91 1018.23 L1103.91 1022.83 L1109.39 1022.83 L1109.39 1024.9 L1103.91 1024.9 L1103.91 1033.7 Q1103.91 1035.68 1104.44 1036.24 Q1104.99 1036.81 1106.66 1036.81 L1109.39 1036.81 L1109.39 1039.03 L1106.66 1039.03 Q1103.57 1039.03 1102.4 1037.89 Q1101.23 1036.73 1101.23 1033.7 L1101.23 1024.9 L1099.28 1024.9 L1099.28 1022.83 L1101.23 1022.83 L1101.23 1018.23 L1103.91 1018.23 Z\" fill=\"#000000\" fill-rule=\"evenodd\" fill-opacity=\"1\" /><path clip-path=\"url(#clip700)\" d=\"M1126.75 1030.27 L1126.75 1031.57 L1114.51 1031.57 Q1114.69 1034.32 1116.16 1035.76 Q1117.65 1037.2 1120.3 1037.2 Q1121.83 1037.2 1123.26 1036.82 Q1124.71 1036.44 1126.13 1035.69 L1126.13 1038.21 Q1124.7 1038.82 1123.19 1039.14 Q1121.69 1039.45 1120.14 1039.45 Q1116.26 1039.45 1113.99 1037.2 Q1111.73 1034.94 1111.73 1031.09 Q1111.73 1027.11 1113.87 1024.78 Q1116.03 1022.44 1119.68 1022.44 Q1122.95 1022.44 1124.84 1024.55 Q1126.75 1026.65 1126.75 1030.27 M1124.09 1029.49 Q1124.06 1027.3 1122.86 1026 Q1121.67 1024.7 1119.71 1024.7 Q1117.48 1024.7 1116.13 1025.96 Q1114.8 1027.21 1114.6 1029.5 L1124.09 1029.49 Z\" fill=\"#000000\" fill-rule=\"evenodd\" fill-opacity=\"1\" /><path clip-path=\"url(#clip700)\" d=\"M1141.78 1030.74 Q1141.78 1027.85 1140.58 1026.26 Q1139.4 1024.67 1137.24 1024.67 Q1135.1 1024.67 1133.9 1026.26 Q1132.71 1027.85 1132.71 1030.74 Q1132.71 1033.62 1133.9 1035.21 Q1135.1 1036.81 1137.24 1036.81 Q1139.4 1036.81 1140.58 1035.21 Q1141.78 1033.62 1141.78 1030.74 M1144.44 1037.02 Q1144.44 1041.16 1142.61 1043.17 Q1140.77 1045.2 1136.98 1045.2 Q1135.58 1045.2 1134.33 1044.98 Q1133.09 1044.78 1131.92 1044.34 L1131.92 1041.75 Q1133.09 1042.39 1134.23 1042.69 Q1135.37 1043 1136.56 1043 Q1139.18 1043 1140.48 1041.62 Q1141.78 1040.26 1141.78 1037.5 L1141.78 1036.18 Q1140.96 1037.62 1139.67 1038.33 Q1138.38 1039.03 1136.59 1039.03 Q1133.61 1039.03 1131.79 1036.76 Q1129.96 1034.49 1129.96 1030.74 Q1129.96 1026.98 1131.79 1024.71 Q1133.61 1022.44 1136.59 1022.44 Q1138.38 1022.44 1139.67 1023.15 Q1140.96 1023.86 1141.78 1025.29 L1141.78 1022.83 L1144.44 1022.83 L1144.44 1037.02 Z\" fill=\"#000000\" fill-rule=\"evenodd\" fill-opacity=\"1\" /><path clip-path=\"url(#clip700)\" d=\"M1163.79 1030.27 L1163.79 1031.57 L1151.55 1031.57 Q1151.72 1034.32 1153.2 1035.76 Q1154.69 1037.2 1157.34 1037.2 Q1158.87 1037.2 1160.3 1036.82 Q1161.75 1036.44 1163.17 1035.69 L1163.17 1038.21 Q1161.73 1038.82 1160.23 1039.14 Q1158.72 1039.45 1157.18 1039.45 Q1153.3 1039.45 1151.03 1037.2 Q1148.77 1034.94 1148.77 1031.09 Q1148.77 1027.11 1150.91 1024.78 Q1153.07 1022.44 1156.71 1022.44 Q1159.98 1022.44 1161.88 1024.55 Q1163.79 1026.65 1163.79 1030.27 M1161.13 1029.49 Q1161.1 1027.3 1159.9 1026 Q1158.71 1024.7 1156.74 1024.7 Q1154.51 1024.7 1153.17 1025.96 Q1151.84 1027.21 1151.64 1029.5 L1161.13 1029.49 Z\" fill=\"#000000\" fill-rule=\"evenodd\" fill-opacity=\"1\" /><path clip-path=\"url(#clip700)\" d=\"M1177.55 1025.32 Q1177.1 1025.06 1176.56 1024.94 Q1176.04 1024.81 1175.41 1024.81 Q1173.15 1024.81 1171.93 1026.29 Q1170.73 1027.75 1170.73 1030.5 L1170.73 1039.03 L1168.06 1039.03 L1168.06 1022.83 L1170.73 1022.83 L1170.73 1025.35 Q1171.57 1023.87 1172.92 1023.16 Q1174.26 1022.44 1176.19 1022.44 Q1176.46 1022.44 1176.79 1022.48 Q1177.13 1022.51 1177.53 1022.58 L1177.55 1025.32 Z\" fill=\"#000000\" fill-rule=\"evenodd\" fill-opacity=\"1\" /><path clip-path=\"url(#clip700)\" d=\"M874.425 1048.13 L874.425 1050.98 Q872.761 1050.19 871.285 1049.8 Q869.81 1049.4 868.435 1049.4 Q866.048 1049.4 864.746 1050.33 Q863.458 1051.26 863.458 1052.96 Q863.458 1054.4 864.312 1055.13 Q865.18 1055.86 867.582 1056.31 L869.347 1056.67 Q872.616 1057.29 874.164 1058.87 Q875.727 1060.43 875.727 1063.06 Q875.727 1066.2 873.615 1067.82 Q871.517 1069.44 867.451 1069.44 Q865.918 1069.44 864.182 1069.1 Q862.46 1068.75 860.608 1068.07 L860.608 1065.06 Q862.388 1066.06 864.095 1066.56 Q865.802 1067.07 867.451 1067.07 Q869.954 1067.07 871.314 1066.09 Q872.674 1065.1 872.674 1063.28 Q872.674 1061.69 871.69 1060.79 Q870.721 1059.89 868.493 1059.45 L866.714 1059.1 Q863.444 1058.45 861.983 1057.06 Q860.521 1055.67 860.521 1053.2 Q860.521 1050.33 862.532 1048.68 Q864.558 1047.03 868.102 1047.03 Q869.622 1047.03 871.199 1047.31 Q872.775 1047.58 874.425 1048.13 Z\" fill=\"#000000\" fill-rule=\"evenodd\" fill-opacity=\"1\" /><path clip-path=\"url(#clip700)\" d=\"M880.168 1052.82 L882.83 1052.82 L882.83 1069.02 L880.168 1069.02 L880.168 1052.82 M880.168 1046.51 L882.83 1046.51 L882.83 1049.88 L880.168 1049.88 L880.168 1046.51 Z\" fill=\"#000000\" fill-rule=\"evenodd\" fill-opacity=\"1\" /><path clip-path=\"url(#clip700)\" d=\"M899.063 1060.73 Q899.063 1057.84 897.862 1056.25 Q896.676 1054.66 894.52 1054.66 Q892.379 1054.66 891.178 1056.25 Q889.992 1057.84 889.992 1060.73 Q889.992 1063.61 891.178 1065.2 Q892.379 1066.79 894.52 1066.79 Q896.676 1066.79 897.862 1065.2 Q899.063 1063.61 899.063 1060.73 M901.725 1067.01 Q901.725 1071.15 899.888 1073.16 Q898.05 1075.19 894.26 1075.19 Q892.856 1075.19 891.612 1074.97 Q890.368 1074.77 889.196 1074.33 L889.196 1071.74 Q890.368 1072.38 891.511 1072.68 Q892.654 1072.99 893.84 1072.99 Q896.459 1072.99 897.761 1071.61 Q899.063 1070.25 899.063 1067.49 L899.063 1066.17 Q898.238 1067.6 896.951 1068.31 Q895.663 1069.02 893.869 1069.02 Q890.889 1069.02 889.066 1066.75 Q887.243 1064.48 887.243 1060.73 Q887.243 1056.97 889.066 1054.7 Q890.889 1052.43 893.869 1052.43 Q895.663 1052.43 896.951 1053.14 Q898.238 1053.85 899.063 1055.28 L899.063 1052.82 L901.725 1052.82 L901.725 1067.01 Z\" fill=\"#000000\" fill-rule=\"evenodd\" fill-opacity=\"1\" /><path clip-path=\"url(#clip700)\" d=\"M920.677 1059.24 L920.677 1069.02 L918.015 1069.02 L918.015 1059.33 Q918.015 1057.03 917.118 1055.89 Q916.221 1054.74 914.427 1054.74 Q912.272 1054.74 911.028 1056.12 Q909.783 1057.49 909.783 1059.86 L909.783 1069.02 L907.107 1069.02 L907.107 1052.82 L909.783 1052.82 L909.783 1055.34 Q910.738 1053.88 912.026 1053.15 Q913.328 1052.43 915.021 1052.43 Q917.813 1052.43 919.245 1054.16 Q920.677 1055.89 920.677 1059.24 Z\" fill=\"#000000\" fill-rule=\"evenodd\" fill-opacity=\"1\" /><path clip-path=\"url(#clip700)\" d=\"M939.847 1060.26 L939.847 1061.56 L927.607 1061.56 Q927.781 1064.31 929.257 1065.75 Q930.747 1067.19 933.394 1067.19 Q934.928 1067.19 936.36 1066.81 Q937.807 1066.43 939.225 1065.68 L939.225 1068.2 Q937.792 1068.81 936.288 1069.12 Q934.783 1069.44 933.235 1069.44 Q929.358 1069.44 927.087 1067.19 Q924.83 1064.93 924.83 1061.08 Q924.83 1057.1 926.971 1054.77 Q929.126 1052.43 932.772 1052.43 Q936.042 1052.43 937.937 1054.54 Q939.847 1056.64 939.847 1060.26 M937.185 1059.47 Q937.156 1057.29 935.955 1055.99 Q934.769 1054.69 932.801 1054.69 Q930.573 1054.69 929.228 1055.94 Q927.897 1057.2 927.694 1059.49 L937.185 1059.47 Z\" fill=\"#000000\" fill-rule=\"evenodd\" fill-opacity=\"1\" /><path clip-path=\"url(#clip700)\" d=\"M954.879 1055.28 L954.879 1046.51 L957.541 1046.51 L957.541 1069.02 L954.879 1069.02 L954.879 1066.59 Q954.04 1068.04 952.752 1068.75 Q951.479 1069.44 949.685 1069.44 Q946.748 1069.44 944.896 1067.1 Q943.059 1064.75 943.059 1060.94 Q943.059 1057.12 944.896 1054.77 Q946.748 1052.43 949.685 1052.43 Q951.479 1052.43 952.752 1053.14 Q954.04 1053.83 954.879 1055.28 M945.807 1060.94 Q945.807 1063.87 947.008 1065.55 Q948.224 1067.21 950.336 1067.21 Q952.448 1067.21 953.663 1065.55 Q954.879 1063.87 954.879 1060.94 Q954.879 1058 953.663 1056.33 Q952.448 1054.66 950.336 1054.66 Q948.224 1054.66 947.008 1056.33 Q945.807 1058 945.807 1060.94 Z\" fill=\"#000000\" fill-rule=\"evenodd\" fill-opacity=\"1\" /><path clip-path=\"url(#clip700)\" d=\"M767.464 1278.13 L767.464 1286.04 L772.152 1286.04 Q774.51 1286.04 775.638 1285.08 Q776.781 1284.09 776.781 1282.08 Q776.781 1280.06 775.638 1279.1 Q774.51 1278.13 772.152 1278.13 L767.464 1278.13 M767.464 1269.25 L767.464 1275.76 L771.79 1275.76 Q773.931 1275.76 774.973 1274.96 Q776.029 1274.15 776.029 1272.5 Q776.029 1270.87 774.973 1270.06 Q773.931 1269.25 771.79 1269.25 L767.464 1269.25 M764.542 1266.85 L772.007 1266.85 Q775.349 1266.85 777.157 1268.24 Q778.966 1269.62 778.966 1272.18 Q778.966 1274.17 778.04 1275.34 Q777.114 1276.51 775.32 1276.8 Q777.476 1277.26 778.662 1278.74 Q779.863 1280.2 779.863 1282.4 Q779.863 1285.29 777.895 1286.87 Q775.928 1288.45 772.296 1288.45 L764.542 1288.45 L764.542 1266.85 Z\" fill=\"#000000\" fill-rule=\"evenodd\" fill-opacity=\"1\" /><path clip-path=\"url(#clip700)\" d=\"M784.753 1272.24 L787.415 1272.24 L787.415 1288.45 L784.753 1288.45 L784.753 1272.24 M784.753 1265.93 L787.415 1265.93 L787.415 1269.31 L784.753 1269.31 L784.753 1265.93 Z\" fill=\"#000000\" fill-rule=\"evenodd\" fill-opacity=\"1\" /><path clip-path=\"url(#clip700)\" d=\"M803.647 1280.16 Q803.647 1277.26 802.447 1275.67 Q801.26 1274.08 799.105 1274.08 Q796.963 1274.08 795.763 1275.67 Q794.576 1277.26 794.576 1280.16 Q794.576 1283.04 795.763 1284.63 Q796.963 1286.22 799.105 1286.22 Q801.26 1286.22 802.447 1284.63 Q803.647 1283.04 803.647 1280.16 M806.309 1286.44 Q806.309 1290.57 804.472 1292.58 Q802.635 1294.61 798.844 1294.61 Q797.441 1294.61 796.197 1294.39 Q794.952 1294.19 793.781 1293.76 L793.781 1291.17 Q794.952 1291.8 796.095 1292.11 Q797.238 1292.41 798.425 1292.41 Q801.043 1292.41 802.345 1291.04 Q803.647 1289.68 803.647 1286.91 L803.647 1285.6 Q802.823 1287.03 801.535 1287.74 Q800.248 1288.45 798.454 1288.45 Q795.473 1288.45 793.65 1286.17 Q791.827 1283.9 791.827 1280.16 Q791.827 1276.39 793.65 1274.12 Q795.473 1271.85 798.454 1271.85 Q800.248 1271.85 801.535 1272.56 Q802.823 1273.27 803.647 1274.7 L803.647 1272.24 L806.309 1272.24 L806.309 1286.44 Z\" fill=\"#000000\" fill-rule=\"evenodd\" fill-opacity=\"1\" /><path clip-path=\"url(#clip700)\" d=\"M811.908 1266.85 L814.831 1266.85 L814.831 1288.45 L811.908 1288.45 L811.908 1266.85 Z\" fill=\"#000000\" fill-rule=\"evenodd\" fill-opacity=\"1\" /><path clip-path=\"url(#clip700)\" d=\"M834 1278.67 L834 1288.45 L831.338 1288.45 L831.338 1278.75 Q831.338 1276.45 830.441 1275.31 Q829.544 1274.17 827.75 1274.17 Q825.595 1274.17 824.35 1275.54 Q823.106 1276.92 823.106 1279.29 L823.106 1288.45 L820.43 1288.45 L820.43 1272.24 L823.106 1272.24 L823.106 1274.76 Q824.061 1273.3 825.349 1272.58 Q826.651 1271.85 828.343 1271.85 Q831.136 1271.85 832.568 1273.59 Q834 1275.31 834 1278.67 Z\" fill=\"#000000\" fill-rule=\"evenodd\" fill-opacity=\"1\" /><path clip-path=\"url(#clip700)\" d=\"M841.943 1267.64 L841.943 1272.24 L847.426 1272.24 L847.426 1274.31 L841.943 1274.31 L841.943 1283.11 Q841.943 1285.09 842.478 1285.65 Q843.028 1286.22 844.692 1286.22 L847.426 1286.22 L847.426 1288.45 L844.692 1288.45 Q841.61 1288.45 840.438 1287.3 Q839.266 1286.15 839.266 1283.11 L839.266 1274.31 L837.313 1274.31 L837.313 1272.24 L839.266 1272.24 L839.266 1267.64 L841.943 1267.64 Z\" fill=\"#000000\" fill-rule=\"evenodd\" fill-opacity=\"1\" /><path clip-path=\"url(#clip700)\" d=\"M990.98 1259.86 L993.902 1259.86 L993.902 1281.46 L990.98 1281.46 L990.98 1259.86 Z\" fill=\"#000000\" fill-rule=\"evenodd\" fill-opacity=\"1\" /><path clip-path=\"url(#clip700)\" d=\"M1013.07 1271.68 L1013.07 1281.46 L1010.41 1281.46 L1010.41 1271.76 Q1010.41 1269.46 1009.51 1268.32 Q1008.62 1267.18 1006.82 1267.18 Q1004.67 1267.18 1003.42 1268.55 Q1002.18 1269.92 1002.18 1272.3 L1002.18 1281.46 L999.501 1281.46 L999.501 1265.25 L1002.18 1265.25 L1002.18 1267.77 Q1003.13 1266.31 1004.42 1265.58 Q1005.72 1264.86 1007.41 1264.86 Q1010.21 1264.86 1011.64 1266.6 Q1013.07 1268.32 1013.07 1271.68 Z\" fill=\"#000000\" fill-rule=\"evenodd\" fill-opacity=\"1\" /><path clip-path=\"url(#clip700)\" d=\"M1021.01 1260.65 L1021.01 1265.25 L1026.5 1265.25 L1026.5 1267.32 L1021.01 1267.32 L1021.01 1276.12 Q1021.01 1278.1 1021.55 1278.66 Q1022.1 1279.23 1023.76 1279.23 L1026.5 1279.23 L1026.5 1281.46 L1023.76 1281.46 Q1020.68 1281.46 1019.51 1280.31 Q1018.34 1279.16 1018.34 1276.12 L1018.34 1267.32 L1016.38 1267.32 L1016.38 1265.25 L1018.34 1265.25 L1018.34 1260.65 L1021.01 1260.65 Z\" fill=\"#000000\" fill-rule=\"evenodd\" fill-opacity=\"1\" /><path clip-path=\"url(#clip700)\" d=\"M1030.88 1279 L1035.66 1279 L1035.66 1262.52 L1030.46 1263.56 L1030.46 1260.9 L1035.63 1259.86 L1038.55 1259.86 L1038.55 1279 L1043.32 1279 L1043.32 1281.46 L1030.88 1281.46 L1030.88 1279 Z\" fill=\"#000000\" fill-rule=\"evenodd\" fill-opacity=\"1\" /><path clip-path=\"url(#clip700)\" d=\"M1051.74 1279 L1061.94 1279 L1061.94 1281.46 L1048.23 1281.46 L1048.23 1279 Q1049.89 1277.27 1052.76 1274.38 Q1055.64 1271.47 1056.37 1270.63 Q1057.78 1269.06 1058.33 1267.97 Q1058.89 1266.87 1058.89 1265.82 Q1058.89 1264.09 1057.68 1263.01 Q1056.47 1261.92 1054.54 1261.92 Q1053.16 1261.92 1051.63 1262.4 Q1050.11 1262.88 1048.37 1263.85 L1048.37 1260.9 Q1050.14 1260.19 1051.67 1259.83 Q1053.2 1259.46 1054.48 1259.46 Q1057.83 1259.46 1059.83 1261.14 Q1061.83 1262.82 1061.83 1265.63 Q1061.83 1266.96 1061.32 1268.16 Q1060.83 1269.35 1059.51 1270.97 Q1059.15 1271.39 1057.21 1273.4 Q1055.27 1275.39 1051.74 1279 Z\" fill=\"#000000\" fill-rule=\"evenodd\" fill-opacity=\"1\" /><path clip-path=\"url(#clip700)\" d=\"M1074.33 1271.2 Q1072.24 1271.2 1071.04 1272.31 Q1069.86 1273.43 1069.86 1275.38 Q1069.86 1277.33 1071.04 1278.45 Q1072.24 1279.56 1074.33 1279.56 Q1076.41 1279.56 1077.61 1278.45 Q1078.81 1277.32 1078.81 1275.38 Q1078.81 1273.43 1077.61 1272.31 Q1076.42 1271.2 1074.33 1271.2 M1071.4 1269.95 Q1069.52 1269.49 1068.47 1268.2 Q1067.43 1266.92 1067.43 1265.06 Q1067.43 1262.47 1069.26 1260.97 Q1071.12 1259.46 1074.33 1259.46 Q1077.55 1259.46 1079.39 1260.97 Q1081.23 1262.47 1081.23 1265.06 Q1081.23 1266.92 1080.17 1268.2 Q1079.13 1269.49 1077.26 1269.95 Q1079.38 1270.45 1080.55 1271.88 Q1081.73 1273.31 1081.73 1275.38 Q1081.73 1278.52 1079.81 1280.2 Q1077.9 1281.87 1074.33 1281.87 Q1070.75 1281.87 1068.83 1280.2 Q1066.92 1278.52 1066.92 1275.38 Q1066.92 1273.31 1068.11 1271.88 Q1069.29 1270.45 1071.4 1269.95 M1070.33 1265.34 Q1070.33 1267.02 1071.38 1267.96 Q1072.43 1268.9 1074.33 1268.9 Q1076.21 1268.9 1077.26 1267.96 Q1078.33 1267.02 1078.33 1265.34 Q1078.33 1263.66 1077.26 1262.72 Q1076.21 1261.78 1074.33 1261.78 Q1072.43 1261.78 1071.38 1262.72 Q1070.33 1263.66 1070.33 1265.34 Z\" fill=\"#000000\" fill-rule=\"evenodd\" fill-opacity=\"1\" /><path clip-path=\"url(#clip700)\" d=\"M843.623 1326.88 L846.545 1326.88 L846.545 1348.48 L843.623 1348.48 L843.623 1326.88 Z\" fill=\"#000000\" fill-rule=\"evenodd\" fill-opacity=\"1\" /><path clip-path=\"url(#clip700)\" d=\"M865.715 1338.7 L865.715 1348.48 L863.053 1348.48 L863.053 1338.79 Q863.053 1336.49 862.156 1335.35 Q861.259 1334.2 859.465 1334.2 Q857.309 1334.2 856.065 1335.58 Q854.821 1336.95 854.821 1339.32 L854.821 1348.48 L852.144 1348.48 L852.144 1332.28 L854.821 1332.28 L854.821 1334.8 Q855.776 1333.34 857.063 1332.61 Q858.365 1331.89 860.058 1331.89 Q862.85 1331.89 864.283 1333.62 Q865.715 1335.35 865.715 1338.7 Z\" fill=\"#000000\" fill-rule=\"evenodd\" fill-opacity=\"1\" /><path clip-path=\"url(#clip700)\" d=\"M873.658 1327.68 L873.658 1332.28 L879.141 1332.28 L879.141 1334.35 L873.658 1334.35 L873.658 1343.14 Q873.658 1345.13 874.193 1345.69 Q874.743 1346.25 876.406 1346.25 L879.141 1346.25 L879.141 1348.48 L876.406 1348.48 Q873.325 1348.48 872.153 1347.34 Q870.981 1346.18 870.981 1343.14 L870.981 1334.35 L869.028 1334.35 L869.028 1332.28 L870.981 1332.28 L870.981 1327.68 L873.658 1327.68 Z\" fill=\"#000000\" fill-rule=\"evenodd\" fill-opacity=\"1\" /><path clip-path=\"url(#clip700)\" d=\"M883.524 1346.02 L888.299 1346.02 L888.299 1329.54 L883.105 1330.59 L883.105 1327.92 L888.27 1326.88 L891.192 1326.88 L891.192 1346.02 L895.966 1346.02 L895.966 1348.48 L883.524 1348.48 L883.524 1346.02 Z\" fill=\"#000000\" fill-rule=\"evenodd\" fill-opacity=\"1\" /><path clip-path=\"url(#clip700)\" d=\"M908.481 1336.52 Q906.513 1336.52 905.356 1337.86 Q904.213 1339.21 904.213 1341.55 Q904.213 1343.88 905.356 1345.24 Q906.513 1346.59 908.481 1346.59 Q910.448 1346.59 911.591 1345.24 Q912.749 1343.88 912.749 1341.55 Q912.749 1339.21 911.591 1337.86 Q910.448 1336.52 908.481 1336.52 M914.282 1327.36 L914.282 1330.02 Q913.183 1329.5 912.054 1329.23 Q910.94 1328.95 909.841 1328.95 Q906.947 1328.95 905.414 1330.9 Q903.895 1332.86 903.678 1336.81 Q904.531 1335.55 905.819 1334.88 Q907.106 1334.2 908.654 1334.2 Q911.91 1334.2 913.79 1336.19 Q915.686 1338.15 915.686 1341.55 Q915.686 1344.88 913.718 1346.89 Q911.751 1348.9 908.481 1348.9 Q904.734 1348.9 902.752 1346.04 Q900.77 1343.16 900.77 1337.7 Q900.77 1332.58 903.2 1329.54 Q905.631 1326.49 909.725 1326.49 Q910.825 1326.49 911.939 1326.71 Q913.067 1326.93 914.282 1327.36 Z\" fill=\"#000000\" fill-rule=\"evenodd\" fill-opacity=\"1\" /><path clip-path=\"url(#clip700)\" d=\"M693.608 1272.39 L696.531 1272.39 L696.531 1293.99 L693.608 1293.99 L693.608 1272.39 Z\" fill=\"#000000\" fill-rule=\"evenodd\" fill-opacity=\"1\" /><path clip-path=\"url(#clip700)\" d=\"M715.7 1284.21 L715.7 1293.99 L713.038 1293.99 L713.038 1284.3 Q713.038 1282 712.141 1280.86 Q711.244 1279.71 709.45 1279.71 Q707.295 1279.71 706.05 1281.09 Q704.806 1282.46 704.806 1284.83 L704.806 1293.99 L702.13 1293.99 L702.13 1277.79 L704.806 1277.79 L704.806 1280.31 Q705.761 1278.84 707.049 1278.12 Q708.351 1277.4 710.043 1277.4 Q712.836 1277.4 714.268 1279.13 Q715.7 1280.86 715.7 1284.21 Z\" fill=\"#000000\" fill-rule=\"evenodd\" fill-opacity=\"1\" /><path clip-path=\"url(#clip700)\" d=\"M723.643 1273.19 L723.643 1277.79 L729.126 1277.79 L729.126 1279.86 L723.643 1279.86 L723.643 1288.65 Q723.643 1290.64 724.178 1291.2 Q724.728 1291.76 726.392 1291.76 L729.126 1291.76 L729.126 1293.99 L726.392 1293.99 Q723.31 1293.99 722.138 1292.85 Q720.966 1291.69 720.966 1288.65 L720.966 1279.86 L719.013 1279.86 L719.013 1277.79 L720.966 1277.79 L720.966 1273.19 L723.643 1273.19 Z\" fill=\"#000000\" fill-rule=\"evenodd\" fill-opacity=\"1\" /><path clip-path=\"url(#clip700)\" d=\"M741.857 1282.35 Q743.955 1282.79 745.127 1284.21 Q746.313 1285.63 746.313 1287.71 Q746.313 1290.91 744.114 1292.66 Q741.915 1294.41 737.864 1294.41 Q736.504 1294.41 735.058 1294.14 Q733.625 1293.88 732.092 1293.34 L732.092 1290.52 Q733.307 1291.23 734.754 1291.59 Q736.201 1291.95 737.778 1291.95 Q740.526 1291.95 741.959 1290.87 Q743.405 1289.78 743.405 1287.71 Q743.405 1285.8 742.06 1284.73 Q740.729 1283.65 738.342 1283.65 L735.824 1283.65 L735.824 1281.25 L738.458 1281.25 Q740.613 1281.25 741.756 1280.39 Q742.899 1279.52 742.899 1277.9 Q742.899 1276.24 741.713 1275.36 Q740.541 1274.46 738.342 1274.46 Q737.141 1274.46 735.767 1274.72 Q734.392 1274.98 732.743 1275.53 L732.743 1272.93 Q734.407 1272.46 735.853 1272.23 Q737.315 1272 738.602 1272 Q741.93 1272 743.868 1273.52 Q745.807 1275.03 745.807 1277.6 Q745.807 1279.39 744.78 1280.64 Q743.753 1281.87 741.857 1282.35 Z\" fill=\"#000000\" fill-rule=\"evenodd\" fill-opacity=\"1\" /><path clip-path=\"url(#clip700)\" d=\"M754.372 1291.53 L764.571 1291.53 L764.571 1293.99 L750.856 1293.99 L750.856 1291.53 Q752.52 1289.81 755.385 1286.92 Q758.264 1284.01 759.001 1283.17 Q760.405 1281.59 760.955 1280.51 Q761.519 1279.41 761.519 1278.35 Q761.519 1276.63 760.303 1275.55 Q759.103 1274.46 757.164 1274.46 Q755.79 1274.46 754.256 1274.94 Q752.737 1275.42 751.001 1276.39 L751.001 1273.43 Q752.766 1272.72 754.299 1272.36 Q755.833 1272 757.106 1272 Q760.463 1272 762.459 1273.68 Q764.456 1275.36 764.456 1278.16 Q764.456 1279.5 763.949 1280.7 Q763.457 1281.88 762.141 1283.5 Q761.779 1283.92 759.841 1285.93 Q757.902 1287.93 754.372 1291.53 Z\" fill=\"#000000\" fill-rule=\"evenodd\" fill-opacity=\"1\" /><path clip-path=\"url(#clip700)\" d=\"M626.185 1271.36 L629.107 1271.36 L629.107 1292.96 L626.185 1292.96 L626.185 1271.36 Z\" fill=\"#000000\" fill-rule=\"evenodd\" fill-opacity=\"1\" /><path clip-path=\"url(#clip700)\" d=\"M648.276 1283.18 L648.276 1292.96 L645.614 1292.96 L645.614 1283.26 Q645.614 1280.96 644.717 1279.82 Q643.82 1278.68 642.027 1278.68 Q639.871 1278.68 638.627 1280.05 Q637.382 1281.43 637.382 1283.8 L637.382 1292.96 L634.706 1292.96 L634.706 1276.75 L637.382 1276.75 L637.382 1279.27 Q638.337 1277.81 639.625 1277.09 Q640.927 1276.36 642.62 1276.36 Q645.412 1276.36 646.844 1278.1 Q648.276 1279.82 648.276 1283.18 Z\" fill=\"#000000\" fill-rule=\"evenodd\" fill-opacity=\"1\" /><path clip-path=\"url(#clip700)\" d=\"M656.219 1272.15 L656.219 1276.75 L661.702 1276.75 L661.702 1278.82 L656.219 1278.82 L656.219 1287.62 Q656.219 1289.6 656.754 1290.17 Q657.304 1290.73 658.968 1290.73 L661.702 1290.73 L661.702 1292.96 L658.968 1292.96 Q655.886 1292.96 654.715 1291.81 Q653.543 1290.66 653.543 1287.62 L653.543 1278.82 L651.59 1278.82 L651.59 1276.75 L653.543 1276.75 L653.543 1272.15 L656.219 1272.15 Z\" fill=\"#000000\" fill-rule=\"evenodd\" fill-opacity=\"1\" /><path clip-path=\"url(#clip700)\" d=\"M672.191 1280.99 Q670.224 1280.99 669.066 1282.34 Q667.923 1283.68 667.923 1286.03 Q667.923 1288.36 669.066 1289.72 Q670.224 1291.06 672.191 1291.06 Q674.159 1291.06 675.302 1289.72 Q676.459 1288.36 676.459 1286.03 Q676.459 1283.68 675.302 1282.34 Q674.159 1280.99 672.191 1280.99 M677.993 1271.84 L677.993 1274.5 Q676.893 1273.98 675.765 1273.7 Q674.651 1273.43 673.551 1273.43 Q670.658 1273.43 669.124 1275.38 Q667.605 1277.33 667.388 1281.28 Q668.242 1280.02 669.529 1279.36 Q670.817 1278.68 672.365 1278.68 Q675.62 1278.68 677.501 1280.66 Q679.396 1282.63 679.396 1286.03 Q679.396 1289.36 677.429 1291.37 Q675.461 1293.38 672.191 1293.38 Q668.444 1293.38 666.462 1290.51 Q664.48 1287.63 664.48 1282.18 Q664.48 1277.06 666.911 1274.02 Q669.341 1270.97 673.435 1270.97 Q674.535 1270.97 675.649 1271.18 Q676.777 1271.4 677.993 1271.84 Z\" fill=\"#000000\" fill-rule=\"evenodd\" fill-opacity=\"1\" /><path clip-path=\"url(#clip700)\" d=\"M692.46 1273.9 L685.082 1285.43 L692.46 1285.43 L692.46 1273.9 M691.693 1271.36 L695.368 1271.36 L695.368 1285.43 L698.45 1285.43 L698.45 1287.87 L695.368 1287.87 L695.368 1292.96 L692.46 1292.96 L692.46 1287.87 L682.709 1287.87 L682.709 1285.04 L691.693 1271.36 Z\" fill=\"#000000\" fill-rule=\"evenodd\" fill-opacity=\"1\" /><path clip-path=\"url(#clip700)\" d=\"M961.099 1322.34 L964.022 1322.34 L964.022 1343.94 L961.099 1343.94 L961.099 1322.34 Z\" fill=\"#000000\" fill-rule=\"evenodd\" fill-opacity=\"1\" /><path clip-path=\"url(#clip700)\" d=\"M983.191 1334.16 L983.191 1343.94 L980.529 1343.94 L980.529 1334.25 Q980.529 1331.95 979.632 1330.81 Q978.735 1329.66 976.941 1329.66 Q974.786 1329.66 973.541 1331.04 Q972.297 1332.41 972.297 1334.78 L972.297 1343.94 L969.621 1343.94 L969.621 1327.74 L972.297 1327.74 L972.297 1330.26 Q973.252 1328.79 974.54 1328.07 Q975.842 1327.35 977.534 1327.35 Q980.327 1327.35 981.759 1329.08 Q983.191 1330.81 983.191 1334.16 Z\" fill=\"#000000\" fill-rule=\"evenodd\" fill-opacity=\"1\" /><path clip-path=\"url(#clip700)\" d=\"M991.134 1323.14 L991.134 1327.74 L996.617 1327.74 L996.617 1329.81 L991.134 1329.81 L991.134 1338.6 Q991.134 1340.59 991.669 1341.15 Q992.219 1341.71 993.883 1341.71 L996.617 1341.71 L996.617 1343.94 L993.883 1343.94 Q990.801 1343.94 989.629 1342.8 Q988.457 1341.64 988.457 1338.6 L988.457 1329.81 L986.504 1329.81 L986.504 1327.74 L988.457 1327.74 L988.457 1323.14 L991.134 1323.14 Z\" fill=\"#000000\" fill-rule=\"evenodd\" fill-opacity=\"1\" /><path clip-path=\"url(#clip700)\" d=\"M1006.74 1333.68 Q1004.66 1333.68 1003.46 1334.8 Q1002.27 1335.91 1002.27 1337.87 Q1002.27 1339.82 1003.46 1340.93 Q1004.66 1342.05 1006.74 1342.05 Q1008.83 1342.05 1010.03 1340.93 Q1011.23 1339.8 1011.23 1337.87 Q1011.23 1335.91 1010.03 1334.8 Q1008.84 1333.68 1006.74 1333.68 M1003.82 1332.44 Q1001.94 1331.98 1000.89 1330.69 Q999.843 1329.4 999.843 1327.55 Q999.843 1324.96 1001.68 1323.46 Q1003.53 1321.95 1006.74 1321.95 Q1009.97 1321.95 1011.81 1323.46 Q1013.65 1324.96 1013.65 1327.55 Q1013.65 1329.4 1012.59 1330.69 Q1011.55 1331.98 1009.68 1332.44 Q1011.79 1332.93 1012.97 1334.36 Q1014.15 1335.8 1014.15 1337.87 Q1014.15 1341.01 1012.23 1342.68 Q1010.32 1344.36 1006.74 1344.36 Q1003.17 1344.36 1001.25 1342.68 Q999.337 1341.01 999.337 1337.87 Q999.337 1335.8 1000.52 1334.36 Q1001.71 1332.93 1003.82 1332.44 M1002.75 1327.83 Q1002.75 1329.5 1003.79 1330.44 Q1004.85 1331.38 1006.74 1331.38 Q1008.63 1331.38 1009.68 1330.44 Q1010.75 1329.5 1010.75 1327.83 Q1010.75 1326.15 1009.68 1325.21 Q1008.63 1324.27 1006.74 1324.27 Q1004.85 1324.27 1003.79 1325.21 Q1002.75 1326.15 1002.75 1327.83 Z\" fill=\"#000000\" fill-rule=\"evenodd\" fill-opacity=\"1\" /><path clip-path=\"url(#clip700)\" d=\"M1414.89 1043.82 L1417.83 1043.82 L1417.83 1056.94 Q1417.83 1060.41 1419.09 1061.95 Q1420.35 1063.47 1423.17 1063.47 Q1425.98 1063.47 1427.23 1061.95 Q1428.49 1060.41 1428.49 1056.94 L1428.49 1043.82 L1431.43 1043.82 L1431.43 1057.3 Q1431.43 1061.53 1429.33 1063.68 Q1427.25 1065.84 1423.17 1065.84 Q1419.07 1065.84 1416.98 1063.68 Q1414.89 1061.53 1414.89 1057.3 L1414.89 1043.82 Z\" fill=\"#000000\" fill-rule=\"evenodd\" fill-opacity=\"1\" /><path clip-path=\"url(#clip700)\" d=\"M1450.27 1055.64 L1450.27 1065.42 L1447.6 1065.42 L1447.6 1055.73 Q1447.6 1053.42 1446.71 1052.28 Q1445.81 1051.14 1444.02 1051.14 Q1441.86 1051.14 1440.62 1052.51 Q1439.37 1053.89 1439.37 1056.26 L1439.37 1065.42 L1436.7 1065.42 L1436.7 1049.21 L1439.37 1049.21 L1439.37 1051.73 Q1440.33 1050.27 1441.61 1049.55 Q1442.92 1048.82 1444.61 1048.82 Q1447.4 1048.82 1448.83 1050.56 Q1450.27 1052.28 1450.27 1055.64 Z\" fill=\"#000000\" fill-rule=\"evenodd\" fill-opacity=\"1\" /><path clip-path=\"url(#clip700)\" d=\"M1465.91 1049.69 L1465.91 1052.21 Q1464.78 1051.63 1463.56 1051.34 Q1462.35 1051.05 1461.04 1051.05 Q1459.06 1051.05 1458.06 1051.66 Q1457.08 1052.27 1457.08 1053.48 Q1457.08 1054.41 1457.79 1054.94 Q1458.5 1055.46 1460.64 1055.94 L1461.55 1056.14 Q1464.39 1056.75 1465.57 1057.87 Q1466.77 1058.97 1466.77 1060.95 Q1466.77 1063.21 1464.98 1064.52 Q1463.2 1065.84 1460.08 1065.84 Q1458.77 1065.84 1457.36 1065.58 Q1455.95 1065.33 1454.39 1064.83 L1454.39 1062.08 Q1455.87 1062.84 1457.3 1063.23 Q1458.73 1063.61 1460.13 1063.61 Q1462.01 1063.61 1463.03 1062.97 Q1464.04 1062.32 1464.04 1061.15 Q1464.04 1060.07 1463.3 1059.49 Q1462.58 1058.91 1460.1 1058.37 L1459.18 1058.16 Q1456.7 1057.64 1455.6 1056.56 Q1454.51 1055.48 1454.51 1053.6 Q1454.51 1051.31 1456.13 1050.07 Q1457.75 1048.82 1460.73 1048.82 Q1462.2 1048.82 1463.5 1049.04 Q1464.81 1049.26 1465.91 1049.69 Z\" fill=\"#000000\" fill-rule=\"evenodd\" fill-opacity=\"1\" /><path clip-path=\"url(#clip700)\" d=\"M1471.01 1049.21 L1473.67 1049.21 L1473.67 1065.42 L1471.01 1065.42 L1471.01 1049.21 M1471.01 1042.91 L1473.67 1042.91 L1473.67 1046.28 L1471.01 1046.28 L1471.01 1042.91 Z\" fill=\"#000000\" fill-rule=\"evenodd\" fill-opacity=\"1\" /><path clip-path=\"url(#clip700)\" d=\"M1489.91 1057.13 Q1489.91 1054.24 1488.71 1052.64 Q1487.52 1051.05 1485.36 1051.05 Q1483.22 1051.05 1482.02 1052.64 Q1480.84 1054.24 1480.84 1057.13 Q1480.84 1060.01 1482.02 1061.6 Q1483.22 1063.19 1485.36 1063.19 Q1487.52 1063.19 1488.71 1061.6 Q1489.91 1060.01 1489.91 1057.13 M1492.57 1063.41 Q1492.57 1067.55 1490.73 1069.56 Q1488.89 1071.58 1485.1 1071.58 Q1483.7 1071.58 1482.46 1071.36 Q1481.21 1071.16 1480.04 1070.73 L1480.04 1068.14 Q1481.21 1068.78 1482.36 1069.08 Q1483.5 1069.38 1484.68 1069.38 Q1487.3 1069.38 1488.61 1068.01 Q1489.91 1066.65 1489.91 1063.88 L1489.91 1062.57 Q1489.08 1064 1487.8 1064.71 Q1486.51 1065.42 1484.71 1065.42 Q1481.73 1065.42 1479.91 1063.15 Q1478.09 1060.88 1478.09 1057.13 Q1478.09 1053.37 1479.91 1051.1 Q1481.73 1048.82 1484.71 1048.82 Q1486.51 1048.82 1487.8 1049.53 Q1489.08 1050.24 1489.91 1051.67 L1489.91 1049.21 L1492.57 1049.21 L1492.57 1063.41 Z\" fill=\"#000000\" fill-rule=\"evenodd\" fill-opacity=\"1\" /><path clip-path=\"url(#clip700)\" d=\"M1511.52 1055.64 L1511.52 1065.42 L1508.86 1065.42 L1508.86 1055.73 Q1508.86 1053.42 1507.96 1052.28 Q1507.07 1051.14 1505.27 1051.14 Q1503.12 1051.14 1501.87 1052.51 Q1500.63 1053.89 1500.63 1056.26 L1500.63 1065.42 L1497.95 1065.42 L1497.95 1049.21 L1500.63 1049.21 L1500.63 1051.73 Q1501.58 1050.27 1502.87 1049.55 Q1504.17 1048.82 1505.87 1048.82 Q1508.66 1048.82 1510.09 1050.56 Q1511.52 1052.28 1511.52 1055.64 Z\" fill=\"#000000\" fill-rule=\"evenodd\" fill-opacity=\"1\" /><path clip-path=\"url(#clip700)\" d=\"M1530.69 1056.65 L1530.69 1057.95 L1518.45 1057.95 Q1518.63 1060.7 1520.1 1062.15 Q1521.59 1063.58 1524.24 1063.58 Q1525.77 1063.58 1527.2 1063.21 Q1528.65 1062.83 1530.07 1062.08 L1530.07 1064.59 Q1528.64 1065.2 1527.13 1065.52 Q1525.63 1065.84 1524.08 1065.84 Q1520.2 1065.84 1517.93 1063.58 Q1515.67 1061.32 1515.67 1057.48 Q1515.67 1053.5 1517.82 1051.17 Q1519.97 1048.82 1523.62 1048.82 Q1526.89 1048.82 1528.78 1050.94 Q1530.69 1053.03 1530.69 1056.65 M1528.03 1055.87 Q1528 1053.69 1526.8 1052.38 Q1525.61 1051.08 1523.65 1051.08 Q1521.42 1051.08 1520.07 1052.34 Q1518.74 1053.6 1518.54 1055.88 L1528.03 1055.87 Z\" fill=\"#000000\" fill-rule=\"evenodd\" fill-opacity=\"1\" /><path clip-path=\"url(#clip700)\" d=\"M1545.72 1051.67 L1545.72 1042.91 L1548.39 1042.91 L1548.39 1065.42 L1545.72 1065.42 L1545.72 1062.99 Q1544.88 1064.43 1543.6 1065.14 Q1542.32 1065.84 1540.53 1065.84 Q1537.59 1065.84 1535.74 1063.49 Q1533.9 1061.15 1533.9 1057.33 Q1533.9 1053.51 1535.74 1051.17 Q1537.59 1048.82 1540.53 1048.82 Q1542.32 1048.82 1543.6 1049.53 Q1544.88 1050.23 1545.72 1051.67 M1536.65 1057.33 Q1536.65 1060.27 1537.85 1061.95 Q1539.07 1063.61 1541.18 1063.61 Q1543.29 1063.61 1544.51 1061.95 Q1545.72 1060.27 1545.72 1057.33 Q1545.72 1054.39 1544.51 1052.73 Q1543.29 1051.05 1541.18 1051.05 Q1539.07 1051.05 1537.85 1052.73 Q1536.65 1054.39 1536.65 1057.33 Z\" fill=\"#000000\" fill-rule=\"evenodd\" fill-opacity=\"1\" /><path clip-path=\"url(#clip700)\" d=\"M1681.3 1211.96 L1684.23 1211.96 L1684.23 1225.08 Q1684.23 1228.56 1685.49 1230.09 Q1686.75 1231.61 1689.57 1231.61 Q1692.38 1231.61 1693.64 1230.09 Q1694.9 1228.56 1694.9 1225.08 L1694.9 1211.96 L1697.83 1211.96 L1697.83 1225.45 Q1697.83 1229.67 1695.73 1231.83 Q1693.65 1233.98 1689.57 1233.98 Q1685.48 1233.98 1683.38 1231.83 Q1681.3 1229.67 1681.3 1225.45 L1681.3 1211.96 Z\" fill=\"#000000\" fill-rule=\"evenodd\" fill-opacity=\"1\" /><path clip-path=\"url(#clip700)\" d=\"M1703.32 1211.96 L1706.24 1211.96 L1706.24 1233.56 L1703.32 1233.56 L1703.32 1211.96 Z\" fill=\"#000000\" fill-rule=\"evenodd\" fill-opacity=\"1\" /><path clip-path=\"url(#clip700)\" d=\"M1725.41 1223.78 L1725.41 1233.56 L1722.75 1233.56 L1722.75 1223.87 Q1722.75 1221.57 1721.85 1220.43 Q1720.95 1219.28 1719.16 1219.28 Q1717 1219.28 1715.76 1220.66 Q1714.51 1222.03 1714.51 1224.4 L1714.51 1233.56 L1711.84 1233.56 L1711.84 1217.36 L1714.51 1217.36 L1714.51 1219.88 Q1715.47 1218.41 1716.76 1217.69 Q1718.06 1216.97 1719.75 1216.97 Q1722.54 1216.97 1723.97 1218.7 Q1725.41 1220.43 1725.41 1223.78 Z\" fill=\"#000000\" fill-rule=\"evenodd\" fill-opacity=\"1\" /><path clip-path=\"url(#clip700)\" d=\"M1733.35 1212.76 L1733.35 1217.36 L1738.83 1217.36 L1738.83 1219.43 L1733.35 1219.43 L1733.35 1228.22 Q1733.35 1230.21 1733.89 1230.77 Q1734.43 1231.33 1736.1 1231.33 L1738.83 1231.33 L1738.83 1233.56 L1736.1 1233.56 Q1733.02 1233.56 1731.85 1232.42 Q1730.67 1231.26 1730.67 1228.22 L1730.67 1219.43 L1728.72 1219.43 L1728.72 1217.36 L1730.67 1217.36 L1730.67 1212.76 L1733.35 1212.76 Z\" fill=\"#000000\" fill-rule=\"evenodd\" fill-opacity=\"1\" /><path clip-path=\"url(#clip700)\" d=\"M1743.22 1231.1 L1747.99 1231.1 L1747.99 1214.62 L1742.8 1215.67 L1742.8 1213 L1747.96 1211.96 L1750.88 1211.96 L1750.88 1231.1 L1755.66 1231.1 L1755.66 1233.56 L1743.22 1233.56 L1743.22 1231.1 Z\" fill=\"#000000\" fill-rule=\"evenodd\" fill-opacity=\"1\" /><path clip-path=\"url(#clip700)\" d=\"M1764.08 1231.1 L1774.28 1231.1 L1774.28 1233.56 L1760.56 1233.56 L1760.56 1231.1 Q1762.23 1229.38 1765.09 1226.49 Q1767.97 1223.58 1768.71 1222.74 Q1770.11 1221.16 1770.66 1220.08 Q1771.23 1218.98 1771.23 1217.92 Q1771.23 1216.2 1770.01 1215.12 Q1768.81 1214.03 1766.87 1214.03 Q1765.5 1214.03 1763.96 1214.51 Q1762.44 1214.99 1760.71 1215.96 L1760.71 1213 Q1762.47 1212.29 1764.01 1211.93 Q1765.54 1211.57 1766.81 1211.57 Q1770.17 1211.57 1772.17 1213.25 Q1774.16 1214.93 1774.16 1217.73 Q1774.16 1219.07 1773.66 1220.27 Q1773.16 1221.45 1771.85 1223.07 Q1771.49 1223.49 1769.55 1225.5 Q1767.61 1227.5 1764.08 1231.1 Z\" fill=\"#000000\" fill-rule=\"evenodd\" fill-opacity=\"1\" /><path clip-path=\"url(#clip700)\" d=\"M1786.66 1223.3 Q1784.58 1223.3 1783.38 1224.42 Q1782.19 1225.53 1782.19 1227.49 Q1782.19 1229.44 1783.38 1230.55 Q1784.58 1231.67 1786.66 1231.67 Q1788.75 1231.67 1789.95 1230.55 Q1791.15 1229.42 1791.15 1227.49 Q1791.15 1225.53 1789.95 1224.42 Q1788.76 1223.3 1786.66 1223.3 M1783.74 1222.06 Q1781.86 1221.6 1780.8 1220.31 Q1779.76 1219.02 1779.76 1217.17 Q1779.76 1214.58 1781.6 1213.08 Q1783.45 1211.57 1786.66 1211.57 Q1789.89 1211.57 1791.73 1213.08 Q1793.56 1214.58 1793.56 1217.17 Q1793.56 1219.02 1792.51 1220.31 Q1791.47 1221.6 1789.6 1222.06 Q1791.71 1222.55 1792.88 1223.98 Q1794.07 1225.42 1794.07 1227.49 Q1794.07 1230.63 1792.15 1232.3 Q1790.24 1233.98 1786.66 1233.98 Q1783.09 1233.98 1781.16 1232.3 Q1779.26 1230.63 1779.26 1227.49 Q1779.26 1225.42 1780.44 1223.98 Q1781.63 1222.55 1783.74 1222.06 M1782.67 1217.45 Q1782.67 1219.12 1783.71 1220.06 Q1784.77 1221 1786.66 1221 Q1788.54 1221 1789.6 1220.06 Q1790.67 1219.12 1790.67 1217.45 Q1790.67 1215.77 1789.6 1214.83 Q1788.54 1213.89 1786.66 1213.89 Q1784.77 1213.89 1783.71 1214.83 Q1782.67 1215.77 1782.67 1217.45 Z\" fill=\"#000000\" fill-rule=\"evenodd\" fill-opacity=\"1\" /><path clip-path=\"url(#clip700)\" d=\"M1360.02 1286.09 L1362.96 1286.09 L1362.96 1299.22 Q1362.96 1302.69 1364.22 1304.22 Q1365.48 1305.74 1368.3 1305.74 Q1371.11 1305.74 1372.36 1304.22 Q1373.62 1302.69 1373.62 1299.22 L1373.62 1286.09 L1376.56 1286.09 L1376.56 1299.58 Q1376.56 1303.8 1374.46 1305.96 Q1372.38 1308.11 1368.3 1308.11 Q1364.2 1308.11 1362.11 1305.96 Q1360.02 1303.8 1360.02 1299.58 L1360.02 1286.09 Z\" fill=\"#000000\" fill-rule=\"evenodd\" fill-opacity=\"1\" /><path clip-path=\"url(#clip700)\" d=\"M1382.04 1286.09 L1384.97 1286.09 L1384.97 1307.69 L1382.04 1307.69 L1382.04 1286.09 Z\" fill=\"#000000\" fill-rule=\"evenodd\" fill-opacity=\"1\" /><path clip-path=\"url(#clip700)\" d=\"M1404.13 1297.91 L1404.13 1307.69 L1401.47 1307.69 L1401.47 1298 Q1401.47 1295.7 1400.58 1294.56 Q1399.68 1293.41 1397.88 1293.41 Q1395.73 1293.41 1394.48 1294.79 Q1393.24 1296.16 1393.24 1298.54 L1393.24 1307.69 L1390.56 1307.69 L1390.56 1291.49 L1393.24 1291.49 L1393.24 1294.01 Q1394.2 1292.55 1395.48 1291.82 Q1396.79 1291.1 1398.48 1291.1 Q1401.27 1291.1 1402.7 1292.84 Q1404.13 1294.56 1404.13 1297.91 Z\" fill=\"#000000\" fill-rule=\"evenodd\" fill-opacity=\"1\" /><path clip-path=\"url(#clip700)\" d=\"M1412.08 1286.89 L1412.08 1291.49 L1417.56 1291.49 L1417.56 1293.56 L1412.08 1293.56 L1412.08 1302.35 Q1412.08 1304.34 1412.61 1304.9 Q1413.16 1305.47 1414.83 1305.47 L1417.56 1305.47 L1417.56 1307.69 L1414.83 1307.69 Q1411.74 1307.69 1410.57 1306.55 Q1409.4 1305.39 1409.4 1302.35 L1409.4 1293.56 L1407.45 1293.56 L1407.45 1291.49 L1409.4 1291.49 L1409.4 1286.89 L1412.08 1286.89 Z\" fill=\"#000000\" fill-rule=\"evenodd\" fill-opacity=\"1\" /><path clip-path=\"url(#clip700)\" d=\"M1421.94 1305.23 L1426.72 1305.23 L1426.72 1288.76 L1421.52 1289.8 L1421.52 1287.13 L1426.69 1286.09 L1429.61 1286.09 L1429.61 1305.23 L1434.39 1305.23 L1434.39 1307.69 L1421.94 1307.69 L1421.94 1305.23 Z\" fill=\"#000000\" fill-rule=\"evenodd\" fill-opacity=\"1\" /><path clip-path=\"url(#clip700)\" d=\"M1446.9 1295.73 Q1444.93 1295.73 1443.78 1297.07 Q1442.63 1298.42 1442.63 1300.76 Q1442.63 1303.09 1443.78 1304.45 Q1444.93 1305.8 1446.9 1305.8 Q1448.87 1305.8 1450.01 1304.45 Q1451.17 1303.09 1451.17 1300.76 Q1451.17 1298.42 1450.01 1297.07 Q1448.87 1295.73 1446.9 1295.73 M1452.7 1286.57 L1452.7 1289.23 Q1451.6 1288.71 1450.47 1288.44 Q1449.36 1288.16 1448.26 1288.16 Q1445.37 1288.16 1443.83 1290.12 Q1442.31 1292.07 1442.1 1296.02 Q1442.95 1294.76 1444.24 1294.09 Q1445.53 1293.41 1447.07 1293.41 Q1450.33 1293.41 1452.21 1295.4 Q1454.11 1297.36 1454.11 1300.76 Q1454.11 1304.09 1452.14 1306.1 Q1450.17 1308.11 1446.9 1308.11 Q1443.15 1308.11 1441.17 1305.25 Q1439.19 1302.37 1439.19 1296.91 Q1439.19 1291.79 1441.62 1288.76 Q1444.05 1285.7 1448.14 1285.7 Q1449.24 1285.7 1450.36 1285.92 Q1451.49 1286.14 1452.7 1286.57 Z\" fill=\"#000000\" fill-rule=\"evenodd\" fill-opacity=\"1\" /><path clip-path=\"url(#clip700)\" d=\"M1616.18 1218.43 L1619.12 1218.43 L1619.12 1231.55 Q1619.12 1235.02 1620.37 1236.56 Q1621.63 1238.08 1624.45 1238.08 Q1627.26 1238.08 1628.52 1236.56 Q1629.78 1235.02 1629.78 1231.55 L1629.78 1218.43 L1632.71 1218.43 L1632.71 1231.91 Q1632.71 1236.14 1630.62 1238.29 Q1628.53 1240.45 1624.45 1240.45 Q1620.36 1240.45 1618.26 1238.29 Q1616.18 1236.14 1616.18 1231.91 L1616.18 1218.43 Z\" fill=\"#000000\" fill-rule=\"evenodd\" fill-opacity=\"1\" /><path clip-path=\"url(#clip700)\" d=\"M1638.2 1218.43 L1641.12 1218.43 L1641.12 1240.03 L1638.2 1240.03 L1638.2 1218.43 Z\" fill=\"#000000\" fill-rule=\"evenodd\" fill-opacity=\"1\" /><path clip-path=\"url(#clip700)\" d=\"M1660.29 1230.25 L1660.29 1240.03 L1657.63 1240.03 L1657.63 1230.34 Q1657.63 1228.04 1656.73 1226.89 Q1655.83 1225.75 1654.04 1225.75 Q1651.88 1225.75 1650.64 1227.12 Q1649.4 1228.5 1649.4 1230.87 L1649.4 1240.03 L1646.72 1240.03 L1646.72 1223.83 L1649.4 1223.83 L1649.4 1226.34 Q1650.35 1224.88 1651.64 1224.16 Q1652.94 1223.44 1654.63 1223.44 Q1657.43 1223.44 1658.86 1225.17 Q1660.29 1226.89 1660.29 1230.25 Z\" fill=\"#000000\" fill-rule=\"evenodd\" fill-opacity=\"1\" /><path clip-path=\"url(#clip700)\" d=\"M1668.23 1219.23 L1668.23 1223.83 L1673.72 1223.83 L1673.72 1225.89 L1668.23 1225.89 L1668.23 1234.69 Q1668.23 1236.67 1668.77 1237.24 Q1669.32 1237.8 1670.98 1237.8 L1673.72 1237.8 L1673.72 1240.03 L1670.98 1240.03 Q1667.9 1240.03 1666.73 1238.89 Q1665.56 1237.73 1665.56 1234.69 L1665.56 1225.89 L1663.6 1225.89 L1663.6 1223.83 L1665.56 1223.83 L1665.56 1219.23 L1668.23 1219.23 Z\" fill=\"#000000\" fill-rule=\"evenodd\" fill-opacity=\"1\" /><path clip-path=\"url(#clip700)\" d=\"M1686.45 1228.38 Q1688.54 1228.83 1689.72 1230.25 Q1690.9 1231.67 1690.9 1233.75 Q1690.9 1236.95 1688.7 1238.7 Q1686.5 1240.45 1682.45 1240.45 Q1681.09 1240.45 1679.65 1240.17 Q1678.21 1239.91 1676.68 1239.38 L1676.68 1236.56 Q1677.9 1237.27 1679.34 1237.63 Q1680.79 1237.99 1682.37 1237.99 Q1685.12 1237.99 1686.55 1236.9 Q1687.99 1235.82 1687.99 1233.75 Q1687.99 1231.84 1686.65 1230.77 Q1685.32 1229.69 1682.93 1229.69 L1680.41 1229.69 L1680.41 1227.28 L1683.05 1227.28 Q1685.2 1227.28 1686.35 1226.43 Q1687.49 1225.56 1687.49 1223.94 Q1687.49 1222.28 1686.3 1221.4 Q1685.13 1220.5 1682.93 1220.5 Q1681.73 1220.5 1680.36 1220.76 Q1678.98 1221.02 1677.33 1221.57 L1677.33 1218.96 Q1679 1218.5 1680.44 1218.27 Q1681.9 1218.04 1683.19 1218.04 Q1686.52 1218.04 1688.46 1219.56 Q1690.4 1221.06 1690.4 1223.64 Q1690.4 1225.43 1689.37 1226.68 Q1688.34 1227.91 1686.45 1228.38 Z\" fill=\"#000000\" fill-rule=\"evenodd\" fill-opacity=\"1\" /><path clip-path=\"url(#clip700)\" d=\"M1698.96 1237.57 L1709.16 1237.57 L1709.16 1240.03 L1695.45 1240.03 L1695.45 1237.57 Q1697.11 1235.85 1699.97 1232.95 Q1702.85 1230.05 1703.59 1229.21 Q1704.99 1227.63 1705.54 1226.55 Q1706.11 1225.45 1706.11 1224.39 Q1706.11 1222.67 1704.89 1221.58 Q1703.69 1220.5 1701.75 1220.5 Q1700.38 1220.5 1698.85 1220.98 Q1697.33 1221.45 1695.59 1222.42 L1695.59 1219.47 Q1697.36 1218.76 1698.89 1218.4 Q1700.42 1218.04 1701.7 1218.04 Q1705.05 1218.04 1707.05 1219.72 Q1709.05 1221.4 1709.05 1224.2 Q1709.05 1225.53 1708.54 1226.73 Q1708.05 1227.92 1706.73 1229.54 Q1706.37 1229.96 1704.43 1231.97 Q1702.49 1233.97 1698.96 1237.57 Z\" fill=\"#000000\" fill-rule=\"evenodd\" fill-opacity=\"1\" /><path clip-path=\"url(#clip700)\" d=\"M1471.26 1237.55 L1474.19 1237.55 L1474.19 1250.67 Q1474.19 1254.14 1475.45 1255.68 Q1476.71 1257.19 1479.53 1257.19 Q1482.34 1257.19 1483.6 1255.68 Q1484.86 1254.14 1484.86 1250.67 L1484.86 1237.55 L1487.79 1237.55 L1487.79 1251.03 Q1487.79 1255.26 1485.7 1257.41 Q1483.61 1259.57 1479.53 1259.57 Q1475.44 1259.57 1473.34 1257.41 Q1471.26 1255.26 1471.26 1251.03 L1471.26 1237.55 Z\" fill=\"#000000\" fill-rule=\"evenodd\" fill-opacity=\"1\" /><path clip-path=\"url(#clip700)\" d=\"M1493.28 1237.55 L1496.2 1237.55 L1496.2 1259.15 L1493.28 1259.15 L1493.28 1237.55 Z\" fill=\"#000000\" fill-rule=\"evenodd\" fill-opacity=\"1\" /><path clip-path=\"url(#clip700)\" d=\"M1515.37 1249.37 L1515.37 1259.15 L1512.71 1259.15 L1512.71 1249.45 Q1512.71 1247.15 1511.81 1246.01 Q1510.91 1244.87 1509.12 1244.87 Q1506.96 1244.87 1505.72 1246.24 Q1504.47 1247.62 1504.47 1249.99 L1504.47 1259.15 L1501.8 1259.15 L1501.8 1242.94 L1504.47 1242.94 L1504.47 1245.46 Q1505.43 1244 1506.72 1243.28 Q1508.02 1242.55 1509.71 1242.55 Q1512.5 1242.55 1513.94 1244.29 Q1515.37 1246.01 1515.37 1249.37 Z\" fill=\"#000000\" fill-rule=\"evenodd\" fill-opacity=\"1\" /><path clip-path=\"url(#clip700)\" d=\"M1523.31 1238.34 L1523.31 1242.94 L1528.79 1242.94 L1528.79 1245.01 L1523.31 1245.01 L1523.31 1253.81 Q1523.31 1255.79 1523.85 1256.36 Q1524.4 1256.92 1526.06 1256.92 L1528.79 1256.92 L1528.79 1259.15 L1526.06 1259.15 Q1522.98 1259.15 1521.81 1258 Q1520.63 1256.85 1520.63 1253.81 L1520.63 1245.01 L1518.68 1245.01 L1518.68 1242.94 L1520.63 1242.94 L1520.63 1238.34 L1523.31 1238.34 Z\" fill=\"#000000\" fill-rule=\"evenodd\" fill-opacity=\"1\" /><path clip-path=\"url(#clip700)\" d=\"M1539.28 1247.18 Q1537.32 1247.18 1536.16 1248.53 Q1535.01 1249.87 1535.01 1252.22 Q1535.01 1254.55 1536.16 1255.91 Q1537.32 1257.25 1539.28 1257.25 Q1541.25 1257.25 1542.39 1255.91 Q1543.55 1254.55 1543.55 1252.22 Q1543.55 1249.87 1542.39 1248.53 Q1541.25 1247.18 1539.28 1247.18 M1545.08 1238.02 L1545.08 1240.69 Q1543.98 1240.17 1542.86 1239.89 Q1541.74 1239.62 1540.64 1239.62 Q1537.75 1239.62 1536.22 1241.57 Q1534.7 1243.52 1534.48 1247.47 Q1535.33 1246.21 1536.62 1245.55 Q1537.91 1244.87 1539.46 1244.87 Q1542.71 1244.87 1544.59 1246.85 Q1546.49 1248.82 1546.49 1252.22 Q1546.49 1255.54 1544.52 1257.56 Q1542.55 1259.57 1539.28 1259.57 Q1535.54 1259.57 1533.55 1256.7 Q1531.57 1253.82 1531.57 1248.37 Q1531.57 1243.25 1534 1240.21 Q1536.43 1237.16 1540.53 1237.16 Q1541.63 1237.16 1542.74 1237.37 Q1543.87 1237.59 1545.08 1238.02 Z\" fill=\"#000000\" fill-rule=\"evenodd\" fill-opacity=\"1\" /><path clip-path=\"url(#clip700)\" d=\"M1559.55 1240.09 L1552.17 1251.62 L1559.55 1251.62 L1559.55 1240.09 M1558.79 1237.55 L1562.46 1237.55 L1562.46 1251.62 L1565.54 1251.62 L1565.54 1254.05 L1562.46 1254.05 L1562.46 1259.15 L1559.55 1259.15 L1559.55 1254.05 L1549.8 1254.05 L1549.8 1251.23 L1558.79 1237.55 Z\" fill=\"#000000\" fill-rule=\"evenodd\" fill-opacity=\"1\" /><path clip-path=\"url(#clip700)\" d=\"M1550.67 1300.89 L1553.6 1300.89 L1553.6 1314.01 Q1553.6 1317.48 1554.86 1319.02 Q1556.12 1320.54 1558.94 1320.54 Q1561.75 1320.54 1563.01 1319.02 Q1564.27 1317.48 1564.27 1314.01 L1564.27 1300.89 L1567.2 1300.89 L1567.2 1314.37 Q1567.2 1318.6 1565.11 1320.75 Q1563.02 1322.91 1558.94 1322.91 Q1554.85 1322.91 1552.75 1320.75 Q1550.67 1318.6 1550.67 1314.37 L1550.67 1300.89 Z\" fill=\"#000000\" fill-rule=\"evenodd\" fill-opacity=\"1\" /><path clip-path=\"url(#clip700)\" d=\"M1572.69 1300.89 L1575.61 1300.89 L1575.61 1322.49 L1572.69 1322.49 L1572.69 1300.89 Z\" fill=\"#000000\" fill-rule=\"evenodd\" fill-opacity=\"1\" /><path clip-path=\"url(#clip700)\" d=\"M1594.78 1312.71 L1594.78 1322.49 L1592.12 1322.49 L1592.12 1312.79 Q1592.12 1310.49 1591.22 1309.35 Q1590.32 1308.21 1588.53 1308.21 Q1586.37 1308.21 1585.13 1309.58 Q1583.88 1310.96 1583.88 1313.33 L1583.88 1322.49 L1581.21 1322.49 L1581.21 1306.28 L1583.88 1306.28 L1583.88 1308.8 Q1584.84 1307.34 1586.13 1306.62 Q1587.43 1305.89 1589.12 1305.89 Q1591.91 1305.89 1593.35 1307.63 Q1594.78 1309.35 1594.78 1312.71 Z\" fill=\"#000000\" fill-rule=\"evenodd\" fill-opacity=\"1\" /><path clip-path=\"url(#clip700)\" d=\"M1602.72 1301.68 L1602.72 1306.28 L1608.2 1306.28 L1608.2 1308.35 L1602.72 1308.35 L1602.72 1317.15 Q1602.72 1319.13 1603.26 1319.7 Q1603.81 1320.26 1605.47 1320.26 L1608.2 1320.26 L1608.2 1322.49 L1605.47 1322.49 Q1602.39 1322.49 1601.22 1321.35 Q1600.04 1320.19 1600.04 1317.15 L1600.04 1308.35 L1598.09 1308.35 L1598.09 1306.28 L1600.04 1306.28 L1600.04 1301.68 L1602.72 1301.68 Z\" fill=\"#000000\" fill-rule=\"evenodd\" fill-opacity=\"1\" /><path clip-path=\"url(#clip700)\" d=\"M1618.33 1312.23 Q1616.25 1312.23 1615.05 1313.34 Q1613.86 1314.46 1613.86 1316.41 Q1613.86 1318.36 1615.05 1319.48 Q1616.25 1320.59 1618.33 1320.59 Q1620.41 1320.59 1621.62 1319.48 Q1622.82 1318.35 1622.82 1316.41 Q1622.82 1314.46 1621.62 1313.34 Q1620.43 1312.23 1618.33 1312.23 M1615.41 1310.99 Q1613.53 1310.52 1612.47 1309.24 Q1611.43 1307.95 1611.43 1306.1 Q1611.43 1303.51 1613.27 1302 Q1615.12 1300.5 1618.33 1300.5 Q1621.56 1300.5 1623.4 1302 Q1625.23 1303.51 1625.23 1306.1 Q1625.23 1307.95 1624.18 1309.24 Q1623.13 1310.52 1621.27 1310.99 Q1623.38 1311.48 1624.55 1312.91 Q1625.74 1314.34 1625.74 1316.41 Q1625.74 1319.55 1623.81 1321.23 Q1621.91 1322.91 1618.33 1322.91 Q1614.76 1322.91 1612.83 1321.23 Q1610.92 1319.55 1610.92 1316.41 Q1610.92 1314.34 1612.11 1312.91 Q1613.3 1311.48 1615.41 1310.99 M1614.34 1306.37 Q1614.34 1308.05 1615.38 1308.99 Q1616.44 1309.93 1618.33 1309.93 Q1620.21 1309.93 1621.27 1308.99 Q1622.34 1308.05 1622.34 1306.37 Q1622.34 1304.69 1621.27 1303.75 Q1620.21 1302.81 1618.33 1302.81 Q1616.44 1302.81 1615.38 1303.75 Q1614.34 1304.69 1614.34 1306.37 Z\" fill=\"#000000\" fill-rule=\"evenodd\" fill-opacity=\"1\" /></svg>\n"
     },
     "metadata": {},
     "execution_count": 1
    }
   ],
   "metadata": {}
  },
  {
   "cell_type": "markdown",
   "source": [
    "source: [Visualizing Graphs in Julia using Plots and PlotRecipes](http://www.breloff.com/Graphs/)"
   ],
   "metadata": {}
  },
  {
   "cell_type": "markdown",
   "source": [
    "### Unsigned integers\n",
    "\n",
    "* Model for $\\mathbb{N} \\cup \\{0\\}$.\n",
    "* For unsigned integers, the range is $[0,2^M-1]$.\n",
    "* Julia functions `typemin(T)` and `typemax(T)` give the lowest and highest representable number of a type `T` respectively"
   ],
   "metadata": {}
  },
  {
   "cell_type": "code",
   "execution_count": 11,
   "source": [
    "for t in [UInt8, UInt16, UInt32, UInt64, UInt128]\n",
    "    println(t, '\\t', typemin(t), '\\t', typemax(t))\n",
    "end\n",
    "\n",
    "# 질문 ; 64 비트 컴퓨터인데 128 비트가 따로 있는 이유는? 한번에 처리할 수 있는 연산에 들어갈 수 없으면 굳이 있는 이유가?\n",
    "# 128비트의 경우 소프트웨어적인 처리가 필요"
   ],
   "outputs": [
    {
     "output_type": "stream",
     "name": "stdout",
     "text": [
      "UInt8\t0\t255\n",
      "UInt16\t0\t65535\n",
      "UInt32\t0\t4294967295\n",
      "UInt64\t0\t18446744073709551615\n",
      "UInt128\t0\t340282366920938463463374607431768211455\n"
     ]
    }
   ],
   "metadata": {}
  },
  {
   "cell_type": "markdown",
   "source": [
    "### Signed integers\n",
    "\n",
    "* Model of $\\mathbb{Z}$. Can do subtraction. (Closed under subtraction)\n",
    "\n",
    "* First bit (\"most significant bit\" or MSB) is the sign bit. ($\\leftrightarrow$ The last bit is LSB ; least significant)\n",
    "    - `0` for nonnegative numbers\n",
    "    - `1` for negative numbers  \n",
    "    - Two problems exist. \n",
    "        - 00001000 is 8. If 10001000 is -8 then 8+(-8)=0 does not hold.\n",
    "        - Also we have two zeros ; 00000000 and 10000000\n",
    "    - Because of these problems, we use the method below.\n",
    "* **Two's complement representation** for negative numbers. \n",
    "    - Set the sign bit to 1  \n",
    "    - Negate (`0`->`1`, `1`->`0`) the remaining bits\n",
    "    - Add to `1` to the result  \n",
    "        - 00001000 is 8. Then -8 = 11110111+1=11111000 when M=8\n",
    "        - 8+(-8) = 1_0000_0000 which is a 9=M+1 bit number. So we dismiss the first bit, which results in 0.\n",
    "    - Two's complement representation of a negative integer $x$ is the same as the unsigned integer $2^M - x$.\n",
    "    - modulo operator (mod $2^M$). For example, when M=8, we have 256=0. 257=1. 248=-8.\n",
    "    - For postive integer x, we have $x+(2^M-x)=2^M=0 \\;(\\, mod\\, 2^M)$ which explains why $-x=2^M-x$."
   ],
   "metadata": {}
  },
  {
   "cell_type": "code",
   "execution_count": 46,
   "source": [
    "@show typeof(5)\n",
    "@show bitstring(5)\n",
    "@show bitstring(-5)\n",
    "@show bitstring(UInt64(Int128(2)^64 - 5)) == bitstring(-5)\n",
    "# 2^64 needs 65 bit. UInt64로는 안됨.\n",
    "@show bitstring(2 * 5) # shift bits of 5 to the left\n",
    "@show bitstring(2 * -5); # shift bits of -5 to left\n",
    "# scaling by 2 is easily done. What about scaling by another positive integer..? (It's way more difficult)"
   ],
   "outputs": [
    {
     "output_type": "stream",
     "name": "stdout",
     "text": [
      "typeof(5) = Int64\n",
      "bitstring(5) = \"0000000000000000000000000000000000000000000000000000000000000101\"\n",
      "bitstring(-5) = \"1111111111111111111111111111111111111111111111111111111111111011\"\n",
      "bitstring(UInt64(Int128(2) ^ 64 - 5)) == bitstring(-5) = true\n",
      "bitstring(2 * 5) = \"0000000000000000000000000000000000000000000000000000000000001010\"\n",
      "bitstring(2 * -5) = \"1111111111111111111111111111111111111111111111111111111111110110\"\n"
     ]
    }
   ],
   "metadata": {}
  },
  {
   "cell_type": "markdown",
   "source": [
    "* Two's complement representation respects modular arithmetic nicely.  \n",
    "    Addition of any two signed integers are just bitwise addition, possibly modulo $2^M$\n",
    "    - $M=4$ case:\n",
    "    \n",
    "<img src=\"http://users.dickinson.edu/~braught/courses/cs251f02/classes/images/twosCompWheel.png\" width=\"400\" align=\"center\"/>    \n",
    "\n",
    "Source: [Signed Binary Numbers, Subtraction and Overflow](http://users.dickinson.edu/~braught/courses/cs251f02/classes/notes07.html) by Grant Braught"
   ],
   "metadata": {}
  },
  {
   "cell_type": "markdown",
   "source": [
    "* **Range** of representable integers by $M$-bit **signed integer** is $[-2^{M-1},2^{M-1}-1]$:\n",
    "    - 0을 표현하기 위해 양수 개수 하나 희생\n",
    "    - $10000\\cdots 000$ 은 음수로 취급"
   ],
   "metadata": {}
  },
  {
   "cell_type": "code",
   "execution_count": 13,
   "source": [
    "typemin(Int64), typemax(Int64)\n",
    "# 양수 : 0000...0001 ~ 0111...1111 which is equivalent to 1 ~ 2^63-1\n",
    "# 음수 : 1111...1111 ~ 1000...0001 and 1000...0000 which is equivalent to -1 ~ -(2^63)-1 and -2^63"
   ],
   "outputs": [
    {
     "output_type": "execute_result",
     "data": {
      "text/plain": [
       "(-9223372036854775808, 9223372036854775807)"
      ]
     },
     "metadata": {},
     "execution_count": 13
    }
   ],
   "metadata": {}
  },
  {
   "cell_type": "code",
   "execution_count": 1,
   "source": [
    "for T in [Int8, Int16, Int32, Int64, Int128]\n",
    "    println(T, '\\t', typemin(T), '\\t', typemax(T))\n",
    "end"
   ],
   "outputs": [
    {
     "output_type": "stream",
     "name": "stdout",
     "text": [
      "Int8\t-128\t127\n",
      "Int16\t-32768\t32767\n",
      "Int32\t-2147483648\t2147483647\n",
      "Int64\t-9223372036854775808\t9223372036854775807\n",
      "Int128\t-170141183460469231731687303715884105728\t170141183460469231731687303715884105727\n"
     ]
    }
   ],
   "metadata": {}
  },
  {
   "cell_type": "markdown",
   "source": [
    "### `BigInt`\n",
    "\n",
    "Julia `BigInt` type is arbitrary precision."
   ],
   "metadata": {}
  },
  {
   "cell_type": "code",
   "execution_count": 14,
   "source": [
    "@show typemax(Int128)\n",
    "@show typemax(Int128) + 1 # overflow! the most unintuitive one in computer arithmetic.\n",
    "# As we see in the figure above, if M=4, then maximum integer is 0111=7 and 0111+1 is 1000 = -8 which is the minimum integer.\n",
    "@show BigInt(typemax(Int128)) + 1;  # prevent overflow. A kind of library. 실제 연산에 사용하기는 곤란."
   ],
   "outputs": [
    {
     "output_type": "stream",
     "name": "stdout",
     "text": [
      "typemax(Int128) = 170141183460469231731687303715884105727\n",
      "typemax(Int128) + 1 = -170141183460469231731687303715884105728\n",
      "BigInt(typemax(Int128)) + 1 = 170141183460469231731687303715884105728\n"
     ]
    }
   ],
   "metadata": {}
  },
  {
   "cell_type": "code",
   "execution_count": 28,
   "source": [
    "println(2^63-1)\n",
    "println(2^63)\n",
    "# Default인 64bit Integer에서 양수 최대값은 0111...1111 = 2^63-1\n",
    "# 1000...0000 = - 2^63 으로 정해져 있기 때문에 이런 직관에 반하는 결과가 나오는 것.\n",
    "println(BigInt(2^63-1)+1)\n",
    "println(2^63+1)"
   ],
   "outputs": [
    {
     "output_type": "stream",
     "name": "stdout",
     "text": [
      "9223372036854775807\n",
      "-9223372036854775808\n",
      "9223372036854775808\n",
      "-9223372036854775807\n"
     ]
    }
   ],
   "metadata": {}
  },
  {
   "cell_type": "markdown",
   "source": [
    "### Overflow in integer arithmetic\n",
    "\n",
    "R reports `NA` for integer overflow.\n",
    "**Julia outputs the result according to modular arithmetic.**"
   ],
   "metadata": {}
  },
  {
   "cell_type": "code",
   "execution_count": 14,
   "source": [
    "@show typemax(Int32)  # which is 2^31-1 = 0111...1111\n",
    "@show typemax(Int32) + Int32(1); # modular arithmetics!"
   ],
   "outputs": [
    {
     "output_type": "stream",
     "name": "stdout",
     "text": [
      "typemax(Int32) = 2147483647\n",
      "typemax(Int32) + Int32(1) = -2147483648\n"
     ]
    }
   ],
   "metadata": {}
  },
  {
   "cell_type": "code",
   "execution_count": 5,
   "source": [
    "using RCall\n",
    "# The largest integer R can hold\n",
    "# R은 기본적으로 32bit signed integer를 지원. \n",
    "R\"\"\"\n",
    ".Machine$integer.max \n",
    "\"\"\""
   ],
   "outputs": [
    {
     "output_type": "execute_result",
     "data": {
      "text/plain": [
       "RObject{IntSxp}\n",
       "[1] 2147483647\n"
      ]
     },
     "metadata": {},
     "execution_count": 5
    }
   ],
   "metadata": {}
  },
  {
   "cell_type": "code",
   "execution_count": 16,
   "source": [
    "R\"\"\"\n",
    "M <- 32\n",
    "big <- 2^(M-1) - 1\n",
    "as.integer(big)\n",
    "\"\"\""
   ],
   "outputs": [
    {
     "output_type": "execute_result",
     "data": {
      "text/plain": [
       "RObject{IntSxp}\n",
       "[1] 2147483647\n"
      ]
     },
     "metadata": {},
     "execution_count": 16
    }
   ],
   "metadata": {}
  },
  {
   "cell_type": "code",
   "execution_count": 17,
   "source": [
    "R\"\"\"\n",
    "as.integer(big+1)\n",
    "\"\"\""
   ],
   "outputs": [
    {
     "output_type": "stream",
     "name": "stderr",
     "text": [
      "┌ Warning: RCall.jl: Warning: NAs introduced by coercion to integer range\n",
      "└ @ RCall /Users/jhwon/.julia/packages/RCall/iMDW2/src/io.jl:160\n"
     ]
    },
    {
     "output_type": "execute_result",
     "data": {
      "text/plain": [
       "RObject{IntSxp}\n",
       "[1] NA\n"
      ]
     },
     "metadata": {},
     "execution_count": 17
    }
   ],
   "metadata": {}
  },
  {
   "cell_type": "markdown",
   "source": [
    "## Real numbers: floating-point number system\n",
    "\n",
    "Floating-point number system is a computer model for the real line $\\mathbb{R}$.  \n",
    "Fixed point : point is fixed next to the last digit. $\\; \\leftrightarrow \\;$ Floating point : point is floating\n",
    "\n",
    "* Most computer systems adopt the [IEEE 754 standard](https://en.wikipedia.org/wiki/IEEE_floating_point), established in 1985, for floating-point arithmetics.  \n",
    "For the history, see an [interview with William Kahan](http://www.cs.berkeley.edu/~wkahan/ieee754status/754story.html).\n",
    "\n",
    "* In the scientific notation, a real number is represented as\n",
    "$$\n",
    "\\pm d_1.d_2d_3 \\cdots d_p \\times b^e, \\quad 0 \\le d_i < b.\n",
    "$$\n",
    "Humans use the _base_ $b=10$ and _digits_ $d_i=0, 1, \\dotsc, 9$.\\\n",
    "    In computer, the base is $b=2$ and the digits $d_i$ are 0 or 1. The *exponent* $e$ is between $e_{\\min}$ and $e_{\\max}$.  \n",
    "    The point floats corresponding to $e$.  \n",
    "\n",
    "* **Normalized** vs **denormalized** numbers. Normalized is $d_1\\neq0$. (which implies that $d_1=1$ is fixed.)  \n",
    "For example, decimal number 18 is\n",
    "$$ +1.0010 \\times 2^4 \\quad (\\text{normalized})$$\n",
    "or, equivalently,\n",
    "$$ +0.1001 \\times 2^5 \\quad (\\text{denormalized}).$$  \n",
    "\n",
    "* In the floating-number system, computer stores \n",
    "    - sign bit  \n",
    "    - the _fraction_ (or _mantissa_, or _significand_)(유효숫자) of the **normalized** representation (except some special cases) ; $d_1, \\cdots, d_p$\n",
    "    - Note that $d_1=1$ is determined because we use normalized representation. So what we need to strore is p-1 bit digits $d_2, \\cdots, d_p$\n",
    "    - the actual exponent plus a *bias*\n",
    "        + Because $e_{\\min}$ is likely negative and $e_{\\max}$ is positive, the exponent requires a sign. IEEE 754 handles the sign of the exponent by subtracting the bias from the value of the exponent evaluated as an unsigned integer."
   ],
   "metadata": {}
  },
  {
   "cell_type": "markdown",
   "source": [
    "* Julia provides `Float16` (half precision, implemented in software using `Float32`), `Float32` (single precision), `Float64` (double precision), and `BigFloat` (arbitrary precision)."
   ],
   "metadata": {}
  },
  {
   "cell_type": "code",
   "execution_count": 2,
   "source": [
    "using GraphRecipes, Plots\n",
    "\n",
    "#pyplot(size=(800, 600))\n",
    "gr(size=(600, 400))\n",
    "theme(:default)\n",
    "\n",
    "plot(AbstractFloat, method=:tree, fontsize=5)"
   ],
   "outputs": [
    {
     "output_type": "execute_result",
     "data": {
      "image/svg+xml": "<?xml version=\"1.0\" encoding=\"utf-8\"?>\n<svg xmlns=\"http://www.w3.org/2000/svg\" xmlns:xlink=\"http://www.w3.org/1999/xlink\" width=\"600\" height=\"400\" viewBox=\"0 0 2400 1600\">\n<defs>\n  <clipPath id=\"clip730\">\n    <rect x=\"0\" y=\"0\" width=\"2400\" height=\"1600\"/>\n  </clipPath>\n</defs>\n<path clip-path=\"url(#clip730)\" d=\"\nM0 1600 L2400 1600 L2400 0 L0 0  Z\n  \" fill=\"#ffffff\" fill-rule=\"evenodd\" fill-opacity=\"1\"/>\n<defs>\n  <clipPath id=\"clip731\">\n    <rect x=\"480\" y=\"0\" width=\"1681\" height=\"1600\"/>\n  </clipPath>\n</defs>\n<path clip-path=\"url(#clip730)\" d=\"\nM447.244 1552.76 L1952.76 1552.76 L1952.76 47.2441 L447.244 47.2441  Z\n  \" fill=\"#ffffff\" fill-rule=\"evenodd\" fill-opacity=\"1\"/>\n<defs>\n  <clipPath id=\"clip732\">\n    <rect x=\"447\" y=\"47\" width=\"1507\" height=\"1507\"/>\n  </clipPath>\n</defs>\n<polyline clip-path=\"url(#clip732)\" style=\"stroke:#000000; stroke-linecap:butt; stroke-linejoin:round; stroke-width:4; stroke-opacity:1; fill:none\" points=\"\n  1063.35,262.317 1064.32,273.121 1067.15,283.276 1071.7,292.83 1077.83,301.831 1085.41,310.327 1094.29,318.365 1104.34,325.995 1115.43,333.264 1127.4,340.221 \n  1140.14,346.913 1153.49,353.389 1167.32,359.696 1181.5,365.883 1195.88,371.998 1210.34,378.089 1224.72,384.204 1238.9,390.391 1252.73,396.698 1266.08,403.174 \n  1278.82,409.866 1290.79,416.822 1301.88,424.092 1311.93,431.721 1320.81,439.76 1328.39,448.256 1334.52,457.257 1339.07,466.81 1341.9,476.965 1342.87,487.77 \n  \n  \"/>\n<polyline clip-path=\"url(#clip732)\" style=\"stroke:#000000; stroke-linecap:butt; stroke-linejoin:round; stroke-width:4; stroke-opacity:1; fill:none\" points=\"\n  1342.87,487.77 1342.18,496.823 1340.15,505.559 1336.89,514.001 1332.5,522.172 1327.07,530.095 1320.71,537.795 1313.51,545.295 1305.58,552.618 1297,559.788 \n  1287.88,566.829 1278.32,573.763 1268.41,580.615 1258.25,587.409 1247.95,594.167 1237.6,600.913 1227.3,607.671 1217.15,614.464 1207.24,621.316 1197.68,628.251 \n  1188.56,635.291 1179.98,642.461 1172.04,649.784 1164.84,657.284 1158.48,664.984 1153.06,672.908 1148.67,681.078 1145.41,689.52 1143.38,698.256 1142.68,707.31 \n  \n  \"/>\n<polyline clip-path=\"url(#clip732)\" style=\"stroke:#000000; stroke-linecap:butt; stroke-linejoin:round; stroke-width:4; stroke-opacity:1; fill:none\" points=\"\n  1142.68,707.31 1142.78,718.694 1143.05,730.312 1143.49,742.147 1144.08,754.181 1144.81,766.398 1145.67,778.78 1146.64,791.309 1147.71,803.969 1148.87,816.741 \n  1150.1,829.609 1151.39,842.555 1152.72,855.562 1154.09,868.612 1155.48,881.688 1156.87,894.773 1158.26,907.849 1159.63,920.899 1160.97,933.906 1162.26,946.852 \n  1163.49,959.72 1164.64,972.492 1165.71,985.152 1166.68,997.681 1167.54,1010.06 1168.27,1022.28 1168.86,1034.31 1169.3,1046.15 1169.58,1057.77 1169.67,1069.15 \n  \n  \"/>\n<polyline clip-path=\"url(#clip732)\" style=\"stroke:#000000; stroke-linecap:butt; stroke-linejoin:round; stroke-width:4; stroke-opacity:1; fill:none\" points=\"\n  1169.67,1069.15 1169.13,1078.73 1167.56,1088.25 1165.05,1097.7 1161.65,1107.09 1157.46,1116.42 1152.54,1125.71 1146.97,1134.96 1140.83,1144.16 1134.2,1153.33 \n  1127.15,1162.48 1119.76,1171.6 1112.1,1180.7 1104.25,1189.79 1096.28,1198.88 1088.28,1207.96 1080.32,1217.04 1072.47,1226.13 1064.81,1235.23 1057.41,1244.36 \n  1050.36,1253.5 1043.73,1262.67 1037.59,1271.88 1032.03,1281.12 1027.11,1290.41 1022.92,1299.75 1019.52,1309.14 1017,1318.59 1015.43,1328.1 1014.89,1337.68 \n  \n  \"/>\n<polyline clip-path=\"url(#clip732)\" style=\"stroke:#000000; stroke-linecap:butt; stroke-linejoin:round; stroke-width:4; stroke-opacity:1; fill:none\" points=\"\n  1169.67,1069.15 1167.9,1079.13 1162.77,1088.44 1154.51,1097.14 1143.38,1105.28 1129.63,1112.9 1113.5,1120.05 1095.26,1126.79 1075.14,1133.15 1053.41,1139.2 \n  1030.29,1144.98 1006.06,1150.54 980.951,1155.92 955.218,1161.19 929.11,1166.38 902.878,1171.54 876.771,1176.73 851.038,1181.99 825.93,1187.38 801.695,1192.94 \n  778.583,1198.71 756.844,1204.76 736.728,1211.13 718.484,1217.87 702.362,1225.02 688.612,1232.64 677.482,1240.77 669.224,1249.48 664.085,1258.79 662.317,1268.77 \n  \n  \"/>\n<polyline clip-path=\"url(#clip732)\" style=\"stroke:#000000; stroke-linecap:butt; stroke-linejoin:round; stroke-width:4; stroke-opacity:1; fill:none\" points=\"\n  1169.67,1069.15 1170.85,1076.62 1174.28,1083.59 1179.79,1090.11 1187.21,1096.2 1196.38,1101.9 1207.13,1107.26 1219.3,1112.3 1232.71,1117.07 1247.21,1121.59 \n  1262.63,1125.92 1278.79,1130.08 1295.53,1134.11 1312.7,1138.05 1330.11,1141.94 1347.6,1145.8 1365.01,1149.69 1382.18,1153.63 1398.92,1157.66 1415.08,1161.82 \n  1430.5,1166.14 1445,1170.67 1458.41,1175.44 1470.58,1180.48 1481.33,1185.84 1490.5,1191.54 1497.92,1197.63 1503.43,1204.14 1506.86,1211.12 1508.04,1218.59 \n  \n  \"/>\n<polyline clip-path=\"url(#clip732)\" style=\"stroke:#000000; stroke-linecap:butt; stroke-linejoin:round; stroke-width:4; stroke-opacity:1; fill:none\" points=\"\n  1169.67,1069.15 1171.65,1079.27 1177.4,1088.71 1186.65,1097.54 1199.11,1105.79 1214.5,1113.52 1232.55,1120.77 1252.98,1127.6 1275.5,1134.06 1299.84,1140.19 \n  1325.71,1146.05 1352.84,1151.69 1380.96,1157.15 1409.76,1162.49 1438.99,1167.75 1468.36,1172.99 1497.59,1178.25 1526.4,1183.58 1554.51,1189.05 1581.64,1194.68 \n  1607.52,1200.54 1631.85,1206.68 1654.38,1213.13 1674.8,1219.96 1692.85,1227.22 1708.24,1234.95 1720.7,1243.2 1729.95,1252.02 1735.7,1261.46 1737.68,1271.58 \n  \n  \"/>\n<path clip-path=\"url(#clip732)\" d=\"\nM1098.31 262.317 L1080.83 232.04 L1045.87 232.04 L1028.39 262.317 L1045.87 292.595 L1080.83 292.595 L1098.31 262.317 L1098.31 262.317  Z\n  \" fill=\"#009af9\" fill-rule=\"evenodd\" fill-opacity=\"1\"/>\n<polyline clip-path=\"url(#clip732)\" style=\"stroke:#000000; stroke-linecap:butt; stroke-linejoin:round; stroke-width:4; stroke-opacity:1; fill:none\" points=\"\n  1098.31,262.317 1080.83,232.04 1045.87,232.04 1028.39,262.317 1045.87,292.595 1080.83,292.595 1098.31,262.317 \n  \"/>\n<path clip-path=\"url(#clip732)\" d=\"\nM1403.74 487.77 L1373.31 435.054 L1312.44 435.054 L1282 487.77 L1312.44 540.485 L1373.31 540.485 L1403.74 487.77 L1403.74 487.77  Z\n  \" fill=\"#009af9\" fill-rule=\"evenodd\" fill-opacity=\"1\"/>\n<polyline clip-path=\"url(#clip732)\" style=\"stroke:#000000; stroke-linecap:butt; stroke-linejoin:round; stroke-width:4; stroke-opacity:1; fill:none\" points=\"\n  1403.74,487.77 1373.31,435.054 1312.44,435.054 1282,487.77 1312.44,540.485 1373.31,540.485 1403.74,487.77 \n  \"/>\n<path clip-path=\"url(#clip732)\" d=\"\nM1186.69 707.31 L1164.69 669.197 L1120.68 669.197 L1098.67 707.31 L1120.68 745.422 L1164.69 745.422 L1186.69 707.31 L1186.69 707.31  Z\n  \" fill=\"#009af9\" fill-rule=\"evenodd\" fill-opacity=\"1\"/>\n<polyline clip-path=\"url(#clip732)\" style=\"stroke:#000000; stroke-linecap:butt; stroke-linejoin:round; stroke-width:4; stroke-opacity:1; fill:none\" points=\"\n  1186.69,707.31 1164.69,669.197 1120.68,669.197 1098.67,707.31 1120.68,745.422 1164.69,745.422 1186.69,707.31 \n  \"/>\n<path clip-path=\"url(#clip732)\" d=\"\nM1282.66 1069.15 L1226.17 971.298 L1113.18 971.298 L1056.68 1069.15 L1113.18 1167 L1226.17 1167 L1282.66 1069.15 L1282.66 1069.15  Z\n  \" fill=\"#009af9\" fill-rule=\"evenodd\" fill-opacity=\"1\"/>\n<polyline clip-path=\"url(#clip732)\" style=\"stroke:#000000; stroke-linecap:butt; stroke-linejoin:round; stroke-width:4; stroke-opacity:1; fill:none\" points=\"\n  1282.66,1069.15 1226.17,971.298 1113.18,971.298 1056.68,1069.15 1113.18,1167 1226.17,1167 1282.66,1069.15 \n  \"/>\n<path clip-path=\"url(#clip732)\" d=\"\nM1091.52 1337.68 L1053.21 1271.32 L976.582 1271.32 L938.271 1337.68 L976.582 1404.04 L1053.21 1404.04 L1091.52 1337.68 L1091.52 1337.68  Z\n  \" fill=\"#009af9\" fill-rule=\"evenodd\" fill-opacity=\"1\"/>\n<polyline clip-path=\"url(#clip732)\" style=\"stroke:#000000; stroke-linecap:butt; stroke-linejoin:round; stroke-width:4; stroke-opacity:1; fill:none\" points=\"\n  1091.52,1337.68 1053.21,1271.32 976.582,1271.32 938.271,1337.68 976.582,1404.04 1053.21,1404.04 1091.52,1337.68 \n  \"/>\n<path clip-path=\"url(#clip732)\" d=\"\nM731.177 1268.77 L696.747 1209.13 L627.887 1209.13 L593.457 1268.77 L627.887 1328.4 L696.747 1328.4 L731.177 1268.77 L731.177 1268.77  Z\n  \" fill=\"#009af9\" fill-rule=\"evenodd\" fill-opacity=\"1\"/>\n<polyline clip-path=\"url(#clip732)\" style=\"stroke:#000000; stroke-linecap:butt; stroke-linejoin:round; stroke-width:4; stroke-opacity:1; fill:none\" points=\"\n  731.177,1268.77 696.747,1209.13 627.887,1209.13 593.457,1268.77 627.887,1328.4 696.747,1328.4 731.177,1268.77 \n  \"/>\n<path clip-path=\"url(#clip732)\" d=\"\nM1576.9 1218.59 L1542.47 1158.95 L1473.61 1158.95 L1439.18 1218.59 L1473.61 1278.22 L1542.47 1278.22 L1576.9 1218.59 L1576.9 1218.59  Z\n  \" fill=\"#009af9\" fill-rule=\"evenodd\" fill-opacity=\"1\"/>\n<polyline clip-path=\"url(#clip732)\" style=\"stroke:#000000; stroke-linecap:butt; stroke-linejoin:round; stroke-width:4; stroke-opacity:1; fill:none\" points=\"\n  1576.9,1218.59 1542.47,1158.95 1473.61,1158.95 1439.18,1218.59 1473.61,1278.22 1542.47,1278.22 1576.9,1218.59 \n  \"/>\n<path clip-path=\"url(#clip732)\" d=\"\nM1806.54 1271.58 L1772.11 1211.95 L1703.25 1211.95 L1668.82 1271.58 L1703.25 1331.22 L1772.11 1331.22 L1806.54 1271.58 L1806.54 1271.58  Z\n  \" fill=\"#009af9\" fill-rule=\"evenodd\" fill-opacity=\"1\"/>\n<polyline clip-path=\"url(#clip732)\" style=\"stroke:#000000; stroke-linecap:butt; stroke-linejoin:round; stroke-width:4; stroke-opacity:1; fill:none\" points=\"\n  1806.54,1271.58 1772.11,1211.95 1703.25,1211.95 1668.82,1271.58 1703.25,1331.22 1772.11,1331.22 1806.54,1271.58 \n  \"/>\n<circle clip-path=\"url(#clip732)\" style=\"fill:#009af9; stroke:none; fill-opacity:1\" cx=\"1063.35\" cy=\"262.317\" r=\"2\"/>\n<circle clip-path=\"url(#clip732)\" style=\"fill:#009af9; stroke:none; fill-opacity:1\" cx=\"1342.87\" cy=\"487.77\" r=\"2\"/>\n<circle clip-path=\"url(#clip732)\" style=\"fill:#009af9; stroke:none; fill-opacity:1\" cx=\"1142.68\" cy=\"707.31\" r=\"2\"/>\n<circle clip-path=\"url(#clip732)\" style=\"fill:#009af9; stroke:none; fill-opacity:1\" cx=\"1169.67\" cy=\"1069.15\" r=\"2\"/>\n<circle clip-path=\"url(#clip732)\" style=\"fill:#009af9; stroke:none; fill-opacity:1\" cx=\"1014.89\" cy=\"1337.68\" r=\"2\"/>\n<circle clip-path=\"url(#clip732)\" style=\"fill:#009af9; stroke:none; fill-opacity:1\" cx=\"662.317\" cy=\"1268.77\" r=\"2\"/>\n<circle clip-path=\"url(#clip732)\" style=\"fill:#009af9; stroke:none; fill-opacity:1\" cx=\"1508.04\" cy=\"1218.59\" r=\"2\"/>\n<circle clip-path=\"url(#clip732)\" style=\"fill:#009af9; stroke:none; fill-opacity:1\" cx=\"1737.68\" cy=\"1271.58\" r=\"2\"/>\n<path clip-path=\"url(#clip730)\" d=\"M1045.51 254.396 L1041.55 265.146 L1049.49 265.146 L1045.51 254.396 M1043.86 251.517 L1047.17 251.517 L1055.41 273.117 L1052.37 273.117 L1050.4 267.576 L1040.66 267.576 L1038.7 273.117 L1035.61 273.117 L1043.86 251.517 Z\" fill=\"#000000\" fill-rule=\"evenodd\" fill-opacity=\"1\" /><path clip-path=\"url(#clip730)\" d=\"M1071.91 263.337 L1071.91 273.117 L1069.25 273.117 L1069.25 263.424 Q1069.25 261.124 1068.35 259.981 Q1067.46 258.838 1065.66 258.838 Q1063.51 258.838 1062.26 260.212 Q1061.02 261.587 1061.02 263.959 L1061.02 273.117 L1058.34 273.117 L1058.34 256.914 L1061.02 256.914 L1061.02 259.431 Q1061.97 257.97 1063.26 257.246 Q1064.56 256.523 1066.26 256.523 Q1069.05 256.523 1070.48 258.259 Q1071.91 259.981 1071.91 263.337 Z\" fill=\"#000000\" fill-rule=\"evenodd\" fill-opacity=\"1\" /><path clip-path=\"url(#clip730)\" d=\"M1083.96 274.622 Q1082.84 277.515 1081.76 278.398 Q1080.69 279.28 1078.9 279.28 L1076.77 279.28 L1076.77 277.052 L1078.34 277.052 Q1079.44 277.052 1080.04 276.532 Q1080.65 276.011 1081.39 274.072 L1081.87 272.857 L1075.31 256.914 L1078.13 256.914 L1083.2 269.587 L1088.26 256.914 L1091.08 256.914 L1083.96 274.622 Z\" fill=\"#000000\" fill-rule=\"evenodd\" fill-opacity=\"1\" /><path clip-path=\"url(#clip730)\" d=\"M1284.82 476.97 L1288.75 476.97 L1298.33 495.039 L1298.33 476.97 L1301.16 476.97 L1301.16 498.57 L1297.23 498.57 L1287.65 480.5 L1287.65 498.57 L1284.82 498.57 L1284.82 476.97 Z\" fill=\"#000000\" fill-rule=\"evenodd\" fill-opacity=\"1\" /><path clip-path=\"url(#clip730)\" d=\"M1306.59 492.175 L1306.59 482.366 L1309.25 482.366 L1309.25 492.074 Q1309.25 494.374 1310.15 495.531 Q1311.05 496.674 1312.84 496.674 Q1314.99 496.674 1316.24 495.3 Q1317.5 493.925 1317.5 491.553 L1317.5 482.366 L1320.16 482.366 L1320.16 498.57 L1317.5 498.57 L1317.5 496.081 Q1316.53 497.557 1315.24 498.28 Q1313.97 498.989 1312.27 498.989 Q1309.48 498.989 1308.04 497.253 Q1306.59 495.517 1306.59 492.175 M1313.29 481.975 L1313.29 481.975 Z\" fill=\"#000000\" fill-rule=\"evenodd\" fill-opacity=\"1\" /><path clip-path=\"url(#clip730)\" d=\"M1338.26 485.476 Q1339.26 483.682 1340.65 482.829 Q1342.03 481.975 1343.92 481.975 Q1346.45 481.975 1347.82 483.755 Q1349.2 485.52 1349.2 488.789 L1349.2 498.57 L1346.52 498.57 L1346.52 488.876 Q1346.52 486.547 1345.69 485.419 Q1344.87 484.29 1343.18 484.29 Q1341.11 484.29 1339.91 485.664 Q1338.71 487.039 1338.71 489.412 L1338.71 498.57 L1336.03 498.57 L1336.03 488.876 Q1336.03 486.533 1335.21 485.419 Q1334.38 484.29 1332.66 484.29 Q1330.62 484.29 1329.42 485.679 Q1328.22 487.053 1328.22 489.412 L1328.22 498.57 L1325.54 498.57 L1325.54 482.366 L1328.22 482.366 L1328.22 484.883 Q1329.13 483.393 1330.4 482.684 Q1331.68 481.975 1333.43 481.975 Q1335.19 481.975 1336.42 482.872 Q1337.67 483.769 1338.26 485.476 Z\" fill=\"#000000\" fill-rule=\"evenodd\" fill-opacity=\"1\" /><path clip-path=\"url(#clip730)\" d=\"M1366.14 490.482 Q1366.14 487.545 1364.92 485.882 Q1363.72 484.203 1361.61 484.203 Q1359.5 484.203 1358.28 485.882 Q1357.08 487.545 1357.08 490.482 Q1357.08 493.419 1358.28 495.097 Q1359.5 496.761 1361.61 496.761 Q1363.72 496.761 1364.92 495.097 Q1366.14 493.419 1366.14 490.482 M1357.08 484.825 Q1357.92 483.379 1359.19 482.684 Q1360.48 481.975 1362.26 481.975 Q1365.21 481.975 1367.05 484.319 Q1368.9 486.663 1368.9 490.482 Q1368.9 494.302 1367.05 496.645 Q1365.21 498.989 1362.26 498.989 Q1360.48 498.989 1359.19 498.295 Q1357.92 497.586 1357.08 496.139 L1357.08 498.57 L1354.4 498.57 L1354.4 476.058 L1357.08 476.058 L1357.08 484.825 Z\" fill=\"#000000\" fill-rule=\"evenodd\" fill-opacity=\"1\" /><path clip-path=\"url(#clip730)\" d=\"M1387.17 489.802 L1387.17 491.104 L1374.93 491.104 Q1375.11 493.853 1376.58 495.3 Q1378.07 496.732 1380.72 496.732 Q1382.25 496.732 1383.69 496.356 Q1385.13 495.98 1386.55 495.228 L1386.55 497.745 Q1385.12 498.353 1383.61 498.671 Q1382.11 498.989 1380.56 498.989 Q1376.68 498.989 1374.41 496.732 Q1372.16 494.475 1372.16 490.627 Q1372.16 486.648 1374.3 484.319 Q1376.45 481.975 1380.1 481.975 Q1383.37 481.975 1385.26 484.088 Q1387.17 486.185 1387.17 489.802 M1384.51 489.021 Q1384.48 486.836 1383.28 485.534 Q1382.1 484.232 1380.13 484.232 Q1377.9 484.232 1376.55 485.491 Q1375.22 486.75 1375.02 489.035 L1384.51 489.021 Z\" fill=\"#000000\" fill-rule=\"evenodd\" fill-opacity=\"1\" /><path clip-path=\"url(#clip730)\" d=\"M1400.93 484.854 Q1400.48 484.594 1399.95 484.478 Q1399.43 484.348 1398.79 484.348 Q1396.53 484.348 1395.32 485.824 Q1394.12 487.285 1394.12 490.034 L1394.12 498.57 L1391.44 498.57 L1391.44 482.366 L1394.12 482.366 L1394.12 484.883 Q1394.96 483.408 1396.3 482.699 Q1397.65 481.975 1399.57 481.975 Q1399.85 481.975 1400.18 482.019 Q1400.51 482.048 1400.92 482.12 L1400.93 484.854 Z\" fill=\"#000000\" fill-rule=\"evenodd\" fill-opacity=\"1\" /><path clip-path=\"url(#clip730)\" d=\"M1123.83 707.983 Q1124.77 708.301 1125.65 709.343 Q1126.55 710.384 1127.45 712.207 L1130.41 718.11 L1127.27 718.11 L1124.51 712.569 Q1123.44 710.399 1122.43 709.69 Q1121.43 708.981 1119.69 708.981 L1116.51 708.981 L1116.51 718.11 L1113.59 718.11 L1113.59 696.51 L1120.18 696.51 Q1123.89 696.51 1125.71 698.058 Q1127.53 699.606 1127.53 702.731 Q1127.53 704.771 1126.58 706.116 Q1125.64 707.462 1123.83 707.983 M1116.51 698.912 L1116.51 706.579 L1120.18 706.579 Q1122.3 706.579 1123.37 705.61 Q1124.45 704.626 1124.45 702.731 Q1124.45 700.836 1123.37 699.881 Q1122.3 698.912 1120.18 698.912 L1116.51 698.912 Z\" fill=\"#000000\" fill-rule=\"evenodd\" fill-opacity=\"1\" /><path clip-path=\"url(#clip730)\" d=\"M1146.59 709.343 L1146.59 710.645 L1134.35 710.645 Q1134.52 713.393 1136 714.84 Q1137.49 716.273 1140.14 716.273 Q1141.67 716.273 1143.1 715.896 Q1144.55 715.52 1145.97 714.768 L1145.97 717.285 Q1144.53 717.893 1143.03 718.211 Q1141.52 718.529 1139.98 718.529 Q1136.1 718.529 1133.83 716.273 Q1131.57 714.016 1131.57 710.167 Q1131.57 706.189 1133.71 703.859 Q1135.87 701.516 1139.51 701.516 Q1142.78 701.516 1144.68 703.628 Q1146.59 705.726 1146.59 709.343 M1143.93 708.561 Q1143.9 706.377 1142.7 705.075 Q1141.51 703.773 1139.54 703.773 Q1137.31 703.773 1135.97 705.031 Q1134.64 706.29 1134.43 708.576 L1143.93 708.561 Z\" fill=\"#000000\" fill-rule=\"evenodd\" fill-opacity=\"1\" /><path clip-path=\"url(#clip730)\" d=\"M1158.32 709.965 Q1155.09 709.965 1153.85 710.703 Q1152.61 711.44 1152.61 713.22 Q1152.61 714.638 1153.53 715.477 Q1154.47 716.301 1156.08 716.301 Q1158.29 716.301 1159.62 714.739 Q1160.97 713.162 1160.97 710.558 L1160.97 709.965 L1158.32 709.965 M1163.63 708.865 L1163.63 718.11 L1160.97 718.11 L1160.97 715.65 Q1160.06 717.126 1158.7 717.835 Q1157.34 718.529 1155.37 718.529 Q1152.88 718.529 1151.41 717.141 Q1149.94 715.737 1149.94 713.393 Q1149.94 710.659 1151.77 709.27 Q1153.6 707.881 1157.24 707.881 L1160.97 707.881 L1160.97 707.621 Q1160.97 705.784 1159.75 704.785 Q1158.55 703.773 1156.37 703.773 Q1154.98 703.773 1153.66 704.105 Q1152.35 704.438 1151.13 705.104 L1151.13 702.644 Q1152.59 702.08 1153.97 701.805 Q1155.34 701.516 1156.64 701.516 Q1160.16 701.516 1161.89 703.339 Q1163.63 705.161 1163.63 708.865 Z\" fill=\"#000000\" fill-rule=\"evenodd\" fill-opacity=\"1\" /><path clip-path=\"url(#clip730)\" d=\"M1169.11 695.598 L1171.78 695.598 L1171.78 718.11 L1169.11 718.11 L1169.11 695.598 Z\" fill=\"#000000\" fill-rule=\"evenodd\" fill-opacity=\"1\" /><path clip-path=\"url(#clip730)\" d=\"M1081.26 1061.23 L1077.3 1071.98 L1085.24 1071.98 L1081.26 1061.23 M1079.61 1058.35 L1082.92 1058.35 L1091.16 1079.95 L1088.12 1079.95 L1086.15 1074.41 L1076.41 1074.41 L1074.45 1079.95 L1071.36 1079.95 L1079.61 1058.35 Z\" fill=\"#000000\" fill-rule=\"evenodd\" fill-opacity=\"1\" /><path clip-path=\"url(#clip730)\" d=\"M1105.83 1071.86 Q1105.83 1068.93 1104.61 1067.26 Q1103.41 1065.58 1101.3 1065.58 Q1099.19 1065.58 1097.97 1067.26 Q1096.77 1068.93 1096.77 1071.86 Q1096.77 1074.8 1097.97 1076.48 Q1099.19 1078.14 1101.3 1078.14 Q1103.41 1078.14 1104.61 1076.48 Q1105.83 1074.8 1105.83 1071.86 M1096.77 1066.21 Q1097.61 1064.76 1098.88 1064.07 Q1100.17 1063.36 1101.95 1063.36 Q1104.9 1063.36 1106.74 1065.7 Q1108.59 1068.04 1108.59 1071.86 Q1108.59 1075.68 1106.74 1078.03 Q1104.9 1080.37 1101.95 1080.37 Q1100.17 1080.37 1098.88 1079.68 Q1097.61 1078.97 1096.77 1077.52 L1096.77 1079.95 L1094.09 1079.95 L1094.09 1057.44 L1096.77 1057.44 L1096.77 1066.21 Z\" fill=\"#000000\" fill-rule=\"evenodd\" fill-opacity=\"1\" /><path clip-path=\"url(#clip730)\" d=\"M1123.33 1064.22 L1123.33 1066.74 Q1122.2 1066.16 1120.99 1065.87 Q1119.77 1065.58 1118.47 1065.58 Q1116.49 1065.58 1115.49 1066.19 Q1114.51 1066.8 1114.51 1068.02 Q1114.51 1068.94 1115.22 1069.48 Q1115.92 1070 1118.07 1070.47 L1118.98 1070.68 Q1121.81 1071.29 1123 1072.4 Q1124.2 1073.5 1124.2 1075.48 Q1124.2 1077.74 1122.41 1079.05 Q1120.63 1080.37 1117.5 1080.37 Q1116.2 1080.37 1114.78 1080.11 Q1113.38 1079.86 1111.82 1079.36 L1111.82 1076.61 Q1113.29 1077.38 1114.72 1077.77 Q1116.16 1078.14 1117.56 1078.14 Q1119.44 1078.14 1120.45 1077.51 Q1121.47 1076.86 1121.47 1075.68 Q1121.47 1074.6 1120.73 1074.02 Q1120 1073.44 1117.53 1072.91 L1116.6 1072.69 Q1114.13 1072.17 1113.03 1071.1 Q1111.93 1070.01 1111.93 1068.13 Q1111.93 1065.85 1113.55 1064.6 Q1115.17 1063.36 1118.15 1063.36 Q1119.63 1063.36 1120.93 1063.57 Q1122.23 1063.79 1123.33 1064.22 Z\" fill=\"#000000\" fill-rule=\"evenodd\" fill-opacity=\"1\" /><path clip-path=\"url(#clip730)\" d=\"M1131.07 1059.15 L1131.07 1063.75 L1136.56 1063.75 L1136.56 1065.82 L1131.07 1065.82 L1131.07 1074.61 Q1131.07 1076.59 1131.61 1077.16 Q1132.16 1077.72 1133.82 1077.72 L1136.56 1077.72 L1136.56 1079.95 L1133.82 1079.95 Q1130.74 1079.95 1129.57 1078.81 Q1128.4 1077.65 1128.4 1074.61 L1128.4 1065.82 L1126.44 1065.82 L1126.44 1063.75 L1128.4 1063.75 L1128.4 1059.15 L1131.07 1059.15 Z\" fill=\"#000000\" fill-rule=\"evenodd\" fill-opacity=\"1\" /><path clip-path=\"url(#clip730)\" d=\"M1149.45 1066.24 Q1149 1065.98 1148.46 1065.86 Q1147.94 1065.73 1147.3 1065.73 Q1145.05 1065.73 1143.83 1067.21 Q1142.63 1068.67 1142.63 1071.42 L1142.63 1079.95 L1139.96 1079.95 L1139.96 1063.75 L1142.63 1063.75 L1142.63 1066.26 Q1143.47 1064.79 1144.82 1064.08 Q1146.16 1063.36 1148.09 1063.36 Q1148.36 1063.36 1148.69 1063.4 Q1149.03 1063.43 1149.43 1063.5 L1149.45 1066.24 Z\" fill=\"#000000\" fill-rule=\"evenodd\" fill-opacity=\"1\" /><path clip-path=\"url(#clip730)\" d=\"M1159.6 1071.81 Q1156.38 1071.81 1155.13 1072.54 Q1153.89 1073.28 1153.89 1075.06 Q1153.89 1076.48 1154.81 1077.32 Q1155.75 1078.14 1157.36 1078.14 Q1159.57 1078.14 1160.9 1076.58 Q1162.25 1075 1162.25 1072.4 L1162.25 1071.81 L1159.6 1071.81 M1164.91 1070.71 L1164.91 1079.95 L1162.25 1079.95 L1162.25 1077.49 Q1161.34 1078.97 1159.98 1079.68 Q1158.62 1080.37 1156.65 1080.37 Q1154.16 1080.37 1152.69 1078.98 Q1151.23 1077.58 1151.23 1075.23 Q1151.23 1072.5 1153.05 1071.11 Q1154.89 1069.72 1158.52 1069.72 L1162.25 1069.72 L1162.25 1069.46 Q1162.25 1067.62 1161.03 1066.63 Q1159.83 1065.61 1157.65 1065.61 Q1156.26 1065.61 1154.94 1065.95 Q1153.63 1066.28 1152.41 1066.94 L1152.41 1064.49 Q1153.87 1063.92 1155.25 1063.65 Q1156.62 1063.36 1157.92 1063.36 Q1161.44 1063.36 1163.18 1065.18 Q1164.91 1067 1164.91 1070.71 Z\" fill=\"#000000\" fill-rule=\"evenodd\" fill-opacity=\"1\" /><path clip-path=\"url(#clip730)\" d=\"M1182.06 1064.37 L1182.06 1066.86 Q1180.93 1066.24 1179.78 1065.93 Q1178.66 1065.61 1177.5 1065.61 Q1174.91 1065.61 1173.48 1067.26 Q1172.04 1068.9 1172.04 1071.86 Q1172.04 1074.83 1173.48 1076.48 Q1174.91 1078.11 1177.5 1078.11 Q1178.66 1078.11 1179.78 1077.81 Q1180.93 1077.49 1182.06 1076.87 L1182.06 1079.33 Q1180.94 1079.85 1179.74 1080.11 Q1178.55 1080.37 1177.21 1080.37 Q1173.55 1080.37 1171.39 1078.07 Q1169.24 1075.77 1169.24 1071.86 Q1169.24 1067.9 1171.41 1065.63 Q1173.59 1063.36 1177.38 1063.36 Q1178.61 1063.36 1179.78 1063.62 Q1180.96 1063.86 1182.06 1064.37 Z\" fill=\"#000000\" fill-rule=\"evenodd\" fill-opacity=\"1\" /><path clip-path=\"url(#clip730)\" d=\"M1189.32 1059.15 L1189.32 1063.75 L1194.8 1063.75 L1194.8 1065.82 L1189.32 1065.82 L1189.32 1074.61 Q1189.32 1076.59 1189.85 1077.16 Q1190.4 1077.72 1192.07 1077.72 L1194.8 1077.72 L1194.8 1079.95 L1192.07 1079.95 Q1188.99 1079.95 1187.81 1078.81 Q1186.64 1077.65 1186.64 1074.61 L1186.64 1065.82 L1184.69 1065.82 L1184.69 1063.75 L1186.64 1063.75 L1186.64 1059.15 L1189.32 1059.15 Z\" fill=\"#000000\" fill-rule=\"evenodd\" fill-opacity=\"1\" /><path clip-path=\"url(#clip730)\" d=\"M1198.42 1058.35 L1210.83 1058.35 L1210.83 1060.81 L1201.34 1060.81 L1201.34 1067.18 L1209.91 1067.18 L1209.91 1069.64 L1201.34 1069.64 L1201.34 1079.95 L1198.42 1079.95 L1198.42 1058.35 Z\" fill=\"#000000\" fill-rule=\"evenodd\" fill-opacity=\"1\" /><path clip-path=\"url(#clip730)\" d=\"M1215.35 1057.44 L1218.01 1057.44 L1218.01 1079.95 L1215.35 1079.95 L1215.35 1057.44 Z\" fill=\"#000000\" fill-rule=\"evenodd\" fill-opacity=\"1\" /><path clip-path=\"url(#clip730)\" d=\"M1229.86 1065.61 Q1227.72 1065.61 1226.47 1067.29 Q1225.23 1068.96 1225.23 1071.86 Q1225.23 1074.77 1226.46 1076.45 Q1227.7 1078.11 1229.86 1078.11 Q1231.98 1078.11 1233.23 1076.44 Q1234.47 1074.76 1234.47 1071.86 Q1234.47 1068.98 1233.23 1067.31 Q1231.98 1065.61 1229.86 1065.61 M1229.86 1063.36 Q1233.33 1063.36 1235.31 1065.61 Q1237.29 1067.87 1237.29 1071.86 Q1237.29 1075.84 1235.31 1078.11 Q1233.33 1080.37 1229.86 1080.37 Q1226.37 1080.37 1224.39 1078.11 Q1222.42 1075.84 1222.42 1071.86 Q1222.42 1067.87 1224.39 1065.61 Q1226.37 1063.36 1229.86 1063.36 Z\" fill=\"#000000\" fill-rule=\"evenodd\" fill-opacity=\"1\" /><path clip-path=\"url(#clip730)\" d=\"M1249.07 1071.81 Q1245.84 1071.81 1244.6 1072.54 Q1243.35 1073.28 1243.35 1075.06 Q1243.35 1076.48 1244.28 1077.32 Q1245.22 1078.14 1246.83 1078.14 Q1249.04 1078.14 1250.37 1076.58 Q1251.72 1075 1251.72 1072.4 L1251.72 1071.81 L1249.07 1071.81 M1254.38 1070.71 L1254.38 1079.95 L1251.72 1079.95 L1251.72 1077.49 Q1250.81 1078.97 1249.45 1079.68 Q1248.09 1080.37 1246.12 1080.37 Q1243.63 1080.37 1242.15 1078.98 Q1240.69 1077.58 1240.69 1075.23 Q1240.69 1072.5 1242.52 1071.11 Q1244.35 1069.72 1247.98 1069.72 L1251.72 1069.72 L1251.72 1069.46 Q1251.72 1067.62 1250.5 1066.63 Q1249.3 1065.61 1247.12 1065.61 Q1245.73 1065.61 1244.41 1065.95 Q1243.09 1066.28 1241.88 1066.94 L1241.88 1064.49 Q1243.34 1063.92 1244.71 1063.65 Q1246.09 1063.36 1247.39 1063.36 Q1250.91 1063.36 1252.64 1065.18 Q1254.38 1067 1254.38 1070.71 Z\" fill=\"#000000\" fill-rule=\"evenodd\" fill-opacity=\"1\" /><path clip-path=\"url(#clip730)\" d=\"M1262.5 1059.15 L1262.5 1063.75 L1267.98 1063.75 L1267.98 1065.82 L1262.5 1065.82 L1262.5 1074.61 Q1262.5 1076.59 1263.03 1077.16 Q1263.58 1077.72 1265.24 1077.72 L1267.98 1077.72 L1267.98 1079.95 L1265.24 1079.95 Q1262.16 1079.95 1260.99 1078.81 Q1259.82 1077.65 1259.82 1074.61 L1259.82 1065.82 L1257.87 1065.82 L1257.87 1063.75 L1259.82 1063.75 L1259.82 1059.15 L1262.5 1059.15 Z\" fill=\"#000000\" fill-rule=\"evenodd\" fill-opacity=\"1\" /><path clip-path=\"url(#clip730)\" d=\"M959.353 1338.17 L959.353 1346.08 L964.041 1346.08 Q966.399 1346.08 967.527 1345.11 Q968.67 1344.13 968.67 1342.12 Q968.67 1340.09 967.527 1339.14 Q966.399 1338.17 964.041 1338.17 L959.353 1338.17 M959.353 1329.28 L959.353 1335.79 L963.679 1335.79 Q965.82 1335.79 966.862 1335 Q967.918 1334.19 967.918 1332.54 Q967.918 1330.9 966.862 1330.09 Q965.82 1329.28 963.679 1329.28 L959.353 1329.28 M956.431 1326.88 L963.896 1326.88 Q967.238 1326.88 969.047 1328.27 Q970.855 1329.66 970.855 1332.22 Q970.855 1334.2 969.929 1335.38 Q969.003 1336.55 967.209 1336.84 Q969.365 1337.3 970.551 1338.78 Q971.752 1340.24 971.752 1342.44 Q971.752 1345.33 969.784 1346.91 Q967.817 1348.48 964.185 1348.48 L956.431 1348.48 L956.431 1326.88 Z\" fill=\"#000000\" fill-rule=\"evenodd\" fill-opacity=\"1\" /><path clip-path=\"url(#clip730)\" d=\"M976.642 1332.28 L979.304 1332.28 L979.304 1348.48 L976.642 1348.48 L976.642 1332.28 M976.642 1325.97 L979.304 1325.97 L979.304 1329.34 L976.642 1329.34 L976.642 1325.97 Z\" fill=\"#000000\" fill-rule=\"evenodd\" fill-opacity=\"1\" /><path clip-path=\"url(#clip730)\" d=\"M995.537 1340.19 Q995.537 1337.3 994.336 1335.71 Q993.149 1334.12 990.994 1334.12 Q988.853 1334.12 987.652 1335.71 Q986.465 1337.3 986.465 1340.19 Q986.465 1343.07 987.652 1344.66 Q988.853 1346.25 990.994 1346.25 Q993.149 1346.25 994.336 1344.66 Q995.537 1343.07 995.537 1340.19 M998.199 1346.47 Q998.199 1350.61 996.361 1352.62 Q994.524 1354.65 990.733 1354.65 Q989.33 1354.65 988.086 1354.43 Q986.842 1354.23 985.67 1353.79 L985.67 1351.2 Q986.842 1351.84 987.985 1352.14 Q989.127 1352.45 990.314 1352.45 Q992.932 1352.45 994.235 1351.07 Q995.537 1349.71 995.537 1346.95 L995.537 1345.63 Q994.712 1347.06 993.424 1347.77 Q992.137 1348.48 990.343 1348.48 Q987.362 1348.48 985.54 1346.21 Q983.717 1343.94 983.717 1340.19 Q983.717 1336.43 985.54 1334.16 Q987.362 1331.89 990.343 1331.89 Q992.137 1331.89 993.424 1332.6 Q994.712 1333.31 995.537 1334.74 L995.537 1332.28 L998.199 1332.28 L998.199 1346.47 Z\" fill=\"#000000\" fill-rule=\"evenodd\" fill-opacity=\"1\" /><path clip-path=\"url(#clip730)\" d=\"M1003.8 1326.88 L1016.21 1326.88 L1016.21 1329.34 L1006.72 1329.34 L1006.72 1335.71 L1015.28 1335.71 L1015.28 1338.17 L1006.72 1338.17 L1006.72 1348.48 L1003.8 1348.48 L1003.8 1326.88 Z\" fill=\"#000000\" fill-rule=\"evenodd\" fill-opacity=\"1\" /><path clip-path=\"url(#clip730)\" d=\"M1020.72 1325.97 L1023.39 1325.97 L1023.39 1348.48 L1020.72 1348.48 L1020.72 1325.97 Z\" fill=\"#000000\" fill-rule=\"evenodd\" fill-opacity=\"1\" /><path clip-path=\"url(#clip730)\" d=\"M1035.24 1334.15 Q1033.09 1334.15 1031.85 1335.82 Q1030.61 1337.49 1030.61 1340.4 Q1030.61 1343.3 1031.84 1344.98 Q1033.08 1346.65 1035.24 1346.65 Q1037.36 1346.65 1038.61 1344.97 Q1039.85 1343.29 1039.85 1340.4 Q1039.85 1337.52 1038.61 1335.84 Q1037.36 1334.15 1035.24 1334.15 M1035.24 1331.89 Q1038.71 1331.89 1040.69 1334.15 Q1042.67 1336.4 1042.67 1340.4 Q1042.67 1344.37 1040.69 1346.65 Q1038.71 1348.9 1035.24 1348.9 Q1031.75 1348.9 1029.77 1346.65 Q1027.8 1344.37 1027.8 1340.4 Q1027.8 1336.4 1029.77 1334.15 Q1031.75 1331.89 1035.24 1331.89 Z\" fill=\"#000000\" fill-rule=\"evenodd\" fill-opacity=\"1\" /><path clip-path=\"url(#clip730)\" d=\"M1054.45 1340.34 Q1051.22 1340.34 1049.98 1341.08 Q1048.73 1341.81 1048.73 1343.59 Q1048.73 1345.01 1049.66 1345.85 Q1050.6 1346.67 1052.21 1346.67 Q1054.42 1346.67 1055.75 1345.11 Q1057.1 1343.53 1057.1 1340.93 L1057.1 1340.34 L1054.45 1340.34 M1059.76 1339.24 L1059.76 1348.48 L1057.1 1348.48 L1057.1 1346.02 Q1056.18 1347.5 1054.82 1348.21 Q1053.46 1348.9 1051.5 1348.9 Q1049.01 1348.9 1047.53 1347.51 Q1046.07 1346.11 1046.07 1343.77 Q1046.07 1341.03 1047.89 1339.64 Q1049.73 1338.25 1053.36 1338.25 L1057.1 1338.25 L1057.1 1337.99 Q1057.1 1336.16 1055.88 1335.16 Q1054.68 1334.15 1052.5 1334.15 Q1051.11 1334.15 1049.79 1334.48 Q1048.47 1334.81 1047.26 1335.48 L1047.26 1333.02 Q1048.72 1332.45 1050.09 1332.18 Q1051.47 1331.89 1052.77 1331.89 Q1056.29 1331.89 1058.02 1333.71 Q1059.76 1335.53 1059.76 1339.24 Z\" fill=\"#000000\" fill-rule=\"evenodd\" fill-opacity=\"1\" /><path clip-path=\"url(#clip730)\" d=\"M1067.87 1327.68 L1067.87 1332.28 L1073.36 1332.28 L1073.36 1334.35 L1067.87 1334.35 L1067.87 1343.14 Q1067.87 1345.13 1068.41 1345.69 Q1068.96 1346.25 1070.62 1346.25 L1073.36 1346.25 L1073.36 1348.48 L1070.62 1348.48 Q1067.54 1348.48 1066.37 1347.34 Q1065.2 1346.18 1065.2 1343.14 L1065.2 1334.35 L1063.24 1334.35 L1063.24 1332.28 L1065.2 1332.28 L1065.2 1327.68 L1067.87 1327.68 Z\" fill=\"#000000\" fill-rule=\"evenodd\" fill-opacity=\"1\" /><path clip-path=\"url(#clip730)\" d=\"M609.265 1257.97 L621.678 1257.97 L621.678 1260.43 L612.187 1260.43 L612.187 1266.79 L620.752 1266.79 L620.752 1269.25 L612.187 1269.25 L612.187 1279.57 L609.265 1279.57 L609.265 1257.97 Z\" fill=\"#000000\" fill-rule=\"evenodd\" fill-opacity=\"1\" /><path clip-path=\"url(#clip730)\" d=\"M626.192 1257.05 L628.854 1257.05 L628.854 1279.57 L626.192 1279.57 L626.192 1257.05 Z\" fill=\"#000000\" fill-rule=\"evenodd\" fill-opacity=\"1\" /><path clip-path=\"url(#clip730)\" d=\"M640.703 1265.23 Q638.562 1265.23 637.317 1266.91 Q636.073 1268.57 636.073 1271.48 Q636.073 1274.39 637.303 1276.07 Q638.547 1277.73 640.703 1277.73 Q642.829 1277.73 644.074 1276.05 Q645.318 1274.37 645.318 1271.48 Q645.318 1268.6 644.074 1266.92 Q642.829 1265.23 640.703 1265.23 M640.703 1262.97 Q644.175 1262.97 646.157 1265.23 Q648.139 1267.49 648.139 1271.48 Q648.139 1275.46 646.157 1277.73 Q644.175 1279.99 640.703 1279.99 Q637.216 1279.99 635.234 1277.73 Q633.266 1275.46 633.266 1271.48 Q633.266 1267.49 635.234 1265.23 Q637.216 1262.97 640.703 1262.97 Z\" fill=\"#000000\" fill-rule=\"evenodd\" fill-opacity=\"1\" /><path clip-path=\"url(#clip730)\" d=\"M659.916 1271.42 Q656.689 1271.42 655.445 1272.16 Q654.201 1272.9 654.201 1274.68 Q654.201 1276.09 655.127 1276.93 Q656.067 1277.76 657.673 1277.76 Q659.887 1277.76 661.218 1276.2 Q662.563 1274.62 662.563 1272.01 L662.563 1271.42 L659.916 1271.42 M665.225 1270.32 L665.225 1279.57 L662.563 1279.57 L662.563 1277.11 Q661.652 1278.58 660.292 1279.29 Q658.932 1279.99 656.964 1279.99 Q654.476 1279.99 653 1278.6 Q651.539 1277.19 651.539 1274.85 Q651.539 1272.12 653.362 1270.73 Q655.199 1269.34 658.831 1269.34 L662.563 1269.34 L662.563 1269.08 Q662.563 1267.24 661.348 1266.24 Q660.147 1265.23 657.962 1265.23 Q656.574 1265.23 655.257 1265.56 Q653.941 1265.89 652.725 1266.56 L652.725 1264.1 Q654.186 1263.54 655.561 1263.26 Q656.935 1262.97 658.237 1262.97 Q661.753 1262.97 663.489 1264.79 Q665.225 1266.62 665.225 1270.32 Z\" fill=\"#000000\" fill-rule=\"evenodd\" fill-opacity=\"1\" /><path clip-path=\"url(#clip730)\" d=\"M673.341 1258.76 L673.341 1263.36 L678.825 1263.36 L678.825 1265.43 L673.341 1265.43 L673.341 1274.23 Q673.341 1276.21 673.877 1276.77 Q674.427 1277.34 676.09 1277.34 L678.825 1277.34 L678.825 1279.57 L676.09 1279.57 Q673.009 1279.57 671.837 1278.42 Q670.665 1277.27 670.665 1274.23 L670.665 1265.43 L668.712 1265.43 L668.712 1263.36 L670.665 1263.36 L670.665 1258.76 L673.341 1258.76 Z\" fill=\"#000000\" fill-rule=\"evenodd\" fill-opacity=\"1\" /><path clip-path=\"url(#clip730)\" d=\"M683.208 1277.11 L687.983 1277.11 L687.983 1260.63 L682.789 1261.67 L682.789 1259.01 L687.954 1257.97 L690.876 1257.97 L690.876 1277.11 L695.65 1277.11 L695.65 1279.57 L683.208 1279.57 L683.208 1277.11 Z\" fill=\"#000000\" fill-rule=\"evenodd\" fill-opacity=\"1\" /><path clip-path=\"url(#clip730)\" d=\"M708.165 1267.6 Q706.197 1267.6 705.04 1268.95 Q703.897 1270.29 703.897 1272.64 Q703.897 1274.97 705.04 1276.33 Q706.197 1277.67 708.165 1277.67 Q710.132 1277.67 711.275 1276.33 Q712.433 1274.97 712.433 1272.64 Q712.433 1270.29 711.275 1268.95 Q710.132 1267.6 708.165 1267.6 M713.966 1258.44 L713.966 1261.11 Q712.867 1260.58 711.738 1260.31 Q710.624 1260.04 709.525 1260.04 Q706.631 1260.04 705.098 1261.99 Q703.579 1263.94 703.362 1267.89 Q704.215 1266.63 705.503 1265.97 Q706.79 1265.29 708.338 1265.29 Q711.594 1265.29 713.474 1267.27 Q715.37 1269.24 715.37 1272.64 Q715.37 1275.96 713.402 1277.97 Q711.434 1279.99 708.165 1279.99 Q704.418 1279.99 702.436 1277.12 Q700.454 1274.24 700.454 1268.79 Q700.454 1263.67 702.884 1260.63 Q705.315 1257.58 709.409 1257.58 Q710.509 1257.58 711.623 1257.79 Q712.751 1258.01 713.966 1258.44 Z\" fill=\"#000000\" fill-rule=\"evenodd\" fill-opacity=\"1\" /><path clip-path=\"url(#clip730)\" d=\"M1455.54 1207.79 L1467.95 1207.79 L1467.95 1210.25 L1458.46 1210.25 L1458.46 1216.61 L1467.02 1216.61 L1467.02 1219.07 L1458.46 1219.07 L1458.46 1229.39 L1455.54 1229.39 L1455.54 1207.79 Z\" fill=\"#000000\" fill-rule=\"evenodd\" fill-opacity=\"1\" /><path clip-path=\"url(#clip730)\" d=\"M1472.46 1206.87 L1475.13 1206.87 L1475.13 1229.39 L1472.46 1229.39 L1472.46 1206.87 Z\" fill=\"#000000\" fill-rule=\"evenodd\" fill-opacity=\"1\" /><path clip-path=\"url(#clip730)\" d=\"M1486.97 1215.05 Q1484.83 1215.05 1483.59 1216.73 Q1482.34 1218.39 1482.34 1221.3 Q1482.34 1224.21 1483.57 1225.89 Q1484.82 1227.55 1486.97 1227.55 Q1489.1 1227.55 1490.35 1225.87 Q1491.59 1224.19 1491.59 1221.3 Q1491.59 1218.42 1490.35 1216.74 Q1489.1 1215.05 1486.97 1215.05 M1486.97 1212.79 Q1490.45 1212.79 1492.43 1215.05 Q1494.41 1217.31 1494.41 1221.3 Q1494.41 1225.28 1492.43 1227.55 Q1490.45 1229.81 1486.97 1229.81 Q1483.49 1229.81 1481.51 1227.55 Q1479.54 1225.28 1479.54 1221.3 Q1479.54 1217.31 1481.51 1215.05 Q1483.49 1212.79 1486.97 1212.79 Z\" fill=\"#000000\" fill-rule=\"evenodd\" fill-opacity=\"1\" /><path clip-path=\"url(#clip730)\" d=\"M1506.19 1221.24 Q1502.96 1221.24 1501.72 1221.98 Q1500.47 1222.72 1500.47 1224.5 Q1500.47 1225.91 1501.4 1226.75 Q1502.34 1227.58 1503.94 1227.58 Q1506.16 1227.58 1507.49 1226.02 Q1508.83 1224.44 1508.83 1221.83 L1508.83 1221.24 L1506.19 1221.24 M1511.5 1220.14 L1511.5 1229.39 L1508.83 1229.39 L1508.83 1226.93 Q1507.92 1228.4 1506.56 1229.11 Q1505.2 1229.81 1503.24 1229.81 Q1500.75 1229.81 1499.27 1228.42 Q1497.81 1227.01 1497.81 1224.67 Q1497.81 1221.94 1499.63 1220.55 Q1501.47 1219.16 1505.1 1219.16 L1508.83 1219.16 L1508.83 1218.9 Q1508.83 1217.06 1507.62 1216.06 Q1506.42 1215.05 1504.23 1215.05 Q1502.85 1215.05 1501.53 1215.38 Q1500.21 1215.71 1499 1216.38 L1499 1213.92 Q1500.46 1213.36 1501.83 1213.08 Q1503.21 1212.79 1504.51 1212.79 Q1508.02 1212.79 1509.76 1214.61 Q1511.5 1216.44 1511.5 1220.14 Z\" fill=\"#000000\" fill-rule=\"evenodd\" fill-opacity=\"1\" /><path clip-path=\"url(#clip730)\" d=\"M1519.61 1208.58 L1519.61 1213.18 L1525.1 1213.18 L1525.1 1215.25 L1519.61 1215.25 L1519.61 1224.05 Q1519.61 1226.03 1520.15 1226.59 Q1520.7 1227.16 1522.36 1227.16 L1525.1 1227.16 L1525.1 1229.39 L1522.36 1229.39 Q1519.28 1229.39 1518.11 1228.24 Q1516.94 1227.09 1516.94 1224.05 L1516.94 1215.25 L1514.98 1215.25 L1514.98 1213.18 L1516.94 1213.18 L1516.94 1208.58 L1519.61 1208.58 Z\" fill=\"#000000\" fill-rule=\"evenodd\" fill-opacity=\"1\" /><path clip-path=\"url(#clip730)\" d=\"M1537.83 1217.74 Q1539.93 1218.19 1541.1 1219.61 Q1542.28 1221.02 1542.28 1223.11 Q1542.28 1226.3 1540.08 1228.06 Q1537.89 1229.81 1533.83 1229.81 Q1532.47 1229.81 1531.03 1229.53 Q1529.6 1229.27 1528.06 1228.74 L1528.06 1225.91 Q1529.28 1226.62 1530.72 1226.98 Q1532.17 1227.35 1533.75 1227.35 Q1536.5 1227.35 1537.93 1226.26 Q1539.38 1225.18 1539.38 1223.11 Q1539.38 1221.2 1538.03 1220.13 Q1536.7 1219.04 1534.31 1219.04 L1531.79 1219.04 L1531.79 1216.64 L1534.43 1216.64 Q1536.58 1216.64 1537.73 1215.79 Q1538.87 1214.92 1538.87 1213.3 Q1538.87 1211.63 1537.68 1210.75 Q1536.51 1209.86 1534.31 1209.86 Q1533.11 1209.86 1531.74 1210.12 Q1530.36 1210.38 1528.71 1210.93 L1528.71 1208.32 Q1530.38 1207.86 1531.82 1207.63 Q1533.28 1207.4 1534.57 1207.4 Q1537.9 1207.4 1539.84 1208.91 Q1541.78 1210.42 1541.78 1212.99 Q1541.78 1214.79 1540.75 1216.03 Q1539.72 1217.26 1537.83 1217.74 Z\" fill=\"#000000\" fill-rule=\"evenodd\" fill-opacity=\"1\" /><path clip-path=\"url(#clip730)\" d=\"M1550.34 1226.93 L1560.54 1226.93 L1560.54 1229.39 L1546.83 1229.39 L1546.83 1226.93 Q1548.49 1225.21 1551.35 1222.31 Q1554.23 1219.4 1554.97 1218.56 Q1556.37 1216.99 1556.92 1215.9 Q1557.49 1214.8 1557.49 1213.75 Q1557.49 1212.03 1556.27 1210.94 Q1555.07 1209.86 1553.13 1209.86 Q1551.76 1209.86 1550.23 1210.33 Q1548.71 1210.81 1546.97 1211.78 L1546.97 1208.83 Q1548.74 1208.12 1550.27 1207.76 Q1551.8 1207.4 1553.08 1207.4 Q1556.43 1207.4 1558.43 1209.07 Q1560.43 1210.75 1560.43 1213.56 Q1560.43 1214.89 1559.92 1216.09 Q1559.43 1217.28 1558.11 1218.9 Q1557.75 1219.32 1555.81 1221.33 Q1553.87 1223.32 1550.34 1226.93 Z\" fill=\"#000000\" fill-rule=\"evenodd\" fill-opacity=\"1\" /><path clip-path=\"url(#clip730)\" d=\"M1684.53 1260.78 L1696.94 1260.78 L1696.94 1263.24 L1687.45 1263.24 L1687.45 1269.61 L1696.02 1269.61 L1696.02 1272.07 L1687.45 1272.07 L1687.45 1282.38 L1684.53 1282.38 L1684.53 1260.78 Z\" fill=\"#000000\" fill-rule=\"evenodd\" fill-opacity=\"1\" /><path clip-path=\"url(#clip730)\" d=\"M1701.46 1259.87 L1704.12 1259.87 L1704.12 1282.38 L1701.46 1282.38 L1701.46 1259.87 Z\" fill=\"#000000\" fill-rule=\"evenodd\" fill-opacity=\"1\" /><path clip-path=\"url(#clip730)\" d=\"M1715.97 1268.04 Q1713.83 1268.04 1712.58 1269.72 Q1711.34 1271.39 1711.34 1274.29 Q1711.34 1277.2 1712.57 1278.88 Q1713.81 1280.54 1715.97 1280.54 Q1718.09 1280.54 1719.34 1278.87 Q1720.58 1277.19 1720.58 1274.29 Q1720.58 1271.42 1719.34 1269.74 Q1718.09 1268.04 1715.97 1268.04 M1715.97 1265.79 Q1719.44 1265.79 1721.42 1268.04 Q1723.4 1270.3 1723.4 1274.29 Q1723.4 1278.27 1721.42 1280.54 Q1719.44 1282.8 1715.97 1282.8 Q1712.48 1282.8 1710.5 1280.54 Q1708.53 1278.27 1708.53 1274.29 Q1708.53 1270.3 1710.5 1268.04 Q1712.48 1265.79 1715.97 1265.79 Z\" fill=\"#000000\" fill-rule=\"evenodd\" fill-opacity=\"1\" /><path clip-path=\"url(#clip730)\" d=\"M1735.18 1274.24 Q1731.95 1274.24 1730.71 1274.97 Q1729.47 1275.71 1729.47 1277.49 Q1729.47 1278.91 1730.39 1279.75 Q1731.33 1280.57 1732.94 1280.57 Q1735.15 1280.57 1736.48 1279.01 Q1737.83 1277.43 1737.83 1274.83 L1737.83 1274.24 L1735.18 1274.24 M1740.49 1273.14 L1740.49 1282.38 L1737.83 1282.38 L1737.83 1279.92 Q1736.92 1281.4 1735.56 1282.11 Q1734.2 1282.8 1732.23 1282.8 Q1729.74 1282.8 1728.26 1281.41 Q1726.8 1280.01 1726.8 1277.67 Q1726.8 1274.93 1728.63 1273.54 Q1730.46 1272.15 1734.09 1272.15 L1737.83 1272.15 L1737.83 1271.89 Q1737.83 1270.06 1736.61 1269.06 Q1735.41 1268.04 1733.23 1268.04 Q1731.84 1268.04 1730.52 1268.38 Q1729.2 1268.71 1727.99 1269.38 L1727.99 1266.92 Q1729.45 1266.35 1730.83 1266.08 Q1732.2 1265.79 1733.5 1265.79 Q1737.02 1265.79 1738.75 1267.61 Q1740.49 1269.43 1740.49 1273.14 Z\" fill=\"#000000\" fill-rule=\"evenodd\" fill-opacity=\"1\" /><path clip-path=\"url(#clip730)\" d=\"M1748.61 1261.58 L1748.61 1266.18 L1754.09 1266.18 L1754.09 1268.25 L1748.61 1268.25 L1748.61 1277.04 Q1748.61 1279.03 1749.14 1279.59 Q1749.69 1280.15 1751.35 1280.15 L1754.09 1280.15 L1754.09 1282.38 L1751.35 1282.38 Q1748.27 1282.38 1747.1 1281.24 Q1745.93 1280.08 1745.93 1277.04 L1745.93 1268.25 L1743.98 1268.25 L1743.98 1266.18 L1745.93 1266.18 L1745.93 1261.58 L1748.61 1261.58 Z\" fill=\"#000000\" fill-rule=\"evenodd\" fill-opacity=\"1\" /><path clip-path=\"url(#clip730)\" d=\"M1764.58 1270.42 Q1762.61 1270.42 1761.45 1271.76 Q1760.31 1273.11 1760.31 1275.45 Q1760.31 1277.78 1761.45 1279.14 Q1762.61 1280.49 1764.58 1280.49 Q1766.55 1280.49 1767.69 1279.14 Q1768.85 1277.78 1768.85 1275.45 Q1768.85 1273.11 1767.69 1271.76 Q1766.55 1270.42 1764.58 1270.42 M1770.38 1261.26 L1770.38 1263.92 Q1769.28 1263.4 1768.15 1263.13 Q1767.04 1262.85 1765.94 1262.85 Q1763.04 1262.85 1761.51 1264.8 Q1759.99 1266.76 1759.77 1270.71 Q1760.63 1269.45 1761.92 1268.78 Q1763.2 1268.1 1764.75 1268.1 Q1768.01 1268.1 1769.89 1270.08 Q1771.78 1272.05 1771.78 1275.45 Q1771.78 1278.78 1769.82 1280.79 Q1767.85 1282.8 1764.58 1282.8 Q1760.83 1282.8 1758.85 1279.94 Q1756.87 1277.06 1756.87 1271.6 Q1756.87 1266.48 1759.3 1263.44 Q1761.73 1260.39 1765.82 1260.39 Q1766.92 1260.39 1768.04 1260.61 Q1769.16 1260.83 1770.38 1261.26 Z\" fill=\"#000000\" fill-rule=\"evenodd\" fill-opacity=\"1\" /><path clip-path=\"url(#clip730)\" d=\"M1784.85 1263.33 L1777.47 1274.86 L1784.85 1274.86 L1784.85 1263.33 M1784.08 1260.78 L1787.75 1260.78 L1787.75 1274.86 L1790.84 1274.86 L1790.84 1277.29 L1787.75 1277.29 L1787.75 1282.38 L1784.85 1282.38 L1784.85 1277.29 L1775.1 1277.29 L1775.1 1274.47 L1784.08 1260.78 Z\" fill=\"#000000\" fill-rule=\"evenodd\" fill-opacity=\"1\" /></svg>\n"
     },
     "metadata": {},
     "execution_count": 2
    }
   ],
   "metadata": {}
  },
  {
   "cell_type": "markdown",
   "source": [
    "### Half precision (Float16)\n",
    "\n",
    "<img src=\"./images/half-precision-numbers.png\" width=\"300\" align=\"center\"/>\n",
    "\n",
    "Source: <https://en.wikipedia.org/wiki/Half-precision_floating-point_format>\n",
    "    \n",
    "- In Julia, `Float16` is the type for half precision numbers.\n",
    "\n",
    "- MSB is the sign bit.  \n",
    "\n",
    "- 10 significand bits (**fraction**=**mantissa**), hence $p=11$ (why? $d_1=1$ is fixed and $d_2,\\cdots d_{11}$ should be determined )\n",
    "\n",
    "- 5 exponent bits: $e_{\\max}=15$, $e_{\\min}=-14$, **bias**=15 = $01111_2$ for encoding:\n",
    "    + $e_{\\min} = \\mathbf{00001_2} - 01111_2 = -14_{10}$\n",
    "    + $e_{\\max} = \\mathbf{11110_2} - 01111_2 = 15_{10}$\n",
    "\n",
    "- $e_{\\text{min}}-1=\\mathbf{00000_2}$ and $e_{\\text{max}}+1=\\mathbf{11111_2}$ are reserved for special numbers.  \n",
    "\n",
    "- range of **magnitude**: $10^{\\pm 4}$ in decimal because $\\log_{10} (2^{15}) \\approx 4$.  \n",
    "\n",
    "- **Precision**: $\\log_{10}2^{11} \\approx 3.311$ decimal digits ; $\\log_{10}2^{-11}\\approx -3.311$ so that $2^{-11}\\approx \\frac{1}{2046}\\approx 0.0005$. It means that given exponent $e=-1$, precision error is bounded by $0.0005$\n",
    "\n",
    "$$\n",
    "(value) = (-1)^{b_{15}}\\times 2^{(\\sum_{j=1}^5 b_{15-j}\\,2^{5-j}) - 15} \\times \\left( 1 + \\sum_{i=1}^{10}\\frac{b_{10-i}}{2^i}\\right)\n",
    "$$"
   ],
   "metadata": {}
  },
  {
   "cell_type": "code",
   "execution_count": 57,
   "source": [
    "println(\"Half precision:\")\n",
    "# 5 = 1.01 * 2^2 so exponent is 2, fraction is (1).01\n",
    "@show bitstring(Float16(5)) # 5 in half precision\n",
    "@show bitstring(Float16(-5)); # -5 in half precision\n",
    "# Note that we cannot do subtraction 5+(-5)= 0 with bitwise addition. Arithmetic operation in float number system is way more complicated than in fixed number system."
   ],
   "outputs": [
    {
     "output_type": "stream",
     "name": "stdout",
     "text": [
      "Half precision:\n",
      "bitstring(Float16(5)) = \"0100010100000000\"\n",
      "bitstring(Float16(-5)) = \"1100010100000000\"\n"
     ]
    }
   ],
   "metadata": {}
  },
  {
   "cell_type": "code",
   "execution_count": 52,
   "source": [
    "bitstring(Float16(0.75))\n",
    "# 0.5 = 2^(-1)+2^(-2) so exponent is -1, fraction is (1).1 "
   ],
   "outputs": [
    {
     "output_type": "execute_result",
     "data": {
      "text/plain": [
       "\"0011101000000000\""
      ]
     },
     "metadata": {},
     "execution_count": 52
    }
   ],
   "metadata": {}
  },
  {
   "cell_type": "code",
   "execution_count": 48,
   "source": [
    "bitstring(Float16(0.81613))\n",
    "# Interpret the output below\n",
    "# 01110=14 so exponent is 14-15=-1.  fraction is (1).1010000111"
   ],
   "outputs": [
    {
     "output_type": "execute_result",
     "data": {
      "text/plain": [
       "\"0011101010000111\""
      ]
     },
     "metadata": {},
     "execution_count": 48
    }
   ],
   "metadata": {}
  },
  {
   "cell_type": "code",
   "execution_count": 62,
   "source": [
    "println(1/2 + 1/2^2 + 1/2^4 + 1/2^9 + 1/2^10 + 1/2^11)\n",
    "println(1/2 + 1/2^2 + 1/2^4 + 1/2^9 + 1/2^10 + 1/2^11 + 1/2^11)\n",
    "println(abs(0.81613-(1/2 + 1/2^2 + 1/2^4 + 1/2^9 + 1/2^10 + 1/2^11)))\n",
    "# Float16 has precision error about 0.00021 for representing 0.81613"
   ],
   "outputs": [
    {
     "output_type": "stream",
     "name": "stdout",
     "text": [
      "0.81591796875\n",
      "0.81640625\n",
      "0.0002120312500000221\n"
     ]
    }
   ],
   "metadata": {}
  },
  {
   "cell_type": "markdown",
   "source": [
    "### Single precision (Float32)\n",
    "\n",
    "<img src=\"./images/single-precision-numbers.png\" width=\"600\" align=\"center\"/>\n",
    "\n",
    "Source: <https://en.wikipedia.org/wiki/Single-precision_floating-point_format>\n",
    "\n",
    "- In Julia, `Float32` is the type for single precision numbers.  \n",
    "\n",
    "- MSB is the sign bit.  \n",
    "\n",
    "- 23 significand bits ($p=24$).  \n",
    "\n",
    "- 8 exponent bits: $e_{\\max}=127$, $e_{\\min}=-126$, **bias**=127.  \n",
    "\n",
    "- $e_{\\text{min}}-1$ and $e_{\\text{max}}+1$ are reserved for special numbers.  \n",
    "\n",
    "- range of **magnitude**: $10^{\\pm 38}$ in decimal because $\\log_{10} (2^{127}) \\approx 38$.\n",
    "\n",
    "- **precision**: $\\log_{10}(2^{24}) \\approx 7.225$ decimal digits. ; $\\log_{10}2^{-24}\\approx -7.225 $ so that $2^{-24}\\approx \\frac{1}{16788040}\\approx 0.00000006$. It means that given exponent $e=-1$, precision error is bounded by $0.00000006$"
   ],
   "metadata": {}
  },
  {
   "cell_type": "code",
   "execution_count": 20,
   "source": [
    "println(\"Single precision:\")\n",
    "@show bitstring(Float32(5)) # 5 in single precision\n",
    "@show bitstring(Float32(-5)); # -5 in single precision"
   ],
   "outputs": [
    {
     "output_type": "stream",
     "name": "stdout",
     "text": [
      "Single precision:\n",
      "bitstring(Float32(5)) = \"01000000101000000000000000000000\"\n",
      "bitstring(Float32(-5)) = \"11000000101000000000000000000000\"\n"
     ]
    }
   ],
   "metadata": {}
  },
  {
   "cell_type": "code",
   "execution_count": 58,
   "source": [
    "bitstring(Float32(0.81613))\n",
    "# exponent is -1 and fraction is (1).10100001110110111100101"
   ],
   "outputs": [
    {
     "output_type": "execute_result",
     "data": {
      "text/plain": [
       "\"00111111010100001110110111100101\""
      ]
     },
     "metadata": {},
     "execution_count": 58
    }
   ],
   "metadata": {}
  },
  {
   "cell_type": "code",
   "execution_count": 63,
   "source": [
    "println(1/2 + 1/2^2 + 1/2^4 + 1/2^9 + 1/2^10 + 1/2^11 + 1/2^13 + 1/2^14 + 1/2^16 + 1/2^17 + 1/2^18 + 1/2^19 + 1/2^22 + 1/2^24)\n",
    "println(1/2 + 1/2^2 + 1/2^4 + 1/2^9 + 1/2^10 + 1/2^11 + 1/2^13 + 1/2^14 + 1/2^16 + 1/2^17 + 1/2^18 + 1/2^19 + 1/2^22 + 1/2^24 + 1/2^24)\n",
    "println(abs(0.81613-(1/2 + 1/2^2 + 1/2^4 + 1/2^9 + 1/2^10 + 1/2^11 + 1/2^13 + 1/2^14 + 1/2^16 + 1/2^17 + 1/2^18 + 1/2^19 + 1/2^22 + 1/2^24)))\n",
    "# Float32 has precision error about 0.000000017 for representing 0.81613"
   ],
   "outputs": [
    {
     "output_type": "stream",
     "name": "stdout",
     "text": [
      "0.8161299824714661\n",
      "0.8161300420761108\n",
      "1.7528533957644754e-8\n"
     ]
    }
   ],
   "metadata": {}
  },
  {
   "cell_type": "markdown",
   "source": [
    "### Double precision (Float64)\n",
    "\n",
    "<img src=\"./images/double-precision-numbers.png\" width=\"600\" align=\"center\"/>\n",
    "\n",
    "Source: <https://en.wikipedia.org/wiki/Double-precision_floating-point_format>\n",
    "\n",
    "- Double precision (64 bits = 8 bytes) numbers are the dominant data type in scientific computing.\n",
    "      \n",
    "- In Julia, `Float64` is the type for double precision numbers.    \n",
    "\n",
    "- MSB is the sign bit.  \n",
    "\n",
    "- 52 significand bits ($p=53$).\n",
    "\n",
    "- 11 exponent bits: $e_{\\max}=1023$, $e_{\\min}=-1022$, **bias**=1023.  \n",
    "\n",
    "- $e_{\\text{min}}-1$ and $e_{\\text{max}}+1$ are reserved for special numbers.  \n",
    "\n",
    "- range of **magnitude**: $10^{\\pm 308}$ in decimal because $\\log_{10} (2^{1023}) \\approx 308$.  \n",
    "\n",
    "- **precision** to the $\\log_{10}(2^{53}) \\approx 15.95$ decimal point ; $\\log_{10}2^{-53}\\approx -15.95 $ so that $2^{-53}\\approx \\frac{1}{8912509381337441}\\approx 0.0000000000000001$. It means that given exponent $e=-1$, precision error is bounded by $0.0000000000000001$"
   ],
   "metadata": {}
  },
  {
   "cell_type": "code",
   "execution_count": 21,
   "source": [
    "println(\"Double precision:\")\n",
    "@show bitstring(Float64(5)) # 5 in double precision\n",
    "@show bitstring(Float64(-5)); # -5 in double precision"
   ],
   "outputs": [
    {
     "output_type": "stream",
     "name": "stdout",
     "text": [
      "Double precision:\n",
      "bitstring(Float64(5)) = \"0100000000010100000000000000000000000000000000000000000000000000\"\n",
      "bitstring(Float64(-5)) = \"1100000000010100000000000000000000000000000000000000000000000000\"\n"
     ]
    }
   ],
   "metadata": {}
  },
  {
   "cell_type": "markdown",
   "source": [
    "### Special floating-point numbers\n",
    "\n",
    "- Exponent $e_{\\max}+1=\\mathbf{111\\cdots 111}_2$ plus a *zero mantissa* means $\\pm \\infty$."
   ],
   "metadata": {}
  },
  {
   "cell_type": "code",
   "execution_count": 22,
   "source": [
    "@show bitstring(Inf) # Inf in double precision\n",
    "@show bitstring(-Inf); # -Inf in double precision"
   ],
   "outputs": [
    {
     "output_type": "stream",
     "name": "stdout",
     "text": [
      "bitstring(Inf) = \"0111111111110000000000000000000000000000000000000000000000000000\"\n",
      "bitstring(-Inf) = \"1111111111110000000000000000000000000000000000000000000000000000\"\n"
     ]
    }
   ],
   "metadata": {}
  },
  {
   "cell_type": "markdown",
   "source": [
    "- Exponent $e_{\\max}+1$ plus a *nonzero mantissa* means `NaN`. `NaN` could be produced from `0 / 0`, `0 * Inf`, ...  \n",
    "\n",
    "- In general `NaN ≠ NaN` bitwise. Test whether a number is `NaN` by `isnan` function.\n",
    "- NaN stands for not a number"
   ],
   "metadata": {}
  },
  {
   "cell_type": "code",
   "execution_count": 23,
   "source": [
    "@show bitstring(0 / 0) # NaN ; mantisa is 1100...000\n",
    "@show bitstring(0 * Inf); # NaN ; mantisa is 1000...000"
   ],
   "outputs": [
    {
     "output_type": "stream",
     "name": "stdout",
     "text": [
      "bitstring(0 / 0) = \"1111111111111000000000000000000000000000000000000000000000000000\"\n",
      "bitstring(0Inf) = \"1111111111111000000000000000000000000000000000000000000000000000\"\n"
     ]
    }
   ],
   "metadata": {}
  },
  {
   "cell_type": "markdown",
   "source": [
    "- Exponent $e_{\\min}-1=\\mathbf{000\\cdots 000}_2$ with a *zero mantissa* represents the real number 0 (\"exact zero\").  \n",
    "    + Why do we need an exact zero?"
   ],
   "metadata": {}
  },
  {
   "cell_type": "code",
   "execution_count": 24,
   "source": [
    "@show bitstring(0.0); # 0 in double precision "
   ],
   "outputs": [
    {
     "output_type": "stream",
     "name": "stdout",
     "text": [
      "bitstring(0.0) = \"0000000000000000000000000000000000000000000000000000000000000000\"\n"
     ]
    }
   ],
   "metadata": {}
  },
  {
   "cell_type": "markdown",
   "source": [
    "- Exponent $e_{\\min}-1$ with a nonzero mantissa are for numbers less than $b^{e_{\\min}}$ (subnormal numbers).\n",
    "- Numbers are _denormalized_ in the range $(0,b^{e_{\\min}})$ -- **gradual underflow**. \n",
    "- For example, in half-precision, $e_{\\min}=-14$ but $2^{-24}$ is represented by $0.0000000001_2 \\times 2^{-14}$.\n",
    "- If floating point numbers are all normalized, the spacing between 0 and $b^{e_{\\min}}$ is just $b^{e_{\\min}}$, whereas the spacing between $b^{e_{\\min}}$ and $b^{e_{\\min}+1}$ is $b^{e_{\\min}-p+1}$. With subnormal numbers, the spacing between 0 and $b^{e_{\\min}}$ can be $b^{e_{\\min}-p}$, which is more consistent with the spacing just above $b^{e_{\\min}}$."
   ],
   "metadata": {}
  },
  {
   "cell_type": "code",
   "execution_count": 25,
   "source": [
    "@show Float16(2^(-14))  # emin=-14\n",
    "@show bitstring(Float16(2^(-14)));\n",
    "@show Float16(2^(-24))  # emin=-14\n",
    "@show bitstring(Float16(2^(-24))); # denormalized"
   ],
   "outputs": [
    {
     "output_type": "stream",
     "name": "stdout",
     "text": [
      "Float16(2 ^ -14) = Float16(6.104e-5)\n",
      "bitstring(Float16(2 ^ -14)) = \"0000010000000000\"\n",
      "Float16(2 ^ -24) = Float16(6.0e-8)\n",
      "bitstring(Float16(2 ^ -24)) = \"0000000000000001\"\n"
     ]
    }
   ],
   "metadata": {}
  },
  {
   "cell_type": "code",
   "execution_count": 26,
   "source": [
    "@show nextfloat(Float16(0.0)) # next representable number\n",
    "@show bitstring(nextfloat(Float16(0.0))); # denormalized"
   ],
   "outputs": [
    {
     "output_type": "stream",
     "name": "stdout",
     "text": [
      "nextfloat(Float16(0.0)) = Float16(6.0e-8)\n",
      "bitstring(nextfloat(Float16(0.0))) = \"0000000000000001\"\n"
     ]
    }
   ],
   "metadata": {}
  },
  {
   "cell_type": "markdown",
   "source": [
    "### Rounding\n",
    "\n",
    "* Rounding is necessary whenever a number has more than $p$ significand bits. Most computer systems use the default IEEE 754 _round to nearest_ mode (also called _ties to even_ mode). Julia offers several [rounding modes](https://docs.julialang.org/en/v1/base/math/#Base.Rounding.RoundingMode), the default being [`RoundNearest`](https://docs.julialang.org/en/v1/base/math/#Base.Rounding.RoundNearest). \n",
    "\n",
    "* \"*Round to nearest, ties to even*\" rule: rounds to the nearest value; if the number falls midway, it is rounded to the nearest value with an even least significant digit (i.e., zero; default for IEEE 754 binary floating point numbers)\n",
    "\n",
    "* For example, the number 1/10 cannot be represented accurately as a (binary) floating point number:\n",
    "$$ 0.1 = 1.10011001\\dotsc_2 \\times 2^{-4} $$"
   ],
   "metadata": {}
  },
  {
   "cell_type": "code",
   "execution_count": 27,
   "source": [
    "@show bitstring(0.1);  # double precision Float64\n",
    "@show bitstring(0.1f0); # single precision Float32, 1001 gets rounded to 101(0)\n",
    "@show bitstring(Float16(0.1)); # half precision Float16, 1001 gets rounded to 101(0)"
   ],
   "outputs": [
    {
     "output_type": "stream",
     "name": "stdout",
     "text": [
      "bitstring(0.1) = \"0011111110111001100110011001100110011001100110011001100110011010\"\n",
      "bitstring(0.1f0) = \"00111101110011001100110011001101\"\n",
      "bitstring(Float16(0.1)) = \"0010111001100110\"\n"
     ]
    }
   ],
   "metadata": {}
  },
  {
   "cell_type": "markdown",
   "source": [
    "### Errors\n",
    "\n",
    "Rounding (more fundamentally, finite precision) incurs errors in floating porint computation. If a real number $x$ is represented by a floating point number $[x]$, then\n",
    "\n",
    "* Absolute error\n",
    "$$\n",
    "    | [x] - x |\n",
    "$$\n",
    "\n",
    "* Relative error\n",
    "$$\n",
    "    \\frac{| [x] - x |}{|x|}\n",
    "$$\n",
    "(if $x \\neq 0$).\n",
    "\n",
    "Of course, we want to ensure that the error after a computation is small."
   ],
   "metadata": {}
  },
  {
   "cell_type": "markdown",
   "source": [
    "### Machine epsilons\n",
    "\n",
    "- Floating-point numbers do not occur uniformly over the real number line\n",
    "    <img src=\"http://www.volkerschatz.com/science/pics/fltscale-wh.png\" width=\"700\" align=\"center\"/>\n",
    "        \n",
    "Source: [What you never wanted to know about floating point but will be forced to find out](http://www.volkerschatz.com/science/float.html)\n",
    "    \n",
    "- Same number of representible numbers in $(2^i, 2^{i+1}]$ as in $(2^{i+1}, 2^{i+2}]$. Within an interval, they are uniformly distributed.\n",
    "    \n",
    "- **Machine epsilons** are the spacings of numbers around 1: \n",
    "    + $\\epsilon_{\\max}$ = (smallest positive floating point number that added to 1 will give a result different from 1) = $\\frac{1}{2^p} + \\frac{1}{2^{2p-1}}$\n",
    "    + $\\epsilon_{\\min}$ = (smallest positive floating point number that subtracted from 1 will give a result different from 1) = $\\frac{1}{2^{p+1}} + \\frac{1}{2^{2p}}$.\n",
    "    + That is, $1 + \\epsilon_{\\max}$ is the number in the \"midway\" between 1 and the floating point number right next to it, etc.\n",
    "    \n",
    "    <img src=\"./machine_epsilons.png\" width=\"500\" align=\"center\"/>\n",
    "\n",
    "Source: *Computational Statistics*, James Gentle, Springer, New York, 2009.\n",
    "\n",
    "*Caution: the definition of $\\epsilon_{\\max}$ and $\\epsilon_{\\min}$ in this book is different from the lecture note.*\n",
    "    \n",
    "- Any real number in the interval $\\left[1 - \\frac{1}{2^{p+1}}, 1 + \\frac{1}{2^p}\\right]=[1.111\\dotsb1|1_2 \\times 2^{-1}, 1.000\\dotsb 0|1 \\times 2^0]$ is represented by a floating point number $1 = 1.00\\dotsc 0_2 \\times 2^0$ (assuming the \"ties to even\" rule: consider $p=2$ case).\n",
    "\n",
    "- Adding $\\frac{1}{2^p}$ to 1 won't reach the next representable floating point number  $1.00\\dotsc 01_2 \\times 2^0 = 1 + \\frac{1}{2^{p-1}}$. Hence $\\epsilon_{\\max} > \\frac{1}{2^p} = 1.00\\dotsc 0_2 \\times 2^{-p}$.\n",
    "\n",
    "- Adding the floating point number *next to* $\\frac{1}{2^p} = 1.00\\dotsc 0_2 \\times 2^{-p}$ to 1 WILL result in $1.00\\dotsc 01_2 \\times 2^0 = 1 + \\frac{1}{2^{p-1}}$, hence $\\epsilon_{\\max} = 1.00\\dotsb 01_2 \\times 2^{-p} = \\frac{1}{2^p} + \\frac{1}{2^{p+p-1}}$.\n",
    "\n",
    "- Subtracting $\\frac{1}{2^{p+1}}$ from 1 results in $1-\\frac{1}{2^{p+1}} = \\frac{1}{2} + \\frac{1}{2^2} + \\dotsb + \\frac{1}{2^p} + \\frac{1}{2^{p+1}}$, which is represented by the floating point number $1.00\\dotsb 0_2 \\times 2^{0} = 1$ by the \"ties to even\" rule. Hence $\\epsilon_{\\min} > \\frac{1}{2^{p+1}}$.\n",
    "\n",
    "- The smallest positive floating point number larger than $\\frac{1}{2^{p+1}}$ is $\\frac{1}{2^{p+1}} + \\frac{1}{2^{2p}}=1.00\\dotsc 1_2 \\times 2^{-p-1}$. Thus $\\epsilon_{\\min} = \\frac{1}{2^{p+1}} + \\frac{1}{2^{2p}}$."
   ],
   "metadata": {}
  },
  {
   "cell_type": "markdown",
   "source": [
    "### Machine precision\n",
    "\n",
    "* Machine epsilon is often called the machine precision.\n",
    "\n",
    "* If a positive real number $x \\in \\mathbb{R}$ is represented by $[x]$ in the floating point arithmetic, then \n",
    "$$\n",
    "    [x] = \\left( 1 + \\sum_{i=1}^{p-1}\\frac{b_{i+1}}{2^i}\\right) \\times 2^e.\n",
    "$$\n",
    "Thus $x - \\frac{2^e}{2^p} < [x] \\le x + \\frac{2^e}{2^p}$, \n",
    "and\n",
    "$$\n",
    "    \\begin{split}\n",
    "    \\frac{| x - [x] |}{|x|} &\\le \\frac{2^e}{2^p|x|} \\le \\frac{2^e}{2^p}\\frac{1}{[x]-2^e/2^p} \\\\\n",
    "                            &\\le \\frac{2^e}{2^p}\\frac{1}{2^e(1-1/2^p)}  \\quad (\\because [x] \\ge 2^e) \\\\\n",
    "                            &\\le \\frac{2^e}{2^p}\\frac{1}{2^e}(1 + \\frac{1}{2^{p-1}}) \\\\\n",
    "                            &= \\frac{1}{2^p} + \\frac{1}{2^{2p-1}} = \\epsilon_{\\max}.\n",
    "    \\end{split}\n",
    "$$\n",
    "That is, the **relative error** of the floating point representation $[x]$ of real number $x$ is bounded by $\\epsilon_{\\max}$."
   ],
   "metadata": {}
  },
  {
   "cell_type": "code",
   "execution_count": 28,
   "source": [
    "@show 2^(-53) + 2^(-105);   # epsilon_max for Float64\n",
    "@show 1.0 + 2^(-53);\n",
    "@show 1.0 + (2^(-53) + 2^(-105));\n",
    "@show 1.0 + 2^(-53) + 2^(-105);  # why is the result?  See \"Catastrophic cancellation\"\n",
    "\n",
    "@show Float32(2^(-24) + 2^(-47)); # epsilon_max for Float32\n",
    "@show 1.0f0 + Float32(2^(-24));\n",
    "@show 1.0f0 + Float32(2^(-24) + 2^(-47));"
   ],
   "outputs": [
    {
     "output_type": "stream",
     "name": "stdout",
     "text": [
      "2 ^ -53 + 2 ^ -105 = 1.1102230246251568e-16\n",
      "1.0 + 2 ^ -53 = 1.0\n",
      "1.0 + (2 ^ -53 + 2 ^ -105) = 1.0000000000000002\n",
      "1.0 + 2 ^ -53 + 2 ^ -105 = 1.0\n",
      "Float32(2 ^ -24 + 2 ^ -47) = 5.960465f-8\n",
      "1.0f0 + Float32(2 ^ -24) = 1.0f0\n",
      "1.0f0 + Float32(2 ^ -24 + 2 ^ -47) = 1.0000001f0\n"
     ]
    }
   ],
   "metadata": {}
  },
  {
   "cell_type": "code",
   "execution_count": 29,
   "source": [
    "@show 2^(-54) + 2^(-106);  # epsilon_min for Float64\n",
    "@show 1 - (2^(-54) + 2^(-106))\n",
    "@show bitstring(1.0)\n",
    "@show bitstring(1 - (2^(-54) + 2^(-106)))"
   ],
   "outputs": [
    {
     "output_type": "stream",
     "name": "stdout",
     "text": [
      "2 ^ -54 + 2 ^ -106 = 5.551115123125784e-17\n",
      "1 - (2 ^ -54 + 2 ^ -106) = 0.9999999999999999\n",
      "bitstring(1.0) = \"0011111111110000000000000000000000000000000000000000000000000000\"\n",
      "bitstring(1 - (2 ^ -54 + 2 ^ -106)) = \"0011111111101111111111111111111111111111111111111111111111111111\"\n"
     ]
    },
    {
     "output_type": "execute_result",
     "data": {
      "text/plain": [
       "\"0011111111101111111111111111111111111111111111111111111111111111\""
      ]
     },
     "metadata": {},
     "execution_count": 29
    }
   ],
   "metadata": {}
  },
  {
   "cell_type": "markdown",
   "source": [
    "In Julia, `eps(x)` gives the distance between consecutive representable floating point values at `x`, i.e.,\n",
    "```Julia\n",
    "eps(x) == max(x-prevfloat(x), nextfloat(x)-x)\n",
    "```\n",
    "which is roughly twice the $\\epsilon_{\\max}$."
   ],
   "metadata": {}
  },
  {
   "cell_type": "code",
   "execution_count": 30,
   "source": [
    "@show eps(Float32)  # machine epsilon for a floating point type, roughly twice our \\epsilon_{\\max}\n",
    "@show eps(Float64)  # same as eps()\n",
    "# eps(x) is the spacing after x\n",
    "@show eps(100.0)\n",
    "@show eps(0.0)\n",
    "# nextfloat(x) and prevfloat(x) give the neighbors of x\n",
    "@show x = 1.25f0\n",
    "@show prevfloat(x), x, nextfloat(x)\n",
    "@show bitstring(prevfloat(x)), bitstring(x), bitstring(nextfloat(x));"
   ],
   "outputs": [
    {
     "output_type": "stream",
     "name": "stdout",
     "text": [
      "eps(Float32) = 1.1920929f-7\n",
      "eps(Float64) = 2.220446049250313e-16\n",
      "eps(100.0) = 1.4210854715202004e-14\n",
      "eps(0.0) = 5.0e-324\n",
      "x = 1.25f0 = 1.25f0\n",
      "(prevfloat(x), x, nextfloat(x)) = (1.2499999f0, 1.25f0, 1.2500001f0)\n",
      "(bitstring(prevfloat(x)), bitstring(x), bitstring(nextfloat(x))) = (\"00111111100111111111111111111111\", \"00111111101000000000000000000000\", \"00111111101000000000000000000001\")\n"
     ]
    }
   ],
   "metadata": {}
  },
  {
   "cell_type": "markdown",
   "source": [
    "* In R, the variable `.Machine` contains numerical characteristics of the machine. `double.eps` and `double.neg.eps` are roughly twice our $\\epsilon_{\\max}$ and $\\epsilon_{\\min}$, respectively."
   ],
   "metadata": {}
  },
  {
   "cell_type": "code",
   "execution_count": 31,
   "source": [
    "R\"\"\"\n",
    ".Machine\n",
    "\"\"\""
   ],
   "outputs": [
    {
     "output_type": "execute_result",
     "data": {
      "text/plain": [
       "RObject{VecSxp}\n",
       "$double.eps\n",
       "[1] 2.220446e-16\n",
       "\n",
       "$double.neg.eps\n",
       "[1] 1.110223e-16\n",
       "\n",
       "$double.xmin\n",
       "[1] 2.225074e-308\n",
       "\n",
       "$double.xmax\n",
       "[1] 1.797693e+308\n",
       "\n",
       "$double.base\n",
       "[1] 2\n",
       "\n",
       "$double.digits\n",
       "[1] 53\n",
       "\n",
       "$double.rounding\n",
       "[1] 5\n",
       "\n",
       "$double.guard\n",
       "[1] 0\n",
       "\n",
       "$double.ulp.digits\n",
       "[1] -52\n",
       "\n",
       "$double.neg.ulp.digits\n",
       "[1] -53\n",
       "\n",
       "$double.exponent\n",
       "[1] 11\n",
       "\n",
       "$double.min.exp\n",
       "[1] -1022\n",
       "\n",
       "$double.max.exp\n",
       "[1] 1024\n",
       "\n",
       "$integer.max\n",
       "[1] 2147483647\n",
       "\n",
       "$sizeof.long\n",
       "[1] 8\n",
       "\n",
       "$sizeof.longlong\n",
       "[1] 8\n",
       "\n",
       "$sizeof.longdouble\n",
       "[1] 16\n",
       "\n",
       "$sizeof.pointer\n",
       "[1] 8\n",
       "\n",
       "$longdouble.eps\n",
       "[1] 1.084202e-19\n",
       "\n",
       "$longdouble.neg.eps\n",
       "[1] 5.421011e-20\n",
       "\n",
       "$longdouble.digits\n",
       "[1] 64\n",
       "\n",
       "$longdouble.rounding\n",
       "[1] 5\n",
       "\n",
       "$longdouble.guard\n",
       "[1] 0\n",
       "\n",
       "$longdouble.ulp.digits\n",
       "[1] -63\n",
       "\n",
       "$longdouble.neg.ulp.digits\n",
       "[1] -64\n",
       "\n",
       "$longdouble.exponent\n",
       "[1] 15\n",
       "\n",
       "$longdouble.min.exp\n",
       "[1] -16382\n",
       "\n",
       "$longdouble.max.exp\n",
       "[1] 16384\n",
       "\n"
      ]
     },
     "metadata": {},
     "execution_count": 31
    }
   ],
   "metadata": {}
  },
  {
   "cell_type": "markdown",
   "source": [
    "### Overflow and underflow of floating-point number\n",
    "\n",
    "* For double precision, the range is $\\pm 10^{\\pm 308}$. In most situations, underflow (magnitude of result is less than $10^{-308}$) is preferred over overflow (magnitude of result is larger than $10^{+308}$). Overflow produces $\\pm \\inf$. Underflow yields zeros or subnormal numbers. \n",
    "\n",
    "* E.g., the logit link function is\n",
    "$$p = \\frac{\\exp (x^T \\beta)}{1 + \\exp (x^T \\beta)} = \\frac{1}{1+\\exp(- x^T \\beta)}.$$\n",
    "The former expression can easily lead to `Inf / Inf = NaN`, while the latter expression leads to gradual underflow.\n",
    "\n",
    "* `floatmin` and `floatmax` functions gives largest and smallest _non-submormal_ number represented by the given floating point type."
   ],
   "metadata": {}
  },
  {
   "cell_type": "code",
   "execution_count": 32,
   "source": [
    "for T in [Float16, Float32, Float64]\n",
    "    println(T, '\\t', floatmin(T), '\\t', floatmax(T), '\\t', typemin(T), \n",
    "        '\\t', typemax(T), '\\t', eps(T))\n",
    "end"
   ],
   "outputs": [
    {
     "output_type": "stream",
     "name": "stdout",
     "text": [
      "Float16\t6.104e-5\t6.55e4\t-Inf\tInf\t0.000977\n",
      "Float32\t1.1754944e-38\t3.4028235e38\t-Inf\tInf\t1.1920929e-7\n",
      "Float64\t2.2250738585072014e-308\t1.7976931348623157e308\t-Inf\tInf\t2.220446049250313e-16\n"
     ]
    }
   ],
   "metadata": {}
  },
  {
   "cell_type": "markdown",
   "source": [
    "* `BigFloat` in Julia offers arbitrary precision."
   ],
   "metadata": {}
  },
  {
   "cell_type": "code",
   "execution_count": 33,
   "source": [
    "@show precision(BigFloat)\n",
    "@show floatmin(BigFloat)\n",
    "@show floatmax(BigFloat);"
   ],
   "outputs": [
    {
     "output_type": "stream",
     "name": "stdout",
     "text": [
      "precision(BigFloat) = 256\n",
      "floatmin(BigFloat) = 8.50969131174083613912978790962048280567755996982969624908264897850135431080301e-1388255822130839284\n",
      "floatmax(BigFloat) = 5.875653789111587590936911998878442589938516392745498308333779606469323584389875e+1388255822130839282\n"
     ]
    }
   ],
   "metadata": {}
  },
  {
   "cell_type": "code",
   "execution_count": 34,
   "source": [
    "@show BigFloat(π); # default precision for BigFloat is 256 bits\n",
    "# set precision to 1024 bits\n",
    "setprecision(BigFloat, 1024) do \n",
    "    @show BigFloat(π)\n",
    "end;"
   ],
   "outputs": [
    {
     "output_type": "stream",
     "name": "stdout",
     "text": [
      "BigFloat(π) = 3.141592653589793238462643383279502884197169399375105820974944592307816406286198\n",
      "BigFloat(π) = 3.141592653589793238462643383279502884197169399375105820974944592307816406286208998628034825342117067982148086513282306647093844609550582231725359408128481117450284102701938521105559644622948954930381964428810975665933446128475648233786783165271201909145648566923460348610454326648213393607260249141273724586997\n"
     ]
    }
   ],
   "metadata": {}
  },
  {
   "cell_type": "markdown",
   "source": [
    "## Catastrophic cancellation\n",
    "\n",
    "> The result of computation is just the digits that represented the rounding.\n",
    "\n",
    "* **Scenario 1** (benign cancellation): Addition or subtraction of two numbers of widely different magnitudes: $a+b$ or $a-b$ where $a \\gg b$ or $a \\ll b$. We lose the precision in the number of smaller magnitude. Consider \n",
    "$$\\begin{eqnarray*}\n",
    "    a &=& x.xxx ... \\times 2^{30} \\\\  \n",
    "    b &=& y.yyy... \\times 2^{-30}\n",
    "\\end{eqnarray*}$$\n",
    "What happens when computer calculates $a+b$? We get $a+b=a$!"
   ],
   "metadata": {}
  },
  {
   "cell_type": "code",
   "execution_count": 35,
   "source": [
    "@show a = 2.0^30\n",
    "@show b = 2.0^-30\n",
    "@show a + b == a\n",
    "@show bitstring(a)\n",
    "@show bitstring(a + b);"
   ],
   "outputs": [
    {
     "output_type": "stream",
     "name": "stdout",
     "text": [
      "a = 2.0 ^ 30 = 1.073741824e9\n",
      "b = 2.0 ^ -30 = 9.313225746154785e-10\n",
      "a + b == a = true\n",
      "bitstring(a) = \"0100000111010000000000000000000000000000000000000000000000000000\"\n",
      "bitstring(a + b) = \"0100000111010000000000000000000000000000000000000000000000000000\"\n"
     ]
    }
   ],
   "metadata": {}
  },
  {
   "cell_type": "markdown",
   "source": [
    "Analysis: suppose we want to compute $x + y$, $x, y > 0$. Let the relative error of $x$ and $y$ be\n",
    "$$\n",
    "\\delta_x = \\frac{[x] - x}{x},\n",
    "\\quad\n",
    "\\delta_y = \\frac{[y] - y}{y}\n",
    ".\n",
    "$$\n",
    "What the computer actually calculates is $[x] + [y]$, which in turn is represented by $[ [x] + [y] ]$. The relative error of this representation is\n",
    "$$\n",
    "\\delta_{\\text{sum}} = \\frac{[[x]+[y]] - ([x]+[y])}{[x]+[y]}\n",
    ".\n",
    "$$\n",
    "Recall that $|\\delta_x|, |\\delta_y|, |\\delta_{\\text{sum}}| \\le \\epsilon_{\\max}$.\n",
    "\n",
    "We want to find a bound of the relative error of $[[x]+[y]]$ with respect to $x+y$.\n",
    "Since $|[x]+[y]| = |x(1+\\delta_x) + y(1+\\delta_y)| \\le |x+y|(1+\\epsilon_{\\max})$, we have\n",
    "$$\n",
    "\\begin{split}\n",
    "| [[x]+[y]]-(x+y) | &= | [[x]+[y]] - [x] - [y] + [x] - x + [y] - y | \\\\\n",
    "                   &\\le | [[x]+[y]] - [x] - [y] | +  | [x] - x | + | [y] - y | \\\\\n",
    "                   &\\le |\\delta_{\\text{sum}}([x]+[y])| + |\\delta_x x| + |\\delta_y y| \\\\\n",
    "                   &\\le \\epsilon_{\\max}(x+y)(1+\\epsilon_{\\max}) + \\epsilon_{\\max}x + \\epsilon_{\\max}y \\\\\n",
    "                   &\\approx 2\\epsilon_{\\max}(x+y)\n",
    "\\end{split}\n",
    "$$\n",
    "because $\\epsilon_{\\max}^2 \\approx 0$. Thus\n",
    "$$\n",
    "\\frac{| [[x]+[y]]-(x+y) |}{|x+y|} \\le 2\\epsilon_{\\max}\n",
    "$$\n",
    "approximately."
   ],
   "metadata": {}
  },
  {
   "cell_type": "markdown",
   "source": [
    "* **Scenario 2** (catastrophic cancellation): Subtraction of two nearly equal numbers eliminates significant digits.  $a-b$ where $a \\approx b$. Consider \n",
    "$$\\begin{eqnarray*}\n",
    "    a &=& x.xxxxxxxxxx1ssss  \\\\\n",
    "    b &=& x.xxxxxxxxxx0tttt\n",
    "\\end{eqnarray*}$$\n",
    "The result is $1.vvvvu...u$ where $u$ are unassigned digits."
   ],
   "metadata": {}
  },
  {
   "cell_type": "code",
   "execution_count": 36,
   "source": [
    "a = 1.2345678f0 # rounding\n",
    "@show bitstring(a) # rounding\n",
    "b = 1.2345677f0\n",
    "@show bitstring(b)\n",
    "@show a - b # correct result should be 1f-7\n",
    "@show bitstring(a - b)   # must be 1.0000...0 x 2^(-23)\n",
    "@show Float32(1/2^23);"
   ],
   "outputs": [
    {
     "output_type": "stream",
     "name": "stdout",
     "text": [
      "bitstring(a) = \"00111111100111100000011001010001\"\n",
      "bitstring(b) = \"00111111100111100000011001010000\"\n",
      "a - b = 1.1920929f-7\n",
      "bitstring(a - b) = \"00110100000000000000000000000000\"\n",
      "Float32(1 / 2 ^ 23) = 1.1920929f-7\n"
     ]
    }
   ],
   "metadata": {}
  },
  {
   "cell_type": "markdown",
   "source": [
    "Analysis: Let\n",
    "$$\n",
    "[x] = 1 + \\sum_{i=1}^{p-2}\\frac{d_{i+1}}{2^i} + \\frac{1}{2^{p-1}},\n",
    "\\quad\n",
    "[y] = 1 + \\sum_{i=1}^{p-2}\\frac{d_{i+1}}{2^i} + \\frac{0}{2^{p-1}}\n",
    ".\n",
    "$$\n",
    "\n",
    "* $[x]-[y] = \\frac{1}{2^{p-1}} = [[x]-[y]]$.\n",
    "\n",
    "* The true difference $x-y$ may lie anywhere in $(0, \\frac{1}{2^{p-2}}+\\frac{1}{2^{2p}}]$.\n",
    "\n",
    "* Relative error \n",
    "$$\n",
    "\\frac{|x-y -[[x]-[y]]|}{|x-y|}\n",
    "$$\n",
    "is unbounded -- no guarantee of any significant digit!"
   ],
   "metadata": {}
  },
  {
   "cell_type": "markdown",
   "source": [
    "* Implications for numerical computation\n",
    "    - Rule 1: add small numbers together before adding larger ones  \n",
    "    - Rule 2: add numbers of like magnitude together (paring). When all numbers are of same sign and similar magnitude, add in pairs so each stage the summands are of similar magnitude  \n",
    "    - Rule 3: avoid substraction of two numbers that are nearly equal"
   ],
   "metadata": {}
  },
  {
   "cell_type": "markdown",
   "source": [
    "### Algebraic laws\n",
    "\n",
    "Floating-point numbers may violate many algebraic laws we are familiar with, such associative and distributive laws. See the example in the Machine Epsilon section and HW1."
   ],
   "metadata": {}
  },
  {
   "cell_type": "markdown",
   "source": [
    "## Coditioning\n",
    "\n",
    "Condiser solving a linear system $Ax=b$:\n",
    "\n",
    "$$\n",
    "\\begin{bmatrix} 1.000 & 0.500 \\\\ 0.667 & 0.333 \\end{bmatrix}\n",
    "\\begin{bmatrix} x_1 \\\\ x_2 \\end{bmatrix}\n",
    "=\n",
    "\\begin{bmatrix} 1.500 \\\\ 1.000 \\end{bmatrix}\n",
    ",\n",
    "$$\n",
    "\n",
    "whose solution is $(x_1, x_2) = (1.000, 1.000)$."
   ],
   "metadata": {}
  },
  {
   "cell_type": "code",
   "execution_count": 37,
   "source": [
    "A=[1.0 0.5; 0.667 0.333]; b = [1.5, 1.0]; A\\b"
   ],
   "outputs": [
    {
     "output_type": "execute_result",
     "data": {
      "text/plain": [
       "2-element Vector{Float64}:\n",
       " 0.9999999999998335\n",
       " 1.000000000000333"
      ]
     },
     "metadata": {},
     "execution_count": 37
    }
   ],
   "metadata": {}
  },
  {
   "cell_type": "markdown",
   "source": [
    "If we *perturb* $b$ by 0.001, i.e., solve\n",
    "\n",
    "$$\n",
    "\\begin{bmatrix} 1.000 & 0.500 \\\\ 0.667 & 0.333 \\end{bmatrix}\n",
    "\\begin{bmatrix} x_1 \\\\ x_2 \\end{bmatrix}\n",
    "=\n",
    "\\begin{bmatrix} 1.500 \\\\ 0.999 \\end{bmatrix}\n",
    ",\n",
    "$$\n",
    "\n",
    "then the solution changes to $(x_1, x_2) = (0.000, 3.000)$."
   ],
   "metadata": {}
  },
  {
   "cell_type": "code",
   "execution_count": 38,
   "source": [
    "b1 = [1.5, 0.999]; A\\b1"
   ],
   "outputs": [
    {
     "output_type": "execute_result",
     "data": {
      "text/plain": [
       "2-element Vector{Float64}:\n",
       " -1.6653345369377348e-13\n",
       "  3.000000000000333"
      ]
     },
     "metadata": {},
     "execution_count": 38
    }
   ],
   "metadata": {}
  },
  {
   "cell_type": "markdown",
   "source": [
    "If we instead perturb $A$ by 0.001, i.e., solve\n",
    "\n",
    "$$\n",
    "\\begin{bmatrix} 1.000 & 0.500 \\\\ 0.667 & 0.334 \\end{bmatrix}\n",
    "\\begin{bmatrix} x_1 \\\\ x_2 \\end{bmatrix}\n",
    "=\n",
    "\\begin{bmatrix} 1.500 \\\\ 1.000 \\end{bmatrix}\n",
    ",\n",
    "$$\n",
    "\n",
    "then this time the solution changes to $(x_1, x_2) = (2.000, -1.000)$."
   ],
   "metadata": {}
  },
  {
   "cell_type": "code",
   "execution_count": 39,
   "source": [
    "A1=[1.0 0.5; 0.667 0.334]; A1\\b"
   ],
   "outputs": [
    {
     "output_type": "execute_result",
     "data": {
      "text/plain": [
       "2-element Vector{Float64}:\n",
       "  2.0000000000001665\n",
       " -1.000000000000333"
      ]
     },
     "metadata": {},
     "execution_count": 39
    }
   ],
   "metadata": {}
  },
  {
   "cell_type": "markdown",
   "source": [
    "In other words, an input perturbation of order $10^{-3}$ yield an output perturbation of order $10^0$. Thats 3 orders of magnutides of relative change!\n",
    "\n",
    "Floating point representation $[x]$ of a real number $x$ in a digital computer may introduce such input perturbation easily. The perturbation of output of a problem with respect to the input is called *conditioning*."
   ],
   "metadata": {}
  },
  {
   "cell_type": "markdown",
   "source": [
    "* Abstractly, a *problem* can be viewed as function $f: X \\to Y$ where $X$ is a normed vector space of data and $Y$ is a normed vector space of solutions.\n",
    "    - The problem of solving $Ax=b$ for fixed $b$ is $f: A \\mapsto A^{-1}b$ with $X=\\{M\\in\\mathbb{R}^{n\\times n}: M \\text{ is invertible} \\}$ and $Y = \\mathbb{R}^n$.\n",
    "    - The combination of a problem $f$ with a given data $x$ is called a *problem instance*, or simply problem unless no confusion occurs.\n",
    "    \n",
    "* A *well-conditioned* problem (instance) is one such that all small perturbations of $x$ lead to only small changes in $f(x)$.\n",
    "\n",
    "* An *ill-conditioned* problem is one such that some small perturbation of $x$ leads to a large change in $f(x)$.\n",
    "\n",
    "* The (relative) *condition number* $\\kappa=\\kappa(x)$ of a problem is defined by\n",
    "$$\n",
    "    \\kappa = \\lim_{\\delta\\to 0}\\sup_{\\|\\delta x\\|\\le \\delta}\\frac{\\|\\delta f\\|/\\|f(x)\\|}{\\|\\delta x\\|/\\|x\\|}\n",
    "    = \\sup_{\\delta x} \\frac{\\|\\delta f\\|/\\|f(x)\\|}{\\|\\delta x\\|/\\|x\\|}\n",
    "$$\n",
    "\n",
    "* For the problem of solving $Ax=b$ for fixed $b$,  $f: A \\mapsto A^{-1}b$, it can be shown that the condition number of $f$ is\n",
    "$$\n",
    "    \\kappa = \\|A\\|\\|A^{-1}\\| =: \\kappa(A)\n",
    "    ,\n",
    "$$\n",
    "where $\\|A\\|$ is the matrix norm induced by vector norm $\\|\\cdot\\|$, i.e.,\n",
    "$$\n",
    "    \\|A\\| = \\sup_{x\\neq 0} \\frac{\\|Ax\\|}{\\|x\\|}.\n",
    "$$\n",
    "If 2-norm is used, then \n",
    "$$\n",
    "\\kappa(A) = \\sigma_{\\max}(A)/\\sigma_{\\min}(A),\n",
    "$$\n",
    "the ratio of the maximum and minimum singular values of $A$. To see this, let $x=A^{-1}b$. Then perturbation $A \\to A+\\delta A$ yields $x \\to x + \\delta x$. If both are small,\n",
    "$$\n",
    "(\\delta A)x + A(\\delta x) = 0\n",
    "$$\n",
    "or $\\delta x = -A^{-1}(\\delta A) x$. Then\n",
    "$$\n",
    "\\frac{\\|\\delta x\\|/\\|x\\|}{\\|\\delta A\\|/\\|A\\|} \\le \\frac{\\|A^{-1}\\|\\|\\delta A\\|\\|A\\|}{\\|\\delta A\\|}\n",
    "= \\|A^{-1}\\|\\|A\\|.\n",
    "$$\n",
    "The inequality holds with equality if $\\delta A$ satisfies \n",
    "$$\n",
    "\\|A^{-1}(\\delta A)x \\| = \\|A^{-1}\\|\\|\\delta A\\|\\|x\\|\n",
    ".\n",
    "$$\n",
    "It can be shown that for any invertible $A$ and $b$, such perturbation $\\delta A$ exists (HW2)."
   ],
   "metadata": {}
  },
  {
   "cell_type": "markdown",
   "source": [
    "In the above problem, the condition number is matrix $A$ (w.r.t. Euclidean norm) is"
   ],
   "metadata": {}
  },
  {
   "cell_type": "code",
   "execution_count": 40,
   "source": [
    "using LinearAlgebra\n",
    "LinearAlgebra.cond(A)"
   ],
   "outputs": [
    {
     "output_type": "execute_result",
     "data": {
      "text/plain": [
       "3611.5557231115513"
      ]
     },
     "metadata": {},
     "execution_count": 40
    }
   ],
   "metadata": {}
  },
  {
   "cell_type": "markdown",
   "source": [
    "## Further readings\n",
    "\n",
    "* Section II.2, [Computational Statistics](https://link.springer.com/book/10.1007%2F978-0-387-98144-4) by James Gentle (2009).\n",
    "\n",
    "* Sections 1.5 and 2.2, [Applied Numerical Linear Algebra](https://doi.org/10.1137/1.9781611971446) by James W. Demmel (1997).\n",
    "\n",
    "* [What every computer scientist should know about floating-point arithmetic](https://www.itu.dk/~sestoft/bachelor/IEEE754_article.pdf) by David Goldberg (1991)."
   ],
   "metadata": {}
  },
  {
   "cell_type": "markdown",
   "source": [
    "## Acknowledgment\n",
    "\n",
    "Many parts of this lecture note is based on [Dr. Hua Zhou](http://hua-zhou.github.io)'s 2019 Spring Statistical Computing course notes available at <http://hua-zhou.github.io/teaching/biostatm280-2019spring/index.html>."
   ],
   "metadata": {}
  }
 ],
 "metadata": {
  "kernelspec": {
   "display_name": "Julia 1.6.2",
   "language": "julia",
   "name": "julia-1.6"
  },
  "language_info": {
   "file_extension": ".jl",
   "mimetype": "application/julia",
   "name": "julia",
   "version": "1.6.2"
  },
  "toc": {
   "colors": {
    "hover_highlight": "#DAA520",
    "running_highlight": "#FF0000",
    "selected_highlight": "#FFD700"
   },
   "moveMenuLeft": true,
   "nav_menu": {
    "height": "250px",
    "width": "252px"
   },
   "navigate_menu": true,
   "number_sections": true,
   "sideBar": true,
   "skip_h1_title": true,
   "threshold": 4,
   "toc_cell": true,
   "toc_section_display": "block",
   "toc_window_display": true,
   "widenNotebook": false
  }
 },
 "nbformat": 4,
 "nbformat_minor": 4
}