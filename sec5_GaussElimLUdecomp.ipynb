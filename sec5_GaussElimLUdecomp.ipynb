{
 "cells": [
  {
   "cell_type": "code",
   "execution_count": 2,
   "source": [
    "versioninfo()"
   ],
   "outputs": [
    {
     "output_type": "stream",
     "name": "stdout",
     "text": [
      "Julia Version 1.6.2\n",
      "Commit 1b93d53fc4 (2021-07-14 15:36 UTC)\n",
      "Platform Info:\n",
      "  OS: macOS (x86_64-apple-darwin18.7.0)\n",
      "  CPU: Intel(R) Core(TM) i5-6500 CPU @ 3.20GHz\n",
      "  WORD_SIZE: 64\n",
      "  LIBM: libopenlibm\n",
      "  LLVM: libLLVM-11.0.1 (ORCJIT, skylake)\n"
     ]
    }
   ],
   "metadata": {}
  },
  {
   "cell_type": "code",
   "execution_count": 3,
   "source": [
    "using Pkg\n",
    "Pkg.activate(\"../..\")\n",
    "Pkg.status()"
   ],
   "outputs": [
    {
     "output_type": "stream",
     "name": "stderr",
     "text": [
      "\u001b[32m\u001b[1m  Activating\u001b[22m\u001b[39m new environment at `~/Desktop/Project.toml`\n"
     ]
    },
    {
     "output_type": "stream",
     "name": "stdout",
     "text": [
      "\u001b[32m\u001b[1m      Status\u001b[22m\u001b[39m `~/Desktop/Project.toml` (empty project)\n"
     ]
    }
   ],
   "metadata": {}
  },
  {
   "cell_type": "markdown",
   "source": [
    "# Gaussian Elimination and LU Decomposition"
   ],
   "metadata": {}
  },
  {
   "cell_type": "markdown",
   "source": [
    "* Goal: solve linear equation\n",
    "$$\n",
    "\\mathbf{A} \\mathbf{x} = \\mathbf{b}.\n",
    "$$\n",
    "For simplicity we consider a square matrix $\\mathbf{A} \\in \\mathbb{R}^{n \\times n}$.\n",
    "\n",
    "* [History](https://en.wikipedia.org/wiki/Gaussian_elimination#History): the method is named after Carl Friedrich Gauss (1777–1855), although it stems from the notes of Isaac Newton. If fact, GE was known to [Chinese mathematicians](https://en.wikipedia.org/wiki/The_Nine_Chapters_on_the_Mathematical_Art) as early as 179 AD.\n",
    "\n",
    "\n",
    "* A toy example is given in the file named \"example_LUdecomp.pdf\""
   ],
   "metadata": {}
  },
  {
   "cell_type": "code",
   "execution_count": 4,
   "source": [
    "A = [2.0 -4.0 2.0; 4.0 -9.0 7.0; 2.0 1.0 3.0]"
   ],
   "outputs": [
    {
     "output_type": "execute_result",
     "data": {
      "text/plain": [
       "3×3 Matrix{Float64}:\n",
       " 2.0  -4.0  2.0\n",
       " 4.0  -9.0  7.0\n",
       " 2.0   1.0  3.0"
      ]
     },
     "metadata": {},
     "execution_count": 4
    }
   ],
   "metadata": {}
  },
  {
   "cell_type": "code",
   "execution_count": 5,
   "source": [
    "b = [6.0, 20.0, 14.0]"
   ],
   "outputs": [
    {
     "output_type": "execute_result",
     "data": {
      "text/plain": [
       "3-element Vector{Float64}:\n",
       "  6.0\n",
       " 20.0\n",
       " 14.0"
      ]
     },
     "metadata": {},
     "execution_count": 5
    }
   ],
   "metadata": {}
  },
  {
   "cell_type": "code",
   "execution_count": 6,
   "source": [
    "# Julia way to solve linear equation\n",
    "# equivalent to `solve(A, b)` in R\n",
    "A \\ b\n",
    "\n",
    "# There is a numerical error due to floating operation"
   ],
   "outputs": [
    {
     "output_type": "execute_result",
     "data": {
      "text/plain": [
       "3-element Vector{Float64}:\n",
       " 2.000000000000001\n",
       " 1.0\n",
       " 2.9999999999999996"
      ]
     },
     "metadata": {},
     "execution_count": 6
    }
   ],
   "metadata": {}
  },
  {
   "cell_type": "markdown",
   "source": [
    "What happens when we call `A \\ b` to solve a linear equation?  \n",
    "`A \\ b` calls a standard routine such as `BLAS.trsv` . On the other hand, `inv(A) * b` is not recommended."
   ],
   "metadata": {}
  },
  {
   "cell_type": "markdown",
   "source": [
    "## Elementary operator matrix\n",
    "\n",
    "* **Elementary operator matrix** is the identity matrix with the 0 in position $(j,k)$ replaced by $c$\n",
    "$$\n",
    "    \\mathbf{E}_{jk}(c) = \\begin{pmatrix}\n",
    "    1 & & \\\\\n",
    "    & \\ddots & \\\\\n",
    "    & & 1 & \\\\\n",
    "    & & & \\ddots & \\\\\n",
    "    & & c & & 1 & \\\\\n",
    "    & & & & & \\ddots \\\\\n",
    "    & & & & & & 1\n",
    "    \\end{pmatrix} = \\mathbf{I} + c \\mathbf{e}_j \\mathbf{e}_k^T.\n",
    "$$\n",
    "\n",
    "* $\\mathbf{E}_{jk}(c)$ is unit triangular, full rank, and its inverse is\n",
    "$$\n",
    "    \\mathbf{E}_{jk}^{-1}(c) = \\mathbf{E}_{jk}(-c).\n",
    "$$\n",
    "\n",
    "* $\\mathbf{E}_{jk}(c)$ left-multiplies an $n \\times m$ matrix $\\mathbf{X}$ effectively replace its $j$-th row $\\mathbf{x}_{j\\cdot}$ by $c \\mathbf{x}_{k \\cdot} + \\mathbf{x}_{j \\cdot}$\n",
    "$$\n",
    "    \\mathbf{E}_{jk}(c) \\times \\mathbf{X} = \\mathbf{E}_{jk}(c) \\times \\begin{pmatrix}\n",
    "    & & \\\\\n",
    "    \\cdots & \\mathbf{x}_{k\\cdot} & \\cdots \\\\\n",
    "    & & \\\\\n",
    "    \\cdots & \\mathbf{x}_{j\\cdot} & \\cdots \\\\\n",
    "    & & \n",
    "    \\end{pmatrix} = \\begin{pmatrix}\n",
    "    & & \\\\\n",
    "    \\cdots & \\mathbf{x}_{k\\cdot} & \\cdots \\\\\n",
    "    & & \\\\\n",
    "    \\cdots & c \\mathbf{x}_{k\\cdot} + \\mathbf{x}_{j\\cdot} & \\cdots \\\\\n",
    "    & & \n",
    "    \\end{pmatrix}.\n",
    "$$\n",
    "$2m$ flops (why? $\\Rightarrow m$ flops for scalar multiplication $c\\mathbf{x}_{k\\cdot}$ and another $m$ flops for addition $\\mathbf{x}_{k\\cdot}+\\mathbf{x}_{j\\cdot}$)\n",
    "\n",
    "* Gaussian elimination applies a sequence of elementary operator matrices to transform the linear system $\\mathbf{A} \\mathbf{x} = \\mathbf{b}$ to an upper triangular system\n",
    "$$\n",
    "\\begin{align*}\n",
    "    \\mathbf{E}_{n,n-1}(c_{n,n-1}) \\cdots \\mathbf{E}_{21}(c_{21}) \\mathbf{A} \\mathbf{x} &= \\mathbf{E}_{n,n-1}(c_{n,n-1}) \\cdots \\mathbf{E}_{21}(c_{21}) \\mathbf{b} \\\\\n",
    "    \\mathbf{U} \\mathbf{x} &= \\mathbf{b}_{\\text{new}}.\n",
    "\\end{align*}\n",
    "$$\n",
    "    \n",
    "    Column 1:"
   ],
   "metadata": {}
  },
  {
   "cell_type": "code",
   "execution_count": 7,
   "source": [
    "E21 = [1.0 0.0 0.0; -2.0 1.0 0.0; 0.0 0.0 1.0]"
   ],
   "outputs": [
    {
     "output_type": "execute_result",
     "data": {
      "text/plain": [
       "3×3 Matrix{Float64}:\n",
       "  1.0  0.0  0.0\n",
       " -2.0  1.0  0.0\n",
       "  0.0  0.0  1.0"
      ]
     },
     "metadata": {},
     "execution_count": 7
    }
   ],
   "metadata": {}
  },
  {
   "cell_type": "code",
   "execution_count": 8,
   "source": [
    "# zero (2, 1) entry\n",
    "E21 * A   # Step 1, A'"
   ],
   "outputs": [
    {
     "output_type": "execute_result",
     "data": {
      "text/plain": [
       "3×3 Matrix{Float64}:\n",
       " 2.0  -4.0  2.0\n",
       " 0.0  -1.0  3.0\n",
       " 2.0   1.0  3.0"
      ]
     },
     "metadata": {},
     "execution_count": 8
    }
   ],
   "metadata": {}
  },
  {
   "cell_type": "code",
   "execution_count": 9,
   "source": [
    "E31 = [1.0 0.0 0.0; 0.0 1.0 0.0; -1.0 0.0 1.0]"
   ],
   "outputs": [
    {
     "output_type": "execute_result",
     "data": {
      "text/plain": [
       "3×3 Matrix{Float64}:\n",
       "  1.0  0.0  0.0\n",
       "  0.0  1.0  0.0\n",
       " -1.0  0.0  1.0"
      ]
     },
     "metadata": {},
     "execution_count": 9
    }
   ],
   "metadata": {}
  },
  {
   "cell_type": "code",
   "execution_count": 10,
   "source": [
    "# zero (3, 1) entry\n",
    "E31 * E21 * A  # Step 2, A''"
   ],
   "outputs": [
    {
     "output_type": "execute_result",
     "data": {
      "text/plain": [
       "3×3 Matrix{Float64}:\n",
       " 2.0  -4.0  2.0\n",
       " 0.0  -1.0  3.0\n",
       " 0.0   5.0  1.0"
      ]
     },
     "metadata": {},
     "execution_count": 10
    }
   ],
   "metadata": {}
  },
  {
   "cell_type": "markdown",
   "source": [
    "    Column 2:"
   ],
   "metadata": {}
  },
  {
   "cell_type": "code",
   "execution_count": 11,
   "source": [
    "E32 = [1.0 0.0 0.0; 0.0 1.0 0.0; 0.0 5.0 1.0]"
   ],
   "outputs": [
    {
     "output_type": "execute_result",
     "data": {
      "text/plain": [
       "3×3 Matrix{Float64}:\n",
       " 1.0  0.0  0.0\n",
       " 0.0  1.0  0.0\n",
       " 0.0  5.0  1.0"
      ]
     },
     "metadata": {},
     "execution_count": 11
    }
   ],
   "metadata": {}
  },
  {
   "cell_type": "code",
   "execution_count": 12,
   "source": [
    "# zero (3, 2) entry\n",
    "E32 * E31 * E21 * A   # Step 3, A'''"
   ],
   "outputs": [
    {
     "output_type": "execute_result",
     "data": {
      "text/plain": [
       "3×3 Matrix{Float64}:\n",
       " 2.0  -4.0   2.0\n",
       " 0.0  -1.0   3.0\n",
       " 0.0   0.0  16.0"
      ]
     },
     "metadata": {},
     "execution_count": 12
    }
   ],
   "metadata": {}
  },
  {
   "cell_type": "markdown",
   "source": [
    "## Gauss transformations\n",
    "\n",
    "* For the first column,\n",
    "$$\n",
    "    \\mathbf{M}_1 = \\mathbf{E}_{n1}(c_{n1}) \\cdots \\mathbf{E}_{31}(c_{31}) \\mathbf{E}_{21}(c_{21}) = \\begin{pmatrix}\n",
    "    1 & \\\\\n",
    "    c_{21} & \\\\\n",
    "    & \\ddots & \\\\\n",
    "    c_{n1} & & 1\n",
    "    \\end{pmatrix}\n",
    "$$  \n",
    "For the $k$-th column,\n",
    "$$\n",
    "\t\\mathbf{M}_k = \\mathbf{E}_{nk}(c_{nk}) \\cdots \\mathbf{E}_{k+1,k}(c_{k+1,k}) = \\begin{pmatrix}\n",
    "\t1 & \\\\\n",
    "\t& \\ddots \\\\\n",
    "\t& & 1 & \\\\\n",
    "\t& & c_{k+1,k} & 1\\\\\n",
    "\t& & \\vdots & & \\ddots \\\\\n",
    "\t& &  c_{n,k} & & & 1\n",
    "\t\\end{pmatrix}.\n",
    "$$\n",
    "\n",
    "* $\\mathbf{M}_1, \\ldots, \\mathbf{M}_{n-1}$ are called the **Gauss transformations**."
   ],
   "metadata": {}
  },
  {
   "cell_type": "code",
   "execution_count": 13,
   "source": [
    "M1 = E31 * E21   # inv(L2 * L1)"
   ],
   "outputs": [
    {
     "output_type": "execute_result",
     "data": {
      "text/plain": [
       "3×3 Matrix{Float64}:\n",
       "  1.0  0.0  0.0\n",
       " -2.0  1.0  0.0\n",
       " -1.0  0.0  1.0"
      ]
     },
     "metadata": {},
     "execution_count": 13
    }
   ],
   "metadata": {}
  },
  {
   "cell_type": "code",
   "execution_count": 14,
   "source": [
    "M2 = E32    # inv(L3)"
   ],
   "outputs": [
    {
     "output_type": "execute_result",
     "data": {
      "text/plain": [
       "3×3 Matrix{Float64}:\n",
       " 1.0  0.0  0.0\n",
       " 0.0  1.0  0.0\n",
       " 0.0  5.0  1.0"
      ]
     },
     "metadata": {},
     "execution_count": 14
    }
   ],
   "metadata": {}
  },
  {
   "cell_type": "markdown",
   "source": [
    "* Gauss transformations $\\mathbf{M}_k$ are unit triangular, full rank, with inverse\n",
    "$$\n",
    "\t\\mathbf{M}_k^{-1} = \\mathbf{E}_{k+1,k}^{-1}(c_{k+1,k}) \\cdots \\mathbf{E}_{nk}^{-1}(c_{nk}) = \\begin{pmatrix}\n",
    "\t1 & \\\\\n",
    "\t& \\ddots \\\\\n",
    "\t& & 1 & \\\\\n",
    "\t& & - c_{k+1,k}\\\\\n",
    "\t& & \\vdots & & \\ddots \\\\\n",
    "\t& & - c_{n,k} & & & 1\n",
    "\t\\end{pmatrix}.\n",
    "$$"
   ],
   "metadata": {}
  },
  {
   "cell_type": "code",
   "execution_count": 15,
   "source": [
    "inv(M1)    # L2 * L1. inv(A) give the inverse of A, but use with caution (see below)"
   ],
   "outputs": [
    {
     "output_type": "execute_result",
     "data": {
      "text/plain": [
       "3×3 Matrix{Float64}:\n",
       " 1.0  0.0  0.0\n",
       " 2.0  1.0  0.0\n",
       " 1.0  0.0  1.0"
      ]
     },
     "metadata": {},
     "execution_count": 15
    }
   ],
   "metadata": {}
  },
  {
   "cell_type": "code",
   "execution_count": 16,
   "source": [
    "inv(M2)    # L3"
   ],
   "outputs": [
    {
     "output_type": "execute_result",
     "data": {
      "text/plain": [
       "3×3 Matrix{Float64}:\n",
       " 1.0   0.0  0.0\n",
       " 0.0   1.0  0.0\n",
       " 0.0  -5.0  1.0"
      ]
     },
     "metadata": {},
     "execution_count": 16
    }
   ],
   "metadata": {}
  },
  {
   "cell_type": "markdown",
   "source": [
    "## LU decomposition\n",
    "\n",
    "Gaussian elimination does\n",
    "$$\n",
    "\\mathbf{M}_{n-1} \\cdots \\mathbf{M}_1 \\mathbf{A} = \\mathbf{U}.\n",
    "$$  \n",
    "Let"
   ],
   "metadata": {}
  },
  {
   "cell_type": "markdown",
   "source": [
    "$$\n",
    "\\begin{equation*}\n",
    "\\mathbf{L} = \\mathbf{M}_1^{-1} \\cdots \\mathbf{M}_{n-1}^{-1} = \\begin{pmatrix}  \n",
    "\t1 & & & & \\\\\n",
    "\t- c_{21} & \\ddots & & & \\\\\n",
    "\t& & 1 & & \\\\\n",
    "\t- c_{k+1,1} & & - c_{k+1,k} & & \\\\\n",
    "\t& & \\vdots & & \\ddots \\\\\n",
    "\t- c_{n1} & & - c_{nk} & & & 1\n",
    "\t\\end{pmatrix}.\n",
    "\\end{equation*}\n",
    "$$\n",
    "Thus we have the **LU decomposition**\n",
    "$$\n",
    "\\mathbf{A} = \\mathbf{L} \\mathbf{U},\n",
    "$$\n",
    "where $\\mathbf{L}$ is **unit** lower triangular and $\\mathbf{U}$ is upper triangular.\n",
    "\n",
    "* LU decomposition exists if the principal sub-matrix $\\mathbf{A}[1:k, 1:k]$ is non-singular for $k=1,\\ldots,n-1$.\n",
    "\n",
    "* Note that LU decomposition does not always exist, even if target matrix is invertible. ( For example `[0, 1 ; 1, 0]`)\n",
    "\n",
    "* If the LU decomposition exists and $\\mathbf{A}$ is non-singular, then the LU decmpositon is unique and\n",
    "$$\n",
    "    \\det(\\mathbf{A}) = \\det(\\mathbf{L}) \\det(\\mathbf{U}) = \\prod_{k=1}^n u_{kk}.\n",
    "$$\n",
    "\n",
    "* This is basically how Julia, R, and MATLAB compute determinants."
   ],
   "metadata": {}
  },
  {
   "cell_type": "markdown",
   "source": [
    "* The whole LU algorithm is done *in place*, i.e., $\\mathbf{A}$ is **overwritten** by $\\mathbf{L}$ and $\\mathbf{U}$.  \n",
    "It is possible since diagonal entry of $\\mathbf{L}$ is fixed to be one.\n",
    "```Julia\n",
    "for k=1:n-1     # A step for k-th submatrix whose upperleft corner is is located at A_{kk}\n",
    "    for i=k+1:n     # rows below k\n",
    "        A[i, k] /= A[k, k]  # lower triangular matrix entry \n",
    "        for j=k+1:n     # columns right to k\n",
    "            A[i, j] -= A[i, k] * A[k, j]  # upper triangular matrix entry\n",
    "        end\n",
    "    end\n",
    "end\n",
    "```\n",
    "\n",
    "* The LU decomposition costs\n",
    "$$\n",
    "    2(n-1)^2 + 2(n-2)^2 + \\cdots + 2 \\cdot 1^2 \\approx \\frac 23 n^3 \\quad \\text{flops}.\n",
    "$$\n",
    "\n",
    "* For $k$-th step of LU decomposition algorithm, flop counts is $2(n-k)^2+(n-k)$.\n",
    "    1. calculates lower triangular matrix entry `A[i, k] /= A[k, k]` for `i=k+1:n` $\\Rightarrow n-k $\n",
    "    2. calculates lower triangular matrix entry `A[i, j] -= A[i, k] * A[k, j]` for `j=k+1:n` for `i=k+1:n` $\\Rightarrow 2(n-k)^2$  \n",
    "    \n",
    "* Exact sum of flop counts for all steps is $\\sum_{k=1}^{n-1} 2(n-k)^2+(n-k)=\\sum_{k=1}^{n-1} 2k^2+k=\\frac{n(n-1)(2n-1)}{3}+\\frac{n(n-1)}{2}\\approx \\frac 23 n^3$  \n",
    "\n",
    "<img src=\"http://www.netlib.org/utk/papers/factor/_25826_figure159.gif\" width=\"500\" align=\"center\"/>\n",
    "\n",
    "Source: <http://www.netlib.org>\n",
    "\n",
    "* Actual implementations can differ: outer product LU ($kij$ loop), block outer product LU (higher level-3 fraction), Crout's algorithm ($jki$ loop).\n",
    "\n",
    "* Given LU decomposition $\\mathbf{A} = \\mathbf{L} \\mathbf{U}$, solving $(\\mathbf{L} \\mathbf{U}) \\mathbf{x} = \\mathbf{b}$ for one right hand side costs $2n^2$ flops:\n",
    "    - One forward substitution ($n^2$ flops) to solve\n",
    "    $$\n",
    "    \\mathbf{L} \\mathbf{y} = \\mathbf{b}\n",
    "    $$\n",
    "    - One back substitution ($n^2$ flops) to solve\n",
    "    $$\n",
    "    \\mathbf{U} \\mathbf{x} = \\mathbf{y}\n",
    "    $$\n",
    "    \n",
    "* Therefore to solve $\\mathbf{A} \\mathbf{x} = \\mathbf{b}$ via LU, we need a total of\n",
    "$$\n",
    "    \\frac 23 n^3 + 2n^2 \\quad \\text{flops}.\n",
    "$$\n",
    "\n",
    "* If there are multiple right hand sides ( ex : $\\mathbf{A}\\mathbf{x}=\\mathbf{b}_1\\;,\\; \\mathbf{A}\\mathbf{x}=\\mathbf{b}_2\\;,\\,\\mathbf{A}\\mathbf{x}=\\mathbf{b}_3$ ), LU only needs to be done once."
   ],
   "metadata": {}
  },
  {
   "cell_type": "markdown",
   "source": [
    "## Matrix inversion\n",
    "* Given an invertible $n\\times n$ matrix $A$, finding $A^{-1}$ is equivalent to finding a solution of $AX=I$ for $X$.\n",
    "$$ I=[e_1, e_2, \\cdots, e_n] \\quad X=[x_1, x_2, \\cdots, x_n]$$\n",
    "$$ Ax_1=e_1,\\; Ax_2=e_2,\\;\\cdots\\;,Ax_n=e_n $$\n",
    "\n",
    "* For matrix inversion, there are $n$ right hand sides $\\mathbf{e}_1, \\ldots, \\mathbf{e}_n$. One LU decomposition of A needs $\\frac{2}{3}n^3$ flop counts and $n$ times of forward & backward substitution takes $n*2n^2=2n^3$ flop counts.\n",
    "* It is known that taking advantage of many zeros in $e_j$'s reduces $2n^3$ flops to $\\frac 43 n^3$ flops for forward & backward substitution.\n",
    "* So **matrix inversion via LU** costs\n",
    "$$\n",
    "\\frac 23 n^3 + \\frac 43 n^3 = 2n^3 \\quad \\text{flops}.\n",
    "$$\n",
    "\n",
    "* **No inversion mentality**:  \n",
    "    > **Whenever we see matrix inverse, we should think in terms of solving linear equations.**\n",
    "    > In short, no ```inv(A)```.  \n",
    "        \n",
    "    Whenever $A^{-1}b$ is needed, solve $Ax=b\\;$ i.e. use `A\\b` rather than `inv(A)*b` \n",
    "    1. Flop counts of `A\\b` : $\\frac{2}{3}n^3 +2n^2$ ( LU decomposition and forward & backward substitution )\n",
    "    2. Flop counts of `inv(A)*b` : $2n^3+2n^2$ ( Taking inverse and matrix-vector multiplication )\n",
    "    \n",
    "    We do not compute matrix inverse unless  \n",
    "    1. it is necessary to compute standard errors (regression analysis에서 covariance matrix의 역행렬) \n",
    "    2. number of right hand sides is much larger than $n$  \n",
    "    3. $n$ is small\n",
    " "
   ],
   "metadata": {}
  },
  {
   "cell_type": "markdown",
   "source": [
    "   \n",
    "## Pivoting    \n",
    "* In the above, we assumed that the given matrix $A$ is invertible and LU decomposition of $A$ exists.\n",
    "* Let\n",
    "$$\n",
    "    \\mathbf{A} = \\begin{bmatrix}\n",
    "    0 & 1 \\\\\n",
    "    1 & 0 \\\\\n",
    "    \\end{bmatrix}.\n",
    "$$  \n",
    "\n",
    "Is there a solution to $\\mathbf{A} \\mathbf{x} = \\mathbf{b}$ for an arbitrary $\\mathbf{b}$? Does GE/LU work for $\\mathbf{A}$?\n",
    "\n",
    "* What if, during LU procedure, the **pivot** $a_{kk}$ is 0 or nearly 0 due to underflow?  \n",
    "     **Example**:\n",
    "$$\n",
    "\\begin{split}\n",
    "0.001x_1 + x_2 &= 1  \\\\\n",
    "     x_1 + x_2 &= 2 \n",
    "\\end{split}\n",
    "$$\n",
    "with solution\n",
    "\n",
    "$$\n",
    "\\begin{bmatrix} x_1 \\\\ x_ 2 \\end{bmatrix}\n",
    "=\n",
    "\\begin{bmatrix} 1.001001 \\\\ 0.998999 \\end{bmatrix}\n",
    "\\approx\n",
    "\\begin{bmatrix} 1.0 \\\\ 1.0 \\end{bmatrix}\n",
    ".\n",
    "$$\n",
    "\n",
    "* With two significant digits, GE yields \n",
    "$$\n",
    "\\begin{split}\n",
    "0.001x_1 + x_2 &= 1  \\\\\n",
    "     (1-1000)x_2 &= 2 - 1000 \n",
    "\\end{split}\n",
    "$$\n",
    "or (reflecting \"two significant digits\" condition)\n",
    "$$\n",
    "\\begin{split}\n",
    "0.001x_1 + x_2 &= 1 \\\\\n",
    "     -1000 x_2 &= -1000 \n",
    "\\end{split}\n",
    "\n",
    "$$\n",
    "yielding a bad solution\n",
    "$$\n",
    "\\begin{bmatrix} x_1 \\\\ x_ 2 \\end{bmatrix}\n",
    "=\n",
    "\\begin{bmatrix} 0.0 \\\\ 1.0 \\end{bmatrix}\n",
    "!\n",
    "$$\n",
    "\n",
    "Here, this result is due to a bad algorithm. ( Actually the problem is well conditioned with condition number $\\kappa(A)=1$ ). Despite of the fact that LU decomposition does not work for this sort of problem, we still used it, and the terrrible solution comes out.\n",
    "\n",
    "* Solution: pivoting. \"pivot\" refers to the diagonal entry used to eliminate nonzero entries below it.\n",
    "\n",
    "$$\n",
    "\\begin{split}\n",
    "     x_1 + x_2 &= 2  \\\\\n",
    "0.001x_1 + x_2 &= 1  \n",
    "\\end{split}\n",
    "$$\n",
    "\n",
    "* With two significant digits, GE yields \n",
    "\n",
    "$$\n",
    "\\begin{split}\n",
    "     x_1 + x_2 &= 2  \\\\\n",
    "     (1-0.001)x_2 &= 1 - 0.002 \n",
    "\\end{split}\n",
    "$$\n",
    "\n",
    "or (reflecting \"two significant digits\" condition)\n",
    "\n",
    "$$\n",
    "\\begin{split}\n",
    "     x_1 + x_2 &= 2  \\\\\n",
    "     1.0 x_2 &= 1.0\n",
    "\\end{split}\n",
    "\n",
    "$$\n",
    "\n",
    "yielding\n",
    "\n",
    "$$\n",
    "\\begin{bmatrix} x_1 \\\\ x_ 2 \\end{bmatrix}\n",
    "=\n",
    "\\begin{bmatrix} 1.0 \\\\ 1.0 \\end{bmatrix}\n",
    "\n",
    "$$\n",
    "\n",
    "\n",
    "* **Partial pivoting**: before zeroing the $k$-th column, move the row with $\\max_{i=k}^n |a_{ik}|$ is into the $k$-th row (called GEPP).\n",
    "\n",
    "* LU with partial pivoting yields\n",
    "$$\n",
    "\t\\mathbf{P} \\mathbf{A} = \\mathbf{L} \\mathbf{U},\n",
    "$$\n",
    "where $\\mathbf{P}$ is a permutation matrix, $\\mathbf{L}$ is unit lower triangular with $|\\ell_{ij}| \\le 1$, and $\\mathbf{U}$ is upper triangular.\n",
    "\n",
    "* Complete pivoting (GECP): Do both row and column interchanges so that the largest entry in the submatrix `A[k:n, k:n]` is permuted to the $(k,k)$-th entry. This yields the decomposition \n",
    "$$\n",
    "\\mathbf{P} \\mathbf{A} \\mathbf{Q} = \\mathbf{L} \\mathbf{U},\n",
    "$$\n",
    "where $|\\ell_{ij}| \\le 1$.\n",
    "\n",
    "* GEPP is the most commonly used methods for solving **general** linear systems. GECP is more stable but costs more computation. Partial pivoting is stable most of times (which is partially because GEPP guarantees $|\\ell_{ij}| \\le 1$)."
   ],
   "metadata": {}
  },
  {
   "cell_type": "markdown",
   "source": [
    "## Implementation\n",
    "\n",
    "* LAPACK: [`?GETRF`](http://www.netlib.org/lapack/explore-html/dd/d9a/group__double_g_ecomputational_ga0019443faea08275ca60a734d0593e60.html#ga0019443faea08275ca60a734d0593e60) does $\\mathbf{P} \\mathbf{A} = \\mathbf{L} \\mathbf{U}$ (LU decomposition with partial pivoting) in place.\n",
    "\n",
    "* R: `solve()` implicitly performs LU decomposition (wrapper of LAPACK routine `DGESV`). `solve()` allows specifying a single or multiple right hand sides. If none, it computes the matrix inverse. The `matrix` package contains `lu()` function that outputs `L`, `U`, and `pivot`.\n",
    "\n",
    "* Julia: \n",
    "    - [`LinearAlgebra.lu`](https://docs.julialang.org/en/v1/stdlib/LinearAlgebra/#LinearAlgebra.lu).\n",
    "    - [`LinearAlgebra.lu!`](https://docs.julialang.org/en/v1/stdlib/LinearAlgebra/#LinearAlgebra.lu!). In-place version. Input matrix gets overwritten with L and U.\n",
    "    - Or call LAPACK wrapper function [`LAPACK.getrf!`](https://docs.julialang.org/en/v1/stdlib/LinearAlgebra/#LinearAlgebra.LAPACK.getrf!) directly.\n",
    "    - Other LU-related LAPACK wrapper functions: [`getrs`](https://docs.julialang.org/en/v1/stdlib/LinearAlgebra/#LinearAlgebra.LAPACK.getrs!), [`gesv`](https://docs.julialang.org/en/v1/stdlib/LinearAlgebra/#LinearAlgebra.LAPACK.gesv!), [`gesvx`](https://docs.julialang.org/en/v1/stdlib/LinearAlgebra/#LinearAlgebra.LAPACK.gesvx!), [`trtri`](https://docs.julialang.org/en/v1/stdlib/LinearAlgebra/#LinearAlgebra.LAPACK.trtri!) (inverse of triangular matrix), [`trtrs`](https://docs.julialang.org/en/v1/stdlib/LinearAlgebra/#LinearAlgebra.LAPACK.trtrs!)."
   ],
   "metadata": {}
  },
  {
   "cell_type": "code",
   "execution_count": 17,
   "source": [
    "A"
   ],
   "outputs": [
    {
     "output_type": "execute_result",
     "data": {
      "text/plain": [
       "3×3 Matrix{Float64}:\n",
       " 2.0  -4.0  2.0\n",
       " 4.0  -9.0  7.0\n",
       " 2.0   1.0  3.0"
      ]
     },
     "metadata": {},
     "execution_count": 17
    }
   ],
   "metadata": {}
  },
  {
   "cell_type": "code",
   "execution_count": 18,
   "source": [
    "using LinearAlgebra\n",
    "\n",
    "# second argument indicates partial pivoting (default) or not\n",
    "alu = lu(A)\n",
    "typeof(alu)"
   ],
   "outputs": [
    {
     "output_type": "execute_result",
     "data": {
      "text/plain": [
       "LU{Float64, Matrix{Float64}}"
      ]
     },
     "metadata": {},
     "execution_count": 18
    }
   ],
   "metadata": {}
  },
  {
   "cell_type": "code",
   "execution_count": 19,
   "source": [
    "fieldnames(typeof(alu))"
   ],
   "outputs": [
    {
     "output_type": "execute_result",
     "data": {
      "text/plain": [
       "(:factors, :ipiv, :info)"
      ]
     },
     "metadata": {},
     "execution_count": 19
    }
   ],
   "metadata": {}
  },
  {
   "cell_type": "code",
   "execution_count": 20,
   "source": [
    "alu.L"
   ],
   "outputs": [
    {
     "output_type": "execute_result",
     "data": {
      "text/plain": [
       "3×3 Matrix{Float64}:\n",
       " 1.0  0.0        0.0\n",
       " 0.5  1.0        0.0\n",
       " 0.5  0.0909091  1.0"
      ]
     },
     "metadata": {},
     "execution_count": 20
    }
   ],
   "metadata": {}
  },
  {
   "cell_type": "code",
   "execution_count": 21,
   "source": [
    "alu.U"
   ],
   "outputs": [
    {
     "output_type": "execute_result",
     "data": {
      "text/plain": [
       "3×3 Matrix{Float64}:\n",
       " 4.0  -9.0   7.0\n",
       " 0.0   5.5  -0.5\n",
       " 0.0   0.0  -1.45455"
      ]
     },
     "metadata": {},
     "execution_count": 21
    }
   ],
   "metadata": {}
  },
  {
   "cell_type": "code",
   "execution_count": 22,
   "source": [
    "alu.p\n",
    "# permutation vector"
   ],
   "outputs": [
    {
     "output_type": "execute_result",
     "data": {
      "text/plain": [
       "3-element Vector{Int64}:\n",
       " 2\n",
       " 3\n",
       " 1"
      ]
     },
     "metadata": {},
     "execution_count": 22
    }
   ],
   "metadata": {}
  },
  {
   "cell_type": "code",
   "execution_count": 42,
   "source": [
    "alu.P \n",
    "# permutation matrix"
   ],
   "outputs": [
    {
     "output_type": "execute_result",
     "data": {
      "text/plain": [
       "3×3 Matrix{Float64}:\n",
       " 0.0  1.0  0.0\n",
       " 0.0  0.0  1.0\n",
       " 1.0  0.0  0.0"
      ]
     },
     "metadata": {},
     "execution_count": 42
    }
   ],
   "metadata": {}
  },
  {
   "cell_type": "code",
   "execution_count": 46,
   "source": [
    "transpose(alu.P)==inv(alu.P)\n",
    "# inverse of permutation matrix is its transpose\n",
    "# For elementary permutation matrix which represents only one interchange of rows, its inverse it itself"
   ],
   "outputs": [
    {
     "output_type": "execute_result",
     "data": {
      "text/plain": [
       "true"
      ]
     },
     "metadata": {},
     "execution_count": 46
    }
   ],
   "metadata": {}
  },
  {
   "cell_type": "code",
   "execution_count": 38,
   "source": [
    "alu.L * alu.U"
   ],
   "outputs": [
    {
     "output_type": "execute_result",
     "data": {
      "text/plain": [
       "3×3 Matrix{Float64}:\n",
       " 4.0  -9.0  7.0\n",
       " 2.0   1.0  3.0\n",
       " 2.0  -4.0  2.0"
      ]
     },
     "metadata": {},
     "execution_count": 38
    }
   ],
   "metadata": {}
  },
  {
   "cell_type": "code",
   "execution_count": 39,
   "source": [
    "A[alu.p, :]\n",
    "# same with `alu.P * A` "
   ],
   "outputs": [
    {
     "output_type": "execute_result",
     "data": {
      "text/plain": [
       "3×3 Matrix{Float64}:\n",
       " 4.0  -9.0  7.0\n",
       " 2.0   1.0  3.0\n",
       " 2.0  -4.0  2.0"
      ]
     },
     "metadata": {},
     "execution_count": 39
    }
   ],
   "metadata": {}
  },
  {
   "cell_type": "code",
   "execution_count": 36,
   "source": [
    "A"
   ],
   "outputs": [
    {
     "output_type": "execute_result",
     "data": {
      "text/plain": [
       "3×3 Matrix{Float64}:\n",
       " 2.0  -4.0  2.0\n",
       " 4.0  -9.0  7.0\n",
       " 2.0   1.0  3.0"
      ]
     },
     "metadata": {},
     "execution_count": 36
    }
   ],
   "metadata": {}
  },
  {
   "cell_type": "code",
   "execution_count": 47,
   "source": [
    "transpose(alu.P) * alu.L * alu.U"
   ],
   "outputs": [
    {
     "output_type": "execute_result",
     "data": {
      "text/plain": [
       "3×3 Matrix{Float64}:\n",
       " 2.0  -4.0  2.0\n",
       " 4.0  -9.0  7.0\n",
       " 2.0   1.0  3.0"
      ]
     },
     "metadata": {},
     "execution_count": 47
    }
   ],
   "metadata": {}
  },
  {
   "cell_type": "code",
   "execution_count": 51,
   "source": [
    "# this is doing two triangular solves, 2n^2 flops\n",
    "alu \\ b\n",
    "# permutation and forward & backward substitution are done by this one code\n",
    "# It solves PAx =Pb or equivalently LUx=Pb"
   ],
   "outputs": [
    {
     "output_type": "execute_result",
     "data": {
      "text/plain": [
       "3-element Vector{Float64}:\n",
       " 2.000000000000001\n",
       " 1.0\n",
       " 2.9999999999999996"
      ]
     },
     "metadata": {},
     "execution_count": 51
    }
   ],
   "metadata": {}
  },
  {
   "cell_type": "code",
   "execution_count": 52,
   "source": [
    "alu.L * alu.U \\ alu.P * b"
   ],
   "outputs": [
    {
     "output_type": "execute_result",
     "data": {
      "text/plain": [
       "3-element Vector{Float64}:\n",
       " 2.0\n",
       " 1.0\n",
       " 3.0"
      ]
     },
     "metadata": {},
     "execution_count": 52
    }
   ],
   "metadata": {}
  },
  {
   "cell_type": "code",
   "execution_count": 54,
   "source": [
    "x = alu.L * alu.U \\ alu.P * b\n",
    "A*x == b"
   ],
   "outputs": [
    {
     "output_type": "execute_result",
     "data": {
      "text/plain": [
       "true"
      ]
     },
     "metadata": {},
     "execution_count": 54
    }
   ],
   "metadata": {}
  },
  {
   "cell_type": "code",
   "execution_count": 30,
   "source": [
    "det(A) # this does LU!"
   ],
   "outputs": [
    {
     "output_type": "execute_result",
     "data": {
      "text/plain": [
       "-32.0"
      ]
     },
     "metadata": {},
     "execution_count": 30
    }
   ],
   "metadata": {}
  },
  {
   "cell_type": "code",
   "execution_count": 31,
   "source": [
    "det(alu) # this is cheap"
   ],
   "outputs": [
    {
     "output_type": "execute_result",
     "data": {
      "text/plain": [
       "-32.0"
      ]
     },
     "metadata": {},
     "execution_count": 31
    }
   ],
   "metadata": {}
  },
  {
   "cell_type": "code",
   "execution_count": 32,
   "source": [
    "inv(A) # this does LU!"
   ],
   "outputs": [
    {
     "output_type": "execute_result",
     "data": {
      "text/plain": [
       "3×3 Matrix{Float64}:\n",
       "  1.0625  -0.4375  0.3125\n",
       " -0.0625  -0.0625  0.1875\n",
       " -0.6875   0.3125  0.0625"
      ]
     },
     "metadata": {},
     "execution_count": 32
    }
   ],
   "metadata": {}
  },
  {
   "cell_type": "code",
   "execution_count": 33,
   "source": [
    "inv(alu) # this is cheap"
   ],
   "outputs": [
    {
     "output_type": "execute_result",
     "data": {
      "text/plain": [
       "3×3 Matrix{Float64}:\n",
       "  1.0625  -0.4375  0.3125\n",
       " -0.0625  -0.0625  0.1875\n",
       " -0.6875   0.3125  0.0625"
      ]
     },
     "metadata": {},
     "execution_count": 33
    }
   ],
   "metadata": {}
  },
  {
   "cell_type": "markdown",
   "source": [
    "## Further reading\n",
    "\n",
    "* Sections II.5.2 and II.5.3, [Computational Statistics](https://link.springer.com/book/10.1007%2F978-0-387-98144-4) by James Gentle (2010).\n",
    "\n",
    "* Chapter 2, [Applied Numerical Linear Algebra](https://doi.org/10.1137/1.9781611971446) by James W. Demmel (1997).\n",
    "\n",
    "* Chapter 3, [Matrix Computation](https://www.amazon.com/Computations-Hopkins-Studies-Mathematical-Sciences/dp/1421407949/ref=sr_1_1?keywords=matrix+computation+golub&qid=1567157884&s=gateway&sr=8-1) by Gene Golub and Charles Van Loan (2013).\n",
    "\n",
    "<img src=\"https://images-na.ssl-images-amazon.com/images/I/41f5vxegABL._SY344_BO1,204,203,200_.jpg\" width=\"250\" align=\"center\"/>"
   ],
   "metadata": {}
  },
  {
   "cell_type": "markdown",
   "source": [
    "## Acknowledgment\n",
    "\n",
    "Many parts of this lecture note is based on [Dr. Hua Zhou](http://hua-zhou.github.io)'s 2019 Spring Statistical Computing course notes available at <http://hua-zhou.github.io/teaching/biostatm280-2019spring/index.html>."
   ],
   "metadata": {}
  }
 ],
 "metadata": {
  "@webio": {
   "lastCommId": null,
   "lastKernelId": null
  },
  "kernelspec": {
   "display_name": "Julia 1.6.2",
   "language": "julia",
   "name": "julia-1.6"
  },
  "language_info": {
   "file_extension": ".jl",
   "mimetype": "application/julia",
   "name": "julia",
   "version": "1.6.2"
  },
  "toc": {
   "colors": {
    "hover_highlight": "#DAA520",
    "running_highlight": "#FF0000",
    "selected_highlight": "#FFD700"
   },
   "moveMenuLeft": true,
   "nav_menu": {
    "height": "30px",
    "width": "252px"
   },
   "navigate_menu": true,
   "number_sections": true,
   "sideBar": true,
   "skip_h1_title": true,
   "threshold": 4,
   "toc_cell": true,
   "toc_section_display": "block",
   "toc_window_display": true,
   "widenNotebook": false
  }
 },
 "nbformat": 4,
 "nbformat_minor": 4
}