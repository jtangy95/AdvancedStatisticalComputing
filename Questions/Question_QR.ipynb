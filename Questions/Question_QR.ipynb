{
 "cells": [
  {
   "cell_type": "markdown",
   "metadata": {},
   "source": [
    "\n",
    "### Question\n",
    "\n",
    "#### QR decomposition - Applications\n",
    "* Solve $\\mathbf{R}^T \\mathbf{R} \\beta = \\mathbf{R}^T \\mathbf{Q}^T \\mathbf{y}$ for $\\beta$.\n",
    "* If $\\mathbf{X}$ is full rank, then $\\mathbf{R}$ is invertible, so we only need to solve the triangular system $\\mathbf{R} \\beta = \\mathbf{Q}^T \\mathbf{y}$\n",
    "\n",
    "Multiplication $\\mathbf{Q}^T \\mathbf{y}$ is done implicitly.  \n",
    "근데 여기서 $X$ 가 Full rank 이면 $\\mathbf{R}_1$ 은 invertible 하지만 $\\mathbf{R}=\\begin{bmatrix} \\mathbf{R}_1 \\\\ \\mathbf{0} \\end{bmatrix}$ 는 square matrix가 아니어서 invertible하지 않은 것 아닌가요?  \n",
    "그렇다면 $X^TX\\beta=X^Ty$ 문제를 다음과 같이 푸는 것인가요?  \n",
    "1. Householder transform 을 통한 QR 분해의 경우 $\\mathbf{Q}_1$ 을 얻을 수 없는 상태이므로 implicit 하게 $\\mathbf{Q}^T\\mathbf{y}=\\mathbf{H}_p\\cdots \\mathbf{H}_1$을 계산합니다. \n",
    "2. $X^TX\\beta=X^Ty$  \n",
    "3. $R^TR\\beta=R^TQ^Ty$\n",
    "4. $R_1^TR_1\\beta= R_1^Tu$\n",
    "5. Solve triangular system $R_1\\beta=u$ where $u$ is $Q^Ty$에서 $p+1$번째부터 $n$번째 성분까지는 잘라낸 벡터.  \n",
    "\n"
   ]
  }
 ],
 "metadata": {
  "kernelspec": {
   "display_name": "Julia 1.6.2",
   "language": "julia",
   "name": "julia-1.6"
  },
  "language_info": {
   "file_extension": ".jl",
   "mimetype": "application/julia",
   "name": "julia",
   "version": "1.6.2"
  }
 },
 "nbformat": 4,
 "nbformat_minor": 4
}
